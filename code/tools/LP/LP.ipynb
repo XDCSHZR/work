{
 "cells": [
  {
   "cell_type": "markdown",
   "metadata": {},
   "source": [
    "# LP"
   ]
  },
  {
   "cell_type": "code",
   "execution_count": 2,
   "metadata": {},
   "outputs": [],
   "source": [
    "import datetime\n",
    "import numpy as np\n",
    "import pandas as pd\n",
    "import joblib\n",
    "import warnings\n",
    "import logging\n",
    "import os\n",
    "import matplotlib.pyplot as plt\n",
    "import matplotlib.patches as mpatches\n",
    "import seaborn as sns\n",
    "import collections\n",
    "import re\n",
    "import copy\n",
    "import json\n",
    "import pulp\n",
    "\n",
    "import utils\n",
    "\n",
    "from tqdm import tqdm\n",
    "from dateutil.relativedelta import relativedelta\n",
    "from joblib import Parallel, delayed\n",
    "\n",
    "\n",
    "pd.set_option('display.max_columns', None)\n",
    "pd.set_option('max_row', 500)\n",
    "warnings.filterwarnings('ignore')\n",
    "tqdm.pandas(desc='pandas bar')"
   ]
  },
  {
   "cell_type": "code",
   "execution_count": null,
   "metadata": {},
   "outputs": [],
   "source": [
    "df_condition_score_group_sum = utils.load_pickle('df_condition_score_group.pickle')\n",
    "print(df_condition_score_group_sum.shape)\n",
    "df_condition_score_group_sum.head()"
   ]
  },
  {
   "cell_type": "code",
   "execution_count": null,
   "metadata": {},
   "outputs": [],
   "source": [
    "df_condition_score_group_count = utils.load_pickle('df_condition_score_group_count.txt')\n",
    "print(df_condition_score_group_count.shape)\n",
    "df_condition_score_group_count.head()"
   ]
  },
  {
   "cell_type": "code",
   "execution_count": null,
   "metadata": {},
   "outputs": [],
   "source": [
    "df_condition_score_group = df_condition_score_group_sum.\\\n",
    "    merge(df_condition_score_group_count, on=['aaa', 'bbb', 'ccc'], how='left')\n",
    "print(df_condition_score_group.shape)\n",
    "df_condition_score_group.head()"
   ]
  },
  {
   "cell_type": "code",
   "execution_count": null,
   "metadata": {},
   "outputs": [],
   "source": [
    "func = pulp.LpProblem('coupon', sense=pulp.LpMaximize)\n",
    "func"
   ]
  },
  {
   "cell_type": "code",
   "execution_count": null,
   "metadata": {
    "scrolled": true
   },
   "outputs": [],
   "source": [
    "var_choices = pulp.LpVariable.dicts('Choices', (range(df_condition_score_group.shape[0]), range(5)), \n",
    "                                    lowBound=0, upBound=1, cat=pulp.LpBinary)\n",
    "var_choices"
   ]
  },
  {
   "cell_type": "code",
   "execution_count": null,
   "metadata": {
    "scrolled": true
   },
   "outputs": [],
   "source": [
    "# 约束1：高、中、低活人群补贴金额范围限定，隐式写在决策变量中\n",
    "# 高活人群：1.0，1.5，1.8\n",
    "# 中活人群：0.5，1.0，1.5\n",
    "# 低活人群：0.2，0.5，1.0\n",
    "# 高活\n",
    "field_2_index = df_condition_score_group[df_condition_score_group['ccc']==2].index.values\n",
    "for i in field_2_index:\n",
    "    for j in [0, 1]:\n",
    "        var_choices[i][j].upBound = 0\n",
    "# 中活\n",
    "field_1_index = df_condition_score_group[df_condition_score_group['ccc']==1].index.values\n",
    "for i in field_1_index:\n",
    "    for j in [0, 4]:\n",
    "        var_choices[i][j].upBound = 0\n",
    "# 低活\n",
    "field_0_index = df_condition_score_group[df_condition_score_group['ccc']==0].index.values\n",
    "for i in field_0_index:\n",
    "    for j in [3, 4]:\n",
    "        var_choices[i][j].upBound = 0\n",
    "        \n",
    "for i in range(df_condition_score_group.shape[0]):\n",
    "    print(df_condition_score_group.loc[i, 'ccc'], [(var_choices[i][j].lowBound,var_choices[i][j].upBound) for j in range(5)])"
   ]
  },
  {
   "cell_type": "code",
   "execution_count": null,
   "metadata": {},
   "outputs": [],
   "source": [
    "df_ctr_score = df_condition_score_group[['score_coupon_02', 'score_coupon_05', 'score_coupon_10', 'score_coupon_15', 'score_coupon_18']]\n",
    "print(df_ctr_score.shape)\n",
    "df_ctr_score.head()"
   ]
  },
  {
   "cell_type": "code",
   "execution_count": null,
   "metadata": {},
   "outputs": [],
   "source": [
    "rows = df_ctr_score.shape[0]\n",
    "cols = df_ctr_score.shape[1]\n",
    "print(rows)\n",
    "print(cols)"
   ]
  },
  {
   "cell_type": "code",
   "execution_count": null,
   "metadata": {
    "scrolled": true
   },
   "outputs": [],
   "source": [
    "# 目标函数\n",
    "func += pulp.lpSum([var_choices[i][j]*df_ctr_score.iloc[i, j] \n",
    "                    for i in range(rows) \n",
    "                    for j in range(cols)]), 'maximize ctr score'\n",
    "func"
   ]
  },
  {
   "cell_type": "code",
   "execution_count": null,
   "metadata": {},
   "outputs": [],
   "source": [
    "# 约束2：每组只有一张券被选择\n",
    "for i in range(rows):\n",
    "    func += pulp.lpSum([var_choices[i][j] for j in range(cols)]) == 1, ''"
   ]
  },
  {
   "cell_type": "code",
   "execution_count": null,
   "metadata": {
    "scrolled": true
   },
   "outputs": [],
   "source": [
    "func.constraints"
   ]
  },
  {
   "cell_type": "code",
   "execution_count": null,
   "metadata": {
    "scrolled": true
   },
   "outputs": [],
   "source": [
    "# 约束3：CAC\n",
    "df_cost = df_condition_score_group[['count']].copy()\n",
    "df_cost['cost_0'] = df_cost['count'] * 0.2\n",
    "df_cost['cost_1'] = df_cost['count'] * 0.5\n",
    "df_cost['cost_2'] = df_cost['count'] * 1.0\n",
    "df_cost['cost_3'] = df_cost['count'] * 1.5\n",
    "df_cost['cost_4'] = df_cost['count'] * 1.8\n",
    "df_cost.head()"
   ]
  },
  {
   "cell_type": "code",
   "execution_count": null,
   "metadata": {},
   "outputs": [],
   "source": [
    "df_cost = df_cost[['cost_0', 'cost_1', 'cost_2', 'cost_3', 'cost_4']]\n",
    "print(df_cost.shape)\n",
    "df_cost.head()"
   ]
  },
  {
   "cell_type": "code",
   "execution_count": null,
   "metadata": {},
   "outputs": [],
   "source": [
    "func += pulp.lpSum([var_choices[i][j]*df_cost.iloc[i, j] \n",
    "                    for i in range(rows) \n",
    "                    for j in range(cols)]) <= 1.0 * df_condition_score_group['count'].sum(), 'CAC'"
   ]
  },
  {
   "cell_type": "code",
   "execution_count": null,
   "metadata": {
    "scrolled": true
   },
   "outputs": [],
   "source": [
    "func.constraints['CAC']"
   ]
  },
  {
   "cell_type": "code",
   "execution_count": null,
   "metadata": {
    "scrolled": true
   },
   "outputs": [],
   "source": [
    "func.writeLP('coupon.lp')"
   ]
  },
  {
   "cell_type": "code",
   "execution_count": null,
   "metadata": {
    "scrolled": true
   },
   "outputs": [],
   "source": [
    "func.solve()"
   ]
  },
  {
   "cell_type": "code",
   "execution_count": null,
   "metadata": {},
   "outputs": [],
   "source": [
    "pulp.LpStatus[func.status]"
   ]
  },
  {
   "cell_type": "code",
   "execution_count": null,
   "metadata": {},
   "outputs": [],
   "source": [
    "df_condition_score_group['coupon'] = -1\n",
    "list_coupon = [0.2, 0.5, 1.0, 1.5, 1.8]\n",
    "for i in range(rows):\n",
    "    sum_row = 0\n",
    "    for j in range(cols):\n",
    "        sum_row += pulp.value(var_choices[i][j])\n",
    "        if sum_row > 1:\n",
    "            raise Exception('Wrong!!!')\n",
    "        if pulp.value(var_choices[i][j]) == 1:\n",
    "            df_condition_score_group.loc[i, 'coupon'] = list_coupon[j]\n",
    "df_condition_score_group.head()"
   ]
  },
  {
   "cell_type": "code",
   "execution_count": null,
   "metadata": {},
   "outputs": [],
   "source": [
    "df_condition_score_group['coupon'].value_counts()"
   ]
  },
  {
   "cell_type": "code",
   "execution_count": null,
   "metadata": {},
   "outputs": [],
   "source": [
    "# result limit\n",
    "print('capacity: {c}'.format(c=(df_condition_score_group['coupon']*df_condition_score_group['count']).sum()))\n",
    "print('CAC: {cac}'.format(cac=df_condition_score_group['coupon'].agg(func=np.average, axis=0, weights=df_condition_score_group['count'])))"
   ]
  },
  {
   "cell_type": "code",
   "execution_count": null,
   "metadata": {},
   "outputs": [],
   "source": [
    "# 分配结果check\n",
    "# 低活\n",
    "df_condition_score_group[(df_condition_score_group['ccc']==0)&\n",
    "                         (df_condition_score_group['coupon']>1.0)]"
   ]
  },
  {
   "cell_type": "code",
   "execution_count": null,
   "metadata": {},
   "outputs": [],
   "source": [
    "# 中活\n",
    "df_condition_score_group[(df_condition_score_group['ccc']==1)&\n",
    "                         ((df_condition_score_group['coupon']<0.5)|\n",
    "                         (df_condition_score_group['coupon']>1.5))]"
   ]
  },
  {
   "cell_type": "code",
   "execution_count": null,
   "metadata": {},
   "outputs": [],
   "source": [
    "# 高活\n",
    "df_condition_score_group[(df_condition_score_group['ccc']==2)&\n",
    "                         (df_condition_score_group['coupon']<1.0)]"
   ]
  },
  {
   "cell_type": "code",
   "execution_count": null,
   "metadata": {},
   "outputs": [],
   "source": [
    "utils.save_pickle(df_condition_score_group, 'df_csg_result.pickle')"
   ]
  },
  {
   "cell_type": "code",
   "execution_count": null,
   "metadata": {},
   "outputs": [],
   "source": [
    "# upload\n",
    "df_csg_result = utils.load_pickle('df_csg_result.pickle')\n",
    "print(df_csg_result.shape)\n",
    "df_csg_result.head()"
   ]
  },
  {
   "cell_type": "code",
   "execution_count": null,
   "metadata": {},
   "outputs": [],
   "source": [
    "df_csg_result = df_csg_result[['aaa', 'bbb', 'ccc', 'coupon']].copy()\n",
    "print(df_csg_result.shape)\n",
    "df_csg_result.head()"
   ]
  },
  {
   "cell_type": "code",
   "execution_count": null,
   "metadata": {
    "scrolled": true
   },
   "outputs": [],
   "source": [
    "df_csg_result['aaa'] = df_csg_result['aaa'].astype(int).astype(str)\n",
    "df_csg_result['aaa'].replace('-1', '', inplace=True)\n",
    "\n",
    "df_csg_result.rename(columns={'bbb': 'bbb_'}, inplace=True)\n",
    "df_csg_result['bbb_'] = df_csg_result['bbb_'] + 1\n",
    "df_csg_result['bbb_'] = df_csg_result['bbb_'].astype(int).astype(str)\n",
    "\n",
    "df_csg_result['ccc'] = df_csg_result['ccc'].astype(int)\n",
    "\n",
    "df_csg_result['coupon'] = (df_csg_result['coupon']*100).astype(int)\n",
    "\n",
    "df_csg_result.head(30)"
   ]
  },
  {
   "cell_type": "code",
   "execution_count": null,
   "metadata": {},
   "outputs": [],
   "source": [
    "df_csg_result.info()"
   ]
  },
  {
   "cell_type": "code",
   "execution_count": null,
   "metadata": {},
   "outputs": [],
   "source": [
    "df_csg_result['coupon'].value_counts()"
   ]
  },
  {
   "cell_type": "code",
   "execution_count": null,
   "metadata": {},
   "outputs": [],
   "source": [
    "df_cw_group = df_csg_result.groupby(by=['aaa', 'bbb_'])\n",
    "\n",
    "list_df_cwj = []\n",
    "for name, group in df_cw_group:\n",
    "    dict_na_c = group[['ccc', 'coupon']].to_dict(orient='list')\n",
    "    dict_field = {x[0]:x[1] for x in zip(dict_na_c['ccc'], dict_na_c['coupon'])}\n",
    "    dict_field_lmh = {}\n",
    "    for k, v in dict_field.items():\n",
    "        if k == 0:\n",
    "            dict_field_lmh['low'] = v\n",
    "        elif k == 1:\n",
    "            dict_field_lmh['mid'] = v\n",
    "        else:\n",
    "            dict_field_lmh['high'] = v\n",
    "    df_cwj_each = pd.DataFrame({'aaa': [name[0]], \n",
    "                                'bbb_': [name[1]], \n",
    "                                'field': [str(dict_field_lmh)]})\n",
    "    list_df_cwj.append(df_cwj_each)\n",
    "\n",
    "df_cwj = pd.concat(list_df_cwj, axis=0)\n",
    "df_cwj.reset_index(drop=True, inplace=True)\n",
    "print(df_cwj.shape)\n",
    "df_cwj.head(10)"
   ]
  },
  {
   "cell_type": "code",
   "execution_count": null,
   "metadata": {},
   "outputs": [],
   "source": [
    "df_cwj.info()"
   ]
  },
  {
   "cell_type": "code",
   "execution_count": null,
   "metadata": {},
   "outputs": [],
   "source": [
    "utils.save_pickle(df_cwj, 'df_cwj_upload_cac100.pickle')\n",
    "df_cwj.to_csv('df_cwj_upload_cac100.txt', sep='\\t', encoding='utf-8', index=False, header=False)"
   ]
  },
  {
   "cell_type": "code",
   "execution_count": null,
   "metadata": {},
   "outputs": [],
   "source": [
    "print('uplift compare best limit(1.04): {u}'.format(u=(2996092.25195659-3021637.256207411)/3021637.256207411))\n",
    "print('uplift compare best(1.799996)  : {u}'.format(u=(2996092.25195659-3930707.753239899)/3930707.753239899))\n",
    "print('uplift compare 1.8             : {u}'.format(u=(2996092.25195659-3930707.34061152)/3930707.34061152))\n",
    "print('uplift compare 1.5             : {u}'.format(u=(2996092.25195659-3848120.547460424)/3848120.547460424))\n",
    "print('uplift compare 1.0             : {u}'.format(u=(2996092.25195659-2992858.743431806)/2992858.743431806))\n",
    "print('uplift compare 0.5             : {u}'.format(u=(2996092.25195659-2183640.968774476)/2183640.968774476))\n",
    "print('uplift compare 0.2             : {u}'.format(u=(2996092.25195659-1789182.0306516674)/1789182.0306516674))\n",
    "print('uplift compare mckp(0.99998)   : {u}'.format(u=(2996092.25195659-2996073.071639568)/2996073.071639568))"
   ]
  },
  {
   "cell_type": "code",
   "execution_count": null,
   "metadata": {},
   "outputs": [],
   "source": []
  }
 ],
 "metadata": {
  "kernelspec": {
   "display_name": "Python3 (jarretthan)",
   "language": "python",
   "name": "jarretthan"
  },
  "language_info": {
   "codemirror_mode": {
    "name": "ipython",
    "version": 3
   },
   "file_extension": ".py",
   "mimetype": "text/x-python",
   "name": "python",
   "nbconvert_exporter": "python",
   "pygments_lexer": "ipython3",
   "version": "3.7.10"
  }
 },
 "nbformat": 4,
 "nbformat_minor": 4
}
