{
 "cells": [
  {
   "cell_type": "markdown",
   "id": "6ad12366-e90a-422d-a018-c47f0aa8cdb3",
   "metadata": {},
   "source": [
    "# AITM"
   ]
  },
  {
   "cell_type": "code",
   "execution_count": 2,
   "id": "39a457bd-ccd6-44d6-b42b-c73e59a83997",
   "metadata": {},
   "outputs": [],
   "source": [
    "import datetime\n",
    "import numpy as np\n",
    "import pandas as pd\n",
    "import joblib\n",
    "import warnings\n",
    "import logging\n",
    "import os\n",
    "import gc\n",
    "import matplotlib.pyplot as plt\n",
    "import matplotlib.patches as mpatches\n",
    "import seaborn as sns\n",
    "import collections\n",
    "import re\n",
    "import copy\n",
    "import torch\n",
    "import shap\n",
    "import utils.utils as util\n",
    "\n",
    "import utils_\n",
    "\n",
    "from functools import reduce\n",
    "from tqdm import tqdm\n",
    "from dateutil.relativedelta import relativedelta\n",
    "from joblib import Parallel, delayed\n",
    "from scipy.stats import norm\n",
    "from sklearn.preprocessing import StandardScaler, MinMaxScaler, LabelEncoder\n",
    "from sklearn.model_selection import StratifiedKFold, train_test_split\n",
    "from sklearn.metrics import confusion_matrix, classification_report, roc_auc_score\n",
    "from sklearn.inspection import permutation_importance\n",
    "from model.aitm_condition import AITM\n",
    "from torch.utils.data import DataLoader\n",
    "from utils.dataset import DatasetLoader\n",
    "from utils.warmup_lr import GradualWarmupScheduler\n",
    "\n",
    "\n",
    "# pd.set_option('display.max_columns', None)\n",
    "# pd.set_option('max_row', 500)\n",
    "warnings.filterwarnings('ignore')\n",
    "tqdm.pandas(desc='pandas bar')"
   ]
  },
  {
   "cell_type": "code",
   "execution_count": null,
   "id": "e596bd93-2c29-438e-983f-c9de659dd03c",
   "metadata": {},
   "outputs": [],
   "source": [
    "torch.__version__"
   ]
  },
  {
   "cell_type": "markdown",
   "id": "65f96a1a-702c-4f7b-b7db-3dcf0d979f0d",
   "metadata": {
    "tags": []
   },
   "source": [
    "## 数据处理"
   ]
  },
  {
   "cell_type": "markdown",
   "id": "df9a1a61-9404-47aa-ba9d-3d7966dd37a4",
   "metadata": {},
   "source": [
    "* fusion & aspiration"
   ]
  },
  {
   "cell_type": "code",
   "execution_count": null,
   "id": "274daaff-cca6-4bd7-aed4-20fec6cc5bdd",
   "metadata": {},
   "outputs": [],
   "source": [
    "# 2023.01.01~2023.03.19 train\n",
    "df_fusion = utils_.load_pickle('../../data/other/cs/df_fusion_train_20230101_20230319.pickle')\n",
    "df_aspiration_part1 = utils_.load_pickle('../../data/other/cs/df_aspiration_part1_tarin_20230101_20230319.pickle')\n",
    "df_aspiration_part2 = utils_.load_pickle('../../data/other/cs/df_aspiration_part2_tarin_20230101_20230319.pickle')\n",
    "\n",
    "print(df_fusion.shape)\n",
    "print(df_aspiration_part1.shape)\n",
    "print(df_aspiration_part2.shape)"
   ]
  },
  {
   "cell_type": "code",
   "execution_count": null,
   "id": "6a7659cc-4d27-411d-a1d8-1fe2dd652189",
   "metadata": {},
   "outputs": [],
   "source": [
    "# 2023.01.01~2023.03.19\n",
    "# df_fusion = pd.read_csv('../../data/other/cs/sample_label_feature_fusion_obs_dt_20230101_20230319.txt', sep='\\t', encoding='utf-8')\n",
    "# df_aspiration_part1 = pd.read_csv('../../data/other/cs/sample_label_feature_aspiration_part1_obs_dt_20230101_20230319.txt', sep='\\t', encoding='utf-8')\n",
    "# df_aspiration_part2 = pd.read_csv('../../data/other/cs/sample_label_feature_aspiration_part2_obs_dt_20230101_20230319.txt', sep='\\t', encoding='utf-8')\n",
    "\n",
    "# print(df_fusion.shape)\n",
    "# print(df_aspiration_part1.shape)\n",
    "# print(df_aspiration_part2.shape)"
   ]
  },
  {
   "cell_type": "code",
   "execution_count": null,
   "id": "69c4cec3-78b0-43a3-b3c1-0e82a8edff9a",
   "metadata": {},
   "outputs": [],
   "source": [
    "list_feats_fusion = utils_.load_pickle('../../data/other/cs/list_feats/list_feats_x_pi_fusion_20230101_20230319.pickle')\n",
    "list_feats_aspiration = utils_.load_pickle('../../data/other/cs/list_feats/list_feats_x_pi_aspiration_20230101_20230319.pickle')\n",
    "\n",
    "print(len(list_feats_fusion))\n",
    "print(len(list_feats_aspiration))"
   ]
  },
  {
   "cell_type": "code",
   "execution_count": null,
   "id": "0834cb15-ea0b-4f0f-a8fb-1c540180af0a",
   "metadata": {},
   "outputs": [],
   "source": [
    "list_feats_aspiration_part_1 = utils_.load_pickle('../../data/other/cs/list_feats/list_feats_x_aspiration_part1_20230101_20230319.pickle')\n",
    "list_feats_aspiration_part_2 = utils_.load_pickle('../../data/other/cs/list_feats/list_feats_x_aspiration_part2_20230101_20230319.pickle')\n",
    "\n",
    "print(len(list_feats_aspiration_part_1))\n",
    "print(len(list_feats_aspiration_part_2))"
   ]
  },
  {
   "cell_type": "code",
   "execution_count": null,
   "id": "f06dfc14-574e-46ac-9505-65bf5f971b97",
   "metadata": {},
   "outputs": [],
   "source": [
    "list_feats_aspiration_part_1 = [x for x in list_feats_aspiration_part_1 if x in list_feats_aspiration]\n",
    "list_feats_aspiration_part_2 = [x for x in list_feats_aspiration_part_2 if x in list_feats_aspiration]\n",
    "\n",
    "print(len(list_feats_aspiration_part_1))\n",
    "print(len(list_feats_aspiration_part_2))"
   ]
  },
  {
   "cell_type": "code",
   "execution_count": null,
   "id": "608ed261-f711-4859-a6e4-dd6a7664f92f",
   "metadata": {},
   "outputs": [],
   "source": [
    "df_fusion['obs_dt'] = pd.to_datetime(df_fusion['obs_dt'])\n",
    "df_aspiration_part1['obs_dt'] = pd.to_datetime(df_aspiration_part1['obs_dt'])\n",
    "df_aspiration_part2['obs_dt'] = pd.to_datetime(df_aspiration_part2['obs_dt'])\n",
    "\n",
    "df = df_fusion[['uid', 'obs_dt', 'dt', 'item', 'label_apply', 'label_submit', 'label_pass', 'label_pass_1']+list_feats_fusion].\\\n",
    "    merge(df_aspiration_part1[['uid', 'obs_dt', 'item', 'label_apply', 'label_submit', 'label_pass', 'label_pass_1']+list_feats_aspiration_part_1], \n",
    "          on=['uid', 'obs_dt', 'item', 'label_apply', 'label_submit', 'label_pass', 'label_pass_1'], how='left').\\\n",
    "    merge(df_aspiration_part2[['uid', 'obs_dt', 'item', 'label_apply', 'label_submit', 'label_pass', 'label_pass_1']+list_feats_aspiration_part_2], \n",
    "          on=['uid', 'obs_dt', 'item', 'label_apply', 'label_submit', 'label_pass', 'label_pass_1'], how='left')\n",
    "print(df.shape)\n",
    "df.head()"
   ]
  },
  {
   "cell_type": "code",
   "execution_count": null,
   "id": "a71a3c71-c42e-4673-8ac2-98b2bfebee85",
   "metadata": {},
   "outputs": [],
   "source": [
    "df_des = utils_.df_des(df)\n",
    "df_des[df_des['Miss Percent(%)']>0]"
   ]
  },
  {
   "cell_type": "code",
   "execution_count": null,
   "id": "98f43378-ef41-42d6-be03-21455d69c8a6",
   "metadata": {},
   "outputs": [],
   "source": [
    "[x for x in df.columns if x.endswith('.1')]"
   ]
  },
  {
   "cell_type": "code",
   "execution_count": null,
   "id": "4f90a320-740e-453d-97a0-5d425b7a0e88",
   "metadata": {},
   "outputs": [],
   "source": [
    "df['obs_dt'].value_counts()"
   ]
  },
  {
   "cell_type": "code",
   "execution_count": null,
   "id": "8d43ca85-ff4c-4f2e-9a0c-e623276bb9bb",
   "metadata": {},
   "outputs": [],
   "source": [
    "df['item'].value_counts()"
   ]
  },
  {
   "cell_type": "code",
   "execution_count": null,
   "id": "80ea1b56-1c77-47a4-b5b4-338e4afb211c",
   "metadata": {},
   "outputs": [],
   "source": [
    "df[['item', 'label_apply', 'uid']].groupby(by=['item', 'label_apply']).count()"
   ]
  },
  {
   "cell_type": "code",
   "execution_count": null,
   "id": "2b3bdcd8-5adb-4946-88e1-ec243230157d",
   "metadata": {},
   "outputs": [],
   "source": [
    "df['label_apply'].value_counts()"
   ]
  },
  {
   "cell_type": "code",
   "execution_count": null,
   "id": "ac45dfc3-1657-4655-b084-5f0cbe2f6409",
   "metadata": {},
   "outputs": [],
   "source": [
    "df[['item', 'label_submit', 'uid']].groupby(by=['item', 'label_submit']).count()"
   ]
  },
  {
   "cell_type": "code",
   "execution_count": null,
   "id": "79665382-45a4-4996-a211-91ebbca8da5e",
   "metadata": {},
   "outputs": [],
   "source": [
    "df['label_submit'].value_counts()"
   ]
  },
  {
   "cell_type": "code",
   "execution_count": null,
   "id": "f5c1a4eb-1cd4-4d53-bdca-c68c22165ccb",
   "metadata": {},
   "outputs": [],
   "source": [
    "df[['item', 'label_pass', 'uid']].groupby(by=['item', 'label_pass']).count()"
   ]
  },
  {
   "cell_type": "code",
   "execution_count": null,
   "id": "b9062a0b-f9b9-4c65-b641-b184ff99253c",
   "metadata": {},
   "outputs": [],
   "source": [
    "df['label_pass'].value_counts()"
   ]
  },
  {
   "cell_type": "code",
   "execution_count": null,
   "id": "f3eb37e8-c56f-4019-9dcd-2352a1285cc5",
   "metadata": {},
   "outputs": [],
   "source": [
    "df[['item', 'label_pass_1', 'uid']].groupby(by=['item', 'label_pass_1']).count()"
   ]
  },
  {
   "cell_type": "code",
   "execution_count": null,
   "id": "4b8178be-9027-428c-941b-4d03e7547ff8",
   "metadata": {},
   "outputs": [],
   "source": [
    "df['label_pass_1'].value_counts()"
   ]
  },
  {
   "cell_type": "raw",
   "id": "821acc7e-62e1-4726-aaca-8b4f077ce087",
   "metadata": {},
   "source": [
    "label4打分修正公式：（假设label1负样本在label4负样本中的占比为定值）\n",
    "s_ = s / (s+(1-s)*(1-r)+(1-s)*r/label1负样本占比)\n",
    "r = label1负样本 / label4负样本"
   ]
  },
  {
   "cell_type": "code",
   "execution_count": null,
   "id": "00af58f8-6d66-4fda-ab9f-e1de186b0e14",
   "metadata": {},
   "outputs": [],
   "source": [
    "# print(\"aar={}\".format(300000/327506))\n",
    "# print(\"aalabel1负样本占比{}\".format(300000/1364774))\n",
    "# print(\"ccr={}\".format(300000/374856))\n",
    "# print(\"cclabel1负样本占比{}\".format(300000/1211726))"
   ]
  },
  {
   "cell_type": "code",
   "execution_count": null,
   "id": "fc0f6a6b-5677-429e-a21a-05cf956af724",
   "metadata": {},
   "outputs": [],
   "source": [
    "df['item_id'] = df['item'].apply(lambda x: 0 if x=='aaa' \n",
    "                                             else 1 if x=='bbb' \n",
    "                                             else 2 if x=='ccc' \n",
    "                                             else 3 if x=='ddd' \n",
    "                                             else 4)\n",
    "df.head()"
   ]
  },
  {
   "cell_type": "code",
   "execution_count": null,
   "id": "26c0e6b2-bc17-46eb-aba7-ed7d729eeae2",
   "metadata": {},
   "outputs": [],
   "source": [
    "# 物料特征处理\n",
    "# one hot encoding\n",
    "list_feats_ohe = ['item_id']\n",
    "list_df_ohe = []\n",
    "try:\n",
    "    with tqdm(list_feats_ohe) as t:\n",
    "        for feat in t:\n",
    "            df_ohe_feat = utils_.one_hot_encoder(df, feat)\n",
    "            list_df_ohe.append(df_ohe_feat)\n",
    "except KeyboardInterrupt:\n",
    "    t.close()\n",
    "    raise\n",
    "t.close()\n",
    "\n",
    "df_ohe_part = pd.concat(list_df_ohe, axis=1)\n",
    "print(df_ohe_part.shape)\n",
    "df_ohe_part.head()"
   ]
  },
  {
   "cell_type": "code",
   "execution_count": null,
   "id": "fc80aca5-238d-4c0a-9b17-5f673a1b8fe8",
   "metadata": {},
   "outputs": [],
   "source": [
    "list_df_item = []\n",
    "for i in range(5):\n",
    "    list_df_item.append(df_ohe[df_ohe['item_id']==i][['item', 'item_id']+['item_id_{}'.format(x) for x in range(5)]].head(1))\n",
    "df_item = pd.concat(list_df_item, axis=0)\n",
    "print(df_item.shape)\n",
    "df_item"
   ]
  },
  {
   "cell_type": "code",
   "execution_count": null,
   "id": "79d2b71c-4153-4899-b780-8d5f1170d223",
   "metadata": {},
   "outputs": [],
   "source": [
    "df_ohe = pd.concat([df, df_ohe_part], axis=1)\n",
    "print(df_ohe.shape)\n",
    "df_ohe.head()"
   ]
  },
  {
   "cell_type": "code",
   "execution_count": null,
   "id": "8c127552-c2a1-4e72-8b70-110a9354c1e1",
   "metadata": {},
   "outputs": [],
   "source": [
    "# utils_.save_pickle(df_ohe, '../../data/other/cs/df_ohe_train_20230101_20230319.pickle')\n",
    "utils_.save_pickle(df_ohe, '../../data/other/cs/train_eval_oot/df_ohe_20230101_20230319.pickle')"
   ]
  },
  {
   "cell_type": "markdown",
   "id": "43e4d972-8149-44ae-97af-152a8f02df4e",
   "metadata": {},
   "source": [
    "* flow fixation xxx card"
   ]
  },
  {
   "cell_type": "code",
   "execution_count": null,
   "id": "64a9653a-845a-4002-bcff-dae8c0c6b6db",
   "metadata": {},
   "outputs": [],
   "source": [
    "df_ffcc = pd.read_csv('../../data/other/cs/sample_label_feature_flow_fixation_xxx_card_train_20230101_20230319.txt', sep='\\t', encoding='utf-8')\n",
    "print(df_ffcc.shape)\n",
    "df_ffcc.head()"
   ]
  },
  {
   "cell_type": "code",
   "execution_count": null,
   "id": "76dc67cb-3deb-4439-a1da-f70e49c61e09",
   "metadata": {},
   "outputs": [],
   "source": [
    "df_ffcc_des = utils_.df_des(df_ffcc)\n",
    "df_ffcc_des.to_csv('../../data/other/cs/df_ffcc_des_20230101_20230319.csv', encoding='utf-8')"
   ]
  },
  {
   "cell_type": "code",
   "execution_count": null,
   "id": "b0d1e88a-2a73-4eb6-bddd-452c1477e7f7",
   "metadata": {},
   "outputs": [],
   "source": [
    "# 方差\n",
    "list_feats_ffcc_y = ['uid', 'obs_dt', 'dt', 'item', 'label_apply', 'label_submit', 'label_pass', 'label_pass_1']\n",
    "list_feats_ffcc_x = [x for x in df_ffcc.columns if x not in list_feats_ffcc_y]\n",
    "\n",
    "print(len(list_feats_ffcc_x))\n",
    "list_feats_ffcc_x[:10]"
   ]
  },
  {
   "cell_type": "code",
   "execution_count": null,
   "id": "bc0c39f9-a05b-4733-abc9-17e438b8eb03",
   "metadata": {},
   "outputs": [],
   "source": [
    "utils_.save_pickle(list_feats_ffcc_x, '../../data/other/cs/new_features/list_feats/list_feats_x_ffcc_20230101_20230319.pickle')"
   ]
  },
  {
   "cell_type": "code",
   "execution_count": null,
   "id": "577dab65-e708-4e65-8d44-51c713f51364",
   "metadata": {},
   "outputs": [],
   "source": [
    "list_feats_ffcc_x_std_0 = [x for x in df_ffcc_des[df_ffcc_des['std']==0].index]\n",
    "print(len(list_feats_ffcc_x_std_0))\n",
    "list_feats_ffcc_x_std_0[:10]"
   ]
  },
  {
   "cell_type": "code",
   "execution_count": null,
   "id": "4fd50c41-9977-4d19-ac2e-9ed289f80483",
   "metadata": {},
   "outputs": [],
   "source": [
    "utils_.save_pickle(list_feats_ffcc_x_std_0, '../../data/other/cs/new_features/list_feats/list_feats_x_std_0_ffcc_20230101_20230319.pickle')"
   ]
  },
  {
   "cell_type": "code",
   "execution_count": null,
   "id": "53a42274-70d9-49dc-8633-4fbfbe21c012",
   "metadata": {},
   "outputs": [],
   "source": [
    "list_feats_ffcc_x_std = [x for x in list_feats_ffcc_x if x not in list_feats_ffcc_x_std_0]\n",
    "print(len(list_feats_ffcc_x_std))\n",
    "list_feats_ffcc_x_std[:10]"
   ]
  },
  {
   "cell_type": "code",
   "execution_count": null,
   "id": "3c9f67ac-cda9-4788-bb0a-8b9cd30eff22",
   "metadata": {},
   "outputs": [],
   "source": [
    "utils_.save_pickle(list_feats_ffcc_x_std, '../../data/other/cs/new_features/list_feats/list_feats_x_std_ffcc_20230101_20230319.pickle')"
   ]
  },
  {
   "cell_type": "code",
   "execution_count": null,
   "id": "6d81be8e-9cca-4659-96a0-2f162d599eb2",
   "metadata": {},
   "outputs": [],
   "source": [
    "list_feats_ffcc_y = ['uid', 'obs_dt', 'dt', 'item', 'label_apply', 'label_submit', 'label_pass', 'label_pass_1']\n",
    "list_feats_ffcc_x_std = utils_.load_pickle('../../data/other/cs/new_features/list_feats/list_feats_x_std_ffcc_20230101_20230319.pickle')\n",
    "df_ffcc_ = df_ffcc[list_feats_ffcc_y+list_feats_ffcc_x_std]\n",
    "df_ffcc_[list_feats_ffcc_x_std] = df_ffcc_[list_feats_ffcc_x_std].fillna(0)\n",
    "print(df_ffcc_.shape)\n",
    "df_ffcc_.head()"
   ]
  },
  {
   "cell_type": "markdown",
   "id": "46274dae-0a46-48f7-9333-4bc005d413fa",
   "metadata": {},
   "source": [
    "* flow card shelf xxx card"
   ]
  },
  {
   "cell_type": "code",
   "execution_count": null,
   "id": "0c84203f-5e30-425e-8044-4b9af2d3b286",
   "metadata": {},
   "outputs": [],
   "source": [
    "df_fcscc = pd.read_csv('../../data/other/cs/sample_label_feature_flow_cs_xxx_card_train_20230101_20230319.txt', sep='\\t', encoding='utf-8')\n",
    "print(df_fcscc.shape)\n",
    "df_fcscc.head()"
   ]
  },
  {
   "cell_type": "code",
   "execution_count": null,
   "id": "d9da25d3-6f3d-4a6a-b275-46d327f27c97",
   "metadata": {},
   "outputs": [],
   "source": [
    "df_fcscc_des = utils_.df_des(df_fcscc)\n",
    "df_fcscc_des.to_csv('../../data/other/cs/df_fcscc_des_20230101_20230319.csv', encoding='utf-8')"
   ]
  },
  {
   "cell_type": "code",
   "execution_count": null,
   "id": "95f47c83-76ef-41d2-a9df-4850193a8bb5",
   "metadata": {},
   "outputs": [],
   "source": [
    "# 方差\n",
    "list_feats_fcscc_y = ['uid', 'obs_dt', 'dt', 'item', 'label_apply', 'label_submit', 'label_pass', 'label_pass_1']\n",
    "list_feats_fcscc_x = [x for x in df_fcscc.columns if x not in list_feats_fcscc_y]\n",
    "\n",
    "print(len(list_feats_fcscc_x))\n",
    "list_feats_fcscc_x[:10]"
   ]
  },
  {
   "cell_type": "code",
   "execution_count": null,
   "id": "a32e7057-fcbd-4701-a252-6062f342adf5",
   "metadata": {},
   "outputs": [],
   "source": [
    "utils_.save_pickle(list_feats_fcscc_x, '../../data/other/cs/new_features/list_feats/list_feats_x_fcscc_20230101_20230319.pickle')"
   ]
  },
  {
   "cell_type": "code",
   "execution_count": null,
   "id": "f81a3a68-9f31-4768-89f7-deb4618abbb3",
   "metadata": {},
   "outputs": [],
   "source": [
    "list_feats_fcscc_x_std_0 = [x for x in df_fcscc_des[df_fcscc_des['std']==0].index]\n",
    "print(len(list_feats_fcscc_x_std_0))\n",
    "list_feats_fcscc_x_std_0[:10]"
   ]
  },
  {
   "cell_type": "code",
   "execution_count": null,
   "id": "33d7d6db-a34d-4091-a128-9a0d95268187",
   "metadata": {},
   "outputs": [],
   "source": [
    "list_feats_fcscc_x = utils_.load_pickle('../../data/other/cs/new_features/list_feats/list_feats_x_fcscc_20230101_20230319.pickle')\n",
    "df_fcscc_ = df_fcscc\n",
    "df_fcscc_[list_feats_fcscc_x] = df_fcscc_[list_feats_fcscc_x].fillna(0)\n",
    "print(df_fcscc_.shape)\n",
    "df_fcscc_.head()"
   ]
  },
  {
   "cell_type": "markdown",
   "id": "ff9bcddd-dc67-497a-a075-83d20b2b1cb6",
   "metadata": {},
   "source": [
    "* xxx card"
   ]
  },
  {
   "cell_type": "code",
   "execution_count": null,
   "id": "adf3f14f-fec8-41f6-a628-e02bd1a41836",
   "metadata": {},
   "outputs": [],
   "source": [
    "df_dc = pd.read_csv('../../data/other/cs/sample_label_feature_xxx_card_train_20230101_20230319.txt', sep='\\t', encoding='utf-8')\n",
    "print(df_dc.shape)\n",
    "df_dc.head()"
   ]
  },
  {
   "cell_type": "code",
   "execution_count": null,
   "id": "7c2c8005-2331-49b1-8da9-54d4fb5f3ff7",
   "metadata": {},
   "outputs": [],
   "source": [
    "df_dc_des = utils_.df_des(df_dc)\n",
    "df_dc_des.to_csv('../../data/other/cs/df_dc_des_20230101_20230319.csv', encoding='utf-8')"
   ]
  },
  {
   "cell_type": "code",
   "execution_count": null,
   "id": "56d69fb0-56fa-48d5-84bd-c0f527771756",
   "metadata": {},
   "outputs": [],
   "source": [
    "# 方差\n",
    "list_feats_dc_y = ['uid', 'obs_dt', 'dt', 'item', 'label_apply', 'label_submit', 'label_pass', 'label_pass_1']\n",
    "list_feats_dc_x = [x for x in df_dc.columns if x not in list_feats_dc_y]\n",
    "\n",
    "print(len(list_feats_dc_x))\n",
    "list_feats_dc_x[:10]"
   ]
  },
  {
   "cell_type": "code",
   "execution_count": null,
   "id": "e8589f77-361b-442c-8d46-d5aec1284824",
   "metadata": {},
   "outputs": [],
   "source": [
    "utils_.save_pickle(list_feats_dc_x, '../../data/other/cs/new_features/list_feats/list_feats_x_dc_20230101_20230319.pickle')"
   ]
  },
  {
   "cell_type": "code",
   "execution_count": null,
   "id": "92cc9bd1-137f-4cff-af58-a3e95c583ca9",
   "metadata": {},
   "outputs": [],
   "source": [
    "list_feats_dc_x_std_0 = [x for x in df_dc_des[df_dc_des['std']==0].index]\n",
    "print(len(list_feats_dc_x_std_0))\n",
    "list_feats_dc_x_std_0[:10]"
   ]
  },
  {
   "cell_type": "code",
   "execution_count": null,
   "id": "ff8bb36c-d9f1-410e-8439-2c87a86a846c",
   "metadata": {},
   "outputs": [],
   "source": [
    "list_feats_dc_x = utils_.load_pickle('../../data/other/cs/new_features/list_feats/list_feats_x_dc_20230101_20230319.pickle')\n",
    "df_dc_ = df_dc\n",
    "df_dc_[list_feats_dc_x] = df_dc_[list_feats_dc_x].fillna(0)\n",
    "print(df_dc_.shape)\n",
    "df_dc_.head()"
   ]
  },
  {
   "cell_type": "markdown",
   "id": "b9f0d1e3-206c-4a84-9367-7a75095b73be",
   "metadata": {},
   "source": [
    "* ffd"
   ]
  },
  {
   "cell_type": "code",
   "execution_count": null,
   "id": "72e31240-a007-4413-bf2c-1cb9b87dfd6f",
   "metadata": {},
   "outputs": [],
   "source": [
    "df_ffcc = pd.read_csv('../../data/other/cs/sample_label_feature_flow_fixation_xxx_card_train_20230101_20230319.txt', sep='\\t', encoding='utf-8')\n",
    "df_fcscc = pd.read_csv('../../data/other/cs/sample_label_feature_flow_cs_xxx_card_train_20230101_20230319.txt', sep='\\t', encoding='utf-8')\n",
    "df_dc = pd.read_csv('../../data/other/cs/sample_label_feature_xxx_card_train_20230101_20230319.txt', sep='\\t', encoding='utf-8')\n",
    "\n",
    "print(df_ffcc.shape)\n",
    "print(df_fcscc.shape)\n",
    "print(df_dc.shape)"
   ]
  },
  {
   "cell_type": "code",
   "execution_count": null,
   "id": "a9cfafd3-8b3a-413a-b001-7634a1cd9597",
   "metadata": {},
   "outputs": [],
   "source": [
    "list_feats_x_ffd = utils_.load_pickle('../../data/other/cs/new_features/list_feats/list_feats_x_ht_ffd_20230101_20230319.pickle')\n",
    "\n",
    "print(len(list_feats_x_ffd))"
   ]
  },
  {
   "cell_type": "code",
   "execution_count": null,
   "id": "2b1aeed3-67e4-4228-8052-10ad80403064",
   "metadata": {},
   "outputs": [],
   "source": [
    "list_feats_x_ffcc = utils_.load_pickle('../../data/other/cs/new_features/list_feats/list_feats_x_ffcc_20230101_20230319.pickle')\n",
    "list_feats_x_fcscc = utils_.load_pickle('../../data/other/cs/new_features/list_feats/list_feats_x_fcscc_20230101_20230319.pickle')\n",
    "list_feats_x_dc = utils_.load_pickle('../../data/other/cs/new_features/list_feats/list_feats_x_dc_20230101_20230319.pickle')\n",
    "\n",
    "print(len(list_feats_x_ffcc))\n",
    "print(len(list_feats_x_fcscc))\n",
    "print(len(list_feats_x_dc))"
   ]
  },
  {
   "cell_type": "code",
   "execution_count": null,
   "id": "5c0ac6a9-e128-42d6-810b-b895051eff08",
   "metadata": {},
   "outputs": [],
   "source": [
    "list_feats_x_ffcc = [x for x in list_feats_x_ffcc if x in list_feats_x_ffd]\n",
    "list_feats_x_fcscc = [x for x in list_feats_x_fcscc if x in list_feats_x_ffd]\n",
    "list_feats_x_dc = [x for x in list_feats_x_dc if x in list_feats_x_dc]\n",
    "\n",
    "print(len(list_feats_x_ffcc))\n",
    "print(len(list_feats_x_fcscc))\n",
    "print(len(list_feats_x_dc))"
   ]
  },
  {
   "cell_type": "code",
   "execution_count": null,
   "id": "6f4cac46-e48a-405b-a211-fd9ea0c68a7c",
   "metadata": {},
   "outputs": [],
   "source": [
    "df_ffcc[list_feats_x_ffcc] = df_ffcc[list_feats_x_ffcc].fillna(0)\n",
    "df_fcscc[list_feats_x_fcscc] = df_fcscc[list_feats_x_fcscc].fillna(0)\n",
    "\n",
    "df_ffcc['obs_dt'] = pd.to_datetime(df_ffcc['obs_dt'])\n",
    "df_fcscc['obs_dt'] = pd.to_datetime(df_fcscc['obs_dt'])\n",
    "df_dc['obs_dt'] = pd.to_datetime(df_dc['obs_dt'])\n",
    "\n",
    "df_ffd = df_ffcc[['uid', 'obs_dt', 'dt', 'item', 'label_apply', 'label_submit', 'label_pass', 'label_pass_1']+list_feats_x_ffcc].\\\n",
    "    merge(df_fcscc[['uid', 'obs_dt', 'item', 'label_apply', 'label_submit', 'label_pass', 'label_pass_1']+list_feats_x_fcscc], \n",
    "          on=['uid', 'obs_dt', 'item', 'label_apply', 'label_submit', 'label_pass', 'label_pass_1'], how='left').\\\n",
    "    merge(df_dc[['uid', 'obs_dt', 'item', 'label_apply', 'label_submit', 'label_pass', 'label_pass_1']+list_feats_x_dc], \n",
    "          on=['uid', 'obs_dt', 'item', 'label_apply', 'label_submit', 'label_pass', 'label_pass_1'], how='left')\n",
    "print(df_ffd.shape)\n",
    "df_ffd.head()"
   ]
  },
  {
   "cell_type": "markdown",
   "id": "7d0415c9-f0c3-4202-8142-9e1c6d16e7e3",
   "metadata": {},
   "source": [
    "* 合并"
   ]
  },
  {
   "cell_type": "code",
   "execution_count": null,
   "id": "f1384ca2-9465-4225-98b9-0821d7a9739a",
   "metadata": {},
   "outputs": [],
   "source": [
    "df_ohe = utils_.load_pickle('../../data/other/cs/df_ohe_train_20230101_20230319.pickle')\n",
    "print(df_ohe.shape)\n",
    "df_ohe.head()"
   ]
  },
  {
   "cell_type": "code",
   "execution_count": null,
   "id": "cdd52581-8ce6-49a8-b062-d109676cf590",
   "metadata": {},
   "outputs": [],
   "source": [
    "list_feats_x_ffd == list_feats_x_ffcc + list_feats_x_fcscc +list_feats_x_dc"
   ]
  },
  {
   "cell_type": "code",
   "execution_count": null,
   "id": "36df5e6b-2a77-4d4b-a254-6ff4cc5d4ea5",
   "metadata": {},
   "outputs": [],
   "source": [
    "%%time\n",
    "# df_ffcc_['obs_dt'] = pd.to_datetime(df_ffcc_['obs_dt'])\n",
    "# df_fcscc_['obs_dt'] = pd.to_datetime(df_fcscc_['obs_dt'])\n",
    "# df_dc_['obs_dt'] = pd.to_datetime(df_dc_['obs_dt'])\n",
    "\n",
    "# df_ohe_new_feats = df_ohe.\\\n",
    "#     merge(df_ffcc_[['uid', 'obs_dt', 'item', 'label_apply', 'label_submit', 'label_pass', 'label_pass_1']+list_feats_ffcc_x_std], \n",
    "#           on=['uid', 'obs_dt', 'item', 'label_apply', 'label_submit', 'label_pass', 'label_pass_1'], how='left').\\\n",
    "#     merge(df_fcscc_[['uid', 'obs_dt', 'item', 'label_apply', 'label_submit', 'label_pass', 'label_pass_1']+list_feats_fcscc_x], \n",
    "#           on=['uid', 'obs_dt', 'item', 'label_apply', 'label_submit', 'label_pass', 'label_pass_1'], how='left').\\\n",
    "#     merge(df_dc_[['uid', 'obs_dt', 'item', 'label_apply', 'label_submit', 'label_pass', 'label_pass_1']+list_feats_dc_x], \n",
    "#           on=['uid', 'obs_dt', 'item', 'label_apply', 'label_submit', 'label_pass', 'label_pass_1'], how='left')\n",
    "\n",
    "df_ohe_new_feats = df_ohe.\\\n",
    "    merge(df_ffd[['uid', 'obs_dt', 'item', 'label_apply', 'label_submit', 'label_pass', 'label_pass_1']+list_feats_x_ffd], \n",
    "          on=['uid', 'obs_dt', 'item', 'label_apply', 'label_submit', 'label_pass', 'label_pass_1'], how='left')\n",
    "\n",
    "print(df_ohe_new_feats.shape)\n",
    "df_ohe_new_feats.head()"
   ]
  },
  {
   "cell_type": "code",
   "execution_count": null,
   "id": "5fe35f47-a16e-4868-80b7-1c62710935c9",
   "metadata": {},
   "outputs": [],
   "source": [
    "# utils_.save_pickle(df_ohe_new_feats, '../../data/other/cs/new_features/df_ohe_new_feats_train_20230101_20230319.pickle')\n",
    "utils_.save_pickle(df_ohe_new_feats, '../../data/other/cs/new_features/df_ohe_ffd_train_20230101_20230319.pickle')"
   ]
  },
  {
   "cell_type": "markdown",
   "id": "f8d78bfb-9798-46f1-b187-c48d590de937",
   "metadata": {},
   "source": [
    "* 5物料，aa、bb、cc、dd、其他\n",
    "* hpyk特征，963\n",
    "* 2023.01.01~2023.03.19"
   ]
  },
  {
   "cell_type": "code",
   "execution_count": null,
   "id": "1f0f255c-7a5f-43e9-a0ce-17db73856b68",
   "metadata": {},
   "outputs": [],
   "source": [
    "df_train = utils_.load_pickle('../../data/other/cs/df_ohe_train_20230101_20230319.pickle')\n",
    "print(df_train.shape)\n",
    "df_train.head()"
   ]
  },
  {
   "cell_type": "code",
   "execution_count": null,
   "id": "e4127ca0-ec0b-4b37-8cfd-1b182002f47f",
   "metadata": {},
   "outputs": [],
   "source": [
    "# 划分训练集&验证集，9:1，90%\n",
    "df_train_train, df_train_eval = train_test_split(df_train, test_size=0.1, random_state=2023)\n",
    "print(df_train_train.shape)\n",
    "print(df_train_eval.shape)"
   ]
  },
  {
   "cell_type": "code",
   "execution_count": null,
   "id": "f28651b0-e140-4f34-9623-8529def8d39c",
   "metadata": {},
   "outputs": [],
   "source": [
    "df_train_train_id = df_train_train[['uid', 'obs_dt', 'dt', 'item', 'item_id']]\n",
    "df_train_train_y = df_train_train[['label_apply', 'label_submit', 'label_pass', 'label_pass_1']]\n",
    "df_train_train_X = df_train_train[\n",
    "    ['item_id_{}'.format(x) for x in range(5)]\n",
    "    +utils_.load_pickle('../../data/other/cs/list_feats/list_feats_x_pi_fusion_20230101_20230319.pickle')\n",
    "    +utils_.load_pickle('../../data/other/cs/list_feats/list_feats_x_pi_aspiration_20230101_20230319.pickle')\n",
    "]\n",
    "print(df_train_train_id.shape)\n",
    "print(df_train_train_y.shape)\n",
    "print(df_train_train_X.shape)\n",
    "\n",
    "df_train_eval_id = df_train_eval[['uid', 'obs_dt', 'dt', 'item', 'item_id']]\n",
    "df_train_eval_y = df_train_eval[['label_apply', 'label_submit', 'label_pass', 'label_pass_1']]\n",
    "df_train_eval_X = df_train_eval[\n",
    "    ['item_id_{}'.format(x) for x in range(5)]\n",
    "    +utils_.load_pickle('../../data/other/cs/list_feats/list_feats_x_pi_fusion_20230101_20230319.pickle')\n",
    "    +utils_.load_pickle('../../data/other/cs/list_feats/list_feats_x_pi_aspiration_20230101_20230319.pickle')\n",
    "]\n",
    "print(df_train_eval_id.shape)\n",
    "print(df_train_eval_y.shape)\n",
    "print(df_train_eval_X.shape)"
   ]
  },
  {
   "cell_type": "code",
   "execution_count": null,
   "id": "a03048b5-d335-4ae9-a232-96e000cbf103",
   "metadata": {},
   "outputs": [],
   "source": [
    "utils_.save_pickle(df_train_train_id, '../../data/other/cs/df_id_train_train_20230101_20230319.pickle')\n",
    "utils_.save_pickle(df_train_train_y, '../../data/other/cs/df_y_train_train_20230101_20230319.pickle')\n",
    "utils_.save_pickle(df_train_train_X, '../../data/other/cs/df_X_train_train_20230101_20230319.pickle')\n",
    "\n",
    "utils_.save_pickle(df_train_eval_id, '../../data/other/cs/df_id_train_eval_20230101_20230319.pickle')\n",
    "utils_.save_pickle(df_train_eval_y, '../../data/other/cs/df_y_train_eval_20230101_20230319.pickle')\n",
    "utils_.save_pickle(df_train_eval_X, '../../data/other/cs/df_X_train_eval_20230101_20230319.pickle')"
   ]
  },
  {
   "cell_type": "markdown",
   "id": "c7507a22-4458-45b0-98b2-f8dd605b99d8",
   "metadata": {},
   "source": [
    "* 5物料，aa、bb、cc、dd、其他\n",
    "* hpyk特征，963\n",
    "* 2023.01.01~2023.03.19\n",
    "* 只划分train & eval，测试直接观察oot"
   ]
  },
  {
   "cell_type": "code",
   "execution_count": null,
   "id": "4af81824-2ab9-44fb-9e3a-2b691bfb4b84",
   "metadata": {},
   "outputs": [],
   "source": [
    "df = utils_.load_pickle('../../data/other/cs/train_eval_oot/df_ohe_20230101_20230319.pickle')\n",
    "print(df.shape)\n",
    "df.head()"
   ]
  },
  {
   "cell_type": "code",
   "execution_count": null,
   "id": "ccaa18e8-28b4-4ed3-a567-04ad0d8987e0",
   "metadata": {},
   "outputs": [],
   "source": [
    "# 划分训练集&验证集，8:2，80%\n",
    "df_train, df_eval = train_test_split(df, test_size=0.2, random_state=2023)\n",
    "print(df_train.shape)\n",
    "print(df_eval.shape)"
   ]
  },
  {
   "cell_type": "code",
   "execution_count": null,
   "id": "d72d2e8c-6200-4c77-bbaf-393e700dad48",
   "metadata": {},
   "outputs": [],
   "source": [
    "df_train_id = df_train[['uid', 'obs_dt', 'dt', 'item', 'item_id']]\n",
    "df_train_y = df_train[['label_apply', 'label_submit', 'label_pass', 'label_pass_1']]\n",
    "df_train_X = df_train[\n",
    "    ['item_id_{}'.format(x) for x in range(5)]\n",
    "    +utils_.load_pickle('../../data/other/cs/list_feats/list_feats_x_pi_fusion_20230101_20230319.pickle')\n",
    "    +utils_.load_pickle('../../data/other/cs/list_feats/list_feats_x_pi_aspiration_20230101_20230319.pickle')\n",
    "]\n",
    "print(df_train_id.shape)\n",
    "print(df_train_y.shape)\n",
    "print(df_train_X.shape)\n",
    "\n",
    "df_eval_id = df_eval[['uid', 'obs_dt', 'dt', 'item', 'item_id']]\n",
    "df_eval_y = df_eval[['label_apply', 'label_submit', 'label_pass', 'label_pass_1']]\n",
    "df_eval_X = df_eval[\n",
    "    ['item_id_{}'.format(x) for x in range(5)]\n",
    "    +utils_.load_pickle('../../data/other/cs/list_feats/list_feats_x_pi_fusion_20230101_20230319.pickle')\n",
    "    +utils_.load_pickle('../../data/other/cs/list_feats/list_feats_x_pi_aspiration_20230101_20230319.pickle')\n",
    "]\n",
    "print(df_eval_id.shape)\n",
    "print(df_eval_y.shape)\n",
    "print(df_eval_X.shape)"
   ]
  },
  {
   "cell_type": "code",
   "execution_count": null,
   "id": "4d239983-b8fa-4c50-85c7-962b59c47493",
   "metadata": {},
   "outputs": [],
   "source": [
    "utils_.save_pickle(df_train_id, '../../data/other/cs/train_eval_oot/df_id_train_20230101_20230319.pickle')\n",
    "utils_.save_pickle(df_train_y, '../../data/other/cs/train_eval_oot/df_y_train_20230101_20230319.pickle')\n",
    "utils_.save_pickle(df_train_X, '../../data/other/cs/train_eval_oot/df_X_train_20230101_20230319.pickle')\n",
    "\n",
    "utils_.save_pickle(df_eval_id, '../../data/other/cs/train_eval_oot/df_id_eval_20230101_20230319.pickle')\n",
    "utils_.save_pickle(df_eval_y, '../../data/other/cs/train_eval_oot/df_y_eval_20230101_20230319.pickle')\n",
    "utils_.save_pickle(df_eval_X, '../../data/other/cs/train_eval_oot/df_X_eval_20230101_20230319.pickle')"
   ]
  },
  {
   "cell_type": "markdown",
   "id": "f4e5203a-f626-4575-b802-4cf9f137fea6",
   "metadata": {},
   "source": [
    "* 5物料，aa、bb、cc、dd、其他\n",
    "* hpyk特征，963 + 固定位80 + 货架页110 + cx卡45\n",
    "* 2023.01.01~2023.03.19"
   ]
  },
  {
   "cell_type": "code",
   "execution_count": null,
   "id": "e0dcd706-b0c0-4c98-a0cb-47fa0562244a",
   "metadata": {},
   "outputs": [],
   "source": [
    "df_train = utils_.load_pickle('../../data/other/cs/new_features/df_ohe_new_feats_train_20230101_20230319.pickle')\n",
    "print(df_train.shape)\n",
    "df_train.head()"
   ]
  },
  {
   "cell_type": "code",
   "execution_count": null,
   "id": "cd789003-f39a-4d48-a61b-8c6a564136a4",
   "metadata": {},
   "outputs": [],
   "source": [
    "# 划分训练集&验证集，9:1，90%\n",
    "df_train_train, df_train_eval = train_test_split(df_train, test_size=0.1, random_state=2023)\n",
    "print(df_train_train.shape)\n",
    "print(df_train_eval.shape)"
   ]
  },
  {
   "cell_type": "code",
   "execution_count": null,
   "id": "cec84aa1-e758-4fc0-9e5a-4c688aafbd05",
   "metadata": {},
   "outputs": [],
   "source": [
    "df_train_train_id = df_train_train[['uid', 'obs_dt', 'dt', 'item', 'item_id']]\n",
    "df_train_train_y = df_train_train[['label_apply', 'label_submit', 'label_pass', 'label_pass_1']]\n",
    "df_train_train_X = df_train_train[\n",
    "    ['item_id_{}'.format(x) for x in range(5)]\n",
    "    +utils_.load_pickle('../../data/other/cs/list_feats/list_feats_x_pi_fusion_20230101_20230319.pickle')\n",
    "    +utils_.load_pickle('../../data/other/cs/list_feats/list_feats_x_pi_aspiration_20230101_20230319.pickle')\n",
    "    +utils_.load_pickle('../../data/other/cs/new_features/list_feats/list_feats_x_std_ffcc_20230101_20230319.pickle')\n",
    "    +utils_.load_pickle('../../data/other/cs/new_features/list_feats/list_feats_x_fcscc_20230101_20230319.pickle')\n",
    "    +utils_.load_pickle('../../data/other/cs/new_features/list_feats/list_feats_x_dc_20230101_20230319.pickle')\n",
    "]\n",
    "print(df_train_train_id.shape)\n",
    "print(df_train_train_y.shape)\n",
    "print(df_train_train_X.shape)\n",
    "\n",
    "df_train_eval_id = df_train_eval[['uid', 'obs_dt', 'dt', 'item', 'item_id']]\n",
    "df_train_eval_y = df_train_eval[['label_apply', 'label_submit', 'label_pass', 'label_pass_1']]\n",
    "df_train_eval_X = df_train_eval[\n",
    "    ['item_id_{}'.format(x) for x in range(5)]\n",
    "    +utils_.load_pickle('../../data/other/cs/list_feats/list_feats_x_pi_fusion_20230101_20230319.pickle')\n",
    "    +utils_.load_pickle('../../data/other/cs/list_feats/list_feats_x_pi_aspiration_20230101_20230319.pickle')\n",
    "    +utils_.load_pickle('../../data/other/cs/new_features/list_feats/list_feats_x_std_ffcc_20230101_20230319.pickle')\n",
    "    +utils_.load_pickle('../../data/other/cs/new_features/list_feats/list_feats_x_fcscc_20230101_20230319.pickle')\n",
    "    +utils_.load_pickle('../../data/other/cs/new_features/list_feats/list_feats_x_dc_20230101_20230319.pickle')\n",
    "]\n",
    "print(df_train_eval_id.shape)\n",
    "print(df_train_eval_y.shape)\n",
    "print(df_train_eval_X.shape)"
   ]
  },
  {
   "cell_type": "code",
   "execution_count": null,
   "id": "cfd458ed-3843-4675-980e-39b6337d4d2d",
   "metadata": {},
   "outputs": [],
   "source": [
    "utils_.save_pickle(df_train_train_id, '../../data/other/cs/new_features/df_id_train_train_20230101_20230319.pickle')\n",
    "utils_.save_pickle(df_train_train_y, '../../data/other/cs/new_features/df_y_train_train_20230101_20230319.pickle')\n",
    "utils_.save_pickle(df_train_train_X, '../../data/other/cs/new_features/df_X_train_train_20230101_20230319.pickle')\n",
    "\n",
    "utils_.save_pickle(df_train_eval_id, '../../data/other/cs/new_features/df_id_train_eval_20230101_20230319.pickle')\n",
    "utils_.save_pickle(df_train_eval_y, '../../data/other/cs/new_features/df_y_train_eval_20230101_20230319.pickle')\n",
    "utils_.save_pickle(df_train_eval_X, '../../data/other/cs/new_features/df_X_train_eval_20230101_20230319.pickle')"
   ]
  },
  {
   "cell_type": "markdown",
   "id": "11f66704-5d88-4e9a-8d82-d4788b7facc0",
   "metadata": {},
   "source": [
    "* 5物料，aa、bb、cc、dd、其他\n",
    "* hpyk特征，963 + 新特征筛选，88\n",
    "* 2023.01.01~2023.03.19"
   ]
  },
  {
   "cell_type": "code",
   "execution_count": null,
   "id": "e2632ca2-1ec1-40b2-979e-c3e5ee3ba9ce",
   "metadata": {},
   "outputs": [],
   "source": [
    "df_train = utils_.load_pickle('../../data/other/cs/new_features/df_ohe_ffd_train_20230101_20230319.pickle')\n",
    "print(df_train.shape)\n",
    "df_train.head()"
   ]
  },
  {
   "cell_type": "code",
   "execution_count": null,
   "id": "56fb3608-57ed-482e-9b9a-8688501907d5",
   "metadata": {},
   "outputs": [],
   "source": [
    "# 划分训练集&验证集，9:1，90%\n",
    "df_train_train, df_train_eval = train_test_split(df_train, test_size=0.1, random_state=2023)\n",
    "print(df_train_train.shape)\n",
    "print(df_train_eval.shape)"
   ]
  },
  {
   "cell_type": "code",
   "execution_count": null,
   "id": "23e07bfb-caba-4d02-9953-1599ac420ccf",
   "metadata": {},
   "outputs": [],
   "source": [
    "df_train_train_id = df_train_train[['uid', 'obs_dt', 'dt', 'item', 'item_id']]\n",
    "df_train_train_y = df_train_train[['label_apply', 'label_submit', 'label_pass', 'label_pass_1']]\n",
    "df_train_train_X = df_train_train[\n",
    "    ['item_id_{}'.format(x) for x in range(5)]\n",
    "    +utils_.load_pickle('../../data/other/cs/list_feats/list_feats_x_pi_fusion_20230101_20230319.pickle')\n",
    "    +utils_.load_pickle('../../data/other/cs/list_feats/list_feats_x_pi_aspiration_20230101_20230319.pickle')\n",
    "    +utils_.load_pickle('../../data/other/cs/new_features/list_feats/list_feats_x_ht_ffd_20230101_20230319.pickle')\n",
    "]\n",
    "print(df_train_train_id.shape)\n",
    "print(df_train_train_y.shape)\n",
    "print(df_train_train_X.shape)\n",
    "\n",
    "df_train_eval_id = df_train_eval[['uid', 'obs_dt', 'dt', 'item', 'item_id']]\n",
    "df_train_eval_y = df_train_eval[['label_apply', 'label_submit', 'label_pass', 'label_pass_1']]\n",
    "df_train_eval_X = df_train_eval[\n",
    "    ['item_id_{}'.format(x) for x in range(5)]\n",
    "    +utils_.load_pickle('../../data/other/cs/list_feats/list_feats_x_pi_fusion_20230101_20230319.pickle')\n",
    "    +utils_.load_pickle('../../data/other/cs/list_feats/list_feats_x_pi_aspiration_20230101_20230319.pickle')\n",
    "    +utils_.load_pickle('../../data/other/cs/new_features/list_feats/list_feats_x_ht_ffd_20230101_20230319.pickle')\n",
    "]\n",
    "print(df_train_eval_id.shape)\n",
    "print(df_train_eval_y.shape)\n",
    "print(df_train_eval_X.shape)"
   ]
  },
  {
   "cell_type": "code",
   "execution_count": null,
   "id": "e3df1e70-b430-4daa-a3cf-3b6cbfc8ef41",
   "metadata": {},
   "outputs": [],
   "source": [
    "utils_.save_pickle(df_train_train_id, '../../data/other/cs/new_features/df_ffd_id_train_train_20230101_20230319.pickle')\n",
    "utils_.save_pickle(df_train_train_y, '../../data/other/cs/new_features/df_ffd_y_train_train_20230101_20230319.pickle')\n",
    "utils_.save_pickle(df_train_train_X, '../../data/other/cs/new_features/df_ffd_X_train_train_20230101_20230319.pickle')\n",
    "\n",
    "utils_.save_pickle(df_train_eval_id, '../../data/other/cs/new_features/df_ffd_id_train_eval_20230101_20230319.pickle')\n",
    "utils_.save_pickle(df_train_eval_y, '../../data/other/cs/new_features/df_ffd_y_train_eval_20230101_20230319.pickle')\n",
    "utils_.save_pickle(df_train_eval_X, '../../data/other/cs/new_features/df_ffd_X_train_eval_20230101_20230319.pickle')"
   ]
  },
  {
   "cell_type": "markdown",
   "id": "925e7863-3546-44c7-9d73-04f3da953e14",
   "metadata": {},
   "source": [
    "## 入参处理"
   ]
  },
  {
   "cell_type": "markdown",
   "id": "20526303-f459-4809-a84b-d3eb349a622a",
   "metadata": {},
   "source": [
    "* 训练集"
   ]
  },
  {
   "cell_type": "code",
   "execution_count": null,
   "id": "41bc319d-04f0-43e4-93f6-1e16c4575e05",
   "metadata": {},
   "outputs": [],
   "source": [
    "# df_train_train_id = utils_.load_pickle('../../data/other/cs/df_id_train_train_20230101_20230319.pickle')\n",
    "# df_train_train_y = utils_.load_pickle('../../data/other/cs/df_y_train_train_20230101_20230319.pickle')\n",
    "# df_train_train_X = utils_.load_pickle('../../data/other/cs/df_X_train_train_20230101_20230319.pickle')\n",
    "\n",
    "# df_train_train_id = utils_.load_pickle('../../data/other/cs/train_eval_oot/df_id_train_20230101_20230319.pickle')\n",
    "# df_train_train_y = utils_.load_pickle('../../data/other/cs/train_eval_oot/df_y_train_20230101_20230319.pickle')\n",
    "# df_train_train_X = utils_.load_pickle('../../data/other/cs/train_eval_oot/df_X_train_20230101_20230319.pickle')\n",
    "\n",
    "df_train_train_id = utils_.load_pickle('../../data/other/cs/new_features/df_ffd_id_train_train_20230101_20230319.pickle')\n",
    "df_train_train_y = utils_.load_pickle('../../data/other/cs/new_features/df_ffd_y_train_train_20230101_20230319.pickle')\n",
    "df_train_train_X = utils_.load_pickle('../../data/other/cs/new_features/df_ffd_X_train_train_20230101_20230319.pickle')\n",
    "\n",
    "print(df_train_train_id.shape)\n",
    "print(df_train_train_y.shape)\n",
    "print(df_train_train_X.shape)"
   ]
  },
  {
   "cell_type": "code",
   "execution_count": null,
   "id": "76329d7a-688a-4b4b-ae0d-4dd5b6d30bf3",
   "metadata": {},
   "outputs": [],
   "source": [
    "condition_feats = ['item_id_{}'.format(x) for x in range(5)]\n",
    "sparse_feats = [\n",
    "    'xxx', \n",
    "]\n",
    "sparse_feats_new = [\n",
    "    'xxx', \n",
    "]\n",
    "# sparse_feats = [x for x in df_train_train_X.columns if x in sparse_feats]\n",
    "sparse_feats = [x for x in df_train_train_X.columns if x in sparse_feats+sparse_feats_new]\n",
    "dense_feats = [x for x in df_train_train_X.columns if x not in condition_feats+sparse_feats]\n",
    "\n",
    "print(len(condition_feats))\n",
    "print(len(sparse_feats))\n",
    "print(len(dense_feats))"
   ]
  },
  {
   "cell_type": "code",
   "execution_count": null,
   "id": "b7370b45-5f06-40d7-80db-dc8865b52a69",
   "metadata": {
    "scrolled": true,
    "tags": []
   },
   "outputs": [],
   "source": [
    "for x in sparse_feats:\n",
    "    print('{}:{}'.format(x, df_train_train_X[x].nunique()))"
   ]
  },
  {
   "cell_type": "code",
   "execution_count": null,
   "id": "bc87f82b-89be-4b13-be00-879f31706695",
   "metadata": {
    "scrolled": true,
    "tags": []
   },
   "outputs": [],
   "source": [
    "sparse_feats = [x for x in sparse_feats if df_train_train_X[x].nunique()<=25 and x not in ['xxx']]\n",
    "print(len(sparse_feats))\n",
    "sparse_feats"
   ]
  },
  {
   "cell_type": "code",
   "execution_count": null,
   "id": "d4e3a092-0e1f-4bf9-a2a9-277a0793a52c",
   "metadata": {},
   "outputs": [],
   "source": [
    "dense_feats = [x for x in df_train_train_X.columns if x not in condition_feats+sparse_feats]\n",
    "print(len(dense_feats))"
   ]
  },
  {
   "cell_type": "code",
   "execution_count": null,
   "id": "0148a8c6-d90a-4d7a-86be-12ae1a2cd3f2",
   "metadata": {},
   "outputs": [],
   "source": [
    "# utils_.save_pickle(condition_feats, '../../data/other/cs/list_condition_feats.pickle')\n",
    "# utils_.save_pickle(sparse_feats, '../../data/other/cs/list_sparse_feats.pickle')\n",
    "# utils_.save_pickle(dense_feats, '../../data/other/cs/list_dense_feats.pickle')\n",
    "\n",
    "# utils_.save_pickle(condition_feats, '../../data/other/cs/train_eval_oot/list_condition_feats.pickle')\n",
    "# utils_.save_pickle(sparse_feats, '../../data/other/cs/train_eval_oot/list_sparse_feats.pickle')\n",
    "# utils_.save_pickle(dense_feats, '../../data/other/cs/train_eval_oot/list_dense_feats.pickle')\n",
    "\n",
    "utils_.save_pickle(condition_feats, '../../data/other/cs/new_features/list_condition_feats_ffd.pickle')\n",
    "utils_.save_pickle(sparse_feats, '../../data/other/cs/new_features/list_sparse_feats_ffd.pickle')\n",
    "utils_.save_pickle(dense_feats, '../../data/other/cs/new_features/list_dense_feats_ffd.pickle')"
   ]
  },
  {
   "cell_type": "code",
   "execution_count": null,
   "id": "7d52c9e8-2ad9-49d5-8c40-b0879b237c20",
   "metadata": {},
   "outputs": [],
   "source": [
    "# 连续\n",
    "ss = StandardScaler()\n",
    "X_train_train_dense_ss = ss.fit_transform(df_train_train_X[dense_feats])\n",
    "# joblib.dump(ss, '../../data/other/cs/ss.pickle')\n",
    "# joblib.dump(ss, '../../data/other/cs/train_eval_oot/ss.pickle')\n",
    "joblib.dump(ss, '../../data/other/cs/new_features/ss_ffd.pickle')"
   ]
  },
  {
   "cell_type": "code",
   "execution_count": null,
   "id": "313693fc-bf64-4354-aee6-cfe8408e32a6",
   "metadata": {},
   "outputs": [],
   "source": [
    "df_X_train_train_dense = pd.DataFrame(X_train_train_dense_ss, columns=dense_feats)\n",
    "print(df_X_train_train_dense.shape)\n",
    "df_X_train_train_dense.head()"
   ]
  },
  {
   "cell_type": "code",
   "execution_count": null,
   "id": "1254c55e-df2e-402a-a7d8-af7361d7ba24",
   "metadata": {},
   "outputs": [],
   "source": [
    "# 离散\n",
    "dict_lbe = {}\n",
    "list_X_train_train_sparse = []\n",
    "\n",
    "try:\n",
    "    with tqdm(sparse_feats) as t:\n",
    "        for x in t:\n",
    "            lbe = LabelEncoder()\n",
    "            df_X_sparse_each = pd.DataFrame(lbe.fit_transform(df_train_train_X[x]), columns=[x])\n",
    "            dict_lbe[x] = lbe\n",
    "            list_X_train_train_sparse.append(df_X_sparse_each)\n",
    "except KeyboardInterrupt:\n",
    "    t.close()\n",
    "    raise\n",
    "t.close()\n",
    "\n",
    "# joblib.dump(dict_lbe, '../../data/other/cs/dict_lbe.pickle')\n",
    "# joblib.dump(dict_lbe, '../../data/other/cs/train_eval_oot/dict_lbe.pickle')\n",
    "joblib.dump(dict_lbe, '../../data/other/cs/new_features/dict_lbe_ffd.pickle')\n",
    "df_X_train_train_sparse = pd.concat(list_X_train_train_sparse, axis=1)\n",
    "print(df_X_train_train_sparse.shape)\n",
    "df_X_train_train_sparse.head()"
   ]
  },
  {
   "cell_type": "code",
   "execution_count": null,
   "id": "15348da8-6bca-4677-b7d3-089d693451ed",
   "metadata": {},
   "outputs": [],
   "source": [
    "# 合并\n",
    "df_train_train_X_condition = df_train_train_X[condition_feats].reset_index(drop=True)\n",
    "df_train_train_X_transform = pd.concat([df_train_train_X_condition, df_X_train_train_sparse, df_X_train_train_dense], axis=1)\n",
    "print(df_train_train_X_transform.shape)\n",
    "df_train_train_X_transform.head()"
   ]
  },
  {
   "cell_type": "code",
   "execution_count": null,
   "id": "814d82b2-04a9-4b40-a4e5-95af479b9e65",
   "metadata": {},
   "outputs": [],
   "source": [
    "df_train_train_X.head()"
   ]
  },
  {
   "cell_type": "code",
   "execution_count": null,
   "id": "9d0e2ec9-d379-4b92-8569-769b783d0153",
   "metadata": {},
   "outputs": [],
   "source": [
    "# utils_.save_pickle(df_train_train_X_transform, '../../data/other/cs/df_X_train_train_transform.pickle')\n",
    "# utils_.save_pickle(df_train_train_X_transform, '../../data/other/cs/train_eval_oot/df_X_train_transform.pickle')\n",
    "utils_.save_pickle(df_train_train_X_transform, '../../data/other/cs/new_features/df_X_train_train_transform_ffd.pickle')"
   ]
  },
  {
   "cell_type": "markdown",
   "id": "efb2338e-604b-40c3-a1e1-354b555980b2",
   "metadata": {},
   "source": [
    "* 验证集"
   ]
  },
  {
   "cell_type": "code",
   "execution_count": null,
   "id": "691eb79b-46fe-4c6e-8e6e-b14e976b5695",
   "metadata": {},
   "outputs": [],
   "source": [
    "# df_train_eval_id = utils_.load_pickle('../../data/other/cs/df_id_train_eval_20230101_20230319.pickle')\n",
    "# df_train_eval_y = utils_.load_pickle('../../data/other/cs/df_y_train_eval_20230101_20230319.pickle')\n",
    "# df_train_eval_X = utils_.load_pickle('../../data/other/cs/df_X_train_eval_20230101_20230319.pickle')\n",
    "\n",
    "# df_train_eval_id = utils_.load_pickle('../../data/other/cs/train_eval_oot/df_id_eval_20230101_20230319.pickle')\n",
    "# df_train_eval_y = utils_.load_pickle('../../data/other/cs/train_eval_oot/df_y_eval_20230101_20230319.pickle')\n",
    "# df_train_eval_X = utils_.load_pickle('../../data/other/cs/train_eval_oot/df_X_eval_20230101_20230319.pickle')\n",
    "\n",
    "df_train_eval_id = utils_.load_pickle('../../data/other/cs/new_features/df_ffd_id_train_eval_20230101_20230319.pickle')\n",
    "df_train_eval_y = utils_.load_pickle('../../data/other/cs/new_features/df_ffd_y_train_eval_20230101_20230319.pickle')\n",
    "df_train_eval_X = utils_.load_pickle('../../data/other/cs/new_features/df_ffd_X_train_eval_20230101_20230319.pickle')\n",
    "\n",
    "print(df_train_eval_id.shape)\n",
    "print(df_train_eval_y.shape)\n",
    "print(df_train_eval_X.shape)"
   ]
  },
  {
   "cell_type": "code",
   "execution_count": null,
   "id": "41f79217-0475-443b-9a76-5416f694203a",
   "metadata": {},
   "outputs": [],
   "source": [
    "# condition_feats = utils_.load_pickle('../../data/other/cs/list_condition_feats.pickle')\n",
    "# sparse_feats = utils_.load_pickle('../../data/other/cs/list_sparse_feats.pickle')\n",
    "# dense_feats = utils_.load_pickle('../../data/other/cs/list_dense_feats.pickle')\n",
    "\n",
    "# condition_feats = utils_.load_pickle('../../data/other/cs/train_eval_oot/list_condition_feats.pickle')\n",
    "# sparse_feats = utils_.load_pickle('../../data/other/cs/train_eval_oot/list_sparse_feats.pickle')\n",
    "# dense_feats = utils_.load_pickle('../../data/other/cs/train_eval_oot/list_dense_feats.pickle')\n",
    "\n",
    "condition_feats = utils_.load_pickle('../../data/other/cs/new_features/list_condition_feats_ffd.pickle')\n",
    "sparse_feats = utils_.load_pickle('../../data/other/cs/new_features/list_sparse_feats_ffd.pickle')\n",
    "dense_feats = utils_.load_pickle('../../data/other/cs/new_features/list_dense_feats_ffd.pickle')\n",
    "\n",
    "print(len(condition_feats))\n",
    "print(len(sparse_feats))\n",
    "print(len(dense_feats))"
   ]
  },
  {
   "cell_type": "code",
   "execution_count": null,
   "id": "94e49c5b-57cd-4b00-ae9d-4939c724aef3",
   "metadata": {},
   "outputs": [],
   "source": [
    "# 连续\n",
    "# ss = joblib.load('../../data/other/cs/ss.pickle')\n",
    "# ss = joblib.load('../../data/other/cs/train_eval_oot/ss.pickle')\n",
    "ss = joblib.load('../../data/other/cs/new_features/ss_ffd.pickle')\n",
    "X_train_eval_dense_ss = ss.transform(df_train_eval_X[dense_feats])\n",
    "print(X_train_eval_dense_ss.shape)"
   ]
  },
  {
   "cell_type": "code",
   "execution_count": null,
   "id": "39069bd0-aae6-4e23-8455-9c54af045438",
   "metadata": {},
   "outputs": [],
   "source": [
    "df_X_train_eval_dense_ss = pd.DataFrame(X_train_eval_dense_ss, columns=dense_feats)\n",
    "print(df_X_train_eval_dense_ss.shape)\n",
    "df_X_train_eval_dense_ss.head()"
   ]
  },
  {
   "cell_type": "code",
   "execution_count": null,
   "id": "c04db3d6-a8cc-4aff-b89e-76a051f02636",
   "metadata": {
    "scrolled": true,
    "tags": []
   },
   "outputs": [],
   "source": [
    "# 离散\n",
    "# dict_lbe = joblib.load('../../data/other/cs/dict_lbe.pickle')\n",
    "# dict_lbe = joblib.load('../../data/other/cs/train_eval_oot/dict_lbe.pickle')\n",
    "dict_lbe = joblib.load('../../data/other/cs/new_features/dict_lbe_ffd.pickle')\n",
    "for x in sparse_feats:\n",
    "    print(x, dict_lbe[x].classes_)"
   ]
  },
  {
   "cell_type": "code",
   "execution_count": null,
   "id": "c07a6c1f-12d1-49fb-a792-9869e510209a",
   "metadata": {},
   "outputs": [],
   "source": [
    "list_X_sparse = []\n",
    "\n",
    "try:\n",
    "    with tqdm(sparse_feats) as t:\n",
    "        for x in t:\n",
    "            list_feat_values_unseen = list(set(df_train_eval_X[x].unique())-set(dict_lbe[x].classes_))\n",
    "            if len(list_feat_values_unseen) > 0:\n",
    "                print(x)\n",
    "                df_train_eval_X[x].replace(list_feat_values_unseen, -1, inplace=True)\n",
    "            df_train_eval_X_sparse_each = pd.DataFrame(dict_lbe[x].transform(df_train_eval_X[x]), columns=[x])\n",
    "            list_X_sparse.append(df_train_eval_X_sparse_each)\n",
    "except KeyboardInterrupt:\n",
    "    t.close()\n",
    "    raise\n",
    "t.close()\n",
    "\n",
    "df_X_train_eval_sparse = pd.concat(list_X_sparse, axis=1)\n",
    "print(df_X_train_eval_sparse.shape)\n",
    "df_X_train_eval_sparse.head()"
   ]
  },
  {
   "cell_type": "code",
   "execution_count": null,
   "id": "f625032f-0f5b-405a-aaed-f6307ae80871",
   "metadata": {},
   "outputs": [],
   "source": [
    "# 合并\n",
    "df_train_eval_X_condition = df_train_eval_X[condition_feats].reset_index(drop=True)\n",
    "df_train_eval_X_transform = pd.concat([df_train_eval_X_condition, df_X_train_eval_sparse, df_X_train_eval_dense_ss], axis=1)\n",
    "print(df_train_eval_X_transform.shape)\n",
    "df_train_eval_X_transform.head()"
   ]
  },
  {
   "cell_type": "code",
   "execution_count": null,
   "id": "29eaa5c9-78d6-4600-9723-d85e61f01ce7",
   "metadata": {},
   "outputs": [],
   "source": [
    "df_train_eval_X.head()"
   ]
  },
  {
   "cell_type": "code",
   "execution_count": null,
   "id": "1275ae0d-c598-47d5-a904-3684533d883e",
   "metadata": {},
   "outputs": [],
   "source": [
    "# utils_.save_pickle(df_train_eval_X_transform, '../../data/other/cs/df_X_train_eval_transform.pickle')\n",
    "# utils_.save_pickle(df_train_eval_X_transform, '../../data/other/cs/train_eval_oot/df_X_eval_transform.pickle')\n",
    "utils_.save_pickle(df_train_eval_X_transform, '../../data/other/cs/new_features/df_X_train_eval_transform_ffd.pickle')"
   ]
  },
  {
   "cell_type": "markdown",
   "id": "8e8ff9c0-35f0-489c-8e06-d34d90774eb2",
   "metadata": {},
   "source": [
    "## 模型"
   ]
  },
  {
   "cell_type": "code",
   "execution_count": null,
   "id": "f8c40051-138d-4b80-a585-186561450d74",
   "metadata": {},
   "outputs": [],
   "source": [
    "# df_X_train_train_transform = utils_.load_pickle('../../data/other/cs/df_X_train_train_transform.pickle')\n",
    "# df_X_train_train_transform = utils_.load_pickle('../../data/other/cs/train_eval_oot/df_X_train_transform.pickle')\n",
    "df_X_train_train_transform = utils_.load_pickle('../../data/other/cs/new_features/df_X_train_train_transform_ffd.pickle')\n",
    "print(df_X_train_train_transform.shape)\n",
    "df_X_train_train_transform.head()"
   ]
  },
  {
   "cell_type": "code",
   "execution_count": null,
   "id": "ce137251-1ab0-44fa-9090-f8299a66f1b4",
   "metadata": {},
   "outputs": [],
   "source": [
    "# condition_feats = utils_.load_pickle('../../data/other/cs/list_condition_feats.pickle')\n",
    "# sparse_feats = utils_.load_pickle('../../data/other/cs/list_sparse_feats.pickle')\n",
    "# dense_feats = utils_.load_pickle('../../data/other/cs/list_dense_feats.pickle')\n",
    "\n",
    "# condition_feats = utils_.load_pickle('../../data/other/cs/train_eval_oot/list_condition_feats.pickle')\n",
    "# sparse_feats = utils_.load_pickle('../../data/other/cs/train_eval_oot/list_sparse_feats.pickle')\n",
    "# dense_feats = utils_.load_pickle('../../data/other/cs/train_eval_oot/list_dense_feats.pickle')\n",
    "\n",
    "condition_feats = utils_.load_pickle('../../data/other/cs/new_features/list_condition_feats_ffd.pickle')\n",
    "sparse_feats = utils_.load_pickle('../../data/other/cs/new_features/list_sparse_feats_ffd.pickle')\n",
    "dense_feats = utils_.load_pickle('../../data/other/cs/new_features/list_dense_feats_ffd.pickle')\n",
    "\n",
    "print(len(condition_feats))\n",
    "print(len(sparse_feats))\n",
    "print(len(dense_feats))"
   ]
  },
  {
   "cell_type": "code",
   "execution_count": null,
   "id": "a529e2c2-3b40-49b8-a656-d5a00a89412b",
   "metadata": {
    "scrolled": true,
    "tags": []
   },
   "outputs": [],
   "source": [
    "feats_columns = [[util.denseFeature(feat) for feat in condition_feats]] + \\\n",
    "                 [[util.sparseFeature(x, int(df_X_train_train_transform[x].max()+1), 4) for x in sparse_feats]] + \\\n",
    "                 [[util.denseFeature(feat) for feat in dense_feats]]\n",
    "feats_columns"
   ]
  },
  {
   "cell_type": "code",
   "execution_count": null,
   "id": "3e505125-8fb1-48e7-a4e3-2a7914073033",
   "metadata": {},
   "outputs": [],
   "source": [
    "# utils_.save_pickle(feats_columns, '../../data/other/cs/feats_columns.pcikle')\n",
    "# utils_.save_pickle(feats_columns, '../../data/other/cs/train_eval_oot/feats_columns.pcikle')\n",
    "utils_.save_pickle(feats_columns, '../../data/other/cs/new_features/feats_columns_ffd.pcikle')"
   ]
  },
  {
   "cell_type": "code",
   "execution_count": null,
   "id": "0f3be93e-7a1e-4709-a297-fb1d8bf9ba9e",
   "metadata": {},
   "outputs": [],
   "source": [
    "# df_X_train_train_transform = utils_.load_pickle('../../data/other/cs/df_X_train_train_transform.pickle')\n",
    "# df_y_train_train = utils_.load_pickle('../../data/other/cs/df_y_train_train_20230101_20230319.pickle')\n",
    "\n",
    "# df_X_train_eval_transform = utils_.load_pickle('../../data/other/cs/df_X_train_eval_transform.pickle')\n",
    "# df_y_train_eval = utils_.load_pickle('../../data/other/cs/df_y_train_eval_20230101_20230319.pickle') \n",
    "\n",
    "# df_X_train_train_transform = utils_.load_pickle('../../data/other/cs/train_eval_oot/df_X_train_transform.pickle')\n",
    "# df_y_train_train = utils_.load_pickle('../../data/other/cs/train_eval_oot/df_y_train_20230101_20230319.pickle')\n",
    "\n",
    "# df_X_train_eval_transform = utils_.load_pickle('../../data/other/cs/train_eval_oot/df_X_eval_transform.pickle')\n",
    "# df_y_train_eval = utils_.load_pickle('../../data/other/cs/train_eval_oot/df_y_eval_20230101_20230319.pickle') \n",
    "\n",
    "df_X_train_train_transform = utils_.load_pickle('../../data/other/cs/new_features/df_X_train_train_transform_ffd.pickle')\n",
    "df_y_train_train = utils_.load_pickle('../../data/other/cs/new_features/df_ffd_y_train_train_20230101_20230319.pickle')\n",
    "\n",
    "df_X_train_eval_transform = utils_.load_pickle('../../data/other/cs/new_features/df_X_train_eval_transform_ffd.pickle')\n",
    "df_y_train_eval = utils_.load_pickle('../../data/other/cs/new_features/df_ffd_y_train_eval_20230101_20230319.pickle') \n",
    "\n",
    "print(df_X_train_train_transform.shape)\n",
    "print(df_y_train_train.shape)\n",
    "\n",
    "print(df_X_train_eval_transform.shape)\n",
    "print(df_y_train_eval.shape)"
   ]
  },
  {
   "cell_type": "code",
   "execution_count": null,
   "id": "3a4cd225-4745-426f-915f-908efec134ed",
   "metadata": {},
   "outputs": [],
   "source": [
    "device = torch.device('cuda:0' if torch.cuda.is_available() else 'cpu')\n",
    "logger = util.get_logger('')\n",
    "util.seed_everything(2023)"
   ]
  },
  {
   "cell_type": "code",
   "execution_count": null,
   "id": "402ca284-dd7c-4c3c-b08a-d6d238a12eed",
   "metadata": {},
   "outputs": [],
   "source": [
    "train_loader = DataLoader(DatasetLoader(df_X_train_train_transform.values, df_y_train_train.values), 1024, shuffle=True, num_workers=8)\n",
    "# train_loader = DataLoader(DatasetLoader(df_X_train_train_transform.values, df_y_train_train.values), 512, shuffle=True, num_workers=8)\n",
    "# train_loader = DataLoader(DatasetLoader(df_X_train_train_transform.values, df_y_train_train.values), 4096, shuffle=True, num_workers=8)\n",
    "\n",
    "eval_loader = DataLoader(DatasetLoader(df_X_train_eval_transform.values, df_y_train_eval.values), 1024, shuffle=False, num_workers=8)"
   ]
  },
  {
   "cell_type": "code",
   "execution_count": null,
   "id": "1bb04318-7b32-4fbb-b039-e2e5317a46e9",
   "metadata": {
    "scrolled": true,
    "tags": []
   },
   "outputs": [],
   "source": [
    "config = {\n",
    "    'Model': {\n",
    "        'num_experts': 5, \n",
    "        'expert_hidden_units': [1024, 512, 256], \n",
    "        'units': 128, \n",
    "        'num_tasks': 4, \n",
    "        'tower_hidden_units': [128, 64], \n",
    "        'tower_units': 32, \n",
    "        'dropout': 0.2, \n",
    "        'use_bn': False\n",
    "    }\n",
    "}\n",
    "\n",
    "# feats_columns = utils_.load_pickle('../../data/other/cs/feats_columns.pcikle')\n",
    "# feats_columns = utils_.load_pickle('../../data/other/cs/train_eval_oot/feats_columns.pcikle')\n",
    "feats_columns = utils_.load_pickle('../../data/other/cs/new_features/feats_columns_ffd.pcikle')\n",
    "\n",
    "model = AITM(config, feats_columns).to(device)\n",
    "model"
   ]
  },
  {
   "cell_type": "code",
   "execution_count": null,
   "id": "5feb168d-0422-4fe7-a394-d114868df51d",
   "metadata": {},
   "outputs": [],
   "source": [
    "for m in model.modules():\n",
    "    if isinstance(m, (torch.nn.Conv2d, torch.nn.Linear)):\n",
    "        torch.nn.init.xavier_uniform_(m.weight)\n",
    "        # nn.init.kaiming_uniform_(m.weight)\n",
    "    elif isinstance(m, torch.nn.BatchNorm1d):\n",
    "        torch.nn.init.constant_(m.weight, 1)\n",
    "        torch.nn.init.constant_(m.bias, 0)"
   ]
  },
  {
   "cell_type": "code",
   "execution_count": null,
   "id": "05fed973-653d-412a-9e9e-00728ae5ea07",
   "metadata": {},
   "outputs": [],
   "source": [
    "def train(train_loader, eval_loader, model, optimizer, scheduler, criterion, epochs, data_eval, file):\n",
    "    for epoch in range(epochs):\n",
    "        model.train()\n",
    "        \n",
    "        for i, (x, y) in enumerate(train_loader):\n",
    "            x, y = x.to(device).to(torch.float32), y.to(device).to(torch.float32)\n",
    "            optimizer.zero_grad()\n",
    "            output = model(x)\n",
    "            list_loss = model.loss(output, y)[0]\n",
    "            # list_loss = [criterion[j](output[:, j], y[:, j]) for j in range(len(criterion))]\n",
    "            # list_loss = [criterion[j](output[:, j], y[:, j]) for j in range(len(criterion)-2)] + \\\n",
    "            #     [10*criterion[-2](output[:, -2], y[:, -2]), 10*criterion[-1](output[:, -1], y[:, -1])]\n",
    "            loss = reduce(lambda x, y: x+y, list_loss)\n",
    "            loss.backward()\n",
    "            \n",
    "            optimizer.step()\n",
    "            if i % 100 == 0:\n",
    "                str_loss = ', '.join(['loss{}: {:.6f}'.format(j, x.item()) for j, x in enumerate(list_loss)]) + ', loss: {:.6f}'.format(loss.item())\n",
    "                logger.info('Epoch: [{}/{}], Step: [{}/{}], Lr: {:.6f}, '.format(\n",
    "                    epoch+1, epochs, i+1, len(train_loader), optimizer.param_groups[0]['lr'])+str_loss)\n",
    "        \n",
    "        val(eval_loader, model, criterion, data_eval, file)\n",
    "        \n",
    "        scheduler.step()"
   ]
  },
  {
   "cell_type": "code",
   "execution_count": null,
   "id": "7aeee586-4769-42dd-8774-a49f9136f376",
   "metadata": {},
   "outputs": [],
   "source": [
    "def val(eval_loader, model, criterion, data_eval, file):\n",
    "    model.eval()\n",
    "    \n",
    "    global best_loss\n",
    "    global best_auc\n",
    "    y_true = data_eval[1]\n",
    "    num_class = y_true.shape[1]\n",
    "    \n",
    "    eval_loss = 0\n",
    "    list_eval_loss = [0] * num_class\n",
    "    y_pred = []\n",
    "    \n",
    "    with torch.no_grad():\n",
    "        for i, (x, y) in enumerate(eval_loader):\n",
    "            x, y = x.to(device).to(torch.float32), y.to(device).to(torch.float32)\n",
    "            output = model(x)\n",
    "            list_eval_loss = [x+criterion[j](output[:, j], y[:, j]).item() for j, x in enumerate(list_eval_loss)]\n",
    "            eval_loss = sum(list_eval_loss)\n",
    "            \n",
    "            output1 = torch.sigmoid(output)\n",
    "            if i == 0:\n",
    "                y_pred = output1.cpu().numpy()\n",
    "            else:\n",
    "                y_pred = np.concatenate((y_pred, output1.cpu().numpy()), axis=0)\n",
    "    \n",
    "    list_eval_loss = [x/len(eval_loader) for x in list_eval_loss]\n",
    "    eval_loss /= len(eval_loader)\n",
    "    \n",
    "    eval_auc = [util.auc(y_true[:, i], y_pred[:, i]) for i in range(num_class)]\n",
    "    str_auc = ', '.join(['AUC{}: {:.6f}'.format(i, eval_auc[i]) for i in range(num_class)])\n",
    "    str_loss = 'Eval set: Average loss: {:.6f}, '.format(eval_loss) + ', '.join(['Average loss{}: {:.6f}'.format(j, x) for j, x in enumerate(list_eval_loss)])\n",
    "    \n",
    "    logger.info('{}, {}'.format(str_loss, str_auc))\n",
    "    \n",
    "    if list_eval_loss[-1] < best_loss: # 只关注链路尾部输出\n",
    "        best_loss = list_eval_loss[-1]\n",
    "        torch.save(model.state_dict(), './save/{}.pth'.format(file))\n",
    "        model1 = torch.jit.script(model)\n",
    "        torch.jit.save(model1, './save/{}.pt'.format(file))\n",
    "        logger.info('Save model with loss: {:.6f}, {}'.format(best_loss, str_auc))"
   ]
  },
  {
   "cell_type": "markdown",
   "id": "b8984c96-651f-46c3-8f73-45965ddb3a30",
   "metadata": {},
   "source": [
    "* 训练"
   ]
  },
  {
   "cell_type": "code",
   "execution_count": null,
   "id": "e1e0f2a3-2489-4daf-8f62-6b4ab7abd0a7",
   "metadata": {
    "scrolled": true,
    "tags": []
   },
   "outputs": [],
   "source": [
    "criterion = (torch.nn.BCEWithLogitsLoss().to(device), torch.nn.BCEWithLogitsLoss().to(device), torch.nn.BCEWithLogitsLoss().to(device), torch.nn.BCEWithLogitsLoss().to(device))\n",
    "optimizer = torch.optim.Adam(model.parameters(), lr=0.001)\n",
    "scheduler = torch.optim.lr_scheduler.MultiStepLR(optimizer, milestones=[10, 20, 50], gamma=0.1)\n",
    "# optimizer = torch.optim.Adam(model.parameters(), lr=0.001)\n",
    "# scheduler_ms = torch.optim.lr_scheduler.MultiStepLR(optimizer, milestones=[4, 14, 24, 44], gamma=0.1)\n",
    "# scheduler_wu = GradualWarmupScheduler(optimizer, multiplier=1, total_epoch=5, after_scheduler=scheduler_ms)\n",
    "\n",
    "best_loss = np.inf\n",
    "best_auc = 0\n",
    "\n",
    "# train(train_loader, eval_loader, model, optimizer, scheduler, criterion, 100, (df_X_train_eval_transform.values, df_y_train_eval.values), 'aitm_condition')\n",
    "train(train_loader, eval_loader, model, optimizer, scheduler, criterion, 100, (df_X_train_eval_transform.values, df_y_train_eval.values), 'aitm_condition_d')"
   ]
  },
  {
   "cell_type": "code",
   "execution_count": null,
   "id": "4bde718b-8b4c-4dec-b9eb-a7a78421d4f5",
   "metadata": {},
   "outputs": [],
   "source": [
    "def test(test_loader, model, criterion, data_eval):\n",
    "    model.eval()\n",
    "    \n",
    "    y_true = data_eval[1]\n",
    "    num_class = y_true.shape[1]\n",
    "    \n",
    "    eval_loss = 0\n",
    "    list_eval_loss = [0] * num_class\n",
    "    y_pred = []\n",
    "    \n",
    "    with torch.no_grad():\n",
    "        for i, (x, y) in enumerate(test_loader):\n",
    "            x, y = x.to(device).to(torch.float32), y.to(device).to(torch.float32)\n",
    "            output = model(x)\n",
    "            list_eval_loss = [x+criterion[j](output[:, j], y[:, j]).item() for j, x in enumerate(list_eval_loss)]\n",
    "            eval_loss = sum(list_eval_loss)\n",
    "            \n",
    "            output1 = torch.sigmoid(output)\n",
    "            if i == 0:\n",
    "                y_pred = output1.cpu().numpy()\n",
    "            else:\n",
    "                y_pred = np.concatenate((y_pred, output1.cpu().numpy()), axis=0)\n",
    "    \n",
    "    list_eval_loss = [x/len(test_loader) for x in list_eval_loss]\n",
    "    eval_loss /= len(test_loader)\n",
    "    \n",
    "    eval_auc = [util.auc(y_true[:, i], y_pred[:, i]) for i in range(num_class)]\n",
    "    str_auc = ', '.join(['AUC{}: {:.6f}'.format(i, eval_auc[i]) for i in range(num_class)])\n",
    "    str_loss = 'Test set: Average loss: {:.6f}, '.format(eval_loss) + ', '.join(['Average loss{}: {:.6f}'.format(j, x) for j, x in enumerate(list_eval_loss)])\n",
    "    \n",
    "    print('{}, {}'.format(str_loss, str_auc))\n",
    "    return y_pred"
   ]
  },
  {
   "cell_type": "code",
   "execution_count": null,
   "id": "d45b24df-6a22-4ec4-b728-35b4bdac3381",
   "metadata": {
    "scrolled": true,
    "tags": []
   },
   "outputs": [],
   "source": [
    "device = torch.device('cuda:0' if torch.cuda.is_available() else 'cpu')\n",
    "util.seed_everything(2023)\n",
    "\n",
    "config = {\n",
    "    'Model': {\n",
    "        'num_experts': 5, \n",
    "        'expert_hidden_units': [256, 128], \n",
    "        'units': 64, \n",
    "        'num_tasks': 4, \n",
    "        'tower_hidden_units': [64, 32], \n",
    "        'dropout': 0.2, \n",
    "        'use_bn': False\n",
    "    }\n",
    "}\n",
    "# feats_columns = utils_.load_pickle('../../data/other/cs/feats_columns.pcikle')\n",
    "feats_columns = utils_.load_pickle('../../data/other/cs/train_eval_oot/feats_columns.pcikle')\n",
    "\n",
    "model_rebuild = MMOE(config, feats_columns).to(device)\n",
    "# model_rebuild.load_state_dict(torch.load('save/mmoe_condition.pth'))\n",
    "model_rebuild.load_state_dict(torch.load('save/mmoe_condition_train_eval_oot.pth'))\n",
    "model_rebuild"
   ]
  },
  {
   "cell_type": "code",
   "execution_count": null,
   "id": "fec8ddcf-2d42-4a09-8654-2006b98e3aea",
   "metadata": {},
   "outputs": [],
   "source": [
    "# X_eval = utils_.load_pickle('../../data/other/cs/df_X_train_eval_transform.pickle')\n",
    "# y_eval = utils_.load_pickle('../../data/other/cs/df_y_train_eval_20230101_20230319.pickle')\n",
    "X_eval = utils_.load_pickle('../../data/other/cs/train_eval_oot/df_X_eval_transform.pickle')\n",
    "y_eval = utils_.load_pickle('../../data/other/cs/train_eval_oot/df_y_eval_20230101_20230319.pickle')\n",
    "\n",
    "print(X_eval.shape)\n",
    "print(y_eval.shape)\n",
    "\n",
    "test_loader = DataLoader(DatasetLoader(X_eval.values, y_eval.values), 1024, shuffle=False, num_workers=8)\n",
    "\n",
    "criterion = (torch.nn.BCEWithLogitsLoss().to(device), torch.nn.BCEWithLogitsLoss().to(device), torch.nn.BCEWithLogitsLoss().to(device), torch.nn.BCEWithLogitsLoss().to(device))\n",
    "\n",
    "y_pred = test(test_loader, model_rebuild, criterion, (X_eval.values, y_eval.values))"
   ]
  },
  {
   "cell_type": "raw",
   "id": "464225b7-3e1a-4be2-9710-7f73066cb167",
   "metadata": {},
   "source": []
  },
  {
   "cell_type": "code",
   "execution_count": null,
   "id": "1d7dc78a-9871-40fd-a036-bf62fe3d7790",
   "metadata": {},
   "outputs": [],
   "source": [
    "df_y = pd.concat([y_eval.reset_index(drop=True), pd.DataFrame(data=y_pred, columns=['pred_'+x for x in y_eval.columns])], axis=1)\n",
    "print(df_y.shape)\n",
    "df_y.head()"
   ]
  },
  {
   "cell_type": "code",
   "execution_count": null,
   "id": "75337409-6fba-4051-a60e-f3c1e7e0b039",
   "metadata": {},
   "outputs": [],
   "source": [
    "def cal_recall(df_y, y_true, y_pred, threshold=0.3):\n",
    "    df_y_sort = df_y.copy()\n",
    "    df_y_sort.sort_values(by=y_pred, ascending=False, inplace=True)\n",
    "    df_y_sort.reset_index(drop=True, inplace=True)\n",
    "    \n",
    "    df_y_sort['label_recall'] = 0\n",
    "    df_y_sort.loc[:int(df_y_sort.shape[0]*threshold), 'label_recall'] = 1\n",
    "    \n",
    "    dict_cr = classification_report(df_y_sort[y_true], df_y_sort['label_recall'], output_dict=True)\n",
    "    \n",
    "    return dict_cr['1.0']['recall']"
   ]
  },
  {
   "cell_type": "code",
   "execution_count": null,
   "id": "0c4c521f-0164-497e-b34f-f24f3c2c6d2a",
   "metadata": {
    "tags": []
   },
   "outputs": [],
   "source": [
    "try:\n",
    "    with tqdm(y_eval.columns) as t:\n",
    "        for x in t:\n",
    "            print('{}: {}'.format(x, cal_recall(df_y[[x, 'pred_'+x]], x, 'pred_'+x, threshold=0.2)))\n",
    "except KeyboardInterrupt:\n",
    "    t.close()\n",
    "    raise\n",
    "t.close()"
   ]
  },
  {
   "cell_type": "raw",
   "id": "e49c83fc-96b8-42f1-9775-7e21bd86f45f",
   "metadata": {},
   "source": []
  },
  {
   "cell_type": "code",
   "execution_count": null,
   "id": "f8441675-330d-4c98-bf7a-30499abd43f9",
   "metadata": {},
   "outputs": [],
   "source": [
    "df_id_train_eval = utils_.load_pickle('../../data/other/cs/df_id_train_eval_20230101_20230319.pickle')\n",
    "\n",
    "print(df_id_train_eval.shape)\n",
    "df_id_train_eval.head()"
   ]
  },
  {
   "cell_type": "code",
   "execution_count": null,
   "id": "46aa5585-37cb-419c-b603-c818b0c150c8",
   "metadata": {},
   "outputs": [],
   "source": [
    "df_id_train_eval_ = df_id_train_eval.reset_index(drop=True)\n",
    "df_id_train_eval_.head()"
   ]
  },
  {
   "cell_type": "code",
   "execution_count": null,
   "id": "dda7c092-a680-48ea-8daf-a9cd704ce38f",
   "metadata": {
    "scrolled": true,
    "tags": []
   },
   "outputs": [],
   "source": [
    "recall_p = 20\n",
    "\n",
    "try:\n",
    "    with tqdm([0, 1, 2, 3, 4]) as t:\n",
    "        for item_id in t:\n",
    "            index_item = df_id_train_eval_[df_id_train_eval_['item_id']==item_id].index\n",
    "            df_y_item = df_y.loc[index_item, :]\n",
    "            print(df_y_item.shape[0])\n",
    "            for x in y_eval.columns:\n",
    "                print('item_id:{bi}, label:{l}, AUC:{ras}, Recall@{p}%:{cr}'.format(\n",
    "                    bi=item_id, \n",
    "                    l=x, \n",
    "                    ras=roc_auc_score(df_y_item[x], df_y_item['pred_'+x]), \n",
    "                    p=recall_p, \n",
    "                    cr=cal_recall(df_y_item, x, 'pred_'+x, threshold=recall_p*0.01)))\n",
    "except:\n",
    "    t.close()\n",
    "    raise\n",
    "t.close()"
   ]
  },
  {
   "cell_type": "raw",
   "id": "c3412c77-c4c1-4b44-9565-6d968ef2b5ed",
   "metadata": {},
   "source": []
  },
  {
   "cell_type": "markdown",
   "id": "14b2fe39-1ee1-41fb-b6e3-966fd44f2376",
   "metadata": {},
   "source": [
    "* 测试"
   ]
  },
  {
   "cell_type": "code",
   "execution_count": null,
   "id": "9fa548ad-13be-4c33-8190-9a1bb01137d0",
   "metadata": {},
   "outputs": [],
   "source": [
    "df_fusion = pd.read_csv('../../data/other/cs/sample_label_feature_fusion_test_20230101_20230319.txt', sep='\\t', encoding='utf-8')\n",
    "df_aspiration_part1 = pd.read_csv('../../data/other/cs/sample_label_feature_aspiration_part1_test_20230101_20230319.txt', sep='\\t', encoding='utf-8')\n",
    "df_aspiration_part2 = pd.read_csv('../../data/other/cs/sample_label_feature_aspiration_part2_test_20230101_20230319.txt', sep='\\t', encoding='utf-8')\n",
    "\n",
    "print(df_fusion.shape)\n",
    "print(df_aspiration_part1.shape)\n",
    "print(df_aspiration_part2.shape)"
   ]
  },
  {
   "cell_type": "code",
   "execution_count": null,
   "id": "289b25d0-2541-4095-af96-b6306660f64b",
   "metadata": {},
   "outputs": [],
   "source": [
    "list_feats_fusion = utils_.load_pickle('../../data/other/cs/list_feats/list_feats_x_pi_fusion_20230101_20230319.pickle')\n",
    "list_feats_aspiration = utils_.load_pickle('../../data/other/cs/list_feats/list_feats_x_pi_aspiration_20230101_20230319.pickle')\n",
    "\n",
    "print(len(list_feats_fusion))\n",
    "print(len(list_feats_aspiration))"
   ]
  },
  {
   "cell_type": "code",
   "execution_count": null,
   "id": "765511cb-30de-4ef1-a1d2-27638d85da48",
   "metadata": {},
   "outputs": [],
   "source": [
    "list_feats_aspiration_part_1 = utils_.load_pickle('../../data/other/cs/list_feats/list_feats_x_aspiration_part1_20230101_20230319.pickle')\n",
    "list_feats_aspiration_part_2 = utils_.load_pickle('../../data/other/cs/list_feats/list_feats_x_aspiration_part2_20230101_20230319.pickle')\n",
    "\n",
    "print(len(list_feats_aspiration_part_1))\n",
    "print(len(list_feats_aspiration_part_2))"
   ]
  },
  {
   "cell_type": "code",
   "execution_count": null,
   "id": "61171190-70f6-473a-8b76-f0f4e99cfe73",
   "metadata": {},
   "outputs": [],
   "source": [
    "list_feats_aspiration_part_1 = [x for x in list_feats_aspiration_part_1 if x in list_feats_aspiration]\n",
    "list_feats_aspiration_part_2 = [x for x in list_feats_aspiration_part_2 if x in list_feats_aspiration]\n",
    "\n",
    "print(len(list_feats_aspiration_part_1))\n",
    "print(len(list_feats_aspiration_part_2))"
   ]
  },
  {
   "cell_type": "code",
   "execution_count": null,
   "id": "22e866a5-5a6a-4bb9-ab80-4825e2b0bfaa",
   "metadata": {},
   "outputs": [],
   "source": [
    "df_fusion['obs_dt'] = pd.to_datetime(df_fusion['obs_dt'])\n",
    "df_fusion['dt'] = pd.to_datetime(df_fusion['dt'])\n",
    "df_aspiration_part1['obs_dt'] = pd.to_datetime(df_aspiration_part1['obs_dt'])\n",
    "df_aspiration_part1['dt'] = pd.to_datetime(df_aspiration_part1['dt'])\n",
    "df_aspiration_part2['obs_dt'] = pd.to_datetime(df_aspiration_part2['obs_dt'])\n",
    "df_aspiration_part2['dt'] = pd.to_datetime(df_aspiration_part2['dt'])\n",
    "\n",
    "df = df_fusion[['uid', 'obs_dt', 'dt', 'item', 'label_apply', 'label_submit', 'label_pass', 'label_pass_1']+list_feats_fusion].\\\n",
    "    merge(df_aspiration_part1[['uid', 'obs_dt', 'dt', 'item', 'label_apply', 'label_submit', 'label_pass', 'label_pass_1']+list_feats_aspiration_part_1], \n",
    "          on=['uid', 'obs_dt', 'dt', 'item', 'label_apply', 'label_submit', 'label_pass', 'label_pass_1'], how='left').\\\n",
    "    merge(df_aspiration_part2[['uid', 'obs_dt', 'dt', 'item', 'label_apply', 'label_submit', 'label_pass', 'label_pass_1']+list_feats_aspiration_part_2], \n",
    "          on=['uid', 'obs_dt', 'dt', 'item', 'label_apply', 'label_submit', 'label_pass', 'label_pass_1'], how='left')\n",
    "print(df.shape)\n",
    "df.head()"
   ]
  },
  {
   "cell_type": "code",
   "execution_count": null,
   "id": "5d47f3de-a922-4b51-9862-2a60e8cf1ff9",
   "metadata": {},
   "outputs": [],
   "source": [
    "df_des = utils_.df_des(df)\n",
    "df_des.to_csv('../../data/other/cs/df_des_test_20230101_20230319.csv', encoding='utf-8')"
   ]
  },
  {
   "cell_type": "code",
   "execution_count": null,
   "id": "0003a4a3-9a96-4d9b-ad43-539869d01488",
   "metadata": {
    "scrolled": true,
    "tags": []
   },
   "outputs": [],
   "source": [
    "df[['obs_dt', 'dt', 'uid']].groupby(by=['obs_dt', 'dt']).count()"
   ]
  },
  {
   "cell_type": "code",
   "execution_count": null,
   "id": "e8d66308-8047-452e-a7c9-a61d877d0094",
   "metadata": {},
   "outputs": [],
   "source": [
    "df['item'].value_counts()"
   ]
  },
  {
   "cell_type": "code",
   "execution_count": null,
   "id": "99574ad6-7d84-4380-8f52-8d9badcf3094",
   "metadata": {
    "tags": []
   },
   "outputs": [],
   "source": [
    "df[['item', 'label_apply', 'uid']].groupby(by=['item', 'label_apply']).count()"
   ]
  },
  {
   "cell_type": "code",
   "execution_count": null,
   "id": "9c5fc899-7fa8-4e7b-b099-fa9dc4a661e4",
   "metadata": {},
   "outputs": [],
   "source": [
    "df['label_apply'].value_counts()"
   ]
  },
  {
   "cell_type": "code",
   "execution_count": null,
   "id": "7bd6b8f6-ce94-4e54-acab-7ad221b6c3a6",
   "metadata": {},
   "outputs": [],
   "source": [
    "df[['item', 'label_submit', 'uid']].groupby(by=['item', 'label_submit']).count()"
   ]
  },
  {
   "cell_type": "code",
   "execution_count": null,
   "id": "09c4b7d8-9bf7-4c5a-969b-52aa7bc2b871",
   "metadata": {},
   "outputs": [],
   "source": [
    "df['label_submit'].value_counts()"
   ]
  },
  {
   "cell_type": "code",
   "execution_count": null,
   "id": "423bf21c-1276-4f42-ae4a-004e0ca20c5a",
   "metadata": {},
   "outputs": [],
   "source": [
    "df[['item', 'label_pass', 'uid']].groupby(by=['item', 'label_pass']).count()"
   ]
  },
  {
   "cell_type": "code",
   "execution_count": null,
   "id": "e3e6384b-2eb3-44e4-b182-c33a496197d4",
   "metadata": {},
   "outputs": [],
   "source": [
    "df['label_pass'].value_counts()"
   ]
  },
  {
   "cell_type": "code",
   "execution_count": null,
   "id": "ae2cff6a-e132-4d38-806b-16ccd03a3619",
   "metadata": {},
   "outputs": [],
   "source": [
    "df[['item', 'label_pass_1', 'uid']].groupby(by=['item', 'label_pass_1']).count()"
   ]
  },
  {
   "cell_type": "code",
   "execution_count": null,
   "id": "6343b47c-dd87-4010-a031-8adcfb76fffa",
   "metadata": {},
   "outputs": [],
   "source": [
    "df['label_pass_1'].value_counts()"
   ]
  },
  {
   "cell_type": "code",
   "execution_count": null,
   "id": "2557686e-e115-4c05-9337-2e8c5f8bafa5",
   "metadata": {},
   "outputs": [],
   "source": [
    "df['item_id'] = df['item'].apply(lambda x: 0 if x=='aaa' \n",
    "                                             else 1 if x=='bbb' \n",
    "                                             else 2 if x=='ccc' \n",
    "                                             else 3 if x=='ddd' \n",
    "                                             else 4)\n",
    "df.head()"
   ]
  },
  {
   "cell_type": "code",
   "execution_count": null,
   "id": "aeeab7a0-7082-4a04-a827-c13c491e14f3",
   "metadata": {},
   "outputs": [],
   "source": [
    "# 物料特征处理\n",
    "# one hot encoding\n",
    "list_feats_ohe = ['item_id']\n",
    "list_df_ohe = []\n",
    "try:\n",
    "    with tqdm(list_feats_ohe) as t:\n",
    "        for feat in t:\n",
    "            df_ohe_feat = utils_.one_hot_encoder(df, feat)\n",
    "            list_df_ohe.append(df_ohe_feat)\n",
    "except KeyboardInterrupt:\n",
    "    t.close()\n",
    "    raise\n",
    "t.close()\n",
    "\n",
    "df_ohe_part = pd.concat(list_df_ohe, axis=1)\n",
    "print(df_ohe_part.shape)\n",
    "df_ohe_part.head()"
   ]
  },
  {
   "cell_type": "code",
   "execution_count": null,
   "id": "bd4eacc3-a5bb-4bb5-8bb1-c6ba50069d74",
   "metadata": {},
   "outputs": [],
   "source": [
    "df_ohe = pd.concat([df, df_ohe_part], axis=1)\n",
    "print(df_ohe.shape)\n",
    "df_ohe.head()"
   ]
  },
  {
   "cell_type": "code",
   "execution_count": null,
   "id": "c78e0bfa-9760-4812-aa43-478637836986",
   "metadata": {},
   "outputs": [],
   "source": [
    "utils_.save_pickle(df_ohe, '../../data/other/cs/df_ohe_test_20230101_20230319.pickle')"
   ]
  },
  {
   "cell_type": "code",
   "execution_count": null,
   "id": "8806ff92-44a2-4723-ad56-a480b656f941",
   "metadata": {},
   "outputs": [],
   "source": [
    "df_ohe = utils_.load_pickle('../../data/other/cs/df_ohe_test_20230101_20230319.pickle')\n",
    "print(df_ohe.shape)\n",
    "df_ohe.head()"
   ]
  },
  {
   "cell_type": "code",
   "execution_count": null,
   "id": "bea42a3a-2d0e-4d9a-8c80-c141ff57777f",
   "metadata": {},
   "outputs": [],
   "source": [
    "df_ffcc = pd.read_csv('../../data/other/cs/sample_label_feature_flow_fixation_xxx_card_test_20230101_20230319.txt', sep='\\t', encoding='utf-8')\n",
    "print(df_ffcc.shape)\n",
    "df_ffcc.head()"
   ]
  },
  {
   "cell_type": "code",
   "execution_count": null,
   "id": "e711ec7e-ae52-44fc-9635-70c31ac73387",
   "metadata": {},
   "outputs": [],
   "source": [
    "df_fcscc = pd.read_csv('../../data/other/cs/sample_label_feature_flow_cs_xxx_card_test_20230101_20230319.txt', sep='\\t', encoding='utf-8')\n",
    "print(df_fcscc.shape)\n",
    "df_fcscc.head()"
   ]
  },
  {
   "cell_type": "code",
   "execution_count": null,
   "id": "af27c730-a470-4f7b-b80b-e1dc36611a31",
   "metadata": {},
   "outputs": [],
   "source": [
    "df_dc = pd.read_csv('../../data/other/cs/sample_label_feature_xxx_card_test_20230101_20230319.txt', sep='\\t', encoding='utf-8')\n",
    "print(df_dc.shape)\n",
    "df_dc.head()"
   ]
  },
  {
   "cell_type": "code",
   "execution_count": null,
   "id": "544e99f6-9029-423a-b38b-7f80907852e1",
   "metadata": {},
   "outputs": [],
   "source": [
    "list_feats_x_ffd = utils_.load_pickle('../../data/other/cs/new_features/list_feats/list_feats_x_ht_ffd_20230101_20230319.pickle')\n",
    "\n",
    "print(len(list_feats_x_ffd))"
   ]
  },
  {
   "cell_type": "code",
   "execution_count": null,
   "id": "8c8beeb9-6fdc-4d5e-af35-c2f85163cc4b",
   "metadata": {},
   "outputs": [],
   "source": [
    "list_feats_x_ffcc = utils_.load_pickle('../../data/other/cs/new_features/list_feats/list_feats_x_ffcc_20230101_20230319.pickle')\n",
    "list_feats_x_fcscc = utils_.load_pickle('../../data/other/cs/new_features/list_feats/list_feats_x_fcscc_20230101_20230319.pickle')\n",
    "list_feats_x_dc = utils_.load_pickle('../../data/other/cs/new_features/list_feats/list_feats_x_dc_20230101_20230319.pickle')\n",
    "\n",
    "print(len(list_feats_x_ffcc))\n",
    "print(len(list_feats_x_fcscc))\n",
    "print(len(list_feats_x_dc))"
   ]
  },
  {
   "cell_type": "code",
   "execution_count": null,
   "id": "916995bc-3ca9-499d-b9de-f92649f69563",
   "metadata": {},
   "outputs": [],
   "source": [
    "list_feats_x_ffcc = [x for x in list_feats_x_ffcc if x in list_feats_x_ffd]\n",
    "list_feats_x_fcscc = [x for x in list_feats_x_fcscc if x in list_feats_x_ffd]\n",
    "list_feats_x_dc = [x for x in list_feats_x_dc if x in list_feats_x_dc]\n",
    "\n",
    "print(len(list_feats_x_ffcc))\n",
    "print(len(list_feats_x_fcscc))\n",
    "print(len(list_feats_x_dc))"
   ]
  },
  {
   "cell_type": "code",
   "execution_count": null,
   "id": "c9eae3f1-615c-44e9-9e36-1cffabacff09",
   "metadata": {},
   "outputs": [],
   "source": [
    "df_ffcc[list_feats_x_ffcc] = df_ffcc[list_feats_x_ffcc].fillna(0)\n",
    "df_fcscc[list_feats_x_fcscc] = df_fcscc[list_feats_x_fcscc].fillna(0)\n",
    "\n",
    "df_ffcc['obs_dt'] = pd.to_datetime(df_ffcc['obs_dt'])\n",
    "df_ffcc['dt'] = pd.to_datetime(df_ffcc['dt'])\n",
    "df_fcscc['obs_dt'] = pd.to_datetime(df_fcscc['obs_dt'])\n",
    "df_fcscc['dt'] = pd.to_datetime(df_fcscc['dt'])\n",
    "df_dc['obs_dt'] = pd.to_datetime(df_dc['obs_dt'])\n",
    "df_dc['dt'] = pd.to_datetime(df_dc['dt'])\n",
    "\n",
    "df_ffd = df_ffcc[['uid', 'obs_dt', 'dt', 'item', 'label_apply', 'label_submit', 'label_pass', 'label_pass_1']+list_feats_x_ffcc].\\\n",
    "    merge(df_fcscc[['uid', 'obs_dt', 'dt', 'item', 'label_apply', 'label_submit', 'label_pass', 'label_pass_1']+list_feats_x_fcscc], \n",
    "          on=['uid', 'obs_dt', 'dt', 'item', 'label_apply', 'label_submit', 'label_pass', 'label_pass_1'], how='left').\\\n",
    "    merge(df_dc[['uid', 'obs_dt', 'dt', 'item', 'label_apply', 'label_submit', 'label_pass', 'label_pass_1']+list_feats_x_dc], \n",
    "          on=['uid', 'obs_dt', 'dt', 'item', 'label_apply', 'label_submit', 'label_pass', 'label_pass_1'], how='left')\n",
    "print(df_ffd.shape)\n",
    "df_ffd.head()"
   ]
  },
  {
   "cell_type": "code",
   "execution_count": null,
   "id": "b9d2cebd-6fc3-431d-93e9-e311a3252245",
   "metadata": {},
   "outputs": [],
   "source": [
    "df_ohe_new_feats = df_ohe.\\\n",
    "    merge(df_ffd[['uid', 'obs_dt', 'dt', 'item', 'label_apply', 'label_submit', 'label_pass', 'label_pass_1']+list_feats_x_ffd], \n",
    "          on=['uid', 'obs_dt', 'dt', 'item', 'label_apply', 'label_submit', 'label_pass', 'label_pass_1'], how='left')\n",
    "\n",
    "print(df_ohe_new_feats.shape)\n",
    "df_ohe_new_feats.head()"
   ]
  },
  {
   "cell_type": "code",
   "execution_count": null,
   "id": "d2cbed72-2c99-49ad-be4d-4165f05701f8",
   "metadata": {},
   "outputs": [],
   "source": [
    "list_feats_x_ffcc = utils_.load_pickle('../../data/other/cs/new_features/list_feats/list_feats_x_std_ffcc_20230101_20230319.pickle')\n",
    "list_feats_x_fcscc = utils_.load_pickle('../../data/other/cs/new_features/list_feats/list_feats_x_fcscc_20230101_20230319.pickle')\n",
    "list_feats_x_dc = utils_.load_pickle('../../data/other/cs/new_features/list_feats/list_feats_x_dc_20230101_20230319.pickle')\n",
    "\n",
    "print(len(list_feats_x_ffcc))\n",
    "print(len(list_feats_x_fcscc))\n",
    "print(len(list_feats_x_dc))"
   ]
  },
  {
   "cell_type": "code",
   "execution_count": null,
   "id": "da61feae-e2e2-4cee-99df-ebc0d07b87fe",
   "metadata": {},
   "outputs": [],
   "source": [
    "%%time\n",
    "df_ffcc[list_feats_x_ffcc] = df_ffcc[list_feats_x_ffcc].fillna(0)\n",
    "df_fcscc[list_feats_x_fcscc] = df_fcscc[list_feats_x_fcscc].fillna(0)\n",
    "df_dc[list_feats_x_dc] = df_dc[list_feats_x_dc].fillna(0)\n",
    "\n",
    "df_ffcc['obs_dt'] = pd.to_datetime(df_ffcc['obs_dt'])\n",
    "df_ffcc['dt'] = pd.to_datetime(df_ffcc['dt'])\n",
    "df_fcscc['obs_dt'] = pd.to_datetime(df_fcscc['obs_dt'])\n",
    "df_fcscc['dt'] = pd.to_datetime(df_fcscc['dt'])\n",
    "df_dc['obs_dt'] = pd.to_datetime(df_dc['obs_dt'])\n",
    "df_dc['dt'] = pd.to_datetime(df_dc['dt'])\n",
    "\n",
    "df_ohe_new_feats = df_ohe.\\\n",
    "    merge(df_ffcc[['uid', 'obs_dt', 'dt', 'item', 'label_apply', 'label_submit', 'label_pass', 'label_pass_1']+list_feats_x_ffcc], \n",
    "          on=['uid', 'obs_dt', 'dt', 'item', 'label_apply', 'label_submit', 'label_pass', 'label_pass_1'], how='left').\\\n",
    "    merge(df_fcscc[['uid', 'obs_dt', 'dt', 'item', 'label_apply', 'label_submit', 'label_pass', 'label_pass_1']+list_feats_x_fcscc], \n",
    "          on=['uid', 'obs_dt', 'dt', 'item', 'label_apply', 'label_submit', 'label_pass', 'label_pass_1'], how='left').\\\n",
    "    merge(df_dc[['uid', 'obs_dt', 'dt', 'item', 'label_apply', 'label_submit', 'label_pass', 'label_pass_1']+list_feats_x_dc], \n",
    "          on=['uid', 'obs_dt', 'dt', 'item', 'label_apply', 'label_submit', 'label_pass', 'label_pass_1'], how='left')\n",
    "\n",
    "print(df_ohe_new_feats.shape)\n",
    "df_ohe_new_feats.head()"
   ]
  },
  {
   "cell_type": "code",
   "execution_count": null,
   "id": "bd6e2ea1-ddab-4082-83cd-3698d204ab0d",
   "metadata": {},
   "outputs": [],
   "source": [
    "# utils_.save_pickle(df_ohe_new_feats, '../../data/other/cs/new_features/df_ohe_new_feats_test_20230101_20230319.pickle')\n",
    "utils_.save_pickle(df_ohe_new_feats, '../../data/other/cs/new_features/df_ohe_ffd_test_20230101_20230319.pickle')"
   ]
  },
  {
   "cell_type": "code",
   "execution_count": null,
   "id": "1f300c27-d34b-452f-8daa-4aaf56b35a80",
   "metadata": {},
   "outputs": [],
   "source": [
    "# df_id = df_ohe[['uid', 'obs_dt', 'dt', 'item', 'item_id']]\n",
    "# df_y = df_ohe[['label_apply', 'label_submit', 'label_pass', 'label_pass_1']]\n",
    "# df_X = df_ohe[\n",
    "#     ['item_id_{}'.format(x) for x in range(5)]\n",
    "#     +utils_.load_pickle('../../data/other/cs/list_feats/list_feats_x_pi_fusion_20230101_20230319.pickle')\n",
    "#     +utils_.load_pickle('../../data/other/cs/list_feats/list_feats_x_pi_aspiration_20230101_20230319.pickle')\n",
    "# ]\n",
    "\n",
    "df_id = df_ohe_new_feats[['uid', 'obs_dt', 'dt', 'item', 'item_id']]\n",
    "df_y = df_ohe_new_feats[['label_apply', 'label_submit', 'label_pass', 'label_pass_1']]\n",
    "df_X = df_ohe_new_feats[\n",
    "    ['item_id_{}'.format(x) for x in range(5)]\n",
    "    +utils_.load_pickle('../../data/other/cs/list_feats/list_feats_x_pi_fusion_20230101_20230319.pickle')\n",
    "    +utils_.load_pickle('../../data/other/cs/list_feats/list_feats_x_pi_aspiration_20230101_20230319.pickle')\n",
    "    +utils_.load_pickle('../../data/other/cs/new_features/list_feats/list_feats_x_ht_ffd_20230101_20230319.pickle')\n",
    "]\n",
    "\n",
    "print(df_id.shape)\n",
    "print(df_y.shape)\n",
    "print(df_X.shape)"
   ]
  },
  {
   "cell_type": "code",
   "execution_count": null,
   "id": "ab9ec8dc-ff00-4b0f-b700-a62fff9e9cca",
   "metadata": {},
   "outputs": [],
   "source": [
    "# condition_feats = utils_.load_pickle('../../data/other/cs/list_condition_feats.pickle')\n",
    "# sparse_feats = utils_.load_pickle('../../data/other/cs/list_sparse_feats.pickle')\n",
    "# dense_feats = utils_.load_pickle('../../data/other/cs/list_dense_feats.pickle')\n",
    "\n",
    "condition_feats = utils_.load_pickle('../../data/other/cs/new_features/list_condition_feats_ffd.pickle')\n",
    "sparse_feats = utils_.load_pickle('../../data/other/cs/new_features/list_sparse_feats_ffd.pickle')\n",
    "dense_feats = utils_.load_pickle('../../data/other/cs/new_features/list_dense_feats_ffd.pickle')\n",
    "\n",
    "print(len(condition_feats))\n",
    "print(len(sparse_feats))\n",
    "print(len(dense_feats))"
   ]
  },
  {
   "cell_type": "code",
   "execution_count": null,
   "id": "968e8bad-966b-4850-849b-58d48c12246e",
   "metadata": {},
   "outputs": [],
   "source": [
    "# 连续\n",
    "# ss = joblib.load('../../data/other/cs/ss.pickle')\n",
    "ss = joblib.load('../../data/other/cs/new_features/ss_ffd.pickle')\n",
    "X_dense_ss = ss.transform(df_X[dense_feats])\n",
    "print(X_dense_ss.shape)"
   ]
  },
  {
   "cell_type": "code",
   "execution_count": null,
   "id": "d6ccb3e1-8d9b-4551-b073-42ce34ec1aff",
   "metadata": {},
   "outputs": [],
   "source": [
    "df_X_dense = pd.DataFrame(X_dense_ss, columns=dense_feats)\n",
    "print(df_X_dense.shape)\n",
    "df_X_dense.head()"
   ]
  },
  {
   "cell_type": "code",
   "execution_count": null,
   "id": "de8aaca9-d106-4446-9980-50205a9c50e2",
   "metadata": {
    "scrolled": true,
    "tags": []
   },
   "outputs": [],
   "source": [
    "# 离散\n",
    "# dict_lbe = joblib.load('../../data/other/cs/dict_lbe.pickle')\n",
    "dict_lbe = joblib.load('../../data/other/cs/new_features/dict_lbe_ffd.pickle')\n",
    "for x in sparse_feats:\n",
    "    print(x, dict_lbe[x].classes_)"
   ]
  },
  {
   "cell_type": "code",
   "execution_count": null,
   "id": "338d3ee5-4a3d-4b3d-8063-69a88fedd4ee",
   "metadata": {},
   "outputs": [],
   "source": [
    "list_X_sparse = []\n",
    "\n",
    "try:\n",
    "    with tqdm(sparse_feats) as t:\n",
    "        for x in t:\n",
    "            list_feat_values_unseen = list(set(df_X[x].unique())-set(dict_lbe[x].classes_))\n",
    "            if len(list_feat_values_unseen) > 0:\n",
    "                print(x)\n",
    "                df_X[x].replace(list_feat_values_unseen, -1, inplace=True)\n",
    "            df_X_sparse_each = pd.DataFrame(dict_lbe[x].transform(df_X[x]), columns=[x])\n",
    "            list_X_sparse.append(df_X_sparse_each)\n",
    "except KeyboardInterrupt:\n",
    "    t.close()\n",
    "    raise\n",
    "t.close()\n",
    "\n",
    "df_X_sparse = pd.concat(list_X_sparse, axis=1)\n",
    "print(df_X_sparse.shape)\n",
    "df_X_sparse.head()"
   ]
  },
  {
   "cell_type": "code",
   "execution_count": null,
   "id": "a45d8762-a2f8-457d-a40c-bdc4f2f27b23",
   "metadata": {},
   "outputs": [],
   "source": [
    "# 合并\n",
    "df_X_transform = pd.concat([df_X[condition_feats], df_X_sparse, df_X_dense], axis=1)\n",
    "print(df_X_transform.shape)\n",
    "df_X_transform.head()"
   ]
  },
  {
   "cell_type": "code",
   "execution_count": null,
   "id": "f9f985bf-c00d-479a-9dbd-d808de39364e",
   "metadata": {
    "scrolled": true,
    "tags": []
   },
   "outputs": [],
   "source": [
    "device = torch.device('cuda:0' if torch.cuda.is_available() else 'cpu')\n",
    "util.seed_everything(2023)\n",
    "config = {\n",
    "    'Model': {\n",
    "        'num_experts': 5, \n",
    "        # 'expert_hidden_units': [256, 128], \n",
    "        'expert_hidden_units': [512, 256, 128], \n",
    "        'units': 64, \n",
    "        'num_tasks': 4, \n",
    "        'tower_hidden_units': [64, 32], \n",
    "        'dropout': 0.2, \n",
    "        'use_bn': False\n",
    "    }\n",
    "}\n",
    "# feats_columns = utils_.load_pickle('../../data/other/cs/feats_columns.pcikle')\n",
    "feats_columns = utils_.load_pickle('../../data/other/cs/new_features/feats_columns_ffd.pcikle')\n",
    "\n",
    "model = MMOE(config, feats_columns).to(device)\n",
    "# model.load_state_dict(torch.load('save/mmoe_condition.pth'))\n",
    "# model.load_state_dict(torch.load('save/mmoe_condition_0_01.pth'))\n",
    "model.load_state_dict(torch.load('save/mmoe_condition_ffd_ed.pth'))\n",
    "model"
   ]
  },
  {
   "cell_type": "code",
   "execution_count": null,
   "id": "b7f32873-2e04-4d55-8747-0e3956f2257e",
   "metadata": {},
   "outputs": [],
   "source": [
    "criterion = (torch.nn.BCEWithLogitsLoss().to(device), torch.nn.BCEWithLogitsLoss().to(device), torch.nn.BCEWithLogitsLoss().to(device), torch.nn.BCEWithLogitsLoss().to(device))\n",
    "test_loader = DataLoader(DatasetLoader(df_X_transform.values, df_y.values), 1024, shuffle=False, num_workers=8)\n",
    "\n",
    "y_pred = test(test_loader, model, criterion, (df_X_transform.values, df_y.values))\n",
    "y_pred"
   ]
  },
  {
   "cell_type": "raw",
   "id": "116cd458-9db1-4ef1-bb17-b1eb80b616a0",
   "metadata": {},
   "source": []
  },
  {
   "cell_type": "code",
   "execution_count": null,
   "id": "e96ebd11-fc66-4199-8aff-194a4a1b7517",
   "metadata": {},
   "outputs": [],
   "source": [
    "df_y_res = pd.concat([df_y, pd.DataFrame(data=y_pred, columns=['pred_'+x for x in df_y.columns])], axis=1)\n",
    "print(df_y_res.shape)\n",
    "df_y_res.head()"
   ]
  },
  {
   "cell_type": "code",
   "execution_count": null,
   "id": "e721baef-59b7-49aa-8f66-8a0bdb7d4770",
   "metadata": {},
   "outputs": [],
   "source": [
    "try:\n",
    "    with tqdm(df_y.columns) as t:\n",
    "        for x in t:\n",
    "            print('{}: {}'.format(x, cal_recall(df_y_res[[x, 'pred_'+x]], x, 'pred_'+x, threshold=0.2)))\n",
    "except KeyboardInterrupt:\n",
    "    t.close()\n",
    "    raise\n",
    "t.close()"
   ]
  },
  {
   "cell_type": "raw",
   "id": "c2a9a043-86ae-49f3-add2-692fb639ca07",
   "metadata": {},
   "source": []
  },
  {
   "cell_type": "code",
   "execution_count": null,
   "id": "b999b9cc-840f-4e21-b28b-164f0e2a5051",
   "metadata": {
    "scrolled": true,
    "tags": []
   },
   "outputs": [],
   "source": [
    "# 分物料\n",
    "recall_p = 20\n",
    "\n",
    "try:\n",
    "    with tqdm([0, 1, 2, 3, 4]) as t:\n",
    "        for item_id in t:\n",
    "            index_item = df_id[df_id['item_id']==item_id].index\n",
    "            df_y_res_item = df_y_res.loc[index_item, :]\n",
    "            print(df_y_res_item.shape[0])\n",
    "            for x in df_y.columns:\n",
    "                print('item_id:{bi}, label:{l}, AUC:{ras}, Recall@{p}%:{cr}'.format(\n",
    "                    bi=item_id, \n",
    "                    l=x, \n",
    "                    ras=roc_auc_score(df_y_res_item[x], df_y_res_item['pred_'+x]), \n",
    "                    p=recall_p, \n",
    "                    cr=cal_recall(df_y_res_item, x, 'pred_'+x, threshold=recall_p*0.01)))\n",
    "except:\n",
    "    t.close()\n",
    "    raise\n",
    "t.close()"
   ]
  },
  {
   "cell_type": "raw",
   "id": "b57bf4f5-afe5-4eca-96fd-25c818dded4e",
   "metadata": {},
   "source": []
  },
  {
   "cell_type": "markdown",
   "id": "161a2328-7e16-4eb5-84ac-b11458caa55e",
   "metadata": {},
   "source": [
    "* feature importance"
   ]
  },
  {
   "cell_type": "code",
   "execution_count": null,
   "id": "6d4ddf2b-55e4-42eb-a42b-587a2162fbc4",
   "metadata": {},
   "outputs": [],
   "source": [
    "# shap\n",
    "shap_explainer = shap.DeepExplainer(model, [df_X_transform.values])\n",
    "shap_explainer"
   ]
  },
  {
   "cell_type": "code",
   "execution_count": null,
   "id": "350f6b5d-d44e-49d4-ac12-2b6d92497597",
   "metadata": {},
   "outputs": [],
   "source": [
    "shap_values = shap_explainer.shap_values([df_X_transform.values])\n",
    "shap_values"
   ]
  },
  {
   "cell_type": "code",
   "execution_count": null,
   "id": "30f3eb4b-d162-4763-b2e8-f47b39de7342",
   "metadata": {},
   "outputs": [],
   "source": [
    "shap.summary_plot(shap_values, df_train_X, plot_type='bar')"
   ]
  },
  {
   "cell_type": "code",
   "execution_count": null,
   "id": "92bb1c58-e3a4-4809-957a-4ad7e3dbd951",
   "metadata": {},
   "outputs": [],
   "source": []
  },
  {
   "cell_type": "markdown",
   "id": "57dc65b6-d752-4d43-b3ce-c4ba9c3b510c",
   "metadata": {
    "tags": []
   },
   "source": [
    "## 模型比较，oot"
   ]
  },
  {
   "cell_type": "code",
   "execution_count": null,
   "id": "e5abc537-d14e-4f11-b8c9-a664a4be2e6b",
   "metadata": {
    "tags": []
   },
   "outputs": [],
   "source": [
    "df_fusion = pd.read_csv('../../data/other/cs/sample_label_feature_fusion_20230326.txt', sep='\\t', encoding='utf-8')\n",
    "df_aspiration_part1 = pd.read_csv('../../data/other/cs/sample_label_feature_aspiration_part1_20230326.txt', sep='\\t', encoding='utf-8')\n",
    "df_aspiration_part2 = pd.read_csv('../../data/other/cs/sample_label_feature_aspiration_part2_20230326.txt', sep='\\t', encoding='utf-8')\n",
    "\n",
    "print(df_fusion.shape)\n",
    "print(df_aspiration_part1.shape)\n",
    "print(df_aspiration_part2.shape)"
   ]
  },
  {
   "cell_type": "code",
   "execution_count": null,
   "id": "c5546eb4-60c3-4731-b0a9-b9c1db2c09cd",
   "metadata": {},
   "outputs": [],
   "source": [
    "df_fusion['obs_dt'] = pd.to_datetime(df_fusion['obs_dt'])\n",
    "df_fusion['dt'] = pd.to_datetime(df_fusion['dt'])\n",
    "df_aspiration_part1['obs_dt'] = pd.to_datetime(df_aspiration_part1['obs_dt'])\n",
    "df_aspiration_part1['dt'] = pd.to_datetime(df_aspiration_part1['dt'])\n",
    "df_aspiration_part2['obs_dt'] = pd.to_datetime(df_aspiration_part2['obs_dt'])\n",
    "df_aspiration_part2['dt'] = pd.to_datetime(df_aspiration_part2['dt'])\n",
    "\n",
    "df = df_fusion.merge(df_aspiration_part1, \n",
    "                     on=['uid', 'obs_dt', 'dt', 'item', 'label_apply', 'label_submit', 'label_pass', 'label_pass_1'], how='left').\\\n",
    "    merge(df_aspiration_part2, \n",
    "          on=['uid', 'obs_dt', 'dt', 'item', 'label_apply', 'label_submit', 'label_pass', 'label_pass_1'], how='left')\n",
    "print(df.shape)\n",
    "df.head()"
   ]
  },
  {
   "cell_type": "code",
   "execution_count": null,
   "id": "2781a51f-0501-414c-a9af-a85618436676",
   "metadata": {},
   "outputs": [],
   "source": [
    "[x for x in df.columns if x.endswith('.1')]"
   ]
  },
  {
   "cell_type": "code",
   "execution_count": null,
   "id": "b3904bff-fa4a-4212-89e2-6d9a113f97bb",
   "metadata": {},
   "outputs": [],
   "source": [
    "df_des = utils_.df_des(df)\n",
    "df_des.to_csv('../../data/other/cs/df_des_oot_20230326.csv', encoding='utf-8')"
   ]
  },
  {
   "cell_type": "code",
   "execution_count": null,
   "id": "e750f956-1f1e-480a-8dbf-a639920c47a6",
   "metadata": {
    "scrolled": true,
    "tags": []
   },
   "outputs": [],
   "source": [
    "df[['obs_dt', 'dt', 'uid']].groupby(by=['obs_dt', 'dt']).count()"
   ]
  },
  {
   "cell_type": "code",
   "execution_count": null,
   "id": "6e7c8a30-52f3-4458-8329-db0253742b36",
   "metadata": {},
   "outputs": [],
   "source": [
    "df['item'].value_counts()"
   ]
  },
  {
   "cell_type": "code",
   "execution_count": null,
   "id": "703e80a0-24f0-4ab5-9328-2d893527628c",
   "metadata": {},
   "outputs": [],
   "source": [
    "df[['item', 'label_apply', 'uid']].groupby(by=['item', 'label_apply']).count()"
   ]
  },
  {
   "cell_type": "code",
   "execution_count": null,
   "id": "62d01dca-2e64-4c1d-aacd-4bf929c5eaf1",
   "metadata": {},
   "outputs": [],
   "source": [
    "df['label_apply'].value_counts()"
   ]
  },
  {
   "cell_type": "code",
   "execution_count": null,
   "id": "525bf4a8-5ef5-4abc-bdcd-6c7389982a54",
   "metadata": {},
   "outputs": [],
   "source": [
    "df[['item', 'label_submit', 'uid']].groupby(by=['item', 'label_submit']).count()"
   ]
  },
  {
   "cell_type": "code",
   "execution_count": null,
   "id": "48700819-5b2b-4b21-8edc-b7f7e98ba3eb",
   "metadata": {},
   "outputs": [],
   "source": [
    "df['label_submit'].value_counts()"
   ]
  },
  {
   "cell_type": "code",
   "execution_count": null,
   "id": "f5f7242c-a8e2-4bc8-9f1f-929810dd9846",
   "metadata": {},
   "outputs": [],
   "source": [
    "df[['item', 'label_pass', 'uid']].groupby(by=['item', 'label_pass']).count()"
   ]
  },
  {
   "cell_type": "code",
   "execution_count": null,
   "id": "79ccbbf0-b22c-4979-af91-f07bbc2b0353",
   "metadata": {},
   "outputs": [],
   "source": [
    "df['label_pass'].value_counts()"
   ]
  },
  {
   "cell_type": "code",
   "execution_count": null,
   "id": "b73cd386-4fd7-4979-ac01-0908e543fbbf",
   "metadata": {},
   "outputs": [],
   "source": [
    "df[['item', 'label_pass_1', 'uid']].groupby(by=['item', 'label_pass_1']).count()"
   ]
  },
  {
   "cell_type": "code",
   "execution_count": null,
   "id": "1a465cc7-2fb0-46cc-905f-e901b7010acf",
   "metadata": {},
   "outputs": [],
   "source": [
    "df['label_pass_1'].value_counts()"
   ]
  },
  {
   "cell_type": "code",
   "execution_count": null,
   "id": "ad225af2-6e98-400f-a3ac-663017c78e01",
   "metadata": {},
   "outputs": [],
   "source": [
    "df['item_id'] = df['item'].apply(lambda x: 0 if x=='aaa' \n",
    "                                             else 1 if x=='bbb' \n",
    "                                             else 2 if x=='ccc' \n",
    "                                             else 3 if x=='ddd' \n",
    "                                             else 4)\n",
    "df.head()"
   ]
  },
  {
   "cell_type": "code",
   "execution_count": null,
   "id": "b409c167-0f9e-4896-8f95-a85875ebce03",
   "metadata": {},
   "outputs": [],
   "source": [
    "# 物料特征处理\n",
    "# one hot encoding\n",
    "list_feats_ohe = ['item_id']\n",
    "list_df_ohe = []\n",
    "try:\n",
    "    with tqdm(list_feats_ohe) as t:\n",
    "        for feat in t:\n",
    "            df_ohe_feat = utils_.one_hot_encoder(df, feat)\n",
    "            list_df_ohe.append(df_ohe_feat)\n",
    "except KeyboardInterrupt:\n",
    "    t.close()\n",
    "    raise\n",
    "t.close()\n",
    "\n",
    "df_ohe_part = pd.concat(list_df_ohe, axis=1)\n",
    "print(df_ohe_part.shape)\n",
    "df_ohe_part.head()"
   ]
  },
  {
   "cell_type": "code",
   "execution_count": null,
   "id": "10c73dda-5c85-4869-944c-003393adece9",
   "metadata": {},
   "outputs": [],
   "source": [
    "df_ohe = pd.concat([df, df_ohe_part], axis=1)\n",
    "print(df_ohe.shape)\n",
    "df_ohe.head()"
   ]
  },
  {
   "cell_type": "code",
   "execution_count": null,
   "id": "30b3d43e-bc7c-42e3-8ce2-f44ee08d0fec",
   "metadata": {},
   "outputs": [],
   "source": [
    "utils_.save_pickle(df_ohe, '../../data/other/cs/df_ohe_20230326.pickle')"
   ]
  },
  {
   "cell_type": "code",
   "execution_count": null,
   "id": "6317b80f-4fd5-48ef-802f-5351e4b0dd29",
   "metadata": {},
   "outputs": [],
   "source": [
    "df_ohe = utils_.load_pickle('../../data/other/cs/df_ohe_20230326.pickle')\n",
    "print(df_ohe.shape)\n",
    "df_ohe.head()"
   ]
  },
  {
   "cell_type": "code",
   "execution_count": null,
   "id": "b2421626-e572-4569-958b-5bcd4f74f6d0",
   "metadata": {},
   "outputs": [],
   "source": [
    "df_ffcc = pd.read_csv('../../data/other/cs/sample_label_feature_flow_fixation_xxx_card_20230326.txt', sep='\\t', encoding='utf-8')\n",
    "print(df_ffcc.shape)\n",
    "df_ffcc.head()"
   ]
  },
  {
   "cell_type": "code",
   "execution_count": null,
   "id": "a63362d1-57d9-4a09-bfd9-fa196f855fe7",
   "metadata": {},
   "outputs": [],
   "source": [
    "df_fcscc = pd.read_csv('../../data/other/cs/sample_label_feature_flow_cs_xxx_card_20230326.txt', sep='\\t', encoding='utf-8')\n",
    "print(df_fcscc.shape)\n",
    "df_fcscc.head()"
   ]
  },
  {
   "cell_type": "code",
   "execution_count": null,
   "id": "de35a498-cfc1-48fc-b719-a1d3222b2085",
   "metadata": {},
   "outputs": [],
   "source": [
    "df_dc = pd.read_csv('../../data/other/cs/sample_label_feature_xxx_card_20230326.txt', sep='\\t', encoding='utf-8')\n",
    "print(df_dc.shape)\n",
    "df_dc.head()"
   ]
  },
  {
   "cell_type": "code",
   "execution_count": null,
   "id": "3968488d-e626-4fd1-8ff7-fe6bc95c2ecb",
   "metadata": {},
   "outputs": [],
   "source": [
    "list_feats_x_ffd = utils_.load_pickle('../../data/other/cs/new_features/list_feats/list_feats_x_ht_ffd_20230101_20230319.pickle')\n",
    "\n",
    "print(len(list_feats_x_ffd))"
   ]
  },
  {
   "cell_type": "code",
   "execution_count": null,
   "id": "ea68b8a2-94bd-4441-8a2b-510d3595876f",
   "metadata": {},
   "outputs": [],
   "source": [
    "list_feats_x_ffcc = utils_.load_pickle('../../data/other/cs/new_features/list_feats/list_feats_x_ffcc_20230101_20230319.pickle')\n",
    "list_feats_x_fcscc = utils_.load_pickle('../../data/other/cs/new_features/list_feats/list_feats_x_fcscc_20230101_20230319.pickle')\n",
    "list_feats_x_dc = utils_.load_pickle('../../data/other/cs/new_features/list_feats/list_feats_x_dc_20230101_20230319.pickle')\n",
    "\n",
    "print(len(list_feats_x_ffcc))\n",
    "print(len(list_feats_x_fcscc))\n",
    "print(len(list_feats_x_dc))"
   ]
  },
  {
   "cell_type": "code",
   "execution_count": null,
   "id": "55e06aa2-d4f7-4f3a-8358-18ce892952cb",
   "metadata": {},
   "outputs": [],
   "source": [
    "list_feats_x_ffcc = [x for x in list_feats_x_ffcc if x in list_feats_x_ffd]\n",
    "list_feats_x_fcscc = [x for x in list_feats_x_fcscc if x in list_feats_x_ffd]\n",
    "list_feats_x_dc = [x for x in list_feats_x_dc if x in list_feats_x_dc]\n",
    "\n",
    "print(len(list_feats_x_ffcc))\n",
    "print(len(list_feats_x_fcscc))\n",
    "print(len(list_feats_x_dc))"
   ]
  },
  {
   "cell_type": "code",
   "execution_count": null,
   "id": "396768ab-348e-4ba8-b580-e2e183175f1a",
   "metadata": {},
   "outputs": [],
   "source": [
    "df_ffcc[list_feats_x_ffcc] = df_ffcc[list_feats_x_ffcc].fillna(0)\n",
    "df_fcscc[list_feats_x_fcscc] = df_fcscc[list_feats_x_fcscc].fillna(0)\n",
    "\n",
    "df_ffcc['obs_dt'] = pd.to_datetime(df_ffcc['obs_dt'])\n",
    "df_ffcc['dt'] = pd.to_datetime(df_ffcc['dt'])\n",
    "df_fcscc['obs_dt'] = pd.to_datetime(df_fcscc['obs_dt'])\n",
    "df_fcscc['dt'] = pd.to_datetime(df_fcscc['dt'])\n",
    "df_dc['obs_dt'] = pd.to_datetime(df_dc['obs_dt'])\n",
    "df_dc['dt'] = pd.to_datetime(df_dc['dt'])\n",
    "\n",
    "df_ffd = df_ffcc[['uid', 'obs_dt', 'dt', 'item', 'label_apply', 'label_submit', 'label_pass', 'label_pass_1']+list_feats_x_ffcc].\\\n",
    "    merge(df_fcscc[['uid', 'obs_dt', 'dt', 'item', 'label_apply', 'label_submit', 'label_pass', 'label_pass_1']+list_feats_x_fcscc], \n",
    "          on=['uid', 'obs_dt', 'dt', 'item', 'label_apply', 'label_submit', 'label_pass', 'label_pass_1'], how='left').\\\n",
    "    merge(df_dc[['uid', 'obs_dt', 'dt', 'item', 'label_apply', 'label_submit', 'label_pass', 'label_pass_1']+list_feats_x_dc], \n",
    "          on=['uid', 'obs_dt', 'dt', 'item', 'label_apply', 'label_submit', 'label_pass', 'label_pass_1'], how='left')\n",
    "print(df_ffd.shape)\n",
    "df_ffd.head()"
   ]
  },
  {
   "cell_type": "code",
   "execution_count": null,
   "id": "abb18a56-2c29-400b-9604-d46020703f5b",
   "metadata": {},
   "outputs": [],
   "source": [
    "df_ohe_new_feats = df_ohe.\\\n",
    "    merge(df_ffd[['uid', 'obs_dt', 'dt', 'item', 'label_apply', 'label_submit', 'label_pass', 'label_pass_1']+list_feats_x_ffd], \n",
    "          on=['uid', 'obs_dt', 'dt', 'item', 'label_apply', 'label_submit', 'label_pass', 'label_pass_1'], how='left')\n",
    "\n",
    "print(df_ohe_new_feats.shape)\n",
    "df_ohe_new_feats.head()"
   ]
  },
  {
   "cell_type": "code",
   "execution_count": null,
   "id": "80860d51-fc61-40d7-b9e0-91b1a3926831",
   "metadata": {},
   "outputs": [],
   "source": [
    "list_feats_x_ffcc = utils_.load_pickle('../../data/other/cs/new_features/list_feats/list_feats_x_std_ffcc_20230101_20230319.pickle')\n",
    "list_feats_x_fcscc = utils_.load_pickle('../../data/other/cs/new_features/list_feats/list_feats_x_fcscc_20230101_20230319.pickle')\n",
    "list_feats_x_dc = utils_.load_pickle('../../data/other/cs/new_features/list_feats/list_feats_x_dc_20230101_20230319.pickle')\n",
    "\n",
    "print(len(list_feats_x_ffcc))\n",
    "print(len(list_feats_x_fcscc))\n",
    "print(len(list_feats_x_dc))"
   ]
  },
  {
   "cell_type": "code",
   "execution_count": null,
   "id": "4e830bec-8efe-4081-9cfa-4c9632fd570c",
   "metadata": {},
   "outputs": [],
   "source": [
    "%%time\n",
    "df_ffcc[list_feats_x_ffcc] = df_ffcc[list_feats_x_ffcc].fillna(0)\n",
    "df_fcscc[list_feats_x_fcscc] = df_fcscc[list_feats_x_fcscc].fillna(0)\n",
    "df_dc[list_feats_x_dc] = df_dc[list_feats_x_dc].fillna(0)\n",
    "\n",
    "df_ffcc['obs_dt'] = pd.to_datetime(df_ffcc['obs_dt'])\n",
    "df_ffcc['dt'] = pd.to_datetime(df_ffcc['dt'])\n",
    "df_fcscc['obs_dt'] = pd.to_datetime(df_fcscc['obs_dt'])\n",
    "df_fcscc['dt'] = pd.to_datetime(df_fcscc['dt'])\n",
    "df_dc['obs_dt'] = pd.to_datetime(df_dc['obs_dt'])\n",
    "df_dc['dt'] = pd.to_datetime(df_dc['dt'])\n",
    "\n",
    "df_ohe_new_feats = df_ohe.\\\n",
    "    merge(df_ffcc[['uid', 'obs_dt', 'dt', 'item', 'label_apply', 'label_submit', 'label_pass', 'label_pass_1']+list_feats_x_ffcc], \n",
    "          on=['uid', 'obs_dt', 'dt', 'item', 'label_apply', 'label_submit', 'label_pass', 'label_pass_1'], how='left').\\\n",
    "    merge(df_fcscc[['uid', 'obs_dt', 'dt', 'item', 'label_apply', 'label_submit', 'label_pass', 'label_pass_1']+list_feats_x_fcscc], \n",
    "          on=['uid', 'obs_dt', 'dt', 'item', 'label_apply', 'label_submit', 'label_pass', 'label_pass_1'], how='left').\\\n",
    "    merge(df_dc[['uid', 'obs_dt', 'dt', 'item', 'label_apply', 'label_submit', 'label_pass', 'label_pass_1']+list_feats_x_dc], \n",
    "          on=['uid', 'obs_dt', 'dt', 'item', 'label_apply', 'label_submit', 'label_pass', 'label_pass_1'], how='left')\n",
    "\n",
    "print(df_ohe_new_feats.shape)\n",
    "df_ohe_new_feats.head()"
   ]
  },
  {
   "cell_type": "code",
   "execution_count": null,
   "id": "e15acdb0-4bbe-4287-b396-14d00ca83c38",
   "metadata": {},
   "outputs": [],
   "source": [
    "# utils_.save_pickle(df_ohe_new_feats, '../../data/other/cs/new_features/df_ohe_new_feats_20230326.pickle')\n",
    "utils_.save_pickle(df_ohe_new_feats, '../../data/other/cs/new_features/df_ohe_ffd_20230326pickle')"
   ]
  },
  {
   "cell_type": "code",
   "execution_count": null,
   "id": "472d6a46-f489-4a37-9676-792b56184016",
   "metadata": {},
   "outputs": [],
   "source": [
    "# df_id = df_ohe[['uid', 'obs_dt', 'dt', 'item', 'item_id']]\n",
    "# df_y = df_ohe[['label_apply', 'label_submit', 'label_pass', 'label_pass_1']]\n",
    "# df_X = df_ohe[\n",
    "#     ['item_id_{}'.format(x) for x in range(5)]\n",
    "#     +utils_.load_pickle('../../data/other/cs/list_feats/list_feats_x_pi_fusion_20230101_20230319.pickle')\n",
    "#     +utils_.load_pickle('../../data/other/cs/list_feats/list_feats_x_pi_aspiration_20230101_20230319.pickle')\n",
    "# ]\n",
    "\n",
    "df_id = df_ohe_new_feats[['uid', 'obs_dt', 'dt', 'item', 'item_id']]\n",
    "df_y = df_ohe_new_feats[['label_apply', 'label_submit', 'label_pass', 'label_pass_1']]\n",
    "df_X = df_ohe_new_feats[\n",
    "    ['item_id_{}'.format(x) for x in range(5)]\n",
    "    +utils_.load_pickle('../../data/other/cs/list_feats/list_feats_x_pi_fusion_20230101_20230319.pickle')\n",
    "    +utils_.load_pickle('../../data/other/cs/list_feats/list_feats_x_pi_aspiration_20230101_20230319.pickle')\n",
    "    +utils_.load_pickle('../../data/other/cs/new_features/list_feats/list_feats_x_ht_ffd_20230101_20230319.pickle')\n",
    "]\n",
    "\n",
    "print(df_id.shape)\n",
    "print(df_y.shape)\n",
    "print(df_X.shape)"
   ]
  },
  {
   "cell_type": "code",
   "execution_count": null,
   "id": "3ba0919c-bca2-4980-baed-bdc04fee5df7",
   "metadata": {},
   "outputs": [],
   "source": [
    "# condition_feats = utils_.load_pickle('../../data/other/cs/list_condition_feats.pickle')\n",
    "# sparse_feats = utils_.load_pickle('../../data/other/cs/list_sparse_feats.pickle')\n",
    "# dense_feats = utils_.load_pickle('../../data/other/cs/list_dense_feats.pickle')\n",
    "\n",
    "# condition_feats = utils_.load_pickle('../../data/other/cs/train_eval_oot/list_condition_feats.pickle')\n",
    "# sparse_feats = utils_.load_pickle('../../data/other/cs/train_eval_oot/list_sparse_feats.pickle')\n",
    "# dense_feats = utils_.load_pickle('../../data/other/cs/train_eval_oot/list_dense_feats.pickle')\n",
    "\n",
    "condition_feats = utils_.load_pickle('../../data/other/cs/new_features/list_condition_feats_ffd.pickle')\n",
    "sparse_feats = utils_.load_pickle('../../data/other/cs/new_features/list_sparse_feats_ffd.pickle')\n",
    "dense_feats = utils_.load_pickle('../../data/other/cs/new_features/list_dense_feats_ffd.pickle')\n",
    "\n",
    "print(len(condition_feats))\n",
    "print(len(sparse_feats))\n",
    "print(len(dense_feats))"
   ]
  },
  {
   "cell_type": "code",
   "execution_count": null,
   "id": "f75db7c1-a5d8-4a1e-ada7-e3bccf9068ea",
   "metadata": {},
   "outputs": [],
   "source": [
    "# 连续\n",
    "# ss = joblib.load('../../data/other/cs/ss.pickle')\n",
    "# ss = joblib.load('../../data/other/cs/train_eval_oot/ss.pickle')\n",
    "ss = joblib.load('../../data/other/cs/new_features/ss_ffd.pickle')\n",
    "X_dense_ss = ss.transform(df_X[dense_feats])\n",
    "print(X_dense_ss.shape)"
   ]
  },
  {
   "cell_type": "code",
   "execution_count": null,
   "id": "4841cdd3-b089-405c-a0c7-95f7b9ec0b33",
   "metadata": {},
   "outputs": [],
   "source": [
    "df_X_dense = pd.DataFrame(X_dense_ss, columns=dense_feats)\n",
    "print(df_X_dense.shape)\n",
    "df_X_dense.head()"
   ]
  },
  {
   "cell_type": "code",
   "execution_count": null,
   "id": "61ef0e61-71bb-4e45-925e-05133152413a",
   "metadata": {},
   "outputs": [],
   "source": [
    "# 离散\n",
    "# dict_lbe = joblib.load('../../data/other/cs/dict_lbe.pickle')\n",
    "# dict_lbe = joblib.load('../../data/other/cs/train_eval_oot/dict_lbe.pickle')\n",
    "dict_lbe = joblib.load('../../data/other/cs/new_features/dict_lbe_ffd.pickle')\n",
    "list_X_sparse = []\n",
    "\n",
    "try:\n",
    "    with tqdm(sparse_feats) as t:\n",
    "        for x in t:\n",
    "            list_feat_values_unseen = list(set(df_X[x].unique())-set(dict_lbe[x].classes_))\n",
    "            if len(list_feat_values_unseen) > 0:\n",
    "                print(x)\n",
    "                df_X[x].replace(list_feat_values_unseen, -1, inplace=True)\n",
    "            df_X_sparse_each = pd.DataFrame(dict_lbe[x].transform(df_X[x]), columns=[x])\n",
    "            list_X_sparse.append(df_X_sparse_each)\n",
    "except KeyboardInterrupt:\n",
    "    t.close()\n",
    "    raise\n",
    "t.close()\n",
    "\n",
    "df_X_sparse = pd.concat(list_X_sparse, axis=1)\n",
    "print(df_X_sparse.shape)\n",
    "df_X_sparse.head()"
   ]
  },
  {
   "cell_type": "code",
   "execution_count": null,
   "id": "74e42cae-7010-4c35-8e33-bfeeedabaa99",
   "metadata": {},
   "outputs": [],
   "source": [
    "# 合并\n",
    "df_X_transform = pd.concat([df_X[condition_feats], df_X_sparse, df_X_dense], axis=1)\n",
    "print(df_X_transform.shape)\n",
    "df_X_transform.head()"
   ]
  },
  {
   "cell_type": "code",
   "execution_count": null,
   "id": "b911b19c-3b05-4ee6-9b22-bb8a670682f2",
   "metadata": {
    "scrolled": true,
    "tags": []
   },
   "outputs": [],
   "source": [
    "device = torch.device('cuda:0' if torch.cuda.is_available() else 'cpu')\n",
    "util.seed_everything(2023)\n",
    "config = {\n",
    "    'Model': {\n",
    "        'num_experts': 5, \n",
    "        # 'expert_hidden_units': [256, 128], \n",
    "        'expert_hidden_units': [512, 256, 128], \n",
    "        'units': 64, \n",
    "        'num_tasks': 4, \n",
    "        'tower_hidden_units': [64, 32], \n",
    "        'dropout': 0.2, \n",
    "        'use_bn': False\n",
    "    }\n",
    "}\n",
    "# feats_columns = utils_.load_pickle('../../data/other/cs/feats_columns.pcikle')\n",
    "# feats_columns = utils_.load_pickle('../../data/other/cs/train_eval_oot/feats_columns.pcikle')\n",
    "feats_columns = utils_.load_pickle('../../data/other/cs/new_features/feats_columns_ffd.pcikle')\n",
    "\n",
    "model = MMOE(config, feats_columns).to(device)\n",
    "# model.load_state_dict(torch.load('save/mmoe_condition.pth'))\n",
    "# model.load_state_dict(torch.load('save/mmoe_condition_train_eval_oot.pth'))\n",
    "model.load_state_dict(torch.load('save/mmoe_condition_ffd_ed.pth'))\n",
    "model"
   ]
  },
  {
   "cell_type": "code",
   "execution_count": null,
   "id": "dadf4de4-5e3f-4242-9f6f-4cc508d4031f",
   "metadata": {},
   "outputs": [],
   "source": [
    "criterion = (torch.nn.BCEWithLogitsLoss().to(device), torch.nn.BCEWithLogitsLoss().to(device), torch.nn.BCEWithLogitsLoss().to(device), torch.nn.BCEWithLogitsLoss().to(device))\n",
    "test_loader = DataLoader(DatasetLoader(df_X_transform.values, df_y.values), 1024, shuffle=False, num_workers=8)\n",
    "\n",
    "y_pred = test(test_loader, model, criterion, (df_X_transform.values, df_y.values))\n",
    "y_pred"
   ]
  },
  {
   "cell_type": "raw",
   "id": "c0a26a15-cd5c-4544-a5b9-87356af2d6d7",
   "metadata": {},
   "source": []
  },
  {
   "cell_type": "code",
   "execution_count": null,
   "id": "cd1fbb29-bb86-4b42-8976-40508c6faf9d",
   "metadata": {},
   "outputs": [],
   "source": [
    "df_y_res = pd.concat([df_y, pd.DataFrame(data=y_pred, columns=['pred_'+x for x in df_y.columns])], axis=1)\n",
    "print(df_y_res.shape)\n",
    "df_y_res.head()"
   ]
  },
  {
   "cell_type": "code",
   "execution_count": null,
   "id": "270cb3b8-00ad-461e-ab69-45cf9c523191",
   "metadata": {},
   "outputs": [],
   "source": [
    "try:\n",
    "    with tqdm(df_y.columns) as t:\n",
    "        for x in t:\n",
    "            print('{}: {}'.format(x, cal_recall(df_y_res[[x, 'pred_'+x]], x, 'pred_'+x, threshold=0.2)))\n",
    "except KeyboardInterrupt:\n",
    "    t.close()\n",
    "    raise\n",
    "t.close()"
   ]
  },
  {
   "cell_type": "raw",
   "id": "697088ed-8e62-4fc8-88fd-d0a1b8010c9a",
   "metadata": {},
   "source": []
  },
  {
   "cell_type": "code",
   "execution_count": null,
   "id": "d1fc2574-1a10-4053-bb93-4cde5bb6072b",
   "metadata": {
    "scrolled": true,
    "tags": []
   },
   "outputs": [],
   "source": [
    "# 分物料\n",
    "recall_p = 20\n",
    "df_id.reset_index(drop=True, inplace=True)\n",
    "\n",
    "try:\n",
    "    with tqdm([0, 1, 2, 3, 4]) as t:\n",
    "        for item_id in t:\n",
    "            print('{}:'.format(item_id))\n",
    "            index_item = df_id[df_id['item_id']==item_id].index\n",
    "            df_y_res_item = df_y_res.loc[index_item, :]\n",
    "            print(df_y_res_item.shape[0])\n",
    "            for x in df_y.columns:\n",
    "                print('{l}: AUC:{ras}, Recall@{p}%:{cr}'.format(\n",
    "                    bi=item_id, \n",
    "                    l=x, \n",
    "                    ras=roc_auc_score(df_y_res_item[x], df_y_res_item['pred_'+x]), \n",
    "                    p=recall_p, \n",
    "                    cr=cal_recall(df_y_res_item, x, 'pred_'+x, threshold=recall_p*0.01)))\n",
    "except:\n",
    "    t.close()\n",
    "    raise\n",
    "t.close()"
   ]
  },
  {
   "cell_type": "raw",
   "id": "96e575d2-03b8-4aae-a0aa-54e30ca7869e",
   "metadata": {},
   "source": []
  },
  {
   "cell_type": "code",
   "execution_count": null,
   "id": "bfd56958-5274-451d-b19a-a4efe7144dd9",
   "metadata": {},
   "outputs": [],
   "source": []
  }
 ],
 "metadata": {
  "kernelspec": {
   "display_name": "Python (deepctr)",
   "language": "python",
   "name": "deepctr"
  },
  "language_info": {
   "codemirror_mode": {
    "name": "ipython",
    "version": 3
   },
   "file_extension": ".py",
   "mimetype": "text/x-python",
   "name": "python",
   "nbconvert_exporter": "python",
   "pygments_lexer": "ipython3",
   "version": "3.7.10"
  }
 },
 "nbformat": 4,
 "nbformat_minor": 5
}
