{
 "cells": [
  {
   "cell_type": "markdown",
   "id": "f356d0aa-89c2-446e-aee1-58b34cd2ca8d",
   "metadata": {},
   "source": [
    "# DSSM\n",
    "# data process"
   ]
  },
  {
   "cell_type": "code",
   "execution_count": 2,
   "id": "42be9b76-fcb7-4532-a8d9-17c20fc090d1",
   "metadata": {},
   "outputs": [],
   "source": [
    "import datetime\n",
    "import numpy as np\n",
    "import pandas as pd\n",
    "import joblib\n",
    "import warnings\n",
    "import logging\n",
    "import os\n",
    "import gc\n",
    "import matplotlib.pyplot as plt\n",
    "import matplotlib.patches as mpatches\n",
    "import seaborn as sns\n",
    "import collections\n",
    "import re\n",
    "import copy\n",
    "import torch\n",
    "import random\n",
    "import itertools\n",
    "\n",
    "import utils_\n",
    "\n",
    "from functools import reduce\n",
    "from tqdm import tqdm\n",
    "from dateutil.relativedelta import relativedelta\n",
    "from joblib import Parallel, delayed\n",
    "from scipy.stats import norm\n",
    "from sklearn.preprocessing import StandardScaler, MinMaxScaler, LabelEncoder\n",
    "from sklearn.model_selection import StratifiedKFold, train_test_split\n",
    "from sklearn.metrics import confusion_matrix, classification_report, roc_auc_score\n",
    "from sklearn.inspection import permutation_importance\n",
    "\n",
    "\n",
    "# pd.set_option('display.max_columns', None)\n",
    "# pd.set_option('max_row', 500)\n",
    "warnings.filterwarnings('ignore')\n",
    "tqdm.pandas(desc='pandas bar')"
   ]
  },
  {
   "cell_type": "code",
   "execution_count": null,
   "id": "58fe23e1-26d7-430d-8e43-cfa9473bcd06",
   "metadata": {},
   "outputs": [],
   "source": [
    "torch.__version__"
   ]
  },
  {
   "cell_type": "markdown",
   "id": "de97e911-a7d0-4af8-9c77-048714d62481",
   "metadata": {},
   "source": [
    "# 数据处理"
   ]
  },
  {
   "cell_type": "markdown",
   "id": "56bb2b7f-c62c-4e67-a98f-f78da0f2c275",
   "metadata": {},
   "source": [
    "* 样本id、绑定物料，正样本"
   ]
  },
  {
   "cell_type": "code",
   "execution_count": null,
   "id": "f2eb1d54-c3e8-4463-ba88-6cb45c3e736b",
   "metadata": {
    "tags": []
   },
   "outputs": [],
   "source": [
    "# df = pd.read_csv('../data/sample_bind_card_20221120_20221211.txt', sep='\\t', encoding='utf-8')\n",
    "# df = pd.read_csv('../data/sample_bind_card_20221218.txt', sep='\\t', encoding='utf-8')\n",
    "# df = pd.read_csv('../data/sample_bind_card_20230101.txt', sep='\\t', encoding='utf-8')\n",
    "# df = pd.read_csv('../data/sample_bind_card_20230219.txt', sep='\\t', encoding='utf-8')\n",
    "# df = pd.read_csv('../data/sample_bind_card_20230226.txt', sep='\\t', encoding='utf-8')\n",
    "# df = pd.read_csv('../data/sample_bind_card_20230604_20230625.txt', sep='\\t', encoding='utf-8')\n",
    "# df = pd.read_csv('../data/sample_bind_card_20230702.txt', sep='\\t', encoding='utf-8')\n",
    "# df = pd.read_csv('../data/sample_bind_card_increment_20230702.txt', sep='\\t', encoding='utf-8')\n",
    "# df = pd.read_csv('../data/sample_bind_card_20230730_20230820.txt', sep='\\t', encoding='utf-8')\n",
    "# df = pd.read_csv('../data/sample_bind_card_20230827.txt', sep='\\t', encoding='utf-8')\n",
    "# df = pd.read_csv('../data/sample_bind_card_increment_20230910.txt', sep='\\t', encoding='utf-8')\n",
    "# df = pd.read_csv('../data/sample_bind_card_increment_20230813_20230903.txt', sep='\\t', encoding='utf-8')\n",
    "# df = pd.read_csv('../data/other/balance_26/sample_bind_card_20231008_20231029.txt', sep='\\t', encoding='utf-8')\n",
    "# df = pd.read_csv('../data/other/balance_26/sample_bind_card_20231105.txt', sep='\\t', encoding='utf-8')\n",
    "# df = pd.read_csv('../data/other/balance_33/sample_bind_card_20240218_20240310.txt', sep='\\t', encoding='utf-8')\n",
    "df = pd.read_csv('../data/other/balance_33/sample_bind_card_20240225_20240317.txt', sep='\\t', encoding='utf-8')\n",
    "\n",
    "# df_1 = pd.read_csv('../data/sample_bind_card_20220925_20221113.txt', sep='\\t', encoding='utf-8')\n",
    "# df_2 = pd.read_csv('../data/sample_bind_card_20221120_20221211.txt', sep='\\t', encoding='utf-8')\n",
    "# print(df_1.shape)\n",
    "# print(df_2.shape)\n",
    "\n",
    "# df = pd.concat([df_1, df_2], axis=0)\n",
    "# df.reset_index(drop=True, inplace=True)\n",
    "\n",
    "print(df.shape)\n",
    "df.head()"
   ]
  },
  {
   "cell_type": "code",
   "execution_count": null,
   "id": "6bbbe808-ba5b-4214-98f9-a45602eec86c",
   "metadata": {},
   "outputs": [],
   "source": [
    "df.info()"
   ]
  },
  {
   "cell_type": "code",
   "execution_count": null,
   "id": "800f3e18-61b7-41d9-80f0-cbbf8f1a6849",
   "metadata": {
    "scrolled": true,
    "tags": []
   },
   "outputs": [],
   "source": [
    "df[['obs_dt', 'dt', 'uid']].groupby(by=['obs_dt', 'dt']).count()"
   ]
  },
  {
   "cell_type": "code",
   "execution_count": null,
   "id": "978b299c-3e42-40f5-aaa0-541ae81e07f1",
   "metadata": {},
   "outputs": [],
   "source": [
    "df['card'].unique()"
   ]
  },
  {
   "cell_type": "code",
   "execution_count": null,
   "id": "25d92b04-5b44-4cc8-b2c2-596d11d50a48",
   "metadata": {
    "scrolled": true,
    "tags": []
   },
   "outputs": [],
   "source": [
    "df['action_type'].value_counts()"
   ]
  },
  {
   "cell_type": "code",
   "execution_count": null,
   "id": "15217fdf-6667-4ee2-bfea-48380977e3fe",
   "metadata": {
    "scrolled": true,
    "tags": []
   },
   "outputs": [],
   "source": [
    "df['role'].value_counts()"
   ]
  },
  {
   "cell_type": "code",
   "execution_count": null,
   "id": "6ceaf3ac-c9c8-4fc5-85df-cd5545616b8c",
   "metadata": {},
   "outputs": [],
   "source": [
    "# 目标物料（新）\n",
    "list_card = [\n",
    "    'xxx'\n",
    "]\n",
    "print(len(list_card))"
   ]
  },
  {
   "cell_type": "code",
   "execution_count": null,
   "id": "8afca9d0-b117-4ad0-b663-e436cd81dbcc",
   "metadata": {},
   "outputs": [],
   "source": [
    "df_target = df[\n",
    "    (df['card'].isin(list_card))\n",
    "    # &(df['role']==1)\n",
    "    # &(~df['action_type'].isin([24, 29, 31]))\n",
    "]\n",
    "df_target.reset_index(drop=True, inplace=True)\n",
    "print(df_target.shape)\n",
    "df_target.head()"
   ]
  },
  {
   "cell_type": "code",
   "execution_count": null,
   "id": "3a55d365-4149-400c-9058-b79d80238400",
   "metadata": {
    "scrolled": true,
    "tags": []
   },
   "outputs": [],
   "source": [
    "df_target['action_type'].value_counts()"
   ]
  },
  {
   "cell_type": "code",
   "execution_count": null,
   "id": "d30c7dcd-0e0d-46cd-91ac-eb407027cf8f",
   "metadata": {
    "scrolled": true,
    "tags": []
   },
   "outputs": [],
   "source": [
    "df_target['role'].value_counts()"
   ]
  },
  {
   "cell_type": "code",
   "execution_count": null,
   "id": "d249af3f-0c19-4cf0-bed8-e3b1f604e21d",
   "metadata": {},
   "outputs": [],
   "source": [
    "df_target['card'].value_counts()"
   ]
  },
  {
   "cell_type": "code",
   "execution_count": null,
   "id": "2c82da2b-6d51-451f-a205-b9d417dfa9c1",
   "metadata": {
    "scrolled": true,
    "tags": []
   },
   "outputs": [],
   "source": [
    "df_target[df_target['card']=='xxx'][['obs_dt', 'dt', 'uid']].groupby(by=['obs_dt', 'dt']).count()"
   ]
  },
  {
   "cell_type": "markdown",
   "id": "c6bde0ce-b11a-4959-a941-4839e9bb8f9f",
   "metadata": {},
   "source": [
    "* 非目标物料手动生成负样本"
   ]
  },
  {
   "cell_type": "code",
   "execution_count": null,
   "id": "97886af6-09d4-4beb-82a9-217d1dde956d",
   "metadata": {},
   "outputs": [],
   "source": [
    "ser_card = df_target['card'].value_counts()\n",
    "dict_card_num = {k:v for k, v in ser_card.items()}\n",
    "dict_card_num"
   ]
  },
  {
   "cell_type": "code",
   "execution_count": null,
   "id": "c7a715c1-affb-4fc9-b996-2dff50bc9589",
   "metadata": {},
   "outputs": [],
   "source": [
    "list_card = list(dict_card_num.keys())\n",
    "list_card"
   ]
  },
  {
   "cell_type": "code",
   "execution_count": null,
   "id": "8f3a0500-0d60-420c-9317-9e2fb938b266",
   "metadata": {},
   "outputs": [],
   "source": [
    "dict_card_weight = {x:round(dict_card_num[x]/min(dict_card_num.values())) for x in list_card}\n",
    "dict_card_weight"
   ]
  },
  {
   "cell_type": "code",
   "execution_count": null,
   "id": "1adae9a0-179d-490b-a3c9-0fcd0b4ce765",
   "metadata": {},
   "outputs": [],
   "source": [
    "def func_combine(df_group, neg_ratio, replacement):\n",
    "    uid = df_group.head(1)['uid'].max()\n",
    "    obs_dt = df_group.head(1)['obs_dt'].max()\n",
    "    \n",
    "    list_target_pos = list(set(df_group['card']))\n",
    "    list_neg = list(itertools.chain.from_iterable([[x]*dict_card_weight[x] for x in list_card if x not in list_target_pos]))\n",
    "    \n",
    "    if replacement:\n",
    "        coef = len(list_target_pos) * neg_ratio\n",
    "        list_target_neg = []\n",
    "        \n",
    "        for i in range(coef):\n",
    "            list_target_neg.append(random.sample(list_neg, 1)[0])\n",
    "    else:\n",
    "        coef = len(list_target_pos) * neg_ratio // len(list_neg) + 1\n",
    "        list_neg = list_neg * coef\n",
    "\n",
    "        list_target_neg = random.sample(list_neg, len(list_target_pos)*neg_ratio)\n",
    "    \n",
    "    df_pos = pd.DataFrame({'uid': [uid] * len(list_target_pos), \n",
    "                           'obs_dt': [obs_dt] * len(list_target_pos), \n",
    "                           'card': list_target_pos, \n",
    "                           'label': [1] * len(list_target_pos)})\n",
    "    df_neg = pd.DataFrame({'uid': [uid] * len(list_target_neg), \n",
    "                           'obs_dt': [obs_dt] * len(list_target_neg), \n",
    "                           'card': list_target_neg, \n",
    "                           'label': [0] * len(list_target_neg)})\n",
    "    \n",
    "    df_res = pd.concat([df_pos, df_neg], axis=0)\n",
    "    \n",
    "    return df_res\n",
    "\n",
    "\n",
    "def func_combine_pos(df_group, neg_ratio, replacement):\n",
    "    uid = df_group.head(1)['uid'].max()\n",
    "    obs_dt = df_group.head(1)['obs_dt'].max()\n",
    "    \n",
    "    list_target_pos = list(set(df_group['card']))\n",
    "    \n",
    "    df_pos = pd.DataFrame({'uid': [uid] * len(list_target_pos), \n",
    "                           'obs_dt': [obs_dt] * len(list_target_pos), \n",
    "                           'card': list_target_pos, \n",
    "                           'label': [1] * len(list_target_pos)})\n",
    "    \n",
    "    return df_pos\n",
    "\n",
    "\n",
    "def apply_parallel(df_grouped, func, neg_ratio=1, replacement=False):\n",
    "    try:\n",
    "        with tqdm(df_grouped) as t:\n",
    "            list_paraller = Parallel(n_jobs=8)(delayed(func)(df_group, neg_ratio, replacement) for name, df_group in t)\n",
    "    except KeyboardInterrupt:\n",
    "        t.close()\n",
    "        raise\n",
    "    t.close()\n",
    "    \n",
    "    return list_paraller"
   ]
  },
  {
   "cell_type": "code",
   "execution_count": null,
   "id": "c6ed18a8-6958-462f-858a-a4915dffeda3",
   "metadata": {
    "tags": []
   },
   "outputs": [],
   "source": [
    "# 按周合并后去重\n",
    "df_target_grouped = df_target.groupby(by=['uid', 'obs_dt'])\n",
    "list_df_target_grouped_combine = apply_parallel(df_target_grouped, func_combine)\n",
    "# list_df_target_grouped_combine = apply_parallel(df_target_grouped, func_combine, neg_ratio=3)\n",
    "# list_df_target_grouped_combine = apply_parallel(df_target_grouped, func_combine, neg_ratio=3, replacement=True)\n",
    "# list_df_target_grouped_combine = apply_parallel(df_target_grouped, func_combine, neg_ratio=5)\n",
    "# list_df_target_grouped_combine = apply_parallel(df_target_grouped, func_combine_pos)\n",
    "df_target_grouped_combine = pd.concat(list_df_target_grouped_combine, axis=0)\n",
    "df_target_grouped_combine.reset_index(drop=True, inplace=True)\n",
    "print(df_target_grouped_combine.shape)\n",
    "df_target_grouped_combine.head()"
   ]
  },
  {
   "cell_type": "code",
   "execution_count": null,
   "id": "edc264d4-5470-4474-bbdd-7bd53b22cca3",
   "metadata": {
    "scrolled": true,
    "tags": []
   },
   "outputs": [],
   "source": [
    "pd.set_option('max_row', 500)\n",
    "df_target_grouped_combine[['card', 'label', 'uid']].groupby(by=['card', 'label']).count()"
   ]
  },
  {
   "cell_type": "code",
   "execution_count": null,
   "id": "f98211be-a477-4f6c-b215-b22016dd7ab7",
   "metadata": {},
   "outputs": [],
   "source": [
    "df_target_grouped_combine['label'].value_counts()"
   ]
  },
  {
   "cell_type": "code",
   "execution_count": null,
   "id": "c6ff4f84-d2e2-4926-b7ea-2dfd7a5139b0",
   "metadata": {},
   "outputs": [],
   "source": [
    "# 814989 / 271663\n",
    "# 124629 / 41543\n",
    "# 1358315 / 271663\n",
    "# 329055 / 329055\n",
    "# 51364 / 51364\n",
    "# 63678 / 63678\n",
    "# 148555 / 148555\n",
    "# 575690 / 575690\n",
    "# 870452 / 870452\n",
    "# 710879 / 710879\n",
    "# 569717 / 569717\n",
    "# 589657 / 589657\n",
    "842647 / 842647"
   ]
  },
  {
   "cell_type": "code",
   "execution_count": null,
   "id": "7e4e283d-490c-43df-953e-8f1fcc44f236",
   "metadata": {},
   "outputs": [],
   "source": [
    "# 正样本处理\n",
    "df_target_grouped_combine_pos = df_target_grouped_combine[df_target_grouped_combine['label']==1]\n",
    "df_target_grouped_combine_pos.reset_index(drop=True, inplace=True)\n",
    "print(df_target_grouped_combine_pos.shape)\n",
    "df_target_grouped_combine_pos.head()"
   ]
  },
  {
   "cell_type": "code",
   "execution_count": null,
   "id": "c6e0e396-ba52-47a7-8206-50bcc8922494",
   "metadata": {},
   "outputs": [],
   "source": [
    "# 正样本处理\n",
    "# 正样本周去重\n",
    "df_pos = df_target.groupby(by=['uid', 'obs_dt', 'card']).count()\n",
    "df_pos.reset_index(inplace=True)\n",
    "df_pos = df_pos[['uid', 'obs_dt', 'card']]\n",
    "df_pos['label'] = 1\n",
    "print(df_pos.shape)\n",
    "df_pos.head()"
   ]
  },
  {
   "cell_type": "code",
   "execution_count": null,
   "id": "bf9e0e84-4df4-4e50-8a8a-5e72457d1e8d",
   "metadata": {},
   "outputs": [],
   "source": [
    "# utils_.save_pickle(df_target_grouped_combine, '../data/df_sample_label_20221120_20221211.pickle')\n",
    "# utils_.save_pickle(df_target_grouped_combine, '../data/df_sample_label_20221218.pickle')\n",
    "# utils_.save_pickle(df_target_grouped_combine, '../data/df_sample_label_balance_20221120_20221211.pickle')\n",
    "# utils_.save_pickle(df_target_grouped_combine, '../data/df_sample_label_balance_20221218.pickle')\n",
    "# utils_.save_pickle(df_target_grouped_combine, '../data/df_sample_label_balance_3_neg_20221120_20221211.pickle')\n",
    "# utils_.save_pickle(df_target_grouped_combine, '../data/df_sample_label_balance_3_neg_20221218.pickle')\n",
    "# utils_.save_pickle(df_target_grouped_combine, '../data/df_sample_label_balance_5_neg_20221120_20221211.pickle')\n",
    "# utils_.save_pickle(df_target_grouped_combine, '../data/df_sample_label_balance_22_20221120_20221211.pickle')\n",
    "# utils_.save_pickle(df_target_grouped_combine, '../data/df_sample_label_balance_24_20230604_20230625.pickle')\n",
    "# utils_.save_pickle(df_target_grouped_combine, '../data/df_sample_label_balance_25_20230730_20230820.pickle')\n",
    "# utils_.save_pickle(df_target_grouped_combine, '../data/df_sample_label_balance_24_20230730_20230820.pickle')\n",
    "# utils_.save_pickle(df_target_grouped_combine, '../data/df_sample_label_increment_balance_24_20230813_20230903.pickle')\n",
    "# utils_.save_pickle(df_target_grouped_combine, '../data/other/balance_26/df_sample_label_balance_26_20231008_20231029.pickle')\n",
    "utils_.save_pickle(df_target_grouped_combine, '../data/other/balance_34/df_sample_label_balance_34_20240225_20240317.pickle')\n",
    "\n",
    "# utils_.save_pickle(df_target_grouped_combine_pos, '../data/df_sample_label_balance_pos_22_20221218.pickle')\n",
    "# utils_.save_pickle(df_target_grouped_combine_pos, '../data/df_sample_label_balance_pos_22_20230101.pickle')\n",
    "# utils_.save_pickle(df_target_grouped_combine_pos, '../data/df_sample_label_balance_pos_22_20230219.pickle')\n",
    "# utils_.save_pickle(df_pos, '../data/df_sample_label_pos_22_20220925_20221211.pickle')\n",
    "# utils_.save_pickle(df_pos, '../data/df_sample_label_pos_22_20230226.pickle')\n",
    "# utils_.save_pickle(df_pos, '../data/df_sample_label_pos_24_20230702.pickle')\n",
    "# utils_.save_pickle(df_pos, '../data/df_sample_label_pos_24_20230702.pickle')\n",
    "# utils_.save_pickle(df_pos, '../data/df_sample_label_increment_pos_24_20230702.pickle')\n",
    "# utils_.save_pickle(df_pos, '../data/df_sample_label_pos_25_20230827.pickle')\n",
    "# utils_.save_pickle(df_pos, '../data/df_sample_label_increment_pos_24_20230910.pickle')\n",
    "# utils_.save_pickle(df_pos, '../data/other/balance_26/df_sample_label_pos_26_20231105.pickle')"
   ]
  },
  {
   "cell_type": "code",
   "execution_count": null,
   "id": "23bad242-eead-4b11-9e14-ea9b0aee1952",
   "metadata": {},
   "outputs": [],
   "source": [
    "# df_target_grouped_combine = utils_.load_pickle('../data/df_sample_label_balance_24_20230604_20230625.pickle')\n",
    "# df_target_grouped_combine = utils_.load_pickle('../data/df_sample_label_balance_25_20230730_20230820.pickle')\n",
    "# df_target_grouped_combine = utils_.load_pickle('../data/df_sample_label_balance_24_20230730_20230820.pickle')\n",
    "# df_target_grouped_combine = utils_.load_pickle('../data/df_sample_label_increment_balance_24_20230813_20230903.pickle')\n",
    "# df_target_grouped_combine = utils_.load_pickle('../data/other/balance_26/df_sample_label_balance_26_20231008_20231029.pickle')\n",
    "df_target_grouped_combine = utils_.load_pickle('../data/other/balance_34/df_sample_label_balance_34_20240225_20240317.pickle')\n",
    "print(df_target_grouped_combine.shape)\n",
    "df_target_grouped_combine.head()\n",
    "\n",
    "# df_pos = utils_.load_pickle('../data/df_sample_label_pos_24_20230702.pickle')\n",
    "# df_pos = utils_.load_pickle('../data/df_sample_label_increment_pos_24_20230702.pickle')\n",
    "# df_pos = utils_.load_pickle('../data/df_sample_label_pos_25_20230827.pickle')\n",
    "# df_pos = utils_.load_pickle('../data/df_sample_label_increment_pos_24_20230910.pickle')\n",
    "# df_pos = utils_.load_pickle('../data/other/balance_26/df_sample_label_pos_26_20231105.pickle')\n",
    "# print(df_pos.shape)\n",
    "# df_pos.head()"
   ]
  },
  {
   "cell_type": "code",
   "execution_count": null,
   "id": "fe5e0e34-abd5-4b7f-9d73-f47785768775",
   "metadata": {},
   "outputs": [],
   "source": [
    "aaa = df_pos[['uid']].head(10)\n",
    "aaa"
   ]
  },
  {
   "cell_type": "code",
   "execution_count": null,
   "id": "78bb069b-586f-4586-891a-236cf1cfdf1d",
   "metadata": {},
   "outputs": [],
   "source": [
    "aaa.to_csv('uid.txt', sep='\\t', encoding='utf-8', index=False, header=False)"
   ]
  },
  {
   "cell_type": "code",
   "execution_count": null,
   "id": "25f0e1a6-5bc7-4731-b690-ffd4a596ac22",
   "metadata": {},
   "outputs": [],
   "source": [
    "df_target_grouped_combine['dt'] = None\n",
    "df_target_grouped_combine.head()\n",
    "\n",
    "# df_pos['dt'] = None\n",
    "# df_pos.head()"
   ]
  },
  {
   "cell_type": "code",
   "execution_count": null,
   "id": "638b2f3a-cc85-405d-bb1a-2e901cae1198",
   "metadata": {},
   "outputs": [],
   "source": [
    "# df_target_grouped_combine.to_csv('../data/df_sample_label_20221120_20221211.txt', sep='\\t', encoding='utf-8', index=False, header=False)\n",
    "# df_target_grouped_combine.to_csv('../data/df_sample_label_20221218.txt', sep='\\t', encoding='utf-8', index=False, header=False)\n",
    "# df_target_grouped_combine.to_csv('../data/df_sample_label_balance_20221120_20221211.txt', sep='\\t', encoding='utf-8', index=False, header=False)\n",
    "# df_target_grouped_combine.to_csv('../data/df_sample_label_balance_20221218.txt', sep='\\t', encoding='utf-8', index=False, header=False)\n",
    "# df_target_grouped_combine.to_csv('../data/df_sample_label_balance_3_neg_20221120_20221211.txt', sep='\\t', encoding='utf-8', index=False, header=False)\n",
    "# df_target_grouped_combine.to_csv('../data/df_sample_label_balance_3_neg_20221218.txt', sep='\\t', encoding='utf-8', index=False, header=False)\n",
    "# df_target_grouped_combine.to_csv('../data/df_sample_label_balance_22_20221120_20221211.txt', sep='\\t', encoding='utf-8', index=False, header=False)\n",
    "# df_target_grouped_combine.to_csv('../data/df_sample_label_balance_24_20230604_20230625.txt', sep='\\t', encoding='utf-8', index=False, header=False)\n",
    "# df_target_grouped_combine.to_csv('../data/df_sample_label_balance_25_20230730_20230820.txt', sep='\\t', encoding='utf-8', index=False, header=False)\n",
    "# df_target_grouped_combine.to_csv('../data/df_sample_label_balance_24_20230730_20230820.txt', sep='\\t', encoding='utf-8', index=False, header=False)\n",
    "# df_target_grouped_combine.to_csv('../data/df_sample_label_increment_balance_24_20230813_20230903.txt', sep='\\t', encoding='utf-8', index=False, header=False)\n",
    "# df_target_grouped_combine.to_csv('../data/other/balance_26/df_sample_label_balance_26_20231008_20231029.txt', sep='\\t', encoding='utf-8', index=False, header=False)\n",
    "df_target_grouped_combine.to_csv('../data/other/balance_34/df_sample_label_balance_34_20240225_20240317.txt', sep='\\t', encoding='utf-8', index=False, header=False)\n",
    "\n",
    "# df_target_grouped_combine_pos.to_csv('../data/df_sample_label_balance_pos_22_20221218.txt', sep='\\t', encoding='utf-8', index=False, header=False)\n",
    "# df_target_grouped_combine_pos.to_csv('../data/df_sample_label_balance_pos_22_20230101.txt', sep='\\t', encoding='utf-8', index=False, header=False)\n",
    "# df_target_grouped_combine_pos.to_csv('../data/df_sample_label_balance_pos_22_20230219.txt', sep='\\t', encoding='utf-8', index=False, header=False)\n",
    "# df_pos.to_csv('../data/df_sample_label_pos_22_20220925_20221211.txt', sep='\\t', encoding='utf-8', index=False, header=False)\n",
    "# df_pos.to_csv('../data/df_sample_label_pos_22_20230226.txt', sep='\\t', encoding='utf-8', index=False, header=False)\n",
    "# df_pos.to_csv('../data/df_sample_label_pos_24_20230702.txt', sep='\\t', encoding='utf-8', index=False, header=False)\n",
    "# df_pos.to_csv('../data/df_sample_label_increment_pos_24_20230702.txt', sep='\\t', encoding='utf-8', index=False, header=False)\n",
    "# df_pos.to_csv('../data/df_sample_label_pos_25_20230827.txt', sep='\\t', encoding='utf-8', index=False, header=False)\n",
    "# df_pos.to_csv('../data/df_sample_label_increment_pos_24_20230910.txt', sep='\\t', encoding='utf-8', index=False, header=False)\n",
    "# df_pos.to_csv('../data/other/balance_26/df_sample_label_pos_26_20231105.txt', sep='\\t', encoding='utf-8', index=False, header=False)"
   ]
  },
  {
   "cell_type": "markdown",
   "id": "063602da-dbdc-4d80-a03a-3f3b870b9212",
   "metadata": {},
   "source": [
    "* 匹配user特征"
   ]
  },
  {
   "cell_type": "code",
   "execution_count": null,
   "id": "fbe3b479-4f4a-4c8c-b3af-2e1d0e76b738",
   "metadata": {
    "scrolled": true,
    "tags": []
   },
   "outputs": [],
   "source": [
    "df_feats = pd.read_csv('../data/sample_label_feature_bfx_std_balance_20221120_20221211.txt', sep='\\t', encoding='utf-8')\n",
    "print(df_feats.shape)\n",
    "df_feats.head()"
   ]
  },
  {
   "cell_type": "code",
   "execution_count": null,
   "id": "fbf11e4e-a7ee-42b9-bc7e-bcb57e56d403",
   "metadata": {},
   "outputs": [],
   "source": [
    "df_feats = df_feats[df_feats['label']==1][[x for x in df_feats.columns if x not in ['card', 'label']]]\n",
    "df_feats.reset_index(drop=True, inplace=True)\n",
    "print(df_feats.shape)\n",
    "df_feats.head()"
   ]
  },
  {
   "cell_type": "code",
   "execution_count": null,
   "id": "05d9bddc-1a12-465e-833a-76539c0a633a",
   "metadata": {},
   "outputs": [],
   "source": [
    "df_feats_unique = df_feats.groupby(by=['uid', 'obs_dt']).max()\n",
    "df_feats_unique.reset_index(inplace=True)\n",
    "print(df_feats_unique.shape)\n",
    "df_feats_unique.head()"
   ]
  },
  {
   "cell_type": "code",
   "execution_count": null,
   "id": "2509a0e0-ede2-4fd5-a65b-bccd87c8ce85",
   "metadata": {},
   "outputs": [],
   "source": [
    "utils_.save_pickle(df_feats_unique, '../data/df_feats_20221120_20221211.pickle')"
   ]
  },
  {
   "cell_type": "markdown",
   "id": "ad51c096-f01c-4a05-89d6-cc96d56507b9",
   "metadata": {},
   "source": [
    "* item特征"
   ]
  },
  {
   "cell_type": "code",
   "execution_count": null,
   "id": "b71a8c45-c88c-4954-9995-c44e2068292a",
   "metadata": {},
   "outputs": [],
   "source": [
    "# df_item = pd.read_excel('../data/other/balance/dssm_item_features/物料特征.xlsx')\n",
    "df_item = pd.read_excel('../data/other/balance/dssm_item_features_batch_neg_22/物料特征22.xlsx')\n",
    "print(df_item.shape)\n",
    "df_item.head()"
   ]
  },
  {
   "cell_type": "code",
   "execution_count": null,
   "id": "16706aa0-95e2-4824-b32b-260c781b6370",
   "metadata": {},
   "outputs": [],
   "source": [
    "df_item['card'] = df_item['物料']\n",
    "df_item['card_id'] = df_item['物料编码']\n",
    "df_item.head()"
   ]
  },
  {
   "cell_type": "code",
   "execution_count": null,
   "id": "ea5d7a81-8635-43a2-8ea1-3406f247e21e",
   "metadata": {},
   "outputs": [],
   "source": [
    "# 物料类型，card_type\n",
    "df_item['card_type'] = df_item['物料类型']\n",
    "df_item['card_type'].value_counts()"
   ]
  },
  {
   "cell_type": "code",
   "execution_count": null,
   "id": "ba7c93ee-5066-4e24-8c32-c87628f051a8",
   "metadata": {},
   "outputs": [],
   "source": [
    "dict_feats_card_type = {\n",
    "    'aaa': 1, \n",
    "    'bbb': 2\n",
    "}\n",
    "\n",
    "df_item['card_type'].replace(dict_feats_card_type, inplace=True)\n",
    "df_item.head()"
   ]
  },
  {
   "cell_type": "code",
   "execution_count": null,
   "id": "9b9dc1f1-e32d-4cf9-879b-e77a3e0f5e63",
   "metadata": {},
   "outputs": [],
   "source": [
    "df_item[['物料类型', 'card_type', 'card']].groupby(['物料类型', 'card_type']).count()"
   ]
  },
  {
   "cell_type": "code",
   "execution_count": null,
   "id": "8b9da7b9-4b89-4390-a907-49f7d3715aed",
   "metadata": {},
   "outputs": [],
   "source": [
    "# 物料属性，item_type\n",
    "df_item['item_type'] = df_item['物料属性']\n",
    "df_item['item_type'].value_counts()"
   ]
  },
  {
   "cell_type": "code",
   "execution_count": null,
   "id": "2875a512-0336-4505-8cf2-69a2080ccf86",
   "metadata": {},
   "outputs": [],
   "source": [
    "dict_feats_item_type = {\n",
    "    '国有': 1, \n",
    "    '股份制': 2, \n",
    "    '城商': 3\n",
    "}\n",
    "\n",
    "df_item['item_type'].replace(dict_feats_item_type, inplace=True)\n",
    "df_item.head()"
   ]
  },
  {
   "cell_type": "code",
   "execution_count": null,
   "id": "e53c647f-b7fd-43ff-87fa-aae76beacefb",
   "metadata": {},
   "outputs": [],
   "source": [
    "df_item[['物料属性', 'item_type', 'card']].groupby(['物料属性', 'item_type']).count()"
   ]
  },
  {
   "cell_type": "code",
   "execution_count": null,
   "id": "1d48795c-769f-44be-950e-68f9bab30fc5",
   "metadata": {},
   "outputs": [],
   "source": [
    "# 物料成立时间, item_create_time\n",
    "df_item['物料成立时间'].value_counts()"
   ]
  },
  {
   "cell_type": "code",
   "execution_count": null,
   "id": "740520f2-f086-4de1-b9c4-f9d1b8a7bd0b",
   "metadata": {
    "scrolled": true,
    "tags": []
   },
   "outputs": [],
   "source": [
    "df_item['物料成立时期'] = df_item['物料成立时间'].apply(lambda x: '解放前' if x<=1945 \n",
    "                                                                      else '解放后~改革开放' if x<=1978 \n",
    "                                                                      else '改革开放~1989' if x <= 1989 \n",
    "                                                                      else '1989~1999' if x <= 1999 \n",
    "                                                                      else '21世纪')\n",
    "df_item[['物料成立时间', '物料成立时期']]"
   ]
  },
  {
   "cell_type": "code",
   "execution_count": null,
   "id": "059edeff-8b8d-47ac-8f3a-c2c69553e926",
   "metadata": {},
   "outputs": [],
   "source": [
    "df_item['item_create_time'] = df_item['物料成立时期']\n",
    "df_item['item_create_time'].value_counts()"
   ]
  },
  {
   "cell_type": "code",
   "execution_count": null,
   "id": "f774a96b-b1c0-415b-936b-abd4b6cc19b2",
   "metadata": {
    "scrolled": true,
    "tags": []
   },
   "outputs": [],
   "source": [
    "dict_feats_item_create_time = {\n",
    "    '解放前': 1, \n",
    "    '解放后~改革开放': 2, \n",
    "    '改革开放~1989': 3, \n",
    "    '1989~1999': 4, \n",
    "    '21世纪': 5\n",
    "}\n",
    "\n",
    "df_item['item_create_time'].replace(dict_feats_item_create_time, inplace=True)\n",
    "df_item.head()"
   ]
  },
  {
   "cell_type": "code",
   "execution_count": null,
   "id": "9f67edd9-af83-43d0-a9d0-33534ae9bf9a",
   "metadata": {},
   "outputs": [],
   "source": [
    "df_item[['物料成立时期', 'item_create_time', 'card']].groupby(['物料成立时期', 'item_create_time']).count()"
   ]
  },
  {
   "cell_type": "code",
   "execution_count": null,
   "id": "e2ecf4b4-333a-4b79-aa83-09849e0a7d32",
   "metadata": {},
   "outputs": [],
   "source": [
    "# 物料成立地点，item_create_city\n",
    "df_item['item_create_city'] = df_item['物料成立地点']\n",
    "df_item['item_create_city'].value_counts()"
   ]
  },
  {
   "cell_type": "code",
   "execution_count": null,
   "id": "b2084a32-9a5c-484b-8ef3-9f8cd7e55318",
   "metadata": {
    "scrolled": true,
    "tags": []
   },
   "outputs": [],
   "source": [
    "dict_feats_item_create_city = {\n",
    "    '北京': 1, \n",
    "    '上海': 2, \n",
    "    '广州': 3, \n",
    "    '深圳': 4, \n",
    "    '杭州': 5, \n",
    "    '南京': 6, \n",
    "    '长沙': 7, \n",
    "    '福州': 8\n",
    "}\n",
    "\n",
    "df_item['item_create_city'].replace(dict_feats_item_create_city, inplace=True)\n",
    "df_item.head()"
   ]
  },
  {
   "cell_type": "code",
   "execution_count": null,
   "id": "e681f946-b103-4ed4-857e-97efde8fcc86",
   "metadata": {},
   "outputs": [],
   "source": [
    "df_item[['物料成立地点', 'item_create_city', 'card']].groupby(['物料成立地点', 'item_create_city']).count()"
   ]
  },
  {
   "cell_type": "code",
   "execution_count": null,
   "id": "49eb1b5f-cc0c-4a00-9a08-093a5d008c25",
   "metadata": {},
   "outputs": [],
   "source": [
    "# 物料人员规模（2022.06），item_people_size_202206\n",
    "df_item['物料人员规模（2022.06）'].describe()"
   ]
  },
  {
   "cell_type": "code",
   "execution_count": null,
   "id": "5f13b198-fe05-4978-94d4-bd826b9c08de",
   "metadata": {},
   "outputs": [],
   "source": [
    "df_bins_index, list_bins = utils_.binning(df_item, '物料人员规模（2022.06）', method='st', parameter={'bins_thresholds': [-np.inf, 20000, 50000, 100000, 200000, 500000]})"
   ]
  },
  {
   "cell_type": "code",
   "execution_count": null,
   "id": "4a3aa7f8-0dca-464d-8a7a-a997cd03f4ec",
   "metadata": {},
   "outputs": [],
   "source": [
    "df_bins_index"
   ]
  },
  {
   "cell_type": "code",
   "execution_count": null,
   "id": "4074853a-de2e-4138-94f0-45711382faa1",
   "metadata": {},
   "outputs": [],
   "source": [
    "list_bins"
   ]
  },
  {
   "cell_type": "code",
   "execution_count": null,
   "id": "d40f2745-d376-48c4-9e7f-adc9361173a8",
   "metadata": {},
   "outputs": [],
   "source": [
    "df_item['item_people_size_202206'] = df_bins_index['物料人员规模（2022.06）_bins_index'] + 1\n",
    "df_item['item_people_size_202206'].value_counts()"
   ]
  },
  {
   "cell_type": "code",
   "execution_count": null,
   "id": "d587622a-5acc-4fbd-a228-89bf61b15306",
   "metadata": {},
   "outputs": [],
   "source": [
    "# 物料注册资本（万元），item_regist_capital\n",
    "df_item['物料注册资本（万元）'].describe()"
   ]
  },
  {
   "cell_type": "code",
   "execution_count": null,
   "id": "8df124e4-2c9b-402f-9f62-db38cce454cf",
   "metadata": {},
   "outputs": [],
   "source": [
    "df_bins_index, list_bins = utils_.binning(df_item, '物料注册资本（万元）', method='st', parameter={'bins_thresholds': [-np.inf, 2e6, 5e6, 1e7, 5e7]})"
   ]
  },
  {
   "cell_type": "code",
   "execution_count": null,
   "id": "f6efd7f8-5d88-4125-a166-d7f5dd07ff57",
   "metadata": {},
   "outputs": [],
   "source": [
    "df_bins_index"
   ]
  },
  {
   "cell_type": "code",
   "execution_count": null,
   "id": "077f8d9f-e007-436c-a8b0-849d42e11ed0",
   "metadata": {},
   "outputs": [],
   "source": [
    "list_bins"
   ]
  },
  {
   "cell_type": "code",
   "execution_count": null,
   "id": "a5befa67-d609-4c55-a288-18744394a933",
   "metadata": {},
   "outputs": [],
   "source": [
    "df_item['item_regist_capital'] = df_bins_index['物料注册资本（万元）_bins_index'] + 1\n",
    "df_item['item_regist_capital'].value_counts()"
   ]
  },
  {
   "cell_type": "code",
   "execution_count": null,
   "id": "63df2d70-17c5-4bc9-8f6c-90f0e6b1bc0c",
   "metadata": {},
   "outputs": [],
   "source": [
    "# 物料年营收（亿，2021FY），item_revenue_annual_2021\n",
    "df_item['物料年营收（亿，2021FY）'].describe()"
   ]
  },
  {
   "cell_type": "code",
   "execution_count": null,
   "id": "e41d012b-fdc4-40c2-99df-573f06d16296",
   "metadata": {},
   "outputs": [],
   "source": [
    "df_bins_index, list_bins = utils_.binning(df_item, '物料年营收（亿，2021FY）', method='st', parameter={'bins_thresholds': [-np.inf, 500, 1000, 2000, 5000, 10000]})"
   ]
  },
  {
   "cell_type": "code",
   "execution_count": null,
   "id": "9e0532e7-b31f-4a05-a43a-00a1375949c0",
   "metadata": {},
   "outputs": [],
   "source": [
    "df_bins_index"
   ]
  },
  {
   "cell_type": "code",
   "execution_count": null,
   "id": "00206bd4-54cc-4395-b872-4558931eecfd",
   "metadata": {},
   "outputs": [],
   "source": [
    "list_bins"
   ]
  },
  {
   "cell_type": "code",
   "execution_count": null,
   "id": "b128e0fc-ea69-47f3-bb2f-f9d6b494613a",
   "metadata": {},
   "outputs": [],
   "source": [
    "df_item['item_revenue_annual_2021'] = df_bins_index['物料年营收（亿，2021FY）_bins_index'] + 1\n",
    "df_item['item_revenue_annual_2021'].value_counts()"
   ]
  },
  {
   "cell_type": "code",
   "execution_count": null,
   "id": "2c678c19-6ce7-4c96-b734-b2202715289f",
   "metadata": {},
   "outputs": [],
   "source": [
    "# 物料年利润（亿，2021FY），item_profit_annual_2021\n",
    "df_item['物料年利润（亿，2021FY）'].describe()"
   ]
  },
  {
   "cell_type": "code",
   "execution_count": null,
   "id": "b5ea0833-0bdc-491f-bc78-5a3b3d022bba",
   "metadata": {},
   "outputs": [],
   "source": [
    "df_bins_index, list_bins = utils_.binning(df_item, '物料年利润（亿，2021FY）', method='st', parameter={'bins_thresholds': [-np.inf, 200, 500, 1000, 5000]})"
   ]
  },
  {
   "cell_type": "code",
   "execution_count": null,
   "id": "644a5bbb-f219-45b2-927c-d83292289f66",
   "metadata": {},
   "outputs": [],
   "source": [
    "df_bins_index"
   ]
  },
  {
   "cell_type": "code",
   "execution_count": null,
   "id": "813f4478-48c0-44d9-8667-2f883d75388a",
   "metadata": {},
   "outputs": [],
   "source": [
    "list_bins"
   ]
  },
  {
   "cell_type": "code",
   "execution_count": null,
   "id": "95f8e15e-84c4-4236-bf88-33212ea0b312",
   "metadata": {},
   "outputs": [],
   "source": [
    "df_item['item_profit_annual_2021'] = df_bins_index['物料年利润（亿，2021FY）_bins_index'] + 1\n",
    "df_item['item_profit_annual_2021'].value_counts()"
   ]
  },
  {
   "cell_type": "code",
   "execution_count": null,
   "id": "18e1ad6b-faf1-49f0-9a33-c07df21c26ce",
   "metadata": {
    "scrolled": true,
    "tags": []
   },
   "outputs": [],
   "source": [
    "# 物料年利润（亿，2021FY）占比，item_profit_ratio_annual_2021\n",
    "df_item['物料年利润（亿，2021FY）占比'] = df_item['物料年利润（亿，2021FY）'] / df_item['物料年营收（亿，2021FY）']\n",
    "df_item[['物料年营收（亿，2021FY）', '物料年利润（亿，2021FY）', '物料年利润（亿，2021FY）占比']]"
   ]
  },
  {
   "cell_type": "code",
   "execution_count": null,
   "id": "b5438a66-add6-4ab3-adab-304b5c4426c8",
   "metadata": {},
   "outputs": [],
   "source": [
    "df_item['物料年利润（亿，2021FY）占比'].describe()"
   ]
  },
  {
   "cell_type": "code",
   "execution_count": null,
   "id": "77553088-6fcd-4a74-9504-4f22f68eb6f2",
   "metadata": {},
   "outputs": [],
   "source": [
    "df_bins_index, list_bins = utils_.binning(df_item, '物料年利润（亿，2021FY）占比', method='st', parameter={'bins_thresholds': [-np.inf, 0.3, 0.35, 0.4, 0.45, 0.5]})"
   ]
  },
  {
   "cell_type": "code",
   "execution_count": null,
   "id": "ddb50781-0a3f-4828-be77-d6798fdb8d26",
   "metadata": {},
   "outputs": [],
   "source": [
    "df_bins_index"
   ]
  },
  {
   "cell_type": "code",
   "execution_count": null,
   "id": "4d2027b6-7df4-4783-8844-de9ec35edb1d",
   "metadata": {},
   "outputs": [],
   "source": [
    "list_bins"
   ]
  },
  {
   "cell_type": "code",
   "execution_count": null,
   "id": "595d5c1b-f737-45a2-9e0e-23f3977cd202",
   "metadata": {},
   "outputs": [],
   "source": [
    "df_item['item_profit_ratio_annual_2021'] = df_bins_index['物料年利润（亿，2021FY）占比_bins_index'] + 1\n",
    "df_item['item_profit_ratio_annual_2021'].value_counts()"
   ]
  },
  {
   "cell_type": "code",
   "execution_count": null,
   "id": "6c31db0d-6329-4bd0-b3f3-394d3a860217",
   "metadata": {},
   "outputs": [],
   "source": [
    "# 股东数量（万，2021.12.31），item_stock_people_size\n",
    "df_item['股东数量（万，2021.12.31）'].describe()"
   ]
  },
  {
   "cell_type": "code",
   "execution_count": null,
   "id": "1983004e-9871-4940-90e9-3747c9b05fec",
   "metadata": {},
   "outputs": [],
   "source": [
    "df_bins_index, list_bins = utils_.binning(df_item, '股东数量（万，2021.12.31）', method='st', parameter={'bins_thresholds': [-np.inf, 20, 50, 100]})"
   ]
  },
  {
   "cell_type": "code",
   "execution_count": null,
   "id": "32a901fc-5d31-4c58-b38a-31ff545f6787",
   "metadata": {},
   "outputs": [],
   "source": [
    "df_bins_index"
   ]
  },
  {
   "cell_type": "code",
   "execution_count": null,
   "id": "114c1cc3-a638-4749-9605-fb8296d40bad",
   "metadata": {},
   "outputs": [],
   "source": [
    "list_bins"
   ]
  },
  {
   "cell_type": "code",
   "execution_count": null,
   "id": "a9bf444e-ccd8-435e-accb-161ee9169ced",
   "metadata": {},
   "outputs": [],
   "source": [
    "df_item['item_stock_people_size'] = df_bins_index['股东数量（万，2021.12.31）_bins_index'] + 2\n",
    "df_item['item_stock_people_size'].value_counts()"
   ]
  },
  {
   "cell_type": "code",
   "execution_count": null,
   "id": "83dd1d30-7b4a-4b5a-a6e0-9827809e6b84",
   "metadata": {},
   "outputs": [],
   "source": [
    "# 是否港股上市，item_is_hk_stock\n",
    "df_item['item_is_hk_stock'] = df_item['是否港股上市']\n",
    "df_item['item_is_hk_stock'].value_counts()"
   ]
  },
  {
   "cell_type": "code",
   "execution_count": null,
   "id": "e5415cf7-967a-4697-8c7a-a39e0b3e91c3",
   "metadata": {},
   "outputs": [],
   "source": [
    "dict_feats_item_is_hk_stock = {\n",
    "    '未上市': 1, \n",
    "    '否': 2, \n",
    "    '是': 3\n",
    "}\n",
    "\n",
    "df_item['item_is_hk_stock'].replace(dict_feats_item_is_hk_stock, inplace=True)\n",
    "df_item.head()"
   ]
  },
  {
   "cell_type": "code",
   "execution_count": null,
   "id": "7957d7cc-1720-4ed3-8262-746d3c95f973",
   "metadata": {},
   "outputs": [],
   "source": [
    "df_item[['是否港股上市', 'item_is_hk_stock', 'card']].groupby(['是否港股上市', 'item_is_hk_stock']).count()"
   ]
  },
  {
   "cell_type": "code",
   "execution_count": null,
   "id": "f8126dc4-10fa-4a35-836c-515bcd0d4527",
   "metadata": {},
   "outputs": [],
   "source": [
    "df_item_ = df_item[['card', 'card_id', \n",
    "                    'card_type', 'item_type', 'item_create_time', 'item_create_city', 'item_people_size_202206', \n",
    "                    'item_regist_capital', 'item_revenue_annual_2021', 'item_profit_annual_2021', 'item_profit_ratio_annual_2021', 'item_stock_people_size', \n",
    "                    'item_is_hk_stock']]\n",
    "print(df_item_.shape)\n",
    "df_item_.head()"
   ]
  },
  {
   "cell_type": "code",
   "execution_count": null,
   "id": "740faa79-af8e-40b0-94ce-6bcb40655abd",
   "metadata": {},
   "outputs": [],
   "source": [
    "# df_item_.to_csv('../data/other/balance/dssm_item_features/item_feats.txt', sep='\\t', encoding='utf-8', index=False, header=False)\n",
    "df_item_.to_csv('../data/other/balance/dssm_item_features_batch_neg_22/item_feats.txt', sep='\\t', encoding='utf-8', index=False, header=False)"
   ]
  },
  {
   "cell_type": "code",
   "execution_count": null,
   "id": "c51caf03-5f80-46e9-a54d-a5dc16f27794",
   "metadata": {},
   "outputs": [],
   "source": [
    "# utils_.save_pickle(df_item_, '../data/other/balance/dssm_item_features/item_feats.pickle')\n",
    "utils_.save_pickle(df_item_, '../data/other/balance/dssm_item_features_batch_neg_22/item_feats.pickle')"
   ]
  },
  {
   "cell_type": "code",
   "execution_count": null,
   "id": "bf2b15a8-405f-4d4c-8ddb-d3da96daaa03",
   "metadata": {},
   "outputs": [],
   "source": [
    "# df_item_ = utils_.load_pickle('../data/other/balance/dssm_item_features/item_feats.pickle')\n",
    "df_item_ = utils_.load_pickle('../data/other/balance/dssm_item_features_batch_neg_22/item_feats.pickle')\n",
    "print(df_item_.shape)\n",
    "df_item_.head()"
   ]
  },
  {
   "cell_type": "code",
   "execution_count": null,
   "id": "2d9e9d1c-bf9b-4383-b19f-0d2b254dd8ad",
   "metadata": {},
   "outputs": [],
   "source": [
    "# dict_lbe_item = joblib.load('../data/other/balance/dssm_item_features_3_neg/dict_lbe_item.pickle')\n",
    "# item_sparse_feats = utils_.load_pickle('../data/other/balance/dssm_item_features_3_neg/list_item_sparse_feats.pickle')\n",
    "dict_lbe_item = joblib.load('../data/other/balance/dssm_item_features_batch_neg_22/dict_lbe_item.pickle')\n",
    "item_sparse_feats = utils_.load_pickle('../data/other/balance/dssm_item_features_batch_neg_22/list_item_sparse_feats.pickle')\n",
    "for x in item_sparse_feats:\n",
    "    print(x, dict_lbe_item[x].classes_)"
   ]
  },
  {
   "cell_type": "code",
   "execution_count": null,
   "id": "2f25730a-c0de-4486-a83c-755ced2ef9d8",
   "metadata": {},
   "outputs": [],
   "source": [
    "list_X_all_item_sparse = []\n",
    "\n",
    "try:\n",
    "    with tqdm(item_sparse_feats) as t:\n",
    "        for x in t:\n",
    "            # list_feat_values_unseen = list(set(df_user_item[x].unique())-set(dict_lbe_item[x].classes_))\n",
    "            # if len(list_feat_values_unseen) > 0:\n",
    "            #     print(x)\n",
    "            #     df_user_item[x].replace(list_feat_values_unseen, 16, inplace=True)\n",
    "            df_X_all_item_sparse_each = pd.DataFrame(dict_lbe_item[x].transform(df_item_[x]), columns=[x])\n",
    "            list_X_all_item_sparse.append(df_X_all_item_sparse_each)\n",
    "except KeyboardInterrupt:\n",
    "    t.close()\n",
    "    raise\n",
    "t.close()\n",
    "\n",
    "df_X_all_item_sparse = pd.concat([df_item_[['card']]]+list_X_all_item_sparse, axis=1)\n",
    "print(df_X_all_item_sparse.shape)\n",
    "df_X_all_item_sparse"
   ]
  },
  {
   "cell_type": "code",
   "execution_count": null,
   "id": "dade758d-68ae-4517-baf7-3a14356d2d39",
   "metadata": {},
   "outputs": [],
   "source": [
    "df_X_all_item_sparse.to_csv('../data/other/balance/dssm_item_features/item_feats_transform.csv', encoding='utf-8', index=False)\n",
    "df_X_all_item_sparse.to_excel('../data/other/balance/dssm_item_features/item_feats_transform.xlsx', encoding='utf-8', index=False)"
   ]
  }
 ],
 "metadata": {
  "kernelspec": {
   "display_name": "Python (deepctr)",
   "language": "python",
   "name": "deepctr"
  },
  "language_info": {
   "codemirror_mode": {
    "name": "ipython",
    "version": 3
   },
   "file_extension": ".py",
   "mimetype": "text/x-python",
   "name": "python",
   "nbconvert_exporter": "python",
   "pygments_lexer": "ipython3",
   "version": "3.7.10"
  }
 },
 "nbformat": 4,
 "nbformat_minor": 5
}
