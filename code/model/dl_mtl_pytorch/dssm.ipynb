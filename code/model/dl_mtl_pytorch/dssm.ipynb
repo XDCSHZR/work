{
 "cells": [
  {
   "cell_type": "markdown",
   "id": "f356d0aa-89c2-446e-aee1-58b34cd2ca8d",
   "metadata": {},
   "source": [
    "# DSSM\n",
    "# model"
   ]
  },
  {
   "cell_type": "code",
   "execution_count": 2,
   "id": "42be9b76-fcb7-4532-a8d9-17c20fc090d1",
   "metadata": {},
   "outputs": [],
   "source": [
    "import datetime\n",
    "import numpy as np\n",
    "import pandas as pd\n",
    "import joblib\n",
    "import warnings\n",
    "import logging\n",
    "import os\n",
    "import gc\n",
    "import matplotlib.pyplot as plt\n",
    "import matplotlib.patches as mpatches\n",
    "import seaborn as sns\n",
    "import collections\n",
    "import re\n",
    "import copy\n",
    "import torch\n",
    "import utils.utils as util\n",
    "\n",
    "import utils_\n",
    "\n",
    "from functools import reduce\n",
    "from tqdm import tqdm\n",
    "from dateutil.relativedelta import relativedelta\n",
    "from joblib import Parallel, delayed\n",
    "from scipy.stats import norm\n",
    "from sklearn.preprocessing import StandardScaler, MinMaxScaler, LabelEncoder\n",
    "from sklearn.model_selection import StratifiedKFold, train_test_split\n",
    "from sklearn.metrics import confusion_matrix, classification_report, roc_auc_score\n",
    "from sklearn.inspection import permutation_importance\n",
    "from model.dssm_embedding import DSSM\n",
    "from torch.utils.data import DataLoader\n",
    "from utils.dataset import DatasetLoader, DatasetLoader_X, DatasetLoader_w\n",
    "\n",
    "\n",
    "# pd.set_option('display.max_columns', None)\n",
    "# pd.set_option('max_row', 500)\n",
    "warnings.filterwarnings('ignore')\n",
    "tqdm.pandas(desc='pandas bar')"
   ]
  },
  {
   "cell_type": "code",
   "execution_count": null,
   "id": "58fe23e1-26d7-430d-8e43-cfa9473bcd06",
   "metadata": {},
   "outputs": [],
   "source": [
    "torch.__version__"
   ]
  },
  {
   "cell_type": "markdown",
   "id": "de97e911-a7d0-4af8-9c77-048714d62481",
   "metadata": {},
   "source": [
    "## 数据处理"
   ]
  },
  {
   "cell_type": "code",
   "execution_count": null,
   "id": "107d71d6-ab97-404c-8b7c-c38c24ac84a0",
   "metadata": {
    "scrolled": true,
    "tags": []
   },
   "outputs": [],
   "source": [
    "# user\n",
    "# 目标物料22\n",
    "# fusion + aspiration + v2 imp + app dd + item 特征，629\n",
    "# 2022.11.20~2022.12.11\n",
    "df = utils_.load_pickle('../data/other/balance/feats/df_ht_v2_995_22_ohe_20221120_20221211.pickle')\n",
    "\n",
    "print(df.shape)\n",
    "df.head()"
   ]
  },
  {
   "cell_type": "code",
   "execution_count": null,
   "id": "be2ab53a-883a-42ae-9a26-cb78b8dfc415",
   "metadata": {},
   "outputs": [],
   "source": [
    "df['obs_dt'].value_counts()"
   ]
  },
  {
   "cell_type": "code",
   "execution_count": null,
   "id": "f9c0ca62-c69f-4574-86a6-529159c0305e",
   "metadata": {},
   "outputs": [],
   "source": [
    "df['label'].value_counts()"
   ]
  },
  {
   "cell_type": "code",
   "execution_count": null,
   "id": "59465a3e-6ce8-4eb7-a2ad-c55f06499b91",
   "metadata": {},
   "outputs": [],
   "source": [
    "329055 / 329055"
   ]
  },
  {
   "cell_type": "code",
   "execution_count": null,
   "id": "ac81605c-31e7-4af9-aa12-55639c4aa3e1",
   "metadata": {
    "scrolled": true,
    "tags": []
   },
   "outputs": [],
   "source": [
    "df[['card', 'card_id', 'label', 'uid']].groupby(by=['card', 'card_id', 'label']).count()"
   ]
  },
  {
   "cell_type": "code",
   "execution_count": null,
   "id": "b23e62ea-9eec-41be-aa61-7728c2ec5a0f",
   "metadata": {},
   "outputs": [],
   "source": [
    "list_feats_id_dt_card_y = ['uid', 'obs_dt', 'card', 'label']\n",
    "\n",
    "list_feats_x_ht_fusion = utils_.load_pickle('../data/other/balance/feats/list_feats/list_feats_x_ht_v2_995_fusion_20221120_20221211.pickle')\n",
    "list_feats_x_ht_aspiration_part1 = utils_.load_pickle('../data/other/balance/feats/list_feats/list_feats_x_ht_v2_995_aspiration_part1_20221120_20221211.pickle')\n",
    "list_feats_x_ht_aspiration_part2 = utils_.load_pickle('../data/other/balance/feats/list_feats/list_feats_x_ht_aspiration_part2_20221120_20221211.pickle')\n",
    "\n",
    "print(len(list_feats_x_ht_fusion))\n",
    "print(len(list_feats_x_ht_aspiration_part1))\n",
    "print(len(list_feats_x_ht_aspiration_part2))"
   ]
  },
  {
   "cell_type": "code",
   "execution_count": null,
   "id": "c673fbd5-5253-44a6-ae06-baa5b5e24075",
   "metadata": {
    "scrolled": true,
    "tags": []
   },
   "outputs": [],
   "source": [
    "df_user = df[list_feats_id_dt_card_y+\n",
    "             list_feats_x_ht_fusion+\n",
    "             list_feats_x_ht_aspiration_part1+\n",
    "             list_feats_x_ht_aspiration_part2+\n",
    "             ['card_id']\n",
    "            ]\n",
    "print(df_user.shape)\n",
    "df_user.head()"
   ]
  },
  {
   "cell_type": "code",
   "execution_count": null,
   "id": "1bb7c7e1-3a62-4031-8c4b-a61ff8334064",
   "metadata": {
    "scrolled": true,
    "tags": []
   },
   "outputs": [],
   "source": [
    "# item\n",
    "df_item = utils_.load_pickle('../data/other/balance/dssm_item_features_batch_neg_22/bank_feats.pickle')\n",
    "print(df_item.shape)\n",
    "df_item.head()"
   ]
  },
  {
   "cell_type": "code",
   "execution_count": null,
   "id": "4ee94eb3-0c07-4f1b-90c4-b85c86a0de17",
   "metadata": {
    "scrolled": true,
    "tags": []
   },
   "outputs": [],
   "source": [
    "%%time\n",
    "df_user_item = df_user.merge(df_item, on=['card', 'card_id'], how='left')\n",
    "print(df_user_item.shape)\n",
    "df_user_item.head()"
   ]
  },
  {
   "cell_type": "code",
   "execution_count": null,
   "id": "bbe089c0-ffb2-4be2-99a2-5390ea89d34b",
   "metadata": {},
   "outputs": [],
   "source": [
    "df_user_item_des = utils_.df_des(df_user_item)\n",
    "df_user_item_des[df_user_item_des['Miss Percent(%)']>0]"
   ]
  },
  {
   "cell_type": "code",
   "execution_count": null,
   "id": "0ce8b78c-86ea-4438-b4de-2ccc29b6a4a0",
   "metadata": {},
   "outputs": [],
   "source": [
    "utils_.save_pickle(df_user_item, '../data/other/balance/dssm_item_features_batch_neg_22/df_ht_v2_995_22_item_feats_20221120_20221211.pickle')"
   ]
  },
  {
   "cell_type": "markdown",
   "id": "0da3e837-34e7-4e8d-9496-8a61959b75fd",
   "metadata": {},
   "source": [
    "* 目标物料22，只取正样本\n",
    "* batch内负采样 + google双塔\n",
    "* ht v2 995 526 + item feats 12 = 538\n",
    "* 2022.11.20~2022.12.11"
   ]
  },
  {
   "cell_type": "code",
   "execution_count": null,
   "id": "d681cadb-f0f3-4cbd-b9cb-3c75ec1e05a3",
   "metadata": {
    "scrolled": true,
    "tags": []
   },
   "outputs": [],
   "source": [
    "df = utils_.load_pickle('../data/other/balance/dssm_item_features_batch_neg_22/df_ht_v2_995_22_item_feats_20221120_20221211.pickle')\n",
    "print(df.shape)\n",
    "df.head()"
   ]
  },
  {
   "cell_type": "code",
   "execution_count": null,
   "id": "41348c2a-18ef-45a4-9ab2-b2703c4ea8f8",
   "metadata": {
    "scrolled": true,
    "tags": []
   },
   "outputs": [],
   "source": [
    "df_pos = df[df['label']==1]\n",
    "df_pos.reset_index(drop=True, inplace=True)\n",
    "print(df_pos.shape)\n",
    "df_pos.head()"
   ]
  },
  {
   "cell_type": "code",
   "execution_count": null,
   "id": "2554ce2a-6940-4ab3-9294-952281ca0aa2",
   "metadata": {},
   "outputs": [],
   "source": [
    "df_pos['card'].value_counts()"
   ]
  },
  {
   "cell_type": "code",
   "execution_count": null,
   "id": "e14ea6eb-c548-4159-9135-843cd2eb1e30",
   "metadata": {
    "scrolled": true,
    "tags": []
   },
   "outputs": [],
   "source": [
    "df_pos[['card', 'card_id', 'label', 'uid']].groupby(by=['card', 'card_id', 'label']).count()"
   ]
  },
  {
   "cell_type": "code",
   "execution_count": null,
   "id": "d02b3e6f-ca4c-4c72-937c-983c3412acf8",
   "metadata": {},
   "outputs": [],
   "source": [
    "# 划分训练集（含验证集）&测试集，8:2，80%\n",
    "df_pos_train, df_pos_test = train_test_split(df_pos, test_size=0.2, random_state=2023)\n",
    "print(df_pos_train.shape)\n",
    "print(df_pos_test.shape)"
   ]
  },
  {
   "cell_type": "code",
   "execution_count": null,
   "id": "b35ad083-ad46-473f-93a0-1540730495ff",
   "metadata": {},
   "outputs": [],
   "source": [
    "# 划分训练集&验证集，9:1，90%\n",
    "df_pos_train_train, df_pos_train_eval = train_test_split(df_pos_train, test_size=0.1, random_state=2023)\n",
    "print(df_pos_train_train.shape)\n",
    "print(df_pos_train_eval.shape)"
   ]
  },
  {
   "cell_type": "code",
   "execution_count": null,
   "id": "2a0815b2-24ad-430b-8a72-914298d7b05b",
   "metadata": {},
   "outputs": [],
   "source": [
    "df_pos_train_train_id = df_pos_train_train[['uid', 'obs_dt', 'card']]\n",
    "df_pos_train_train_y = df_pos_train_train['label']\n",
    "df_pos_train_train_X = df_pos_train_train[[x for x in df_pos_train_train.columns if x not in ['uid', 'obs_dt', 'card', 'label']]]\n",
    "print(df_pos_train_train_id.shape)\n",
    "print(df_pos_train_train_y.shape)\n",
    "print(df_pos_train_train_X.shape)\n",
    "\n",
    "df_pos_train_eval_id = df_pos_train_eval[['uid', 'obs_dt', 'card']]\n",
    "df_pos_train_eval_y = df_pos_train_eval['label']\n",
    "df_pos_train_eval_X = df_pos_train_eval[[x for x in df_pos_train_eval.columns if x not in ['uid', 'obs_dt', 'card', 'label']]]\n",
    "print(df_pos_train_eval_id.shape)\n",
    "print(df_pos_train_eval_y.shape)\n",
    "print(df_pos_train_eval_X.shape)\n",
    "\n",
    "df_pos_test_id = df_pos_test[['uid', 'obs_dt', 'card']]\n",
    "df_pos_test_y = df_pos_test['label']\n",
    "df_pos_test_X = df_pos_test[[x for x in df_pos_train.columns if x not in ['uid', 'obs_dt', 'card', 'label']]]\n",
    "print(df_pos_test_id.shape)\n",
    "print(df_pos_test_y.shape)\n",
    "print(df_pos_test_X.shape)"
   ]
  },
  {
   "cell_type": "code",
   "execution_count": null,
   "id": "2277efa0-2be2-41d2-8c6d-bef6968a8b59",
   "metadata": {},
   "outputs": [],
   "source": [
    "utils_.save_pickle(df_pos_train_train_id, '../data/other/balance/dssm_item_features_batch_neg_22/df_pos_id_train_train_ht_v2_995_22_item_feats_20221120_20221211.pickle')\n",
    "utils_.save_pickle(df_pos_train_train_y, '../data/other/balance/dssm_item_features_batch_neg_22/df_pos_y_train_train_ht_v2_995_22_item_feats_20221120_20221211.pickle')\n",
    "utils_.save_pickle(df_pos_train_train_X, '../data/other/balance/dssm_item_features_batch_neg_22/df_pos_X_train_train_ht_v2_995_22_item_feats_20221120_20221211.pickle')\n",
    "\n",
    "utils_.save_pickle(df_pos_train_eval_id, '../data/other/balance/dssm_item_features_batch_neg_22/df_pos_id_train_eval_ht_v2_995_22_item_feats_20221120_20221211.pickle')\n",
    "utils_.save_pickle(df_pos_train_eval_y, '../data/other/balance/dssm_item_features_batch_neg_22/df_pos_y_train_eval_ht_v2_995_22_item_feats_20221120_20221211.pickle')\n",
    "utils_.save_pickle(df_pos_train_eval_X, '../data/other/balance/dssm_item_features_batch_neg_22/df_pos_X_train_eval_ht_v2_995_22_item_feats_20221120_20221211.pickle')\n",
    "\n",
    "utils_.save_pickle(df_pos_test_id, '../data/other/balance/dssm_item_features_batch_neg_22/df_pos_id_test_ht_v2_995_22_item_feats_20221120_20221211.pickle')\n",
    "utils_.save_pickle(df_pos_test_y, '../data/other/balance/dssm_item_features_batch_neg_22/df_pos_y_test_ht_v2_995_22_item_feats_20221120_20221211.pickle')\n",
    "utils_.save_pickle(df_pos_test_X, '../data/other/balance/dssm_item_features_batch_neg_22/df_pos_X_test_ht_v2_995_22_item_feats_20221120_20221211.pickle')"
   ]
  },
  {
   "cell_type": "markdown",
   "id": "d86b4c3d-49d5-450f-bd97-267b30868df4",
   "metadata": {},
   "source": [
    "## 入参处理"
   ]
  },
  {
   "cell_type": "markdown",
   "id": "932797e0-cdac-470a-ac9a-4131e9b06d83",
   "metadata": {},
   "source": [
    "* 训练集"
   ]
  },
  {
   "cell_type": "code",
   "execution_count": null,
   "id": "03ff801e-cdfd-4677-a01f-d41abf75b6ad",
   "metadata": {},
   "outputs": [],
   "source": [
    "df_pos_train_train_id = utils_.load_pickle('../data/other/balance/dssm_item_features_batch_neg_22/df_pos_id_train_train_ht_v2_995_22_item_feats_20221120_20221211.pickle')\n",
    "df_pos_train_train_y = utils_.load_pickle('../data/other/balance/dssm_item_features_batch_neg_22/df_pos_y_train_train_ht_v2_995_22_item_feats_20221120_20221211.pickle')\n",
    "df_pos_train_train_X = utils_.load_pickle('../data/other/balance/dssm_item_features_batch_neg_22/df_pos_X_train_train_ht_v2_995_22_item_feats_20221120_20221211.pickle')\n",
    "\n",
    "print(df_pos_train_train_id.shape)\n",
    "print(df_pos_train_train_y.shape)\n",
    "print(df_pos_train_train_X.shape)"
   ]
  },
  {
   "cell_type": "code",
   "execution_count": null,
   "id": "d21f6fe5-6015-4c01-870e-b66a1b95df13",
   "metadata": {},
   "outputs": [],
   "source": [
    "item_feats = [\n",
    "    'xxx'\n",
    "]\n",
    "\n",
    "user_sparse_feats = [\n",
    "    'xxx'\n",
    "]\n",
    "user_sparse_feats = [x for x in df_pos_train_train_X.columns if x in user_sparse_feats]\n",
    "user_dense_feats = [x for x in df_pos_train_train_X.columns if x not in user_sparse_feats+item_feats]\n",
    "\n",
    "item_sparse_feats = [\n",
    "    'xxx'\n",
    "]\n",
    "item_sparse_feats = [x for x in df_pos_train_train_X.columns if x in item_sparse_feats]\n",
    "item_dense_feats = [x for x in df_pos_train_train_X.columns if x not in user_sparse_feats+user_dense_feats+item_sparse_feats]\n",
    "\n",
    "print(len(user_sparse_feats))\n",
    "print(len(user_dense_feats))\n",
    "print(len(item_sparse_feats))\n",
    "print(len(item_dense_feats))"
   ]
  },
  {
   "cell_type": "code",
   "execution_count": null,
   "id": "a096decf-0aeb-49c7-981f-d930bb4634be",
   "metadata": {
    "scrolled": true,
    "tags": []
   },
   "outputs": [],
   "source": [
    "for x in user_sparse_feats:\n",
    "    print('{}:{}'.format(x, df_pos_train_train_X[x].nunique()))"
   ]
  },
  {
   "cell_type": "code",
   "execution_count": null,
   "id": "dbaeb697-0c18-49d0-b3e8-13ac812fd797",
   "metadata": {
    "scrolled": true,
    "tags": []
   },
   "outputs": [],
   "source": [
    "user_sparse_feats = [x for x in user_sparse_feats if df_pos_train_train_X[x].nunique()<=25 and x not in ['hold_big_bank_credit_num']]\n",
    "print(len(user_sparse_feats))\n",
    "user_sparse_feats"
   ]
  },
  {
   "cell_type": "code",
   "execution_count": null,
   "id": "8b92c65a-7f61-40c2-a8a5-5ff580418518",
   "metadata": {},
   "outputs": [],
   "source": [
    "user_dense_feats = [x for x in df_pos_train_train_X.columns if x not in user_sparse_feats+item_feats]\n",
    "print(len(user_dense_feats))"
   ]
  },
  {
   "cell_type": "code",
   "execution_count": null,
   "id": "7c993ba4-0540-4009-9c59-40eaa9a20d8e",
   "metadata": {},
   "outputs": [],
   "source": [
    "for x in item_sparse_feats:\n",
    "    print('{}:{}'.format(x, df_pos_train_train_X[x].nunique()))"
   ]
  },
  {
   "cell_type": "code",
   "execution_count": null,
   "id": "488a875e-d9f3-4e25-8d52-29fb93d6e8d5",
   "metadata": {},
   "outputs": [],
   "source": [
    "utils_.save_pickle(user_sparse_feats, '../data/other/balance/dssm_item_features_batch_neg_22/list_user_sparse_feats.pickle')\n",
    "utils_.save_pickle(user_dense_feats, '../data/other/balance/dssm_item_features_batch_neg_22/list_user_dense_feats.pickle')\n",
    "utils_.save_pickle(item_sparse_feats, '../data/other/balance/dssm_item_features_batch_neg_22/list_item_sparse_feats.pickle')\n",
    "utils_.save_pickle(item_dense_feats, '../data/other/balance/dssm_item_features_batch_neg_22/list_item_dense_feats.pickle')"
   ]
  },
  {
   "cell_type": "code",
   "execution_count": null,
   "id": "b5049e8d-d74d-428d-b4db-b459fda02c48",
   "metadata": {},
   "outputs": [],
   "source": [
    "# 连续（User）\n",
    "ss = StandardScaler()\n",
    "X_train_train_user_dense_ss = ss.fit_transform(df_pos_train_train_X[user_dense_feats])\n",
    "joblib.dump(ss, '../data/other/balance/dssm_item_features_batch_neg_22/ss_user.pickle')"
   ]
  },
  {
   "cell_type": "code",
   "execution_count": null,
   "id": "d734669d-f86a-4b32-9fac-cb4021450479",
   "metadata": {},
   "outputs": [],
   "source": [
    "df_X_train_train_user_dense = pd.DataFrame(X_train_train_user_dense_ss, columns=user_dense_feats)\n",
    "print(df_X_train_train_user_dense.shape)\n",
    "df_X_train_train_user_dense.head()"
   ]
  },
  {
   "cell_type": "code",
   "execution_count": null,
   "id": "d392c382-41bb-41bb-9caf-926d3edd047b",
   "metadata": {},
   "outputs": [],
   "source": [
    "# 离散（User）\n",
    "dict_lbe_train_train_user = {}\n",
    "list_X_train_train_user_sparse = []\n",
    "\n",
    "try:\n",
    "    with tqdm(user_sparse_feats) as t:\n",
    "        for x in t:\n",
    "            lbe = LabelEncoder()\n",
    "            df_X_sparse_each = pd.DataFrame(lbe.fit_transform(df_pos_train_train_X[x]), columns=[x])\n",
    "            dict_lbe_train_train_user[x] = lbe\n",
    "            list_X_train_train_user_sparse.append(df_X_sparse_each)\n",
    "except KeyboardInterrupt:\n",
    "    t.close()\n",
    "    raise\n",
    "t.close()\n",
    "\n",
    "joblib.dump(dict_lbe_train_train_user, '../data/other/balance/dssm_item_features_batch_neg_22/dict_lbe_user.pickle')\n",
    "df_X_train_train_user_sparse = pd.concat(list_X_train_train_user_sparse, axis=1)\n",
    "print(df_X_train_train_user_sparse.shape)\n",
    "df_X_train_train_user_sparse.head()"
   ]
  },
  {
   "cell_type": "code",
   "execution_count": null,
   "id": "33574577-e5a5-4549-a774-ebd4ddfaf248",
   "metadata": {},
   "outputs": [],
   "source": [
    "# 连续（Item）"
   ]
  },
  {
   "cell_type": "code",
   "execution_count": null,
   "id": "9b1b02a1-445f-44fd-8047-14d8a90bf05d",
   "metadata": {},
   "outputs": [],
   "source": [
    "# 离散（Item）\n",
    "dict_lbe_train_train_item = {}\n",
    "list_X_train_train_item_sparse = []\n",
    "\n",
    "try:\n",
    "    with tqdm(item_sparse_feats) as t:\n",
    "        for x in t:\n",
    "            lbe = LabelEncoder()\n",
    "            df_X_sparse_each = pd.DataFrame(lbe.fit_transform(df_pos_train_train_X[x]), columns=[x])\n",
    "            dict_lbe_train_train_item[x] = lbe\n",
    "            list_X_train_train_item_sparse.append(df_X_sparse_each)\n",
    "except KeyboardInterrupt:\n",
    "    t.close()\n",
    "    raise\n",
    "t.close()\n",
    "\n",
    "joblib.dump(dict_lbe_train_train_item, '../data/other/balance/dssm_item_features_batch_neg_22/dict_lbe_item.pickle')\n",
    "df_X_train_train_item_sparse = pd.concat(list_X_train_train_item_sparse, axis=1)\n",
    "print(df_X_train_train_item_sparse.shape)\n",
    "df_X_train_train_item_sparse.head()"
   ]
  },
  {
   "cell_type": "code",
   "execution_count": null,
   "id": "76071a52-6e8f-4943-a3a3-738353ea2804",
   "metadata": {},
   "outputs": [],
   "source": [
    "# 合并\n",
    "df_train_train_X_transform = pd.concat([df_X_train_train_user_sparse, df_X_train_train_user_dense, df_X_train_train_item_sparse], axis=1)\n",
    "print(df_train_train_X_transform.shape)\n",
    "df_train_train_X_transform.head()"
   ]
  },
  {
   "cell_type": "code",
   "execution_count": null,
   "id": "9c209868-48ea-4a7d-91eb-5dc87f9de797",
   "metadata": {},
   "outputs": [],
   "source": [
    "utils_.save_pickle(df_train_train_X_transform, '../data/other/balance/dssm_item_features_batch_neg_22/df_train_train_X_transform.pickle')"
   ]
  },
  {
   "cell_type": "markdown",
   "id": "f9629171-561b-4aea-9c37-432a27a7ae77",
   "metadata": {},
   "source": [
    "* 验证集"
   ]
  },
  {
   "cell_type": "code",
   "execution_count": null,
   "id": "8cff5495-06cb-4e85-ba13-287b984bc120",
   "metadata": {},
   "outputs": [],
   "source": [
    "df_pos_train_eval_id = utils_.load_pickle('../data/other/balance/dssm_item_features_batch_neg_22/df_pos_id_train_eval_ht_v2_995_22_item_feats_20221120_20221211.pickle')\n",
    "df_pos_train_eval_y = utils_.load_pickle('../data/other/balance/dssm_item_features_batch_neg_22/df_pos_y_train_eval_ht_v2_995_22_item_feats_20221120_20221211.pickle')\n",
    "df_pos_train_eval_X = utils_.load_pickle('../data/other/balance/dssm_item_features_batch_neg_22/df_pos_X_train_eval_ht_v2_995_22_item_feats_20221120_20221211.pickle')\n",
    "\n",
    "print(df_pos_train_eval_id.shape)\n",
    "print(df_pos_train_eval_y.shape)\n",
    "print(df_pos_train_eval_X.shape)"
   ]
  },
  {
   "cell_type": "code",
   "execution_count": null,
   "id": "227c6f82-ecbf-4001-8363-458490b7686d",
   "metadata": {},
   "outputs": [],
   "source": [
    "# 连续（User）\n",
    "ss = joblib.load('../data/other/balance/dssm_item_features_batch_neg_22/ss_user.pickle')\n",
    "X_train_eval_user_dense_ss = ss.transform(df_pos_train_eval_X[user_dense_feats])\n",
    "print(X_train_eval_user_dense_ss.shape)"
   ]
  },
  {
   "cell_type": "code",
   "execution_count": null,
   "id": "b608cdc6-133e-494a-a9e9-007feff8cf3a",
   "metadata": {},
   "outputs": [],
   "source": [
    "df_X_train_eval_user_dense_ss = pd.DataFrame(X_train_eval_user_dense_ss, columns=user_dense_feats)\n",
    "print(df_X_train_eval_user_dense_ss.shape)\n",
    "df_X_train_eval_user_dense_ss.head()"
   ]
  },
  {
   "cell_type": "code",
   "execution_count": null,
   "id": "00deae25-d09b-4fba-83a7-a9d70514cc7e",
   "metadata": {
    "scrolled": true,
    "tags": []
   },
   "outputs": [],
   "source": [
    "# 离散（User）\n",
    "dict_lbe_user = joblib.load('../data/other/balance/dssm_item_features_batch_neg_22/dict_lbe_user.pickle')\n",
    "for x in user_sparse_feats:\n",
    "    print(x, dict_lbe_user[x].classes_)"
   ]
  },
  {
   "cell_type": "code",
   "execution_count": null,
   "id": "1b743f0d-6cb3-4e43-ba06-fa3fccf628bd",
   "metadata": {},
   "outputs": [],
   "source": [
    "list_X_user_sparse = []\n",
    "\n",
    "try:\n",
    "    with tqdm(user_sparse_feats) as t:\n",
    "        for x in t:\n",
    "            list_feat_values_unseen = list(set(df_pos_train_eval_X[x].unique())-set(dict_lbe_user[x].classes_))\n",
    "            if len(list_feat_values_unseen) > 0:\n",
    "                print(x)\n",
    "                df_train_eval_X[x].replace(list_feat_values_unseen, -1, inplace=True)\n",
    "            df_train_eval_X_user_sparse_each = pd.DataFrame(dict_lbe_user[x].transform(df_pos_train_eval_X[x]), columns=[x])\n",
    "            list_X_user_sparse.append(df_train_eval_X_user_sparse_each)\n",
    "except KeyboardInterrupt:\n",
    "    t.close()\n",
    "    raise\n",
    "t.close()\n",
    "\n",
    "df_X_train_eval_user_sparse = pd.concat(list_X_user_sparse, axis=1)\n",
    "print(df_X_train_eval_user_sparse.shape)\n",
    "df_X_train_eval_user_sparse.head()"
   ]
  },
  {
   "cell_type": "code",
   "execution_count": null,
   "id": "7726064c-85b9-441d-83f6-e78db5cee7c1",
   "metadata": {},
   "outputs": [],
   "source": [
    "# 连续（Item）"
   ]
  },
  {
   "cell_type": "code",
   "execution_count": null,
   "id": "a7b72fc9-b923-4dcc-87ad-744c41098117",
   "metadata": {
    "scrolled": true,
    "tags": []
   },
   "outputs": [],
   "source": [
    "# 离散（Item）\n",
    "dict_lbe_item = joblib.load('../data/other/balance/dssm_item_features_batch_neg_22/dict_lbe_item.pickle')\n",
    "for x in item_sparse_feats:\n",
    "    print(x, dict_lbe_item[x].classes_)"
   ]
  },
  {
   "cell_type": "code",
   "execution_count": null,
   "id": "ea1c0b02-2f66-4f27-9242-b9f8b677b749",
   "metadata": {},
   "outputs": [],
   "source": [
    "list_X_item_sparse = []\n",
    "\n",
    "try:\n",
    "    with tqdm(item_sparse_feats) as t:\n",
    "        for x in t:\n",
    "            df_train_eval_X_item_sparse_each = pd.DataFrame(dict_lbe_item[x].transform(df_pos_train_eval_X[x]), columns=[x])\n",
    "            list_X_item_sparse.append(df_train_eval_X_item_sparse_each)\n",
    "except KeyboardInterrupt:\n",
    "    t.close()\n",
    "    raise\n",
    "t.close()\n",
    "\n",
    "df_X_train_eval_item_sparse = pd.concat(list_X_item_sparse, axis=1)\n",
    "print(df_X_train_eval_item_sparse.shape)\n",
    "df_X_train_eval_item_sparse.head()"
   ]
  },
  {
   "cell_type": "code",
   "execution_count": null,
   "id": "f82a2639-c136-4e05-bdd8-6e56915aa358",
   "metadata": {},
   "outputs": [],
   "source": [
    "# 合并\n",
    "df_train_eval_X_transform = pd.concat([df_X_train_eval_user_sparse, df_X_train_eval_user_dense_ss, df_X_train_eval_item_sparse], axis=1)\n",
    "print(df_train_eval_X_transform.shape)\n",
    "df_train_eval_X_transform.head()"
   ]
  },
  {
   "cell_type": "code",
   "execution_count": null,
   "id": "14337005-86a5-48f0-9462-e59d25ec15e9",
   "metadata": {},
   "outputs": [],
   "source": [
    "utils_.save_pickle(df_train_eval_X_transform, '../data/other/balance/dssm_item_features_batch_neg_22/df_train_eval_X_transform.pickle')"
   ]
  },
  {
   "cell_type": "markdown",
   "id": "39273f09-8df4-4702-9c70-3321e6cf62c4",
   "metadata": {},
   "source": [
    "## 模型"
   ]
  },
  {
   "cell_type": "code",
   "execution_count": null,
   "id": "2219a408-daa3-41cd-98d1-33665d7fd966",
   "metadata": {},
   "outputs": [],
   "source": [
    "df_train_train_X_transform = utils_.load_pickle('../data/other/balance/dssm_item_features_batch_neg_22/df_train_train_X_transform.pickle')\n",
    "print(df_train_train_X_transform.shape)\n",
    "df_train_train_X_transform.head()"
   ]
  },
  {
   "cell_type": "code",
   "execution_count": null,
   "id": "199141f2-5367-495b-b698-85d3e1ae8301",
   "metadata": {
    "scrolled": true,
    "tags": []
   },
   "outputs": [],
   "source": [
    "user_sparse_feats = utils_.load_pickle('../data/other/balance/dssm_item_features_batch_neg_22/list_user_sparse_feats.pickle')\n",
    "user_dense_feats = utils_.load_pickle('../data/other/balance/dssm_item_features_batch_neg_22/list_user_dense_feats.pickle')\n",
    "\n",
    "user_feats_columns = [[util.sparseFeature(x, int(df_train_train_X_transform[x].max()+1), 4) for x in user_sparse_feats]] + \\\n",
    "                     [[util.denseFeature(feat) for feat in user_dense_feats]]\n",
    "user_feats_columns"
   ]
  },
  {
   "cell_type": "code",
   "execution_count": null,
   "id": "5e06cd40-f668-4ba9-ab0f-f7186022f991",
   "metadata": {},
   "outputs": [],
   "source": [
    "utils_.save_pickle(user_feats_columns, '../data/other/balance/dssm_item_features_batch_neg_22/user_feats_columns.pcikle')"
   ]
  },
  {
   "cell_type": "code",
   "execution_count": null,
   "id": "c0bf6206-9ff1-4ec0-9e1a-d947176c4bf5",
   "metadata": {
    "scrolled": true,
    "tags": []
   },
   "outputs": [],
   "source": [
    "item_sparse_feats = utils_.load_pickle('../data/other/balance/dssm_item_features_batch_neg_22/list_item_sparse_feats.pickle')\n",
    "item_dense_feats = utils_.load_pickle('../data/other/balance/dssm_item_features_batch_neg_22/list_item_dense_feats.pickle')\n",
    "\n",
    "item_feats_columns = [[util.sparseFeature(x, int(df_train_train_X_transform[x].max()+1), 4) for x in item_sparse_feats]] + \\\n",
    "                     [[util.denseFeature(feat) for feat in item_dense_feats]]\n",
    "item_feats_columns"
   ]
  },
  {
   "cell_type": "code",
   "execution_count": null,
   "id": "000091b1-1853-4978-a1d0-78d395c62a0e",
   "metadata": {},
   "outputs": [],
   "source": [
    "utils_.save_pickle(item_feats_columns, '../data/other/balance/dssm_item_features_batch_neg_22/item_feats_columns.pcikle')"
   ]
  },
  {
   "cell_type": "code",
   "execution_count": null,
   "id": "2e2563fe-fb73-4ed5-9d5c-d96302826892",
   "metadata": {},
   "outputs": [],
   "source": [
    "device = torch.device('cuda:0' if torch.cuda.is_available() else 'cpu')\n",
    "logger = util.get_logger('')\n",
    "util.seed_everything(2023)"
   ]
  },
  {
   "cell_type": "code",
   "execution_count": null,
   "id": "90519c20-ee7a-42a9-9146-3a61669af7cb",
   "metadata": {},
   "outputs": [],
   "source": [
    "id_train_train = utils_.load_pickle('../data/other/balance/dssm_item_features_batch_neg_22/df_pos_id_train_train_ht_v2_995_22_item_feats_20221120_20221211.pickle')\n",
    "y_train_train = utils_.load_pickle('../data/other/balance/dssm_item_features_batch_neg_22/df_pos_y_train_train_ht_v2_995_22_item_feats_20221120_20221211.pickle')\n",
    "X_train_train = utils_.load_pickle('../data/other/balance/dssm_item_features_batch_neg_22/df_train_train_X_transform.pickle')\n",
    "\n",
    "print(id_train_train.shape)\n",
    "print(y_train_train.shape)\n",
    "print(X_train_train.shape)\n",
    "\n",
    "id_train_eval = utils_.load_pickle('../data/other/balance/dssm_item_features_batch_neg_22/df_pos_id_train_eval_ht_v2_995_22_item_feats_20221120_20221211.pickle')\n",
    "y_train_eval = utils_.load_pickle('../data/other/balance/dssm_item_features_batch_neg_22/df_pos_y_train_eval_ht_v2_995_22_item_feats_20221120_20221211.pickle')\n",
    "X_train_eval = utils_.load_pickle('../data/other/balance/dssm_item_features_batch_neg_22/df_train_eval_X_transform.pickle')\n",
    "\n",
    "print(id_train_eval.shape)\n",
    "print(y_train_eval.shape)\n",
    "print(X_train_eval.shape)"
   ]
  },
  {
   "cell_type": "code",
   "execution_count": null,
   "id": "b3a7eb8a-36a5-4135-a824-ad9c3772687a",
   "metadata": {},
   "outputs": [],
   "source": [
    "train_loader = DataLoader(DatasetLoader_w(X_train_train.values, y_train_train.values, X_train_train['card_id'].values), 1024, shuffle=False, num_workers=8)\n",
    "eval_loader = DataLoader(DatasetLoader(X_train_eval.values, y_train_eval.values), 1024, shuffle=False, num_workers=8)"
   ]
  },
  {
   "cell_type": "code",
   "execution_count": null,
   "id": "8fe530e3-83eb-43c0-bbc3-d1ed5c26b768",
   "metadata": {
    "scrolled": true,
    "tags": []
   },
   "outputs": [],
   "source": [
    "config = {\n",
    "    'Model': {\n",
    "        'user_dnn_hidden_units': [256, 128], \n",
    "        'user_dnn_embedding': 64, \n",
    "        'item_dnn_hidden_units': [256, 128], \n",
    "        'item_dnn_embedding': 64, \n",
    "        'dropout': 0.2, \n",
    "        'use_bn': False, \n",
    "        'is_eval': True, \n",
    "        'test_model': 0\n",
    "    }\n",
    "}\n",
    "user_feats_columns = utils_.load_pickle('../data/other/balance/dssm_item_features_batch_neg_22/user_feats_columns.pcikle')\n",
    "item_feats_columns = utils_.load_pickle('../data/other/balance/dssm_item_features_batch_neg_22/item_feats_columns.pcikle')\n",
    "\n",
    "model = DSSM(config, user_feats_columns, item_feats_columns).to(device)\n",
    "model"
   ]
  },
  {
   "cell_type": "code",
   "execution_count": null,
   "id": "8e7af58d-e233-456e-a863-6ba67ff9395b",
   "metadata": {
    "scrolled": true,
    "tags": []
   },
   "outputs": [],
   "source": [
    "for m in model.modules():\n",
    "    if isinstance(m, (torch.nn.Conv2d, torch.nn.Linear)):\n",
    "        torch.nn.init.xavier_uniform_(m.weight)\n",
    "        # nn.init.kaiming_uniform_(m.weight)\n",
    "    elif isinstance(m, torch.nn.BatchNorm1d):\n",
    "        torch.nn.init.constant_(m.weight, 1)\n",
    "        torch.nn.init.constant_(m.bias, 0)"
   ]
  },
  {
   "cell_type": "code",
   "execution_count": null,
   "id": "e2979dfb-e9e0-4a4b-bbcd-277bf7672dcd",
   "metadata": {},
   "outputs": [],
   "source": [
    "def cal_cosine(user_embedding, item_embedding):\n",
    "    user_embedding_norm = torch.norm(user_embedding, dim=-1)\n",
    "    item_embedding_norm = torch.norm(item_embedding, dim=-1)\n",
    "    \n",
    "    cosine_score = torch.sum(torch.multiply(user_embedding, item_embedding), dim=-1)\n",
    "    cosine_score = torch.div(cosine_score, user_embedding_norm*item_embedding_norm+1e-8)\n",
    "    cosine_score = torch.clamp(cosine_score, -1, 1.0)\n",
    "    \n",
    "    return cosine_score\n",
    "\n",
    "\n",
    "def batch_neg(user_embedding, item_embedding, ratio=1):\n",
    "    item_embedding_neg = item_embedding\n",
    "    \n",
    "    for i in range(ratio):\n",
    "        random_seed = torch.randint(item_embedding.shape[0]+i, []) % item_embedding.shape[0]\n",
    "        item_embedding_neg = torch.cat([item_embedding_neg, \n",
    "                                        item_embedding[random_seed:, :], \n",
    "                                        item_embedding[:random_seed, :]], \n",
    "                                       dim=0)\n",
    "        \n",
    "    user_embedding_neg = user_embedding.repeat([ratio+1, 1])\n",
    "    \n",
    "    cosine_score_raw = cal_cosine(user_embedding_neg, item_embedding_neg)\n",
    "    \n",
    "    cosine_score = torch.transpose(torch.reshape(cosine_score_raw, [ratio+1, -1]), 0, 1)\n",
    "    \n",
    "    prob = torch.nn.functional.softmax(cosine_score, dim=-1) # 放在 (s-log)/r后\n",
    "    hit_prob = prob[:, 0]\n",
    "    \n",
    "    return hit_prob"
   ]
  },
  {
   "cell_type": "code",
   "execution_count": null,
   "id": "124eaeee-746a-40b7-89c2-21845847c2fc",
   "metadata": {},
   "outputs": [],
   "source": [
    "def train(train_loader, eval_loader, model, ratio_neg, optimizer, scheduler, criterion, epochs, file):\n",
    "    for epoch in range(epochs):\n",
    "        model.train()\n",
    "        \n",
    "        for i, (x, y, item) in enumerate(train_loader):\n",
    "            x, y, item = x.to(device).to(torch.float32), y.to(device).to(torch.float32), item.to(device).to(torch.float32)\n",
    "            optimizer.zero_grad()\n",
    "            ue_ie = model(x)\n",
    "            ues = ue_ie.shape[1] // 2\n",
    "            ue = ue_ie[:, :ues]\n",
    "            ie = ue_ie[:, ues:]\n",
    "            prob = batch_neg(ue, ie, ratio=ratio_neg)\n",
    "            \n",
    "            # google\n",
    "            list_item = item.cpu().numpy().tolist()\n",
    "            counter_item = collections.Counter(list_item)\n",
    "            dict_item_ratio = {}\n",
    "            for k, v in counter_item.items():\n",
    "                dict_item_ratio[k] = v / item.shape[0]\n",
    "            list_item_ratio = [-np.log(dict_item_ratio[x]) for x in list_item]\n",
    "            tensor_item_ratio = torch.tensor(list_item_ratio).type(torch.float32)\n",
    "            \n",
    "            r = 0.05\n",
    "            loss = criterion(prob/r+tensor_item_ratio, y) # softmax((s-log)/r)\n",
    "            \n",
    "            # loss = criterion(prob, y)\n",
    "            loss.backward()\n",
    "            \n",
    "            optimizer.step()\n",
    "            if i % 50 == 0:\n",
    "                str_loss = 'loss: {:.6f}'.format(loss.item())\n",
    "                logger.info('Epoch: [{}/{}], Step: [{}/{}], Lr: {:.6f}, '.format(\n",
    "                    epoch+1, epochs, i+1, len(train_loader), optimizer.param_groups[0]['lr'])+str_loss)\n",
    "        \n",
    "        val(eval_loader, model, criterion, file)\n",
    "        \n",
    "        scheduler.step()"
   ]
  },
  {
   "cell_type": "code",
   "execution_count": null,
   "id": "087bf09e-3011-4d8a-8855-e52541296c02",
   "metadata": {},
   "outputs": [],
   "source": [
    "def val(eval_loader, model, criterion, file):\n",
    "    model.eval()\n",
    "    \n",
    "    global best_loss\n",
    "    \n",
    "    eval_loss = 0\n",
    "    \n",
    "    with torch.no_grad():\n",
    "        for i, (x, y) in enumerate(eval_loader):\n",
    "            x, y = x.to(device).to(torch.float32), y.to(device).to(torch.float32)\n",
    "            ue_ie = model(x)\n",
    "            ues = ue_ie.shape[1] // 2\n",
    "            ue = ue_ie[:, :ues]\n",
    "            ie = ue_ie[:, ues:]\n",
    "            prob = cal_cosine(ue, ie)\n",
    "            eval_loss += criterion(prob, y).item()\n",
    "    \n",
    "    eval_loss /= len(eval_loader)\n",
    "    \n",
    "    str_loss = 'Eval set: loss: {:.6f}'.format(eval_loss)\n",
    "    logger.info('{}'.format(str_loss))\n",
    "    \n",
    "    if eval_loss < best_loss:\n",
    "        best_loss = eval_loss\n",
    "        \n",
    "        torch.save(model.state_dict(), './save/{}.pth'.format(file))\n",
    "        \n",
    "        model1 = torch.jit.script(model)\n",
    "        torch.jit.save(model1, './save/{}.pt'.format(file))\n",
    "        \n",
    "        logger.info('Save model with loss: {:.6f}'.format(best_loss))"
   ]
  },
  {
   "cell_type": "markdown",
   "id": "08b63bf5-1661-4ed9-b6ac-da3060a53547",
   "metadata": {},
   "source": [
    "* train"
   ]
  },
  {
   "cell_type": "code",
   "execution_count": null,
   "id": "d50c2eb8-ac02-4bb4-8489-84d80565b264",
   "metadata": {
    "scrolled": true,
    "tags": []
   },
   "outputs": [],
   "source": [
    "criterion = torch.nn.BCEWithLogitsLoss().to(device)\n",
    "optimizer = torch.optim.Adam(model.parameters(), lr=0.001)\n",
    "scheduler = torch.optim.lr_scheduler.MultiStepLR(optimizer, milestones=[10, 20, 50], gamma=0.1)\n",
    "ratio_neg = 3\n",
    "\n",
    "best_loss = np.inf\n",
    "\n",
    "train(train_loader, eval_loader, model, ratio_neg, optimizer, scheduler, criterion, 100, 'dssm_item_feats_batch_neg_google_22')"
   ]
  },
  {
   "cell_type": "code",
   "execution_count": null,
   "id": "02ccfccc-6002-43cb-ad74-c87743ec2be0",
   "metadata": {},
   "outputs": [],
   "source": [
    "def test(test_loader, model, criterion):\n",
    "    model.eval()\n",
    "    \n",
    "    eval_loss = 0\n",
    "    \n",
    "    with torch.no_grad():\n",
    "        for i, (x, y) in enumerate(test_loader):\n",
    "            x, y = x.to(device).to(torch.float32), y.to(device).to(torch.float32)\n",
    "            ue_ie = model(x)\n",
    "            ues = ue_ie.shape[1] // 2\n",
    "            ue = ue_ie[:, :ues]\n",
    "            ie = ue_ie[:, ues:]\n",
    "            prob = cal_cosine(ue, ie)\n",
    "            eval_loss += criterion(prob, y).item()\n",
    "            \n",
    "    eval_loss /= len(test_loader)\n",
    "    \n",
    "    str_loss = 'Test set: loss: {:.6f}'.format(eval_loss)\n",
    "    \n",
    "    print('{}'.format(str_loss))"
   ]
  },
  {
   "cell_type": "code",
   "execution_count": null,
   "id": "d3096224-e5a9-4e55-84ea-0d3a892591fc",
   "metadata": {
    "scrolled": true,
    "tags": []
   },
   "outputs": [],
   "source": [
    "device = torch.device('cuda:0' if torch.cuda.is_available() else 'cpu')\n",
    "util.seed_everything(2023)\n",
    "\n",
    "config = {\n",
    "    'Model': {\n",
    "        'user_dnn_hidden_units': [256, 128], \n",
    "        'user_dnn_embedding': 64, \n",
    "        'item_dnn_hidden_units': [256, 128], \n",
    "        'item_dnn_embedding': 64, \n",
    "        'dropout': 0.2, \n",
    "        'use_bn': False, \n",
    "        'is_eval': True, \n",
    "        'test_model': 0\n",
    "    }\n",
    "}\n",
    "user_feats_columns = utils_.load_pickle('../data/other/balance/dssm_item_features_batch_neg_22/user_feats_columns.pcikle')\n",
    "item_feats_columns = utils_.load_pickle('../data/other/balance/dssm_item_features_batch_neg_22/item_feats_columns.pcikle')\n",
    "\n",
    "model_rebuild = DSSM(config, user_feats_columns, item_feats_columns).to(device)\n",
    "model_rebuild.load_state_dict(torch.load('save/dssm_item_feats_batch_neg_google_22.pth'))\n",
    "model_rebuild"
   ]
  },
  {
   "cell_type": "code",
   "execution_count": null,
   "id": "32c2e10e-672c-4fac-b79e-71cbabf4a5f1",
   "metadata": {},
   "outputs": [],
   "source": [
    "X_eval = utils_.load_pickle('../data/other/balance/dssm_item_features_batch_neg_22/df_train_eval_X_transform.pickle')\n",
    "y_eval = utils_.load_pickle('../data/other/balance/dssm_item_features_batch_neg_22/df_pos_y_train_eval_ht_v2_995_22_item_feats_20221120_20221211.pickle')\n",
    "\n",
    "print(X_eval.shape)\n",
    "print(y_eval.shape)\n",
    "\n",
    "test_loader = DataLoader(DatasetLoader(X_eval.values, y_eval.values), 1024, shuffle=False, num_workers=8)\n",
    "\n",
    "criterion = torch.nn.BCEWithLogitsLoss().to(device)\n",
    "\n",
    "y_pred = test(test_loader, model_rebuild, criterion)"
   ]
  },
  {
   "cell_type": "raw",
   "id": "1665e85c-e55f-406e-9af5-28e7a1ef7c99",
   "metadata": {},
   "source": []
  },
  {
   "cell_type": "markdown",
   "id": "75d6ae4c-dfaf-46d1-96a8-0dbb53ba6ae7",
   "metadata": {},
   "source": [
    "* test"
   ]
  },
  {
   "cell_type": "code",
   "execution_count": null,
   "id": "532193f3-0422-439b-8c47-3d6aef4619bc",
   "metadata": {},
   "outputs": [],
   "source": [
    "df_test_id = utils_.load_pickle('../data/other/balance/dssm_item_features_batch_neg_22/df_pos_id_test_ht_v2_995_22_item_feats_20221120_20221211.pickle')\n",
    "df_test_y = utils_.load_pickle('../data/other/balance/dssm_item_features_batch_neg_22/df_pos_y_test_ht_v2_995_22_item_feats_20221120_20221211.pickle')\n",
    "df_test_X = utils_.load_pickle('../data/other/balance/dssm_item_features_batch_neg_22/df_pos_X_test_ht_v2_995_22_item_feats_20221120_20221211.pickle')\n",
    "\n",
    "print(df_test_id.shape)\n",
    "print(df_test_y.shape)\n",
    "print(df_test_X.shape)"
   ]
  },
  {
   "cell_type": "code",
   "execution_count": null,
   "id": "8d74c583-0638-4660-a82e-813d16e99fba",
   "metadata": {},
   "outputs": [],
   "source": [
    "user_sparse_feats = utils_.load_pickle('../data/other/balance/dssm_item_features_batch_neg_22/list_user_sparse_feats.pickle')\n",
    "user_dense_feats = utils_.load_pickle('../data/other/balance/dssm_item_features_batch_neg_22/list_user_dense_feats.pickle')\n",
    "item_sparse_feats = utils_.load_pickle('../data/other/balance/dssm_item_features_batch_neg_22/list_item_sparse_feats.pickle')\n",
    "item_dense_feats = utils_.load_pickle('../data/other/balance/dssm_item_features_batch_neg_22/list_item_dense_feats.pickle')\n",
    "\n",
    "print(len(user_sparse_feats))\n",
    "print(len(user_dense_feats))\n",
    "print(len(item_sparse_feats))\n",
    "print(len(item_dense_feats))"
   ]
  },
  {
   "cell_type": "code",
   "execution_count": null,
   "id": "c296d494-8dd4-4216-998b-363f267ec493",
   "metadata": {},
   "outputs": [],
   "source": [
    "# 连续（User）\n",
    "ss = joblib.load('../data/other/balance/dssm_item_features_batch_neg_22/ss_user.pickle')\n",
    "X_test_user_dense_ss = ss.transform(df_test_X[user_dense_feats])\n",
    "print(X_test_user_dense_ss.shape)"
   ]
  },
  {
   "cell_type": "code",
   "execution_count": null,
   "id": "ae33a624-fdab-4e08-a3c4-bbb3805b7652",
   "metadata": {},
   "outputs": [],
   "source": [
    "df_X_test_user_dense_ss = pd.DataFrame(X_test_user_dense_ss, columns=user_dense_feats)\n",
    "print(df_X_test_user_dense_ss.shape)\n",
    "df_X_test_user_dense_ss.head()"
   ]
  },
  {
   "cell_type": "code",
   "execution_count": null,
   "id": "f540a5df-2419-4549-8ccd-c3d25ae1bb38",
   "metadata": {
    "scrolled": true,
    "tags": []
   },
   "outputs": [],
   "source": [
    "# 离散（User）\n",
    "dict_lbe_user = joblib.load('../data/other/balance/dssm_item_features_batch_neg_22/dict_lbe_user.pickle')\n",
    "for x in user_sparse_feats:\n",
    "    print(x, dict_lbe_user[x].classes_)"
   ]
  },
  {
   "cell_type": "code",
   "execution_count": null,
   "id": "75b6efa1-31a6-47e4-831e-80ca60b7440c",
   "metadata": {},
   "outputs": [],
   "source": [
    "list_X_user_sparse = []\n",
    "\n",
    "try:\n",
    "    with tqdm(user_sparse_feats) as t:\n",
    "        for x in t:\n",
    "            list_feat_values_unseen = list(set(df_test_X[x].unique())-set(dict_lbe_user[x].classes_))\n",
    "            if len(list_feat_values_unseen) > 0:\n",
    "                print(x)\n",
    "                df_test_X[x].replace(list_feat_values_unseen, -1, inplace=True)\n",
    "            df_test_X_user_sparse_each = pd.DataFrame(dict_lbe_user[x].transform(df_test_X[x]), columns=[x])\n",
    "            list_X_user_sparse.append(df_test_X_user_sparse_each)\n",
    "except KeyboardInterrupt:\n",
    "    t.close()\n",
    "    raise\n",
    "t.close()\n",
    "\n",
    "df_X_test_user_sparse = pd.concat(list_X_user_sparse, axis=1)\n",
    "print(df_X_test_user_sparse.shape)\n",
    "df_X_test_user_sparse.head()"
   ]
  },
  {
   "cell_type": "code",
   "execution_count": null,
   "id": "162586e9-efef-424b-ba86-3825db06ed52",
   "metadata": {},
   "outputs": [],
   "source": [
    "# 连续（Item）"
   ]
  },
  {
   "cell_type": "code",
   "execution_count": null,
   "id": "79e39c44-7ec1-4f6d-9dd5-8e8b4623a538",
   "metadata": {},
   "outputs": [],
   "source": [
    "# 离散（Item）\n",
    "dict_lbe_item = joblib.load('../data/other/balance/dssm_item_features_batch_neg_22/dict_lbe_item.pickle')\n",
    "for x in item_sparse_feats:\n",
    "    print(x, dict_lbe_item[x].classes_)"
   ]
  },
  {
   "cell_type": "code",
   "execution_count": null,
   "id": "7abc0f5b-01c9-48d7-b0fd-e7d6d0a152bd",
   "metadata": {},
   "outputs": [],
   "source": [
    "list_X_item_sparse = []\n",
    "\n",
    "try:\n",
    "    with tqdm(item_sparse_feats) as t:\n",
    "        for x in t:\n",
    "            df_test_X_item_sparse_each = pd.DataFrame(dict_lbe_item[x].transform(df_test_X[x]), columns=[x])\n",
    "            list_X_item_sparse.append(df_test_X_item_sparse_each)\n",
    "except KeyboardInterrupt:\n",
    "    t.close()\n",
    "    raise\n",
    "t.close()\n",
    "\n",
    "df_X_test_item_sparse = pd.concat(list_X_item_sparse, axis=1)\n",
    "print(df_X_test_item_sparse.shape)\n",
    "df_X_test_item_sparse.head()"
   ]
  },
  {
   "cell_type": "code",
   "execution_count": null,
   "id": "0877fb09-3a6c-4e89-b3ca-1ced835e15c4",
   "metadata": {},
   "outputs": [],
   "source": [
    "# 合并\n",
    "df_test_X_transform = pd.concat([df_X_test_user_sparse, df_X_test_user_dense_ss, df_X_test_item_sparse], axis=1)\n",
    "print(df_test_X_transform.shape)\n",
    "df_test_X_transform.head()"
   ]
  },
  {
   "cell_type": "code",
   "execution_count": null,
   "id": "d7668205-effc-4a1a-8d2f-8ee0fc55b474",
   "metadata": {
    "scrolled": true,
    "tags": []
   },
   "outputs": [],
   "source": [
    "device = torch.device('cuda:0' if torch.cuda.is_available() else 'cpu')\n",
    "util.seed_everything(2023)\n",
    "\n",
    "config = {\n",
    "    'Model': {\n",
    "        'user_dnn_hidden_units': [256, 128], \n",
    "        'user_dnn_embedding': 64, \n",
    "        'item_dnn_hidden_units': [256, 128], \n",
    "        'item_dnn_embedding': 64, \n",
    "        'dropout': 0.2, \n",
    "        'use_bn': False, \n",
    "        'is_eval': True, \n",
    "        'test_model': 0\n",
    "    }\n",
    "}\n",
    "user_feats_columns = utils_.load_pickle('../data/other/balance/dssm_item_features_batch_neg_22/user_feats_columns.pcikle')\n",
    "item_feats_columns = utils_.load_pickle('../data/other/balance/dssm_item_features_batch_neg_22/item_feats_columns.pcikle')\n",
    "\n",
    "model = DSSM(config, user_feats_columns, item_feats_columns).to(device)\n",
    "model.load_state_dict(torch.load('save/dssm_item_feats_batch_neg_google_22.pth'))\n",
    "model\n",
    "\n",
    "# model = torch.jit.load('save/dssm_item_feats_batch_neg_google_22.pt')\n",
    "# model"
   ]
  },
  {
   "cell_type": "code",
   "execution_count": null,
   "id": "39a2fb60-9e98-4a2a-a96e-cd463c6e68dd",
   "metadata": {},
   "outputs": [],
   "source": [
    "test_loader = DataLoader(DatasetLoader(df_test_X_transform.values, df_test_y.values), 1024, shuffle=False, num_workers=8)\n",
    "\n",
    "criterion = torch.nn.BCEWithLogitsLoss().to(device)\n",
    "\n",
    "y_pred = test(test_loader, model, criterion)"
   ]
  },
  {
   "cell_type": "raw",
   "id": "7472d644-5b4c-44ca-87de-cc9ef10b1ff2",
   "metadata": {},
   "source": []
  },
  {
   "cell_type": "code",
   "execution_count": null,
   "id": "9976af5b-65c9-4036-9e90-f8c3b273e21a",
   "metadata": {
    "scrolled": true,
    "tags": []
   },
   "outputs": [],
   "source": [
    "# item embedding\n",
    "list_df_test_X_transform_item_unique = []\n",
    "\n",
    "for i in range(22):\n",
    "    list_df_test_X_transform_item_unique.append(df_test_X_transform[df_test_X_transform['card_id']==i].head(1))\n",
    "    \n",
    "df_test_X_transform_item_unique = pd.concat(list_df_test_X_transform_item_unique, axis=0)\n",
    "df_test_X_transform_item_unique.reset_index(drop=True, inplace=True)\n",
    "df_test_X_transform_item_unique"
   ]
  },
  {
   "cell_type": "code",
   "execution_count": null,
   "id": "67104eca-bef3-481e-aa74-a74eaecc3824",
   "metadata": {
    "scrolled": true,
    "tags": []
   },
   "outputs": [],
   "source": [
    "df_test_X_transform_item_unique[['card_id']]"
   ]
  },
  {
   "cell_type": "code",
   "execution_count": null,
   "id": "fae80dc4-4490-46fd-b7a4-d82f9c72f5c9",
   "metadata": {},
   "outputs": [],
   "source": [
    "def test_item(test_loader, model):\n",
    "    model.eval()\n",
    "    \n",
    "    item_embedding = []\n",
    "    \n",
    "    with torch.no_grad():\n",
    "        for i, x in enumerate(test_loader):\n",
    "            x = x.to(device).to(torch.float32)\n",
    "            ie = model(x)\n",
    "            \n",
    "            if i == 0:\n",
    "                item_embedding = ie.cpu().numpy()\n",
    "            else:\n",
    "                item_embedding = np.concatenate((item_embedding, ie.cpu().numpy()), axis=0)\n",
    "                \n",
    "    return item_embedding"
   ]
  },
  {
   "cell_type": "code",
   "execution_count": null,
   "id": "38324cbf-9072-4dfc-a29b-d7994155e9fe",
   "metadata": {},
   "outputs": [],
   "source": [
    "test_item_loader = DataLoader(DatasetLoader_X(df_test_X_transform_item_unique.values), 22, shuffle=False, num_workers=1)\n",
    "\n",
    "model.is_eval = False\n",
    "model.test_model = 0\n",
    "\n",
    "item_embedding = test_item(test_item_loader, model)"
   ]
  },
  {
   "cell_type": "code",
   "execution_count": null,
   "id": "288c8e98-ba14-4a6c-af4c-543e6a95672f",
   "metadata": {
    "scrolled": true,
    "tags": []
   },
   "outputs": [],
   "source": [
    "df_item_embedding = pd.DataFrame(data=item_embedding, columns=['item_embedding_'+str(i) for i in range(64)])\n",
    "print(df_item_embedding.shape)\n",
    "df_item_embedding.head()"
   ]
  },
  {
   "cell_type": "code",
   "execution_count": null,
   "id": "3b82219b-1f87-4139-9092-0bc3bbeec891",
   "metadata": {},
   "outputs": [],
   "source": [
    "dict_card = utils_.load_pickle('../data/other/balance/feats/dict_card_22.pickle')\n",
    "dict_card"
   ]
  },
  {
   "cell_type": "code",
   "execution_count": null,
   "id": "bd5d3580-6028-4cac-ad12-a36bbed9a7d8",
   "metadata": {},
   "outputs": [],
   "source": [
    "df_item_embedding = pd.concat([pd.DataFrame({'card_id': [v for k, v in dict_card.items()]}), df_item_embedding], axis=1)\n",
    "print(df_item_embedding.shape)\n",
    "df_item_embedding.head()"
   ]
  },
  {
   "cell_type": "code",
   "execution_count": null,
   "id": "20b6f6b7-725f-4a19-a92f-473c88db2fd9",
   "metadata": {},
   "outputs": [],
   "source": [
    "utils_.save_pickle(df_item_embedding, '../data/other/balance/dssm_item_features_batch_neg_22/df_item_embedding.pickle')"
   ]
  },
  {
   "cell_type": "code",
   "execution_count": null,
   "id": "c597631d-065b-4d39-88c0-31bbba0205cc",
   "metadata": {},
   "outputs": [],
   "source": [
    "df_item_embedding = utils_.load_pickle('../data/other/balance/dssm_item_features_batch_neg_22/df_item_embedding.pickle')\n",
    "print(df_item_embedding.shape)\n",
    "df_item_embedding.head()"
   ]
  },
  {
   "cell_type": "code",
   "execution_count": null,
   "id": "a689c89b-7059-42fb-8db3-41cf61c6cc58",
   "metadata": {},
   "outputs": [],
   "source": [
    "df_item_embedding.to_csv('../data/other/balance/dssm_item_features_batch_neg_22/df_item_embedding.txt', sep='\\t', encoding='utf-8', index=False, header=False)"
   ]
  },
  {
   "cell_type": "markdown",
   "id": "ea4269e4-d4a8-4c6d-aff1-1b18f03f854f",
   "metadata": {},
   "source": [
    "* oot"
   ]
  },
  {
   "cell_type": "code",
   "execution_count": null,
   "id": "cec92fd6-c13e-4265-ba29-8457a1ff813a",
   "metadata": {
    "tags": []
   },
   "outputs": [],
   "source": [
    "# 目标物料22，平衡处理，1:1生成负样本 \n",
    "# ht v2 995 526 + item feats 12 = 538\n",
    "df_fusion = pd.read_csv('../data/sample_label_feature_fusion_new_ht_v2_995_22_20221218.txt', sep='\\t', encoding='utf-8')\n",
    "df_aspiration_part1 = pd.read_csv('../data/sample_label_feature_aspiration_new_part1_ht_v2_995_22_20221218.txt', sep='\\t', encoding='utf-8')\n",
    "df_aspiration_part2 = pd.read_csv('../data/sample_label_feature_aspiration_new_part2_ht_22_20221218.txt', sep='\\t', encoding='utf-8')\n",
    "\n",
    "print(df_fusion.shape)\n",
    "print(df_aspiration_part1.shape)\n",
    "print(df_aspiration_part2.shape)"
   ]
  },
  {
   "cell_type": "code",
   "execution_count": null,
   "id": "754addc2-22fe-4f5f-84ec-146ba8c901bc",
   "metadata": {},
   "outputs": [],
   "source": [
    "df_fusion['obs_dt'] = pd.to_datetime(df_fusion['obs_dt'])\n",
    "df_aspiration_part1['obs_dt'] = pd.to_datetime(df_aspiration_part1['obs_dt'])\n",
    "df_aspiration_part2['obs_dt'] = pd.to_datetime(df_aspiration_part2['obs_dt'])\n",
    "\n",
    "df_fusion['obs_dt'].value_counts()"
   ]
  },
  {
   "cell_type": "code",
   "execution_count": null,
   "id": "2854a679-7222-494f-8324-5ce1faadeb73",
   "metadata": {},
   "outputs": [],
   "source": [
    "df_fusion['label'].value_counts()"
   ]
  },
  {
   "cell_type": "code",
   "execution_count": null,
   "id": "4d67bb74-3903-4da2-bfc6-23d8c4709359",
   "metadata": {
    "scrolled": true,
    "tags": []
   },
   "outputs": [],
   "source": [
    "df_fusion['card'].value_counts()"
   ]
  },
  {
   "cell_type": "code",
   "execution_count": null,
   "id": "58fbe7ee-fecf-4824-8379-95f8bb871af8",
   "metadata": {
    "scrolled": true,
    "tags": []
   },
   "outputs": [],
   "source": [
    "df_fusion[['card', 'label', 'uid']].groupby(by=['card', 'label']).count()"
   ]
  },
  {
   "cell_type": "code",
   "execution_count": null,
   "id": "e02514b7-218f-47c4-b687-7db07d4c3878",
   "metadata": {},
   "outputs": [],
   "source": [
    "df_pos_fusion = df_fusion[df_fusion['label']==1]\n",
    "df_pos_fusion.reset_index(drop=True, inplace=True)\n",
    "print(df_pos_fusion.shape)\n",
    "\n",
    "df_pos_aspiration_part1 = df_aspiration_part1[df_aspiration_part1['label']==1]\n",
    "df_pos_aspiration_part1.reset_index(drop=True, inplace=True)\n",
    "print(df_pos_aspiration_part1.shape)\n",
    "\n",
    "df_pos_aspiration_part2 = df_aspiration_part2[df_aspiration_part2['label']==1]\n",
    "df_pos_aspiration_part2.reset_index(drop=True, inplace=True)\n",
    "print(df_pos_aspiration_part2.shape)"
   ]
  },
  {
   "cell_type": "code",
   "execution_count": null,
   "id": "6f935bb1-d8e3-455e-8c91-bdaa8d0ca76e",
   "metadata": {
    "scrolled": true,
    "tags": []
   },
   "outputs": [],
   "source": [
    "df_pos = df_pos_fusion.merge(df_pos_aspiration_part1, on=['uid', 'obs_dt', 'card', 'label'], how='left').\\\n",
    "    merge(df_pos_aspiration_part2, on=['uid', 'obs_dt', 'card', 'label'], how='left')\n",
    "\n",
    "print(df_pos.shape)\n",
    "df_pos.head()"
   ]
  },
  {
   "cell_type": "code",
   "execution_count": null,
   "id": "0f256868-be95-4a61-a439-2176d4440da4",
   "metadata": {
    "scrolled": true,
    "tags": []
   },
   "outputs": [],
   "source": [
    "dict_card = utils_.load_pickle('../data/other/balance/feats/dict_card_22.pickle')\n",
    "dict_card"
   ]
  },
  {
   "cell_type": "code",
   "execution_count": null,
   "id": "efbae08d-9b50-4016-b101-12d477322158",
   "metadata": {
    "scrolled": true,
    "tags": []
   },
   "outputs": [],
   "source": [
    "df_pos['card_id'] = df_pos['card']\n",
    "df_pos['card_id'].replace(dict_card, inplace=True)\n",
    "df_pos.head()"
   ]
  },
  {
   "cell_type": "code",
   "execution_count": null,
   "id": "46142667-63ec-45c4-904f-d10be4235a69",
   "metadata": {
    "scrolled": true,
    "tags": []
   },
   "outputs": [],
   "source": [
    "df_pos[['card', 'card_id', 'uid']].groupby(['card', 'card_id']).count()"
   ]
  },
  {
   "cell_type": "code",
   "execution_count": null,
   "id": "e2956fdc-4d7a-46ab-bbbe-73a5c19c6797",
   "metadata": {},
   "outputs": [],
   "source": [
    "df_pos['card_id'].nunique()"
   ]
  },
  {
   "cell_type": "code",
   "execution_count": null,
   "id": "ffad57f9-927b-4bba-ba64-2cf5d1fff0ab",
   "metadata": {
    "scrolled": true,
    "tags": []
   },
   "outputs": [],
   "source": [
    "# item\n",
    "df_item = utils_.load_pickle('../data/other/balance/dssm_item_features_batch_neg_22/bank_feats.pickle')\n",
    "print(df_item.shape)\n",
    "df_item.head()"
   ]
  },
  {
   "cell_type": "code",
   "execution_count": null,
   "id": "36da1d53-5a3a-4d39-80fe-0f4ae197f6de",
   "metadata": {
    "scrolled": true,
    "tags": []
   },
   "outputs": [],
   "source": [
    "%%time\n",
    "df_pos_user_item = df_pos.merge(df_item, on=['card', 'card_id'], how='left')\n",
    "print(df_pos_user_item.shape)\n",
    "df_pos_user_item.head()"
   ]
  },
  {
   "cell_type": "code",
   "execution_count": null,
   "id": "2d2100c9-24f7-4869-bf44-0facfc2af277",
   "metadata": {},
   "outputs": [],
   "source": [
    "df_pos_user_item_des = utils_.df_des(df_pos_user_item)\n",
    "df_pos_user_item_des[df_pos_user_item_des['Miss Percent(%)']>0]"
   ]
  },
  {
   "cell_type": "code",
   "execution_count": null,
   "id": "49445070-85ea-4600-8692-e7251a46f44d",
   "metadata": {},
   "outputs": [],
   "source": [
    "utils_.save_pickle(df_pos_user_item[['uid', 'obs_dt', 'card', 'card_id']], '../data/other/balance/dssm_item_features_batch_neg_22/df_pos_id_20221218.pickle')"
   ]
  },
  {
   "cell_type": "code",
   "execution_count": null,
   "id": "df9fb614-520c-4b4b-be69-c42ddc9f5458",
   "metadata": {},
   "outputs": [],
   "source": [
    "user_sparse_feats = utils_.load_pickle('../data/other/balance/dssm_item_features_batch_neg_22/list_user_sparse_feats.pickle')\n",
    "user_dense_feats = utils_.load_pickle('../data/other/balance/dssm_item_features_batch_neg_22/list_user_dense_feats.pickle')\n",
    "item_sparse_feats = utils_.load_pickle('../data/other/balance/dssm_item_features_batch_neg_22/list_item_sparse_feats.pickle')\n",
    "item_dense_feats = utils_.load_pickle('../data/other/balance/dssm_item_features_batch_neg_22/list_item_dense_feats.pickle')\n",
    "\n",
    "print(len(user_sparse_feats))\n",
    "print(len(user_dense_feats))\n",
    "print(len(item_sparse_feats))\n",
    "print(len(item_dense_feats))"
   ]
  },
  {
   "cell_type": "code",
   "execution_count": null,
   "id": "a56267c5-5b61-4098-9ff5-76267125953e",
   "metadata": {},
   "outputs": [],
   "source": [
    "# 连续（User）\n",
    "ss = joblib.load('../data/other/balance/dssm_item_features_batch_neg_22/ss_user.pickle')\n",
    "X_user_dense_ss = ss.transform(df_pos_user_item[user_dense_feats])\n",
    "print(X_user_dense_ss.shape)"
   ]
  },
  {
   "cell_type": "code",
   "execution_count": null,
   "id": "4761dc0c-bb4e-47ff-a839-2c623c03484a",
   "metadata": {},
   "outputs": [],
   "source": [
    "df_X_user_dense_ss = pd.DataFrame(X_user_dense_ss, columns=user_dense_feats)\n",
    "print(df_X_user_dense_ss.shape)\n",
    "df_X_user_dense_ss.head()"
   ]
  },
  {
   "cell_type": "code",
   "execution_count": null,
   "id": "3b51ba64-dfbc-476f-9b54-a8bc3f39e295",
   "metadata": {
    "scrolled": true,
    "tags": []
   },
   "outputs": [],
   "source": [
    "# 离散（User）\n",
    "dict_lbe_user = joblib.load('../data/other/balance/dssm_item_features_batch_neg_22/dict_lbe_user.pickle')\n",
    "for x in user_sparse_feats:\n",
    "    print(x, dict_lbe_user[x].classes_)"
   ]
  },
  {
   "cell_type": "code",
   "execution_count": null,
   "id": "c16c2134-9d92-4801-af73-12fa3bd92c30",
   "metadata": {},
   "outputs": [],
   "source": [
    "list_X_user_sparse = []\n",
    "\n",
    "try:\n",
    "    with tqdm(user_sparse_feats) as t:\n",
    "        for x in t:\n",
    "            list_feat_values_unseen = list(set(df_pos_user_item[x].unique())-set(dict_lbe_user[x].classes_))\n",
    "            if len(list_feat_values_unseen) > 0:\n",
    "                print(x)\n",
    "                df_pos_user_item[x].replace(list_feat_values_unseen, -1, inplace=True)\n",
    "            df_X_user_sparse_each = pd.DataFrame(dict_lbe_user[x].transform(df_pos_user_item[x]), columns=[x])\n",
    "            list_X_user_sparse.append(df_X_user_sparse_each)\n",
    "except KeyboardInterrupt:\n",
    "    t.close()\n",
    "    raise\n",
    "t.close()\n",
    "\n",
    "df_X_user_sparse = pd.concat(list_X_user_sparse, axis=1)\n",
    "print(df_X_user_sparse.shape)\n",
    "df_X_user_sparse.head()"
   ]
  },
  {
   "cell_type": "code",
   "execution_count": null,
   "id": "f8a5bc15-1e8c-4b59-80a6-a1851767b4a5",
   "metadata": {},
   "outputs": [],
   "source": [
    "# 连续（Item）"
   ]
  },
  {
   "cell_type": "code",
   "execution_count": null,
   "id": "1f436a08-f511-415f-ac89-6a0b326b8cf6",
   "metadata": {},
   "outputs": [],
   "source": [
    "# 离散（Item）\n",
    "dict_lbe_item = joblib.load('../data/other/balance/dssm_item_features_batch_neg_22/dict_lbe_item.pickle')\n",
    "for x in item_sparse_feats:\n",
    "    print(x, dict_lbe_item[x].classes_)"
   ]
  },
  {
   "cell_type": "code",
   "execution_count": null,
   "id": "79dc26a2-bce0-4330-88a9-521022b003c8",
   "metadata": {},
   "outputs": [],
   "source": [
    "list_X_item_sparse = []\n",
    "\n",
    "try:\n",
    "    with tqdm(item_sparse_feats) as t:\n",
    "        for x in t:\n",
    "            df_pos_X_item_sparse_each = pd.DataFrame(dict_lbe_item[x].transform(df_pos_user_item[x]), columns=[x])\n",
    "            list_X_item_sparse.append(df_pos_X_item_sparse_each)\n",
    "except KeyboardInterrupt:\n",
    "    t.close()\n",
    "    raise\n",
    "t.close()\n",
    "\n",
    "df_X_item_sparse = pd.concat(list_X_item_sparse, axis=1)\n",
    "print(df_X_item_sparse.shape)\n",
    "df_X_item_sparse.head()"
   ]
  },
  {
   "cell_type": "code",
   "execution_count": null,
   "id": "5a48fe7e-2f70-4143-a1eb-9d76e5500460",
   "metadata": {},
   "outputs": [],
   "source": [
    "# 合并\n",
    "df_X_user_item_transform = pd.concat([df_X_user_sparse, df_X_user_dense_ss, df_X_item_sparse], axis=1)\n",
    "print(df_X_user_item_transform.shape)\n",
    "df_X_user_item_transform.head()"
   ]
  },
  {
   "cell_type": "code",
   "execution_count": null,
   "id": "b6ec765a-ef08-4de0-899b-3b429b5e5592",
   "metadata": {
    "scrolled": true,
    "tags": []
   },
   "outputs": [],
   "source": [
    "device = torch.device('cuda:0' if torch.cuda.is_available() else 'cpu')\n",
    "util.seed_everything(2023)\n",
    "\n",
    "config = {\n",
    "    'Model': {\n",
    "        'user_dnn_hidden_units': [256, 128], \n",
    "        'user_dnn_embedding': 64, \n",
    "        'item_dnn_hidden_units': [256, 128], \n",
    "        'item_dnn_embedding': 64, \n",
    "        'dropout': 0.2, \n",
    "        'use_bn': False, \n",
    "        'is_eval': False, \n",
    "        'test_model': 1\n",
    "    }\n",
    "}\n",
    "user_feats_columns = utils_.load_pickle('../data/other/balance/dssm_item_features_batch_neg_22/user_feats_columns.pcikle')\n",
    "item_feats_columns = utils_.load_pickle('../data/other/balance/dssm_item_features_batch_neg_22/item_feats_columns.pcikle')\n",
    "\n",
    "model = DSSM(config, user_feats_columns, item_feats_columns).to(device)\n",
    "model.load_state_dict(torch.load('save/dssm_item_feats_batch_neg_google_22.pth'))\n",
    "model"
   ]
  },
  {
   "cell_type": "code",
   "execution_count": null,
   "id": "3d48ace5-4263-4a2d-a5ac-1bb4a5be44b9",
   "metadata": {},
   "outputs": [],
   "source": [
    "# 线上预测输出user embedding\n",
    "model_ = torch.jit.script(model)\n",
    "torch.jit.save(model_, './save/dssm_item_feats_batch_neg_google_22_online.pt')"
   ]
  },
  {
   "cell_type": "code",
   "execution_count": null,
   "id": "92136696-fc45-4c1a-b71d-3c175ccc28c1",
   "metadata": {
    "scrolled": true,
    "tags": []
   },
   "outputs": [],
   "source": [
    "model_online = torch.jit.load('save/dssm_item_feats_batch_neg_google_22_online.pt')\n",
    "model_online"
   ]
  },
  {
   "cell_type": "code",
   "execution_count": null,
   "id": "1f9730d2-cb67-421b-b1d8-3b7231d12864",
   "metadata": {},
   "outputs": [],
   "source": [
    "def test_user(test_loader, model):\n",
    "    model.eval()\n",
    "    \n",
    "    user_embedding = []\n",
    "    \n",
    "    with torch.no_grad():\n",
    "        for i, x in enumerate(test_loader):\n",
    "            x = x.to(device).to(torch.float32)\n",
    "            ue = model(x)\n",
    "            \n",
    "            if i == 0:\n",
    "                user_embedding = ue.cpu().numpy()\n",
    "            else:\n",
    "                user_embedding = np.concatenate((user_embedding, ue.cpu().numpy()), axis=0)\n",
    "                \n",
    "    return user_embedding"
   ]
  },
  {
   "cell_type": "code",
   "execution_count": null,
   "id": "aa0334ff-d212-49de-a76c-f47f9b1b5eaa",
   "metadata": {},
   "outputs": [],
   "source": [
    "test_user_loader = DataLoader(DatasetLoader_X(df_X_user_item_transform.values), 1024, shuffle=False, num_workers=8)\n",
    "\n",
    "# model.is_eval = False\n",
    "# model.test_model = 1\n",
    "\n",
    "# user_embedding = test_user(test_user_loader, model)\n",
    "user_embedding = test_user(test_user_loader, model_online)"
   ]
  },
  {
   "cell_type": "code",
   "execution_count": null,
   "id": "5d979bfd-5efd-4e7d-a426-a2f94f404deb",
   "metadata": {},
   "outputs": [],
   "source": [
    "df_user_embedding = pd.DataFrame(data=user_embedding, columns=['user_embedding_'+str(i) for i in range(64)])\n",
    "print(df_user_embedding.shape)\n",
    "df_user_embedding.head()"
   ]
  },
  {
   "cell_type": "code",
   "execution_count": null,
   "id": "9d126360-8bd4-4a9f-b493-34237ed0c32a",
   "metadata": {},
   "outputs": [],
   "source": [
    "# utils_.save_pickle(df_user_embedding, '../data/other/balance/dssm_item_features_batch_neg_22/df_pos_user_embedding_20221218.pickle')\n",
    "utils_.save_pickle(df_user_embedding, '../data/other/balance/dssm_item_features_batch_neg_22/df_pos_user_embedding_20221218_online.pickle')"
   ]
  },
  {
   "cell_type": "code",
   "execution_count": null,
   "id": "605920c6-de7f-4751-91b5-721fab4fbc03",
   "metadata": {},
   "outputs": [],
   "source": [
    "df_id = utils_.load_pickle('../data/other/balance/dssm_item_features_batch_neg_22/df_pos_id_20221218.pickle')\n",
    "\n",
    "# df_user_embedding = utils_.load_pickle('../data/other/balance/dssm_item_features_batch_neg_22/df_pos_user_embedding_20221218.pickle')\n",
    "df_user_embedding = utils_.load_pickle('../data/other/balance/dssm_item_features_batch_neg_22/df_pos_user_embedding_20221218_online.pickle')\n",
    "df_item_embedding = utils_.load_pickle('../data/other/balance/dssm_item_features_batch_neg_22/df_item_embedding.pickle')\n",
    "\n",
    "print(df_id.shape)\n",
    "print(df_user_embedding.shape)\n",
    "print(df_item_embedding.shape)"
   ]
  },
  {
   "cell_type": "code",
   "execution_count": null,
   "id": "b50e2183-332e-4c8b-a198-da49a9f3f1c0",
   "metadata": {},
   "outputs": [],
   "source": [
    "def cal_cosine_sigmoid_item(user_embedding, item_embedding, item):\n",
    "    item_embedding_tmp = np.tile(item_embedding, (user_embedding.shape[0], 1))\n",
    "    \n",
    "    user_embedding_norm = np.linalg.norm(user_embedding, axis=1)\n",
    "    item_embedding_norm = np.linalg.norm(item_embedding_tmp, axis=1)\n",
    "    \n",
    "    cosine_score_top = np.sum(user_embedding*item_embedding_tmp, axis=1)\n",
    "    cosine_score_bottom = user_embedding_norm * item_embedding_norm + 1e-8\n",
    "    cosine_score = cosine_score_top / cosine_score_bottom\n",
    "    cosine_score = np.clip(cosine_score, -1.0, 1.0)\n",
    "    \n",
    "    cosine_score_sigmoid = 1 / (1+np.exp(-cosine_score))\n",
    "    \n",
    "    return pd.DataFrame({'score_card_id_'+str(item): cosine_score_sigmoid})"
   ]
  },
  {
   "cell_type": "code",
   "execution_count": null,
   "id": "73bdafde-bc73-4d8e-a584-b4ec7b549ccf",
   "metadata": {
    "scrolled": true,
    "tags": []
   },
   "outputs": [],
   "source": [
    "list_df_res = [df_id]\n",
    "\n",
    "try:\n",
    "    with tqdm(df_item_embedding.iterrows()) as t:\n",
    "        for i, row in t:\n",
    "            df_each = cal_cosine_sigmoid_item(df_user_embedding.values, row.values[1:], int(row['card_id']))\n",
    "            list_df_res.append(df_each)\n",
    "except KeyboardInterrupt:\n",
    "    t.close()\n",
    "    raise\n",
    "t.close()\n",
    "\n",
    "df_res = pd.concat(list_df_res, axis=1)\n",
    "print(df_res.shape)\n",
    "df_res.head()"
   ]
  },
  {
   "cell_type": "code",
   "execution_count": null,
   "id": "5ae8fbe4-0270-4771-bd15-31a69faf5933",
   "metadata": {
    "scrolled": true,
    "tags": []
   },
   "outputs": [],
   "source": [
    "%%time\n",
    "list_card_id = [x for x in df_res.columns if x.startswith('score_card_id_')]\n",
    "dict_card_index = {x: i for i, x in enumerate(list_card_id)}\n",
    "\n",
    "df_res['y_true_rank'] = df_res.\\\n",
    "    apply(lambda x: {x:i for i, x in enumerate(list(np.array(x[list_card_id]).argsort())[::-1])}[dict_card_index['score_card_id_'+str(x['card_id'])]], axis=1)\n",
    "\n",
    "df_res.head()"
   ]
  },
  {
   "cell_type": "code",
   "execution_count": null,
   "id": "0f42e4b6-d685-4f0b-9ad3-dabc570cd690",
   "metadata": {},
   "outputs": [],
   "source": [
    "# utils_.save_pickle(df_res, '../data/other/balance/dssm_item_features_batch_neg_22/df_pos_pred_20221218.pickle')\n",
    "utils_.save_pickle(df_res, '../data/other/balance/dssm_item_features_batch_neg_22/df_pos_pred_20221218_online.pickle')"
   ]
  },
  {
   "cell_type": "code",
   "execution_count": null,
   "id": "56982f01-3189-413e-9652-5f4503161475",
   "metadata": {
    "scrolled": true,
    "tags": []
   },
   "outputs": [],
   "source": [
    "# df_res = utils_.load_pickle('../data/other/balance/dssm_item_features_batch_neg_22/df_pos_pred_20221218.pickle')\n",
    "df_res = utils_.load_pickle('../data/other/balance/dssm_item_features_batch_neg_22/df_pos_pred_20221218_online.pickle')\n",
    "print(df_res.shape)\n",
    "df_res.head()"
   ]
  },
  {
   "cell_type": "code",
   "execution_count": null,
   "id": "eabe2772-7bb6-4184-aee5-64b2b5b715fc",
   "metadata": {
    "scrolled": true,
    "tags": []
   },
   "outputs": [],
   "source": [
    "df_res['y_pred_top_1'] = df_res['y_true_rank'].apply(lambda x: 1 if x<1 else 0)\n",
    "df_res['y_pred_top_2'] = df_res['y_true_rank'].apply(lambda x: 1 if x<2 else 0)\n",
    "df_res['y_pred_top_3'] = df_res['y_true_rank'].apply(lambda x: 1 if x<3 else 0)\n",
    "\n",
    "df_res.head()"
   ]
  },
  {
   "cell_type": "code",
   "execution_count": null,
   "id": "7ac36aa9-bd20-4921-8d3c-403677f76623",
   "metadata": {},
   "outputs": [],
   "source": [
    "print('Recall top 1: {}'.format(df_res['y_pred_top_1'].sum()/df_res.shape[0]))\n",
    "print('Recall top 2: {}'.format(df_res['y_pred_top_2'].sum()/df_res.shape[0]))\n",
    "print('Recall top 3: {}'.format(df_res['y_pred_top_3'].sum()/df_res.shape[0]))"
   ]
  },
  {
   "cell_type": "raw",
   "id": "a6f6cc78-f8a6-48d9-bfb9-b50ac85720b9",
   "metadata": {},
   "source": []
  },
  {
   "cell_type": "code",
   "execution_count": null,
   "id": "34d47ffa-fadc-41ad-a543-14de5a6d372c",
   "metadata": {
    "scrolled": true,
    "tags": []
   },
   "outputs": [],
   "source": [
    "df_res.sample(10)"
   ]
  },
  {
   "cell_type": "code",
   "execution_count": null,
   "id": "289e81ae-820c-417d-a998-9bbf014b2077",
   "metadata": {
    "scrolled": true,
    "tags": []
   },
   "outputs": [],
   "source": [
    "# 分物料效果\n",
    "try:\n",
    "    with tqdm(dict_card.items()) as t:\n",
    "        for k, v in t:\n",
    "            index_card = df_res[df_res['card_id']==v].index\n",
    "            df_y_card = df_res.loc[index_card, :]\n",
    "            print(df_y_card.shape)\n",
    "            print('card_id:{ci}, card:{c}, Recall top 1:{rt1}, Recall top 2:{rt2}, Recall top 3:{rt3},'.format(\n",
    "                ci=v, \n",
    "                c=k, \n",
    "                rt1=df_y_card['y_pred_top_1'].sum()/df_y_card.shape[0], \n",
    "                rt2=df_y_card['y_pred_top_2'].sum()/df_y_card.shape[0], \n",
    "                rt3=df_y_card['y_pred_top_3'].sum()/df_y_card.shape[0]))\n",
    "except KeyboardInterrupt:\n",
    "    t.close()\n",
    "    raise\n",
    "t.close()"
   ]
  },
  {
   "cell_type": "raw",
   "id": "10294f0b-10c2-48f6-bc19-ce0addbfa7aa",
   "metadata": {},
   "source": []
  },
  {
   "cell_type": "markdown",
   "id": "020d3ff7-29cc-44a6-a29d-480a5e12d522",
   "metadata": {},
   "source": [
    "## 人工测试网络结构"
   ]
  },
  {
   "cell_type": "code",
   "execution_count": null,
   "id": "cf8adbc8-3069-4ef1-9f9f-bcaeb61da118",
   "metadata": {},
   "outputs": [],
   "source": [
    "device = torch.device('cuda:0' if torch.cuda.is_available() else 'cpu')\n",
    "util.seed_everything(2023)"
   ]
  },
  {
   "cell_type": "code",
   "execution_count": null,
   "id": "6b7db83a-93da-4885-90c2-08c4efc0775a",
   "metadata": {},
   "outputs": [],
   "source": [
    "id_train_train = utils_.load_pickle('../data/other/balance/dssm_item_features_batch_neg/df_pos_id_train_train_bfx_std_item_feats_20221120_20221211.pickle')\n",
    "y_train_train = utils_.load_pickle('../data/other/balance/dssm_item_features_batch_neg/df_pos_y_train_train_bfx_std_item_feats_20221120_20221211.pickle')\n",
    "X_train_train = utils_.load_pickle('../data/other/balance/dssm_item_features_batch_neg/df_train_train_X_transform.pickle')\n",
    "\n",
    "print(id_train_train.shape)\n",
    "print(y_train_train.shape)\n",
    "print(X_train_train.shape)\n",
    "\n",
    "id_train_eval = utils_.load_pickle('../data/other/balance/dssm_item_features_batch_neg/df_pos_id_train_eval_bfx_std_item_feats_20221120_20221211.pickle')\n",
    "y_train_eval = utils_.load_pickle('../data/other/balance/dssm_item_features_batch_neg/df_pos_y_train_eval_bfx_std_item_feats_20221120_20221211.pickle')\n",
    "X_train_eval = utils_.load_pickle('../data/other/balance/dssm_item_features_batch_neg/df_train_eval_X_transform.pickle')\n",
    "\n",
    "print(id_train_eval.shape)\n",
    "print(y_train_eval.shape)\n",
    "print(X_train_eval.shape)"
   ]
  },
  {
   "cell_type": "code",
   "execution_count": null,
   "id": "ea5896cc-8b24-4faf-bd59-c3cc161d8f90",
   "metadata": {},
   "outputs": [],
   "source": [
    "train_loader = DataLoader(DatasetLoader(X_train_train.values, y_train_train.values), 1024, shuffle=False, num_workers=8)\n",
    "eval_loader = DataLoader(DatasetLoader(X_train_eval.values, y_train_eval.values), 1024, shuffle=False, num_workers=8)"
   ]
  },
  {
   "cell_type": "code",
   "execution_count": null,
   "id": "3dc2f16c-8b6e-42cb-b391-8bd0b6a8c47a",
   "metadata": {
    "scrolled": true,
    "tags": []
   },
   "outputs": [],
   "source": [
    "config = {\n",
    "    'Model': {\n",
    "        'user_dnn_hidden_units': [256, 128], \n",
    "        'user_dnn_embedding': 64, \n",
    "        'item_dnn_hidden_units': [256, 128], \n",
    "        'item_dnn_embedding': 64, \n",
    "        'dropout': 0.2, \n",
    "        'use_bn': False, \n",
    "        'eval': True, \n",
    "        'test': 0\n",
    "    }\n",
    "}\n",
    "user_feats_columns = utils_.load_pickle('../data/other/balance/dssm_item_features_batch_neg/user_feats_columns.pcikle')\n",
    "item_feats_columns = utils_.load_pickle('../data/other/balance/dssm_item_features_batch_neg/item_feats_columns.pcikle')\n",
    "\n",
    "model = DSSM(config, user_feats_columns, item_feats_columns).to(device)\n",
    "model"
   ]
  },
  {
   "cell_type": "code",
   "execution_count": null,
   "id": "936cbf40-5112-40b0-9e5d-0d80ad1413df",
   "metadata": {},
   "outputs": [],
   "source": [
    "for m in model.modules():\n",
    "    if isinstance(m, (torch.nn.Conv2d, torch.nn.Linear)):\n",
    "        torch.nn.init.xavier_uniform_(m.weight)\n",
    "        # nn.init.kaiming_uniform_(m.weight)\n",
    "    elif isinstance(m, torch.nn.BatchNorm1d):\n",
    "        torch.nn.init.constant_(m.weight, 1)\n",
    "        torch.nn.init.constant_(m.bias, 0)"
   ]
  },
  {
   "cell_type": "code",
   "execution_count": null,
   "id": "93f40099-5cfd-4bc3-85c1-9ed10327ebd9",
   "metadata": {},
   "outputs": [],
   "source": [
    "criterion = torch.nn.BCEWithLogitsLoss().to(device)\n",
    "optimizer = torch.optim.Adam(model.parameters(), lr=0.001)\n",
    "scheduler = torch.optim.lr_scheduler.MultiStepLR(optimizer, milestones=[10, 20, 50], gamma=0.1)"
   ]
  },
  {
   "cell_type": "code",
   "execution_count": null,
   "id": "3cf30cbc-129d-427c-95c4-9cb8fed39249",
   "metadata": {},
   "outputs": [],
   "source": [
    "# model.train()\n",
    "\n",
    "for i, (x, y) in enumerate(train_loader):\n",
    "    x, y = x.to(device).to(torch.float32), y.to(device).to(torch.float32)\n",
    "    # optimizer.zero_grad()\n",
    "    # ue, ie = model(x)\n",
    "    break"
   ]
  },
  {
   "cell_type": "code",
   "execution_count": null,
   "id": "3e78a892-e2fa-4208-863f-179c2ac5ddf0",
   "metadata": {
    "scrolled": true,
    "tags": []
   },
   "outputs": [],
   "source": [
    "print(x.shape)\n",
    "x"
   ]
  },
  {
   "cell_type": "code",
   "execution_count": null,
   "id": "be9382df-bd4d-4db0-a1a0-841822b131d8",
   "metadata": {},
   "outputs": [],
   "source": [
    "x_norm = torch.norm(x, dim=-1)\n",
    "print(x_norm.shape)\n",
    "x_norm"
   ]
  },
  {
   "cell_type": "code",
   "execution_count": null,
   "id": "0c7e6003-d0cd-4bd7-bdd8-717606511137",
   "metadata": {},
   "outputs": [],
   "source": [
    "x_norm_reshape = torch.reshape(x_norm, [-1, 1])\n",
    "x_norm_reshape"
   ]
  },
  {
   "cell_type": "code",
   "execution_count": null,
   "id": "2e95262d-64f4-4afe-82c5-dba02cd2a17f",
   "metadata": {
    "scrolled": true,
    "tags": []
   },
   "outputs": [],
   "source": [
    "torch.div(x, x_norm_reshape)"
   ]
  },
  {
   "cell_type": "code",
   "execution_count": null,
   "id": "920b6465-a8b4-4078-815c-a21c53c3a5aa",
   "metadata": {},
   "outputs": [],
   "source": [
    "# 1/21.7859\n",
    "# 1/42.6453\n",
    "2/42.6453"
   ]
  },
  {
   "cell_type": "code",
   "execution_count": null,
   "id": "c4a26d69-982a-48d5-ac06-90db60bb7c07",
   "metadata": {},
   "outputs": [],
   "source": [
    "ue"
   ]
  },
  {
   "cell_type": "code",
   "execution_count": null,
   "id": "0d3fe198-3d09-43a5-9a65-5f147017dccb",
   "metadata": {},
   "outputs": [],
   "source": [
    "ie"
   ]
  },
  {
   "cell_type": "code",
   "execution_count": null,
   "id": "6940a074-d18a-448b-bc16-31fdd0cd818c",
   "metadata": {},
   "outputs": [],
   "source": [
    "ue.shape[0]"
   ]
  },
  {
   "cell_type": "code",
   "execution_count": null,
   "id": "a0164f61-6de1-4e7a-adac-ca901cfa71b3",
   "metadata": {},
   "outputs": [],
   "source": [
    "for i in range(3):\n",
    "    r = torch.randint(1024+i, []) % 1024\n",
    "    print(r)"
   ]
  },
  {
   "cell_type": "code",
   "execution_count": null,
   "id": "49452c31-1210-4032-9125-e0b5e9dd7773",
   "metadata": {},
   "outputs": [],
   "source": [
    "ie"
   ]
  },
  {
   "cell_type": "code",
   "execution_count": null,
   "id": "6f74d89b-ba50-4af9-a6a0-a2612ac7e89a",
   "metadata": {},
   "outputs": [],
   "source": [
    "ie.shape"
   ]
  },
  {
   "cell_type": "code",
   "execution_count": null,
   "id": "e0cec2bf-7eb6-4985-bec5-8206e5a3cdf7",
   "metadata": {},
   "outputs": [],
   "source": [
    "ie_neg = ie\n",
    "\n",
    "ie_neg = torch.cat([ie_neg, \n",
    "                    ie[r:, :], \n",
    "                    ie[:r, :]], \n",
    "                   dim=0)"
   ]
  },
  {
   "cell_type": "code",
   "execution_count": null,
   "id": "e8620e4b-c4bd-46de-bc70-0379fec4e1ac",
   "metadata": {},
   "outputs": [],
   "source": [
    "ie_neg"
   ]
  },
  {
   "cell_type": "code",
   "execution_count": null,
   "id": "c2d3e3ae-69be-43d7-b1dc-057b96a693b3",
   "metadata": {},
   "outputs": [],
   "source": [
    "ie_neg.shape"
   ]
  },
  {
   "cell_type": "code",
   "execution_count": null,
   "id": "8880f078-0383-47c4-bea2-f1f721d0eabe",
   "metadata": {},
   "outputs": [],
   "source": [
    "ue_neg = ue\n",
    "\n",
    "ue_neg = ue_neg.repeat([1+1, 1])\n",
    "ue_neg"
   ]
  },
  {
   "cell_type": "code",
   "execution_count": null,
   "id": "0af7bdb7-7071-4e0d-a3ac-d5d2ec2f4536",
   "metadata": {},
   "outputs": [],
   "source": [
    "ue_neg.shape"
   ]
  },
  {
   "cell_type": "code",
   "execution_count": null,
   "id": "983ba53c-4b4d-48b8-a4d6-b06820834a1b",
   "metadata": {},
   "outputs": [],
   "source": [
    "aaa = ie_neg * ue_neg"
   ]
  },
  {
   "cell_type": "code",
   "execution_count": null,
   "id": "88019148-b6cc-4d0e-8676-7c56ecf4f008",
   "metadata": {},
   "outputs": [],
   "source": [
    "aaa.shape"
   ]
  },
  {
   "cell_type": "code",
   "execution_count": null,
   "id": "e9888fd0-9010-453a-8149-c12c7e54f127",
   "metadata": {},
   "outputs": [],
   "source": [
    "bbb = torch.multiply(ie_neg, ue_neg)"
   ]
  },
  {
   "cell_type": "code",
   "execution_count": null,
   "id": "bac3cc51-a89c-42e1-9441-da5d567280cf",
   "metadata": {},
   "outputs": [],
   "source": [
    "bbb.shape"
   ]
  },
  {
   "cell_type": "code",
   "execution_count": null,
   "id": "693da93d-f6b1-4921-94be-f881afdb1b95",
   "metadata": {},
   "outputs": [],
   "source": [
    "aaa == bbb"
   ]
  },
  {
   "cell_type": "code",
   "execution_count": null,
   "id": "1721042f-a308-40fd-9a11-829364a36edf",
   "metadata": {},
   "outputs": [],
   "source": [
    "ie_neg_norm = torch.norm(ie_neg, dim=-1)\n",
    "ue_neg_norm = torch.norm(ue_neg, dim=-1)\n",
    "        \n",
    "cosine_score_raw = torch.sum(torch.multiply(ue_neg, ie_neg), dim=-1)\n",
    "cosine_score_raw = torch.div(cosine_score_raw, ue_neg_norm*ie_neg_norm+1e-8)\n",
    "cosine_score_raw = torch.clamp(cosine_score_raw, -1, 1.0)"
   ]
  },
  {
   "cell_type": "code",
   "execution_count": null,
   "id": "fa28814b-50db-490b-890e-45d9b9e4832c",
   "metadata": {},
   "outputs": [],
   "source": [
    "cosine_score_raw"
   ]
  },
  {
   "cell_type": "code",
   "execution_count": null,
   "id": "8c939492-0bdc-43c2-b0dc-ce5c5a5e6260",
   "metadata": {},
   "outputs": [],
   "source": [
    "cosine_score_raw.shape"
   ]
  },
  {
   "cell_type": "code",
   "execution_count": null,
   "id": "439f740c-0fdf-48a2-85a3-3265670e0c09",
   "metadata": {},
   "outputs": [],
   "source": [
    "cosine_score_raw"
   ]
  },
  {
   "cell_type": "code",
   "execution_count": null,
   "id": "2ec2aed4-19d5-46c0-aa33-543defd6fd70",
   "metadata": {},
   "outputs": [],
   "source": [
    "ccc = torch.reshape(cosine_score_raw, [2, -1])"
   ]
  },
  {
   "cell_type": "code",
   "execution_count": null,
   "id": "85f449da-2b93-4547-a66f-eeaece88709f",
   "metadata": {},
   "outputs": [],
   "source": [
    "ccc.shape"
   ]
  },
  {
   "cell_type": "code",
   "execution_count": null,
   "id": "98e8dd46-a2fc-47f3-868c-de44e937d415",
   "metadata": {},
   "outputs": [],
   "source": [
    "ccc"
   ]
  },
  {
   "cell_type": "code",
   "execution_count": null,
   "id": "dad836b2-3eef-4ea9-8d0b-5149738bf089",
   "metadata": {},
   "outputs": [],
   "source": [
    "ddd = torch.transpose(ccc, 0, 1)"
   ]
  },
  {
   "cell_type": "code",
   "execution_count": null,
   "id": "88e0079c-b0c4-4420-9610-746afdd1b978",
   "metadata": {},
   "outputs": [],
   "source": [
    "ddd.shape"
   ]
  },
  {
   "cell_type": "code",
   "execution_count": null,
   "id": "d93b0de6-f58d-4958-b38b-8a57fc995747",
   "metadata": {},
   "outputs": [],
   "source": [
    "ddd"
   ]
  },
  {
   "cell_type": "code",
   "execution_count": null,
   "id": "4333d7d7-84ed-428c-9436-7680df5f54f1",
   "metadata": {},
   "outputs": [],
   "source": [
    "eee = torch.nn.functional.softmax(ddd, dim=-1)"
   ]
  },
  {
   "cell_type": "code",
   "execution_count": null,
   "id": "247557bb-6f12-433e-b93f-64fb9180d3d6",
   "metadata": {},
   "outputs": [],
   "source": [
    "eee"
   ]
  },
  {
   "cell_type": "code",
   "execution_count": null,
   "id": "8ee29706-30d8-4fad-a798-df94569174ad",
   "metadata": {},
   "outputs": [],
   "source": [
    "eee.shape"
   ]
  },
  {
   "cell_type": "code",
   "execution_count": null,
   "id": "771871e4-c8c7-4013-8155-6eaaf4ec0a3b",
   "metadata": {},
   "outputs": [],
   "source": [
    "eee[:, 0]"
   ]
  },
  {
   "cell_type": "code",
   "execution_count": null,
   "id": "043b6cbb-5601-4723-90eb-a31462747227",
   "metadata": {},
   "outputs": [],
   "source": []
  },
  {
   "cell_type": "code",
   "execution_count": null,
   "id": "0d6599d3-c19c-4791-8e3b-54fd2fb1fabd",
   "metadata": {},
   "outputs": [],
   "source": [
    "model.eval()\n",
    "\n",
    "with torch.no_grad():\n",
    "    for i, (x, y) in enumerate(eval_loader):\n",
    "        x, y = x.to(device).to(torch.float32), y.to(device).to(torch.float32)\n",
    "        b = model(x)\n",
    "        \n",
    "        model.item_dnn_embedding_out = True\n",
    "        c = model(x)\n",
    "        break"
   ]
  },
  {
   "cell_type": "code",
   "execution_count": null,
   "id": "364a31ba-4bfe-4fd3-ae19-ebf47b30e5a4",
   "metadata": {},
   "outputs": [],
   "source": [
    "b"
   ]
  },
  {
   "cell_type": "code",
   "execution_count": null,
   "id": "63cf65d4-9023-4050-838b-05638f216ee1",
   "metadata": {},
   "outputs": [],
   "source": [
    "c"
   ]
  },
  {
   "cell_type": "code",
   "execution_count": null,
   "id": "295fa220-4522-42e9-9c93-930ac63e63de",
   "metadata": {},
   "outputs": [],
   "source": [
    "import tensorflow as tf"
   ]
  },
  {
   "cell_type": "code",
   "execution_count": null,
   "id": "2445a6a1-ceb2-47d2-a17a-22ffad1bd9a1",
   "metadata": {},
   "outputs": [],
   "source": [
    "a = tf.random.uniform([], 0, 1024 + 0, dtype=tf.int32) % 1024\n",
    "print(a)"
   ]
  },
  {
   "cell_type": "code",
   "execution_count": null,
   "id": "91b54b3b-5f69-43d8-bb82-1244638fa02d",
   "metadata": {},
   "outputs": [],
   "source": []
  },
  {
   "cell_type": "code",
   "execution_count": null,
   "id": "8efc8625-2771-405f-a86d-444c44bf4b41",
   "metadata": {},
   "outputs": [],
   "source": [
    "2 % 1024"
   ]
  },
  {
   "cell_type": "code",
   "execution_count": null,
   "id": "a3ddf4c3-7618-4586-b06d-145e2d6ef48e",
   "metadata": {},
   "outputs": [],
   "source": [
    "def batch_neg(user_embedding, item_embedding, ratio):\n",
    "    item_embedding_neg = item_embedding\n",
    "    \n",
    "    for i in range(ratio):\n",
    "        random_seed = torch.randint(item_embedding.shape[0]+i, []) % item_embedding.shape[0]\n",
    "        print(random_seed)\n",
    "        item_embedding_neg = torch.cat([item_embedding_neg, \n",
    "                                        item_embedding[random_seed:, :], \n",
    "                                        item_embedding[:random_seed, :]], \n",
    "                                       dim=0)\n",
    "        \n",
    "    user_embedding_neg = user_embedding.repeat([ratio+1, 1])\n",
    "    \n",
    "    user_embedding_neg_norm = torch.norm(user_embedding_neg, dim=-1)\n",
    "    item_embedding_neg_norm = torch.norm(item_embedding_neg, dim=-1)\n",
    "    \n",
    "    cosine_score_raw = torch.sum(torch.multiply(user_embedding_neg, item_embedding_neg), dim=-1)\n",
    "    cosine_score_raw = torch.div(cosine_score_raw, user_embedding_neg_norm*item_embedding_neg_norm+1e-8)\n",
    "    cosine_score_raw = torch.clamp(cosine_score_raw, -1, 1.0)\n",
    "    \n",
    "    cosine_score = torch.transpose(torch.reshape(cosine_score_raw, [ratio+1, -1]), 0, 1)\n",
    "    \n",
    "    prob = torch.nn.functional.softmax(cosine_score, dim=-1)\n",
    "    hit_prob = prob[:, 0]\n",
    "    \n",
    "    return hit_prob"
   ]
  },
  {
   "cell_type": "code",
   "execution_count": null,
   "id": "7913adf2-1486-4782-aae2-228201b5aa0c",
   "metadata": {},
   "outputs": [],
   "source": [
    "res = batch_neg(ue, ie, 3)\n",
    "print(res.shape)\n",
    "res"
   ]
  },
  {
   "cell_type": "code",
   "execution_count": null,
   "id": "68c34189-7a58-4f45-975b-00d9a35577cc",
   "metadata": {},
   "outputs": [],
   "source": []
  }
 ],
 "metadata": {
  "kernelspec": {
   "display_name": "Python (deepctr)",
   "language": "python",
   "name": "deepctr"
  },
  "language_info": {
   "codemirror_mode": {
    "name": "ipython",
    "version": 3
   },
   "file_extension": ".py",
   "mimetype": "text/x-python",
   "name": "python",
   "nbconvert_exporter": "python",
   "pygments_lexer": "ipython3",
   "version": "3.7.10"
  }
 },
 "nbformat": 4,
 "nbformat_minor": 5
}
