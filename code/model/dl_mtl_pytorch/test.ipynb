{
 "cells": [
  {
   "cell_type": "code",
   "execution_count": 2,
   "id": "abc25e91-f9b4-434d-a50d-a2f264e9767e",
   "metadata": {},
   "outputs": [],
   "source": [
    "import datetime\n",
    "import numpy as np\n",
    "import pandas as pd\n",
    "import joblib\n",
    "import warnings\n",
    "import logging\n",
    "import os\n",
    "import gc\n",
    "import matplotlib.pyplot as plt\n",
    "import matplotlib.patches as mpatches\n",
    "import seaborn as sns\n",
    "import collections\n",
    "import re\n",
    "import copy\n",
    "import torch\n",
    "import shap\n",
    "import utils.utils as util\n",
    "\n",
    "import utils_\n",
    "\n",
    "from functools import reduce\n",
    "from tqdm import tqdm\n",
    "from dateutil.relativedelta import relativedelta\n",
    "from joblib import Parallel, delayed\n",
    "from scipy.stats import norm\n",
    "from sklearn.preprocessing import StandardScaler, MinMaxScaler, LabelEncoder\n",
    "from sklearn.model_selection import StratifiedKFold, train_test_split\n",
    "from sklearn.metrics import confusion_matrix, classification_report, roc_auc_score\n",
    "from sklearn.inspection import permutation_importance\n",
    "from model.mmoe_condition_2 import MMOE\n",
    "from torch.utils.data import DataLoader\n",
    "from utils.dataset import DatasetLoader, DatasetLoader_w, DatasetLoader_www\n",
    "from utils.warmup_lr import GradualWarmupScheduler\n",
    "from loss.BCE_weighted_multi_task import BCEWL_weighted_multi_task\n",
    "\n",
    "\n",
    "# pd.set_option('display.max_columns', None)\n",
    "# pd.set_option('max_row', 500)\n",
    "warnings.filterwarnings('ignore')\n",
    "tqdm.pandas(desc='pandas bar')"
   ]
  },
  {
   "cell_type": "code",
   "execution_count": null,
   "id": "52ba2a9f-07e2-434e-9049-78bf59851bf0",
   "metadata": {},
   "outputs": [],
   "source": [
    "torch.__version__"
   ]
  },
  {
   "cell_type": "code",
   "execution_count": null,
   "id": "07b2609f-1f7f-4bdf-b7c6-6134ec597849",
   "metadata": {},
   "outputs": [],
   "source": [
    "X_eval = utils_.load_pickle('../data/exp2suc/loss_pp_cb/df_X_pi_train_eval_transform_20230716_20231001.pickle')\n",
    "y_eval = utils_.load_pickle('../data/exp2suc/loss_pp_cb/df_y_train_eval_20230716_20231001.pickle')\n",
    "\n",
    "print(X_eval.shape)\n",
    "print(y_eval.shape)"
   ]
  },
  {
   "cell_type": "code",
   "execution_count": null,
   "id": "c6c9758b-92ba-498e-8755-c9610ba37add",
   "metadata": {},
   "outputs": [],
   "source": [
    "w_pre_link_eval = X_eval[['item_id_4', 'item_id_5']].max(axis=1)\n",
    "w_pre_link_eval = w_pre_link_eval.apply(lambda x: 5 if x == 0 else 1)\n",
    "print(w_pre_link_eval.shape)\n",
    "\n",
    "w_gf_pp_eval = X_eval[['item_id_0', 'table_type_1']].sum(axis=1)\n",
    "w_gf_pp_eval = w_gf_pp_eval.apply(lambda x: 1 if x == 2 else 0)\n",
    "print(w_gf_pp_eval.shape)\n",
    "\n",
    "w_after_link_eval= X_eval[['item_id_0', 'item_id_4', 'item_id_5', 'table_type_1']].\\\n",
    "    apply(lambda x: 0 if x['item_id_0']==1 and x['table_type_1']==1 \n",
    "                      else 1 if x['item_id_4']==1 or x['item_id_5']==1 \n",
    "                             else 5, \n",
    "          axis=1)\n",
    "print(w_after_link_eval.shape)\n",
    "\n",
    "test_loader = DataLoader(\n",
    "    DatasetLoader_www(X_eval.values, y_eval.values, \n",
    "                      w_pre_link_eval.values, w_gf_pp_eval.values, w_after_link_eval.values), \n",
    "    1024, shuffle=False, num_workers=8)"
   ]
  },
  {
   "cell_type": "code",
   "execution_count": null,
   "id": "f7df8153-0f38-4614-a04e-0883e9d0a63e",
   "metadata": {
    "scrolled": true,
    "tags": []
   },
   "outputs": [],
   "source": [
    "device = torch.device('cuda:0' if torch.cuda.is_available() else 'cpu')\n",
    "util.seed_everything(2023)\n",
    "\n",
    "config = {\n",
    "    'Model': {\n",
    "        'num_experts': 7, \n",
    "        'expert_hidden_units': [512, 256, 128], \n",
    "        'units': 64, \n",
    "        'num_tasks': 5, \n",
    "        'tower_hidden_units': [64, 32, 16], \n",
    "        'dropout': 0.5, \n",
    "        'use_bn': False\n",
    "    }\n",
    "}\n",
    "\n",
    "feats_columns = utils_.load_pickle('../data/exp2suc/loss_pp_cb/feats_columns.pickle')\n",
    "\n",
    "model = MMOE(config, feats_columns).to(device)\n",
    "model"
   ]
  },
  {
   "cell_type": "code",
   "execution_count": null,
   "id": "b0ce4158-145f-4de3-b444-1da238f487c0",
   "metadata": {},
   "outputs": [],
   "source": [
    "for m in model.modules():\n",
    "    if isinstance(m, (torch.nn.Conv2d, torch.nn.Linear)):\n",
    "        torch.nn.init.xavier_uniform_(m.weight)\n",
    "        # nn.init.kaiming_uniform_(m.weight)\n",
    "    elif isinstance(m, torch.nn.BatchNorm1d):\n",
    "        torch.nn.init.constant_(m.weight, 1)\n",
    "        torch.nn.init.constant_(m.bias, 0)"
   ]
  },
  {
   "cell_type": "code",
   "execution_count": null,
   "id": "e737a5a6-3cf1-43a1-811f-95905d382625",
   "metadata": {},
   "outputs": [],
   "source": [
    "criterion_train = (BCEWL_weighted_multi_task().to(device), BCEWL_weighted_multi_task().to(device), BCEWL_weighted_multi_task().to(device), BCEWL_weighted_multi_task().to(device), BCEWL_weighted_multi_task().to(device))\n",
    "\n",
    "optimizer = torch.optim.Adam(model.parameters(), lr=0.001)\n",
    "scheduler = torch.optim.lr_scheduler.MultiStepLR(optimizer, milestones=[10, 20, 30, 40], gamma=0.1)"
   ]
  },
  {
   "cell_type": "code",
   "execution_count": null,
   "id": "3965c12e-fd92-4bde-be1a-95035789c18f",
   "metadata": {},
   "outputs": [],
   "source": [
    "model.train()\n",
    "\n",
    "for i, (x, y, w1, w2, w3) in enumerate(test_loader):\n",
    "    x, y = x.to(device).to(torch.float32), y.to(device).to(torch.float32)\n",
    "    w1, w2, w3 = w1.to(device).to(torch.float32), w2.to(device).to(torch.float32), w3.to(device).to(torch.float32)\n",
    "    optimizer.zero_grad()\n",
    "    output = model(x)\n",
    "    break"
   ]
  },
  {
   "cell_type": "code",
   "execution_count": null,
   "id": "1322a930-aaeb-4618-9f4d-a7cfc21e617c",
   "metadata": {},
   "outputs": [],
   "source": [
    "x.shape"
   ]
  },
  {
   "cell_type": "code",
   "execution_count": null,
   "id": "ad6ab1b4-7543-45dd-b4be-80126b2e2554",
   "metadata": {},
   "outputs": [],
   "source": [
    "y.shape"
   ]
  },
  {
   "cell_type": "code",
   "execution_count": null,
   "id": "80f0769e-a806-4bc5-bd48-91c43e2e4430",
   "metadata": {},
   "outputs": [],
   "source": [
    "output.shape"
   ]
  },
  {
   "cell_type": "code",
   "execution_count": null,
   "id": "f4299514-bd9d-4e68-bf95-b227e25776c0",
   "metadata": {},
   "outputs": [],
   "source": [
    "import torch.nn.functional as F"
   ]
  },
  {
   "cell_type": "code",
   "execution_count": null,
   "id": "8d3cdc07-3085-4c59-8be7-15f96c536eef",
   "metadata": {},
   "outputs": [],
   "source": [
    "loss_BCEWL = F.binary_cross_entropy_with_logits(output[:, 4], y[:, 4], reduction='none')\n",
    "loss_BCEWL"
   ]
  },
  {
   "cell_type": "code",
   "execution_count": null,
   "id": "b4b1568f-4fba-4f0c-aecd-5b7f4c8a75a3",
   "metadata": {},
   "outputs": [],
   "source": [
    "w3"
   ]
  },
  {
   "cell_type": "code",
   "execution_count": null,
   "id": "8ec70583-78b0-4c7c-8b2f-c4fcd3e13251",
   "metadata": {},
   "outputs": [],
   "source": [
    "w3[:10]"
   ]
  },
  {
   "cell_type": "code",
   "execution_count": null,
   "id": "ecba87e5-32ac-4e2c-833f-2ec5c6b7c095",
   "metadata": {
    "scrolled": true,
    "tags": []
   },
   "outputs": [],
   "source": [
    "w3_nozero_index = torch.nonzero(w3)\n",
    "print(len(w3_nozero_index))\n",
    "w3_nozero_index"
   ]
  },
  {
   "cell_type": "code",
   "execution_count": null,
   "id": "cef46012-ef70-4b91-8266-da723ca74d08",
   "metadata": {
    "scrolled": true,
    "tags": []
   },
   "outputs": [],
   "source": [
    "print(len(w3[w3_nozero_index]))\n",
    "w3_nozero = w3[w3_nozero_index]\n",
    "w3_nozero"
   ]
  },
  {
   "cell_type": "code",
   "execution_count": null,
   "id": "952026f9-167d-46eb-a0f2-43b11a4a440d",
   "metadata": {},
   "outputs": [],
   "source": [
    "w3.shape"
   ]
  },
  {
   "cell_type": "code",
   "execution_count": null,
   "id": "f60e8085-ac4d-443c-9502-11ee2ef30601",
   "metadata": {
    "scrolled": true,
    "tags": []
   },
   "outputs": [],
   "source": [
    "w3_nozero = w3_nozero.reshape(-1)\n",
    "print(w3_nozero.shape)\n",
    "w3_nozero"
   ]
  },
  {
   "cell_type": "code",
   "execution_count": null,
   "id": "c9c42a4f-c22b-44a9-809a-6baa4fc5600d",
   "metadata": {},
   "outputs": [],
   "source": [
    "loss_BCEWL.shape"
   ]
  },
  {
   "cell_type": "code",
   "execution_count": null,
   "id": "28529d87-1e06-4d73-aaec-814dff54dbbb",
   "metadata": {},
   "outputs": [],
   "source": []
  },
  {
   "cell_type": "code",
   "execution_count": null,
   "id": "c24733ad-a522-4a39-b19b-cf00f8e3b51f",
   "metadata": {},
   "outputs": [],
   "source": []
  },
  {
   "cell_type": "code",
   "execution_count": null,
   "id": "23487f54-11b8-488e-8f83-83c4ddd19a11",
   "metadata": {},
   "outputs": [],
   "source": []
  },
  {
   "cell_type": "code",
   "execution_count": null,
   "id": "fdba4e9f-a871-441f-81fa-0c7ebd52a9ec",
   "metadata": {},
   "outputs": [],
   "source": []
  },
  {
   "cell_type": "code",
   "execution_count": null,
   "id": "1af0a813-a520-48df-9981-6858e1b8ba21",
   "metadata": {},
   "outputs": [],
   "source": [
    "# w = w1\n",
    "w = w3\n",
    "w"
   ]
  },
  {
   "cell_type": "code",
   "execution_count": null,
   "id": "6e0a9b72-cd2d-49a0-a0de-1ec9044eb307",
   "metadata": {
    "scrolled": true,
    "tags": []
   },
   "outputs": [],
   "source": [
    "w_nozero_index = torch.nonzero(w)\n",
    "print(len(w_nozero_index))\n",
    "w_nozero_index"
   ]
  },
  {
   "cell_type": "code",
   "execution_count": null,
   "id": "b8291537-dc05-40ba-819e-4c9df962e9e2",
   "metadata": {},
   "outputs": [],
   "source": [
    "loss_BCEWL_weighted = loss_BCEWL * w\n",
    "print(loss_BCEWL_weighted.shape)\n",
    "loss_BCEWL_weighted"
   ]
  },
  {
   "cell_type": "code",
   "execution_count": null,
   "id": "b3bdd28f-751f-4aa2-bab5-c18fed428daa",
   "metadata": {},
   "outputs": [],
   "source": [
    "loss = torch.mean(loss_BCEWL_weighted)\n",
    "loss"
   ]
  },
  {
   "cell_type": "code",
   "execution_count": null,
   "id": "d2e37e5d-6c26-40cd-9ffa-e94b04f2b625",
   "metadata": {
    "scrolled": true,
    "tags": []
   },
   "outputs": [],
   "source": [
    "loss_BCEWL_weighted = loss_BCEWL[w_nozero_index].reshape(-1) * w[w_nozero_index].reshape(-1)\n",
    "print(loss_BCEWL_weighted.shape)\n",
    "loss_BCEWL_weighted"
   ]
  },
  {
   "cell_type": "code",
   "execution_count": null,
   "id": "2cc45d90-080f-4e9d-a1a1-fc722ae70b45",
   "metadata": {},
   "outputs": [],
   "source": [
    "loss = torch.mean(loss_BCEWL_weighted)\n",
    "loss"
   ]
  },
  {
   "cell_type": "code",
   "execution_count": null,
   "id": "d4d2fcea-bf47-4c4c-81bc-bc90a20086e1",
   "metadata": {},
   "outputs": [],
   "source": []
  }
 ],
 "metadata": {
  "kernelspec": {
   "display_name": "Python (deepctr)",
   "language": "python",
   "name": "deepctr"
  },
  "language_info": {
   "codemirror_mode": {
    "name": "ipython",
    "version": 3
   },
   "file_extension": ".py",
   "mimetype": "text/x-python",
   "name": "python",
   "nbconvert_exporter": "python",
   "pygments_lexer": "ipython3",
   "version": "3.7.10"
  }
 },
 "nbformat": 4,
 "nbformat_minor": 5
}
