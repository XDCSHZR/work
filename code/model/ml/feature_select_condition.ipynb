{
 "cells": [
  {
   "cell_type": "markdown",
   "metadata": {},
   "source": [
    "# 数据处理&特征工程"
   ]
  },
  {
   "cell_type": "code",
   "execution_count": null,
   "metadata": {
    "scrolled": true,
    "tags": []
   },
   "outputs": [
    {
     "ename": "KeyboardInterrupt",
     "evalue": "",
     "output_type": "error",
     "traceback": [
      "\u001b[0;31m---------------------------------------------------------------------------\u001b[0m",
      "\u001b[0;31mKeyboardInterrupt\u001b[0m                         Traceback (most recent call last)",
      "\u001b[0;32m/tmp/ipykernel_102184/1775371700.py\u001b[0m in \u001b[0;36m<module>\u001b[0;34m\u001b[0m\n\u001b[1;32m      7\u001b[0m \u001b[0;32mimport\u001b[0m \u001b[0mos\u001b[0m\u001b[0;34m\u001b[0m\u001b[0;34m\u001b[0m\u001b[0m\n\u001b[1;32m      8\u001b[0m \u001b[0;32mimport\u001b[0m \u001b[0mgc\u001b[0m\u001b[0;34m\u001b[0m\u001b[0;34m\u001b[0m\u001b[0m\n\u001b[0;32m----> 9\u001b[0;31m \u001b[0;32mimport\u001b[0m \u001b[0mmatplotlib\u001b[0m\u001b[0;34m.\u001b[0m\u001b[0mpyplot\u001b[0m \u001b[0;32mas\u001b[0m \u001b[0mplt\u001b[0m\u001b[0;34m\u001b[0m\u001b[0;34m\u001b[0m\u001b[0m\n\u001b[0m\u001b[1;32m     10\u001b[0m \u001b[0;32mimport\u001b[0m \u001b[0mmatplotlib\u001b[0m\u001b[0;34m.\u001b[0m\u001b[0mpatches\u001b[0m \u001b[0;32mas\u001b[0m \u001b[0mmpatches\u001b[0m\u001b[0;34m\u001b[0m\u001b[0;34m\u001b[0m\u001b[0m\n\u001b[1;32m     11\u001b[0m \u001b[0;32mimport\u001b[0m \u001b[0mseaborn\u001b[0m \u001b[0;32mas\u001b[0m \u001b[0msns\u001b[0m\u001b[0;34m\u001b[0m\u001b[0;34m\u001b[0m\u001b[0m\n",
      "\u001b[0;32m~/anaconda3/envs/jarretthan/lib/python3.7/site-packages/matplotlib/pyplot.py\u001b[0m in \u001b[0;36m<module>\u001b[0;34m\u001b[0m\n\u001b[1;32m     47\u001b[0m \u001b[0;32mfrom\u001b[0m \u001b[0mcycler\u001b[0m \u001b[0;32mimport\u001b[0m \u001b[0mcycler\u001b[0m\u001b[0;34m\u001b[0m\u001b[0;34m\u001b[0m\u001b[0m\n\u001b[1;32m     48\u001b[0m \u001b[0;32mimport\u001b[0m \u001b[0mmatplotlib\u001b[0m\u001b[0;34m\u001b[0m\u001b[0;34m\u001b[0m\u001b[0m\n\u001b[0;32m---> 49\u001b[0;31m \u001b[0;32mimport\u001b[0m \u001b[0mmatplotlib\u001b[0m\u001b[0;34m.\u001b[0m\u001b[0mcolorbar\u001b[0m\u001b[0;34m\u001b[0m\u001b[0;34m\u001b[0m\u001b[0m\n\u001b[0m\u001b[1;32m     50\u001b[0m \u001b[0;32mimport\u001b[0m \u001b[0mmatplotlib\u001b[0m\u001b[0;34m.\u001b[0m\u001b[0mimage\u001b[0m\u001b[0;34m\u001b[0m\u001b[0;34m\u001b[0m\u001b[0m\n\u001b[1;32m     51\u001b[0m \u001b[0;32mfrom\u001b[0m \u001b[0mmatplotlib\u001b[0m \u001b[0;32mimport\u001b[0m \u001b[0m_api\u001b[0m\u001b[0;34m\u001b[0m\u001b[0;34m\u001b[0m\u001b[0m\n",
      "\u001b[0;32m~/anaconda3/envs/jarretthan/lib/python3.7/site-packages/matplotlib/colorbar.py\u001b[0m in \u001b[0;36m<module>\u001b[0;34m\u001b[0m\n\u001b[1;32m     19\u001b[0m \u001b[0;34m\u001b[0m\u001b[0m\n\u001b[1;32m     20\u001b[0m \u001b[0;32mimport\u001b[0m \u001b[0mmatplotlib\u001b[0m \u001b[0;32mas\u001b[0m \u001b[0mmpl\u001b[0m\u001b[0;34m\u001b[0m\u001b[0;34m\u001b[0m\u001b[0m\n\u001b[0;32m---> 21\u001b[0;31m \u001b[0;32mfrom\u001b[0m \u001b[0mmatplotlib\u001b[0m \u001b[0;32mimport\u001b[0m \u001b[0m_api\u001b[0m\u001b[0;34m,\u001b[0m \u001b[0mcollections\u001b[0m\u001b[0;34m,\u001b[0m \u001b[0mcm\u001b[0m\u001b[0;34m,\u001b[0m \u001b[0mcolors\u001b[0m\u001b[0;34m,\u001b[0m \u001b[0mcontour\u001b[0m\u001b[0;34m,\u001b[0m \u001b[0mticker\u001b[0m\u001b[0;34m\u001b[0m\u001b[0;34m\u001b[0m\u001b[0m\n\u001b[0m\u001b[1;32m     22\u001b[0m \u001b[0;32mimport\u001b[0m \u001b[0mmatplotlib\u001b[0m\u001b[0;34m.\u001b[0m\u001b[0martist\u001b[0m \u001b[0;32mas\u001b[0m \u001b[0mmartist\u001b[0m\u001b[0;34m\u001b[0m\u001b[0;34m\u001b[0m\u001b[0m\n\u001b[1;32m     23\u001b[0m \u001b[0;32mimport\u001b[0m \u001b[0mmatplotlib\u001b[0m\u001b[0;34m.\u001b[0m\u001b[0mpatches\u001b[0m \u001b[0;32mas\u001b[0m \u001b[0mmpatches\u001b[0m\u001b[0;34m\u001b[0m\u001b[0;34m\u001b[0m\u001b[0m\n",
      "\u001b[0;32m~/anaconda3/envs/jarretthan/lib/python3.7/site-packages/matplotlib/contour.py\u001b[0m in \u001b[0;36m<module>\u001b[0;34m\u001b[0m\n\u001b[1;32m     11\u001b[0m \u001b[0;32mimport\u001b[0m \u001b[0mmatplotlib\u001b[0m \u001b[0;32mas\u001b[0m \u001b[0mmpl\u001b[0m\u001b[0;34m\u001b[0m\u001b[0;34m\u001b[0m\u001b[0m\n\u001b[1;32m     12\u001b[0m \u001b[0;32mfrom\u001b[0m \u001b[0mmatplotlib\u001b[0m \u001b[0;32mimport\u001b[0m \u001b[0m_api\u001b[0m\u001b[0;34m,\u001b[0m \u001b[0mdocstring\u001b[0m\u001b[0;34m\u001b[0m\u001b[0;34m\u001b[0m\u001b[0m\n\u001b[0;32m---> 13\u001b[0;31m \u001b[0;32mfrom\u001b[0m \u001b[0mmatplotlib\u001b[0m\u001b[0;34m.\u001b[0m\u001b[0mbackend_bases\u001b[0m \u001b[0;32mimport\u001b[0m \u001b[0mMouseButton\u001b[0m\u001b[0;34m\u001b[0m\u001b[0;34m\u001b[0m\u001b[0m\n\u001b[0m\u001b[1;32m     14\u001b[0m \u001b[0;32mimport\u001b[0m \u001b[0mmatplotlib\u001b[0m\u001b[0;34m.\u001b[0m\u001b[0mpath\u001b[0m \u001b[0;32mas\u001b[0m \u001b[0mmpath\u001b[0m\u001b[0;34m\u001b[0m\u001b[0;34m\u001b[0m\u001b[0m\n\u001b[1;32m     15\u001b[0m \u001b[0;32mimport\u001b[0m \u001b[0mmatplotlib\u001b[0m\u001b[0;34m.\u001b[0m\u001b[0mticker\u001b[0m \u001b[0;32mas\u001b[0m \u001b[0mticker\u001b[0m\u001b[0;34m\u001b[0m\u001b[0;34m\u001b[0m\u001b[0m\n",
      "\u001b[0;32m~/anaconda3/envs/jarretthan/lib/python3.7/site-packages/matplotlib/backend_bases.py\u001b[0m in \u001b[0;36m<module>\u001b[0;34m\u001b[0m\n\u001b[1;32m     44\u001b[0m \u001b[0;34m\u001b[0m\u001b[0m\n\u001b[1;32m     45\u001b[0m \u001b[0;32mimport\u001b[0m \u001b[0mmatplotlib\u001b[0m \u001b[0;32mas\u001b[0m \u001b[0mmpl\u001b[0m\u001b[0;34m\u001b[0m\u001b[0;34m\u001b[0m\u001b[0m\n\u001b[0;32m---> 46\u001b[0;31m from matplotlib import (\n\u001b[0m\u001b[1;32m     47\u001b[0m     \u001b[0m_api\u001b[0m\u001b[0;34m,\u001b[0m \u001b[0mbackend_tools\u001b[0m \u001b[0;32mas\u001b[0m \u001b[0mtools\u001b[0m\u001b[0;34m,\u001b[0m \u001b[0mcbook\u001b[0m\u001b[0;34m,\u001b[0m \u001b[0mcolors\u001b[0m\u001b[0;34m,\u001b[0m \u001b[0mdocstring\u001b[0m\u001b[0;34m,\u001b[0m \u001b[0mtextpath\u001b[0m\u001b[0;34m,\u001b[0m\u001b[0;34m\u001b[0m\u001b[0;34m\u001b[0m\u001b[0m\n\u001b[1;32m     48\u001b[0m     tight_bbox, transforms, widgets, get_backend, is_interactive, rcParams)\n",
      "\u001b[0;32m~/anaconda3/envs/jarretthan/lib/python3.7/site-packages/matplotlib/widgets.py\u001b[0m in \u001b[0;36m<module>\u001b[0;34m\u001b[0m\n\u001b[1;32m     20\u001b[0m \u001b[0;32mfrom\u001b[0m \u001b[0;34m.\u001b[0m \u001b[0;32mimport\u001b[0m \u001b[0m_api\u001b[0m\u001b[0;34m,\u001b[0m \u001b[0mbackend_tools\u001b[0m\u001b[0;34m,\u001b[0m \u001b[0mcbook\u001b[0m\u001b[0;34m,\u001b[0m \u001b[0mcolors\u001b[0m\u001b[0;34m,\u001b[0m \u001b[0mticker\u001b[0m\u001b[0;34m\u001b[0m\u001b[0;34m\u001b[0m\u001b[0m\n\u001b[1;32m     21\u001b[0m \u001b[0;32mfrom\u001b[0m \u001b[0;34m.\u001b[0m\u001b[0mlines\u001b[0m \u001b[0;32mimport\u001b[0m \u001b[0mLine2D\u001b[0m\u001b[0;34m\u001b[0m\u001b[0;34m\u001b[0m\u001b[0m\n\u001b[0;32m---> 22\u001b[0;31m \u001b[0;32mfrom\u001b[0m \u001b[0;34m.\u001b[0m\u001b[0mpatches\u001b[0m \u001b[0;32mimport\u001b[0m \u001b[0mCircle\u001b[0m\u001b[0;34m,\u001b[0m \u001b[0mRectangle\u001b[0m\u001b[0;34m,\u001b[0m \u001b[0mEllipse\u001b[0m\u001b[0;34m\u001b[0m\u001b[0;34m\u001b[0m\u001b[0m\n\u001b[0m\u001b[1;32m     23\u001b[0m \u001b[0;32mfrom\u001b[0m \u001b[0;34m.\u001b[0m\u001b[0mtransforms\u001b[0m \u001b[0;32mimport\u001b[0m \u001b[0mTransformedPatchPath\u001b[0m\u001b[0;34m\u001b[0m\u001b[0;34m\u001b[0m\u001b[0m\n\u001b[1;32m     24\u001b[0m \u001b[0;34m\u001b[0m\u001b[0m\n",
      "\u001b[0;32m~/anaconda3/envs/jarretthan/lib/python3.7/site-packages/matplotlib/patches.py\u001b[0m in \u001b[0;36m<module>\u001b[0;34m\u001b[0m\n\u001b[1;32m   1229\u001b[0m \u001b[0;34m\u001b[0m\u001b[0m\n\u001b[1;32m   1230\u001b[0m \u001b[0;31m# COVERAGE NOTE: Not used internally or from examples\u001b[0m\u001b[0;34m\u001b[0m\u001b[0;34m\u001b[0m\u001b[0;34m\u001b[0m\u001b[0m\n\u001b[0;32m-> 1231\u001b[0;31m \u001b[0;32mclass\u001b[0m \u001b[0mArrow\u001b[0m\u001b[0;34m(\u001b[0m\u001b[0mPatch\u001b[0m\u001b[0;34m)\u001b[0m\u001b[0;34m:\u001b[0m\u001b[0;34m\u001b[0m\u001b[0;34m\u001b[0m\u001b[0m\n\u001b[0m\u001b[1;32m   1232\u001b[0m     \u001b[0;34m\"\"\"An arrow patch.\"\"\"\u001b[0m\u001b[0;34m\u001b[0m\u001b[0;34m\u001b[0m\u001b[0m\n\u001b[1;32m   1233\u001b[0m \u001b[0;34m\u001b[0m\u001b[0m\n",
      "\u001b[0;32m~/anaconda3/envs/jarretthan/lib/python3.7/site-packages/matplotlib/artist.py\u001b[0m in \u001b[0;36m__init_subclass__\u001b[0;34m(cls)\u001b[0m\n\u001b[1;32m    118\u001b[0m         \u001b[0mcls\u001b[0m\u001b[0;34m.\u001b[0m\u001b[0mset\u001b[0m\u001b[0;34m.\u001b[0m\u001b[0m__name__\u001b[0m \u001b[0;34m=\u001b[0m \u001b[0;34m\"set\"\u001b[0m\u001b[0;34m\u001b[0m\u001b[0;34m\u001b[0m\u001b[0m\n\u001b[1;32m    119\u001b[0m         \u001b[0mcls\u001b[0m\u001b[0;34m.\u001b[0m\u001b[0mset\u001b[0m\u001b[0;34m.\u001b[0m\u001b[0m__qualname__\u001b[0m \u001b[0;34m=\u001b[0m \u001b[0;34mf\"{cls.__qualname__}.set\"\u001b[0m\u001b[0;34m\u001b[0m\u001b[0;34m\u001b[0m\u001b[0m\n\u001b[0;32m--> 120\u001b[0;31m         \u001b[0mcls\u001b[0m\u001b[0;34m.\u001b[0m\u001b[0m_update_set_signature_and_docstring\u001b[0m\u001b[0;34m(\u001b[0m\u001b[0;34m)\u001b[0m\u001b[0;34m\u001b[0m\u001b[0;34m\u001b[0m\u001b[0m\n\u001b[0m\u001b[1;32m    121\u001b[0m \u001b[0;34m\u001b[0m\u001b[0m\n\u001b[1;32m    122\u001b[0m     _PROPERTIES_EXCLUDED_FROM_SET = [\n",
      "\u001b[0;32m~/anaconda3/envs/jarretthan/lib/python3.7/site-packages/matplotlib/artist.py\u001b[0m in \u001b[0;36m_update_set_signature_and_docstring\u001b[0;34m(cls)\u001b[0m\n\u001b[1;32m    146\u001b[0m             \u001b[0;34m\"Set multiple properties at once.\\n\\n\"\u001b[0m\u001b[0;34m\u001b[0m\u001b[0;34m\u001b[0m\u001b[0m\n\u001b[1;32m    147\u001b[0m             \u001b[0;34m\"Supported properties are\\n\\n\"\u001b[0m\u001b[0;34m\u001b[0m\u001b[0;34m\u001b[0m\u001b[0m\n\u001b[0;32m--> 148\u001b[0;31m             + kwdoc(cls))\n\u001b[0m\u001b[1;32m    149\u001b[0m \u001b[0;34m\u001b[0m\u001b[0m\n\u001b[1;32m    150\u001b[0m     \u001b[0;32mdef\u001b[0m \u001b[0m__init__\u001b[0m\u001b[0;34m(\u001b[0m\u001b[0mself\u001b[0m\u001b[0;34m)\u001b[0m\u001b[0;34m:\u001b[0m\u001b[0;34m\u001b[0m\u001b[0;34m\u001b[0m\u001b[0m\n",
      "\u001b[0;32m~/anaconda3/envs/jarretthan/lib/python3.7/site-packages/matplotlib/artist.py\u001b[0m in \u001b[0;36mkwdoc\u001b[0;34m(artist)\u001b[0m\n\u001b[1;32m   1760\u001b[0m     return ('\\n'.join(ai.pprint_setters_rest(leadingspace=4))\n\u001b[1;32m   1761\u001b[0m             \u001b[0;32mif\u001b[0m \u001b[0mmpl\u001b[0m\u001b[0;34m.\u001b[0m\u001b[0mrcParams\u001b[0m\u001b[0;34m[\u001b[0m\u001b[0;34m'docstring.hardcopy'\u001b[0m\u001b[0;34m]\u001b[0m \u001b[0;32melse\u001b[0m\u001b[0;34m\u001b[0m\u001b[0;34m\u001b[0m\u001b[0m\n\u001b[0;32m-> 1762\u001b[0;31m             'Properties:\\n' + '\\n'.join(ai.pprint_setters(leadingspace=4)))\n\u001b[0m\u001b[1;32m   1763\u001b[0m \u001b[0;34m\u001b[0m\u001b[0m\n\u001b[1;32m   1764\u001b[0m \u001b[0;31m# We defer this to the end of them module, because it needs ArtistInspector\u001b[0m\u001b[0;34m\u001b[0m\u001b[0;34m\u001b[0m\u001b[0;34m\u001b[0m\u001b[0m\n",
      "\u001b[0;32m~/anaconda3/envs/jarretthan/lib/python3.7/site-packages/matplotlib/artist.py\u001b[0m in \u001b[0;36mpprint_setters\u001b[0;34m(self, prop, leadingspace)\u001b[0m\n\u001b[1;32m   1521\u001b[0m         \u001b[0mlines\u001b[0m \u001b[0;34m=\u001b[0m \u001b[0;34m[\u001b[0m\u001b[0;34m]\u001b[0m\u001b[0;34m\u001b[0m\u001b[0;34m\u001b[0m\u001b[0m\n\u001b[1;32m   1522\u001b[0m         \u001b[0;32mfor\u001b[0m \u001b[0mprop\u001b[0m \u001b[0;32min\u001b[0m \u001b[0msorted\u001b[0m\u001b[0;34m(\u001b[0m\u001b[0mself\u001b[0m\u001b[0;34m.\u001b[0m\u001b[0mget_setters\u001b[0m\u001b[0;34m(\u001b[0m\u001b[0;34m)\u001b[0m\u001b[0;34m)\u001b[0m\u001b[0;34m:\u001b[0m\u001b[0;34m\u001b[0m\u001b[0;34m\u001b[0m\u001b[0m\n\u001b[0;32m-> 1523\u001b[0;31m             \u001b[0maccepts\u001b[0m \u001b[0;34m=\u001b[0m \u001b[0mself\u001b[0m\u001b[0;34m.\u001b[0m\u001b[0mget_valid_values\u001b[0m\u001b[0;34m(\u001b[0m\u001b[0mprop\u001b[0m\u001b[0;34m)\u001b[0m\u001b[0;34m\u001b[0m\u001b[0;34m\u001b[0m\u001b[0m\n\u001b[0m\u001b[1;32m   1524\u001b[0m             \u001b[0mname\u001b[0m \u001b[0;34m=\u001b[0m \u001b[0mself\u001b[0m\u001b[0;34m.\u001b[0m\u001b[0maliased_name\u001b[0m\u001b[0;34m(\u001b[0m\u001b[0mprop\u001b[0m\u001b[0;34m)\u001b[0m\u001b[0;34m\u001b[0m\u001b[0;34m\u001b[0m\u001b[0m\n\u001b[1;32m   1525\u001b[0m             \u001b[0mlines\u001b[0m\u001b[0;34m.\u001b[0m\u001b[0mappend\u001b[0m\u001b[0;34m(\u001b[0m\u001b[0;34m'%s%s: %s'\u001b[0m \u001b[0;34m%\u001b[0m \u001b[0;34m(\u001b[0m\u001b[0mpad\u001b[0m\u001b[0;34m,\u001b[0m \u001b[0mname\u001b[0m\u001b[0;34m,\u001b[0m \u001b[0maccepts\u001b[0m\u001b[0;34m)\u001b[0m\u001b[0;34m)\u001b[0m\u001b[0;34m\u001b[0m\u001b[0;34m\u001b[0m\u001b[0m\n",
      "\u001b[0;32m~/anaconda3/envs/jarretthan/lib/python3.7/site-packages/matplotlib/artist.py\u001b[0m in \u001b[0;36mget_valid_values\u001b[0;34m(self, attr)\u001b[0m\n\u001b[1;32m   1416\u001b[0m         \u001b[0;31m# We could set the presence * based on whether the parameter is a\u001b[0m\u001b[0;34m\u001b[0m\u001b[0;34m\u001b[0m\u001b[0;34m\u001b[0m\u001b[0m\n\u001b[1;32m   1417\u001b[0m         \u001b[0;31m# varargs (it can't be a varkwargs) but it's not really worth the it.\u001b[0m\u001b[0;34m\u001b[0m\u001b[0;34m\u001b[0m\u001b[0;34m\u001b[0m\u001b[0m\n\u001b[0;32m-> 1418\u001b[0;31m         \u001b[0mmatch\u001b[0m \u001b[0;34m=\u001b[0m \u001b[0mre\u001b[0m\u001b[0;34m.\u001b[0m\u001b[0msearch\u001b[0m\u001b[0;34m(\u001b[0m\u001b[0;34mr\"(?m)^ *\\*?{} : (.+)\"\u001b[0m\u001b[0;34m.\u001b[0m\u001b[0mformat\u001b[0m\u001b[0;34m(\u001b[0m\u001b[0mparam_name\u001b[0m\u001b[0;34m)\u001b[0m\u001b[0;34m,\u001b[0m \u001b[0mdocstring\u001b[0m\u001b[0;34m)\u001b[0m\u001b[0;34m\u001b[0m\u001b[0;34m\u001b[0m\u001b[0m\n\u001b[0m\u001b[1;32m   1419\u001b[0m         \u001b[0;32mif\u001b[0m \u001b[0mmatch\u001b[0m\u001b[0;34m:\u001b[0m\u001b[0;34m\u001b[0m\u001b[0;34m\u001b[0m\u001b[0m\n\u001b[1;32m   1420\u001b[0m             \u001b[0;32mreturn\u001b[0m \u001b[0mmatch\u001b[0m\u001b[0;34m.\u001b[0m\u001b[0mgroup\u001b[0m\u001b[0;34m(\u001b[0m\u001b[0;36m1\u001b[0m\u001b[0;34m)\u001b[0m\u001b[0;34m\u001b[0m\u001b[0;34m\u001b[0m\u001b[0m\n",
      "\u001b[0;32m~/anaconda3/envs/jarretthan/lib/python3.7/re.py\u001b[0m in \u001b[0;36msearch\u001b[0;34m(pattern, string, flags)\u001b[0m\n\u001b[1;32m    183\u001b[0m     \"\"\"Scan through string looking for a match to the pattern, returning\n\u001b[1;32m    184\u001b[0m     a Match object, or None if no match was found.\"\"\"\n\u001b[0;32m--> 185\u001b[0;31m     \u001b[0;32mreturn\u001b[0m \u001b[0m_compile\u001b[0m\u001b[0;34m(\u001b[0m\u001b[0mpattern\u001b[0m\u001b[0;34m,\u001b[0m \u001b[0mflags\u001b[0m\u001b[0;34m)\u001b[0m\u001b[0;34m.\u001b[0m\u001b[0msearch\u001b[0m\u001b[0;34m(\u001b[0m\u001b[0mstring\u001b[0m\u001b[0;34m)\u001b[0m\u001b[0;34m\u001b[0m\u001b[0;34m\u001b[0m\u001b[0m\n\u001b[0m\u001b[1;32m    186\u001b[0m \u001b[0;34m\u001b[0m\u001b[0m\n\u001b[1;32m    187\u001b[0m \u001b[0;32mdef\u001b[0m \u001b[0msub\u001b[0m\u001b[0;34m(\u001b[0m\u001b[0mpattern\u001b[0m\u001b[0;34m,\u001b[0m \u001b[0mrepl\u001b[0m\u001b[0;34m,\u001b[0m \u001b[0mstring\u001b[0m\u001b[0;34m,\u001b[0m \u001b[0mcount\u001b[0m\u001b[0;34m=\u001b[0m\u001b[0;36m0\u001b[0m\u001b[0;34m,\u001b[0m \u001b[0mflags\u001b[0m\u001b[0;34m=\u001b[0m\u001b[0;36m0\u001b[0m\u001b[0;34m)\u001b[0m\u001b[0;34m:\u001b[0m\u001b[0;34m\u001b[0m\u001b[0;34m\u001b[0m\u001b[0m\n",
      "\u001b[0;31mKeyboardInterrupt\u001b[0m: "
     ]
    }
   ],
   "source": [
    "import datetime\n",
    "import numpy as np\n",
    "import pandas as pd\n",
    "import joblib\n",
    "import warnings\n",
    "import logging\n",
    "import os\n",
    "import gc\n",
    "import matplotlib.pyplot as plt\n",
    "import matplotlib.patches as mpatches\n",
    "import seaborn as sns\n",
    "import collections\n",
    "import re\n",
    "import copy\n",
    "import xgboost as xgb\n",
    "import lightgbm as lgb\n",
    "import shap\n",
    "import statsmodels.api as sm\n",
    "\n",
    "import utils\n",
    "\n",
    "from tqdm import tqdm\n",
    "from dateutil.relativedelta import relativedelta\n",
    "from joblib import Parallel, delayed\n",
    "from scipy.stats import norm\n",
    "from sklearn.preprocessing import StandardScaler\n",
    "from sklearn.model_selection import StratifiedKFold, train_test_split\n",
    "from sklearn.metrics import confusion_matrix, classification_report, roc_auc_score\n",
    "from sklearn.inspection import permutation_importance\n",
    "\n",
    "# pd.set_option('display.max_columns', None)\n",
    "# pd.set_option('max_row', 500)\n",
    "warnings.filterwarnings('ignore')\n",
    "tqdm.pandas(desc='pandas bar')"
   ]
  },
  {
   "cell_type": "code",
   "execution_count": null,
   "metadata": {},
   "outputs": [],
   "source": [
    "xgb.__version__"
   ]
  },
  {
   "cell_type": "code",
   "execution_count": null,
   "metadata": {},
   "outputs": [],
   "source": [
    "lgb.__version__"
   ]
  },
  {
   "cell_type": "markdown",
   "metadata": {},
   "source": [
    "## 数据"
   ]
  },
  {
   "cell_type": "markdown",
   "metadata": {},
   "source": [
    "* fusion"
   ]
  },
  {
   "cell_type": "code",
   "execution_count": null,
   "metadata": {
    "scrolled": true,
    "tags": []
   },
   "outputs": [],
   "source": [
    "# df_fusion = pd.read_csv('data/sample_label_feature_fusion_new_dream_20221120_20221211.txt', sep='\\t', encoding='utf-8')\n",
    "\n",
    "df_fusion = pd.read_csv('data/sample_label_feature_increment_fusion_new_20230813_20230903.txt', sep='\\t', encoding='utf-8')\n",
    "\n",
    "print(df_fusion.shape)\n",
    "df_fusion.head()"
   ]
  },
  {
   "cell_type": "code",
   "execution_count": null,
   "metadata": {},
   "outputs": [],
   "source": [
    "[x for x in df_fusion.columns if x.endswith('.1')]"
   ]
  },
  {
   "cell_type": "code",
   "execution_count": null,
   "metadata": {},
   "outputs": [],
   "source": [
    "df_fusion.info()"
   ]
  },
  {
   "cell_type": "code",
   "execution_count": null,
   "metadata": {},
   "outputs": [],
   "source": [
    "df_fusion['obs_dt'].value_counts()"
   ]
  },
  {
   "cell_type": "code",
   "execution_count": null,
   "metadata": {},
   "outputs": [],
   "source": [
    "df_fusion['card'].value_counts()"
   ]
  },
  {
   "cell_type": "code",
   "execution_count": null,
   "metadata": {},
   "outputs": [],
   "source": [
    "df_fusion['label'].value_counts()"
   ]
  },
  {
   "cell_type": "code",
   "execution_count": null,
   "metadata": {},
   "outputs": [],
   "source": [
    "# 271663 / 271663\n",
    "569717 / 569717"
   ]
  },
  {
   "cell_type": "code",
   "execution_count": null,
   "metadata": {
    "scrolled": true,
    "tags": []
   },
   "outputs": [],
   "source": [
    "df_fusion[['card', 'label', 'uid']].groupby(by=['card', 'label']).count()"
   ]
  },
  {
   "cell_type": "code",
   "execution_count": null,
   "metadata": {},
   "outputs": [],
   "source": [
    "df_fusion['obs_dt'] = pd.to_datetime(df_fusion['obs_dt'])\n",
    "\n",
    "# utils.save_pickle(df_fusion, 'data/other/balance/feats/df_fusion_20221120_20221211.pickle')\n",
    "utils.save_pickle(df_fusion, 'data/other/increment_balance_24/df_fusion_20230813_20220903.pickle')"
   ]
  },
  {
   "cell_type": "markdown",
   "metadata": {},
   "source": [
    "* aspiration"
   ]
  },
  {
   "cell_type": "code",
   "execution_count": null,
   "metadata": {
    "scrolled": true,
    "tags": []
   },
   "outputs": [],
   "source": [
    "# df_aspiration = pd.read_csv('data/sample_label_feature_aspiration_new_dream_part1_20221120_20221211.txt', sep='\\t', encoding='utf-8')\n",
    "# df_aspiration = pd.read_csv('data/sample_label_feature_aspiration_new_dream_part2_20221120_20221211.txt', sep='\\t', encoding='utf-8')\n",
    "\n",
    "df_aspiration = pd.read_csv('data/sample_label_feature_increment_aspiration_new_part1_20230813_20230903.txt', sep='\\t', encoding='utf-8')\n",
    "# df_aspiration = pd.read_csv('data/sample_label_feature_increment_aspiration_new_part2_20230813_20230903.txt', sep='\\t', encoding='utf-8')\n",
    "\n",
    "print(df_aspiration.shape)\n",
    "df_aspiration.head()"
   ]
  },
  {
   "cell_type": "code",
   "execution_count": null,
   "metadata": {},
   "outputs": [],
   "source": [
    "list_feats_repeat = [x for x in df_aspiration.columns if x.endswith('.1')]\n",
    "list_feats_repeat"
   ]
  },
  {
   "cell_type": "code",
   "execution_count": null,
   "metadata": {},
   "outputs": [],
   "source": [
    "df_aspiration.info()"
   ]
  },
  {
   "cell_type": "code",
   "execution_count": null,
   "metadata": {},
   "outputs": [],
   "source": [
    "df_aspiration['obs_dt'].value_counts()"
   ]
  },
  {
   "cell_type": "code",
   "execution_count": null,
   "metadata": {
    "scrolled": true,
    "tags": []
   },
   "outputs": [],
   "source": [
    "df_aspiration['card'].value_counts()"
   ]
  },
  {
   "cell_type": "code",
   "execution_count": null,
   "metadata": {},
   "outputs": [],
   "source": [
    "df_aspiration['label'].value_counts()"
   ]
  },
  {
   "cell_type": "code",
   "execution_count": null,
   "metadata": {},
   "outputs": [],
   "source": [
    "# 271663 / 271663\n",
    "569717 / 569717"
   ]
  },
  {
   "cell_type": "code",
   "execution_count": null,
   "metadata": {
    "scrolled": true,
    "tags": []
   },
   "outputs": [],
   "source": [
    "df_aspiration[['card', 'label', 'uid']].groupby(by=['card', 'label']).count()"
   ]
  },
  {
   "cell_type": "code",
   "execution_count": null,
   "metadata": {},
   "outputs": [],
   "source": [
    "df_aspiration['obs_dt'] = pd.to_datetime(df_aspiration['obs_dt'])\n",
    "\n",
    "# utils.save_pickle(df_aspiration, 'data/other/balance/feats/df_aspiration_part1_20221120_20221211.pickle')\n",
    "\n",
    "utils.save_pickle(df_aspiration, 'data/other/increment_balance_24/df_aspiration_part1_20230813_20230903.pickle')\n",
    "# utils.save_pickle(df_aspiration, 'data/other/increment_balance_24/df_aspiration_part2_20230813_20230903.pickle')"
   ]
  },
  {
   "cell_type": "markdown",
   "metadata": {},
   "source": [
    "* debit card"
   ]
  },
  {
   "cell_type": "code",
   "execution_count": null,
   "metadata": {
    "scrolled": true,
    "tags": []
   },
   "outputs": [],
   "source": [
    "df_dc = pd.read_csv('data/sample_label_feature_increment_debit_card_20230813_20230903.txt', sep='\\t', encoding='utf-8')\n",
    "print(df_dc.shape)\n",
    "df_dc.head()"
   ]
  },
  {
   "cell_type": "code",
   "execution_count": null,
   "metadata": {},
   "outputs": [],
   "source": [
    "list_feats_repeat = [x for x in df_dc.columns if x.endswith('.1')]\n",
    "list_feats_repeat"
   ]
  },
  {
   "cell_type": "code",
   "execution_count": null,
   "metadata": {
    "scrolled": true,
    "tags": []
   },
   "outputs": [],
   "source": [
    "df_dc.info()"
   ]
  },
  {
   "cell_type": "code",
   "execution_count": null,
   "metadata": {},
   "outputs": [],
   "source": [
    "df_dc['obs_dt'].value_counts()"
   ]
  },
  {
   "cell_type": "code",
   "execution_count": null,
   "metadata": {
    "scrolled": true,
    "tags": []
   },
   "outputs": [],
   "source": [
    "df_dc['card'].value_counts()"
   ]
  },
  {
   "cell_type": "code",
   "execution_count": null,
   "metadata": {},
   "outputs": [],
   "source": [
    "df_dc['label'].value_counts()"
   ]
  },
  {
   "cell_type": "code",
   "execution_count": null,
   "metadata": {},
   "outputs": [],
   "source": [
    "569717 / 569717"
   ]
  },
  {
   "cell_type": "code",
   "execution_count": null,
   "metadata": {
    "scrolled": true,
    "tags": []
   },
   "outputs": [],
   "source": [
    "df_dc[['card', 'label', 'uid']].groupby(by=['card', 'label']).count()"
   ]
  },
  {
   "cell_type": "code",
   "execution_count": null,
   "metadata": {},
   "outputs": [],
   "source": [
    "df_dc['obs_dt'] = pd.to_datetime(df_dc['obs_dt'])\n",
    "\n",
    "utils.save_pickle(df_dc, 'data/other/increment_balance_24/df_dc_20230813_20230903.pickle')"
   ]
  },
  {
   "cell_type": "markdown",
   "metadata": {},
   "source": [
    "* flow cashier"
   ]
  },
  {
   "cell_type": "code",
   "execution_count": null,
   "metadata": {
    "scrolled": true,
    "tags": []
   },
   "outputs": [],
   "source": [
    "# df_fc = pd.read_csv('data/sample_label_feature_flow_cashier_20230730_20230820.txt', sep='\\t', encoding='utf-8')\n",
    "\n",
    "df_fc = pd.read_csv('data/sample_label_feature_increment_flow_cashier_20230813_20230903.txt', sep='\\t', encoding='utf-8')\n",
    "\n",
    "print(df_fc.shape)\n",
    "df_fc.head()"
   ]
  },
  {
   "cell_type": "code",
   "execution_count": null,
   "metadata": {},
   "outputs": [],
   "source": [
    "list_feats_repeat = [x for x in df_fc.columns if x.endswith('.1')]\n",
    "list_feats_repeat"
   ]
  },
  {
   "cell_type": "code",
   "execution_count": null,
   "metadata": {},
   "outputs": [],
   "source": [
    "df_fc.info()"
   ]
  },
  {
   "cell_type": "code",
   "execution_count": null,
   "metadata": {},
   "outputs": [],
   "source": [
    "df_fc['obs_dt'].value_counts()"
   ]
  },
  {
   "cell_type": "code",
   "execution_count": null,
   "metadata": {
    "scrolled": true,
    "tags": []
   },
   "outputs": [],
   "source": [
    "df_fc['card'].value_counts()"
   ]
  },
  {
   "cell_type": "code",
   "execution_count": null,
   "metadata": {},
   "outputs": [],
   "source": [
    "df_fc['label'].value_counts()"
   ]
  },
  {
   "cell_type": "code",
   "execution_count": null,
   "metadata": {},
   "outputs": [],
   "source": [
    "# 870452 / 870452\n",
    "569717 / 569717"
   ]
  },
  {
   "cell_type": "code",
   "execution_count": null,
   "metadata": {
    "scrolled": true,
    "tags": []
   },
   "outputs": [],
   "source": [
    "df_fc[['card', 'label', 'uid']].groupby(by=['card', 'label']).count()"
   ]
  },
  {
   "cell_type": "code",
   "execution_count": null,
   "metadata": {},
   "outputs": [],
   "source": [
    "df_fc['obs_dt'] = pd.to_datetime(df_fc['obs_dt'])\n",
    "\n",
    "# utils.save_pickle(df_fc, 'data/other/balance_25/df_fc_20230730_20230820.pickle')\n",
    "utils.save_pickle(df_fc, 'data/other/increment_balance_24/df_fc_20230813_20230903.pickle')"
   ]
  },
  {
   "cell_type": "markdown",
   "metadata": {},
   "source": [
    "* xxpay"
   ]
  },
  {
   "cell_type": "code",
   "execution_count": null,
   "metadata": {
    "scrolled": true,
    "tags": []
   },
   "outputs": [],
   "source": [
    "df_xxpay = pd.read_csv('data/other/balance_34/sample_label_feature_xxpay_20240225_20240317.txt', sep='\\t', encoding='utf-8')\n",
    "\n",
    "print(df_xxpay.shape)\n",
    "df_xxpay.head()"
   ]
  },
  {
   "cell_type": "code",
   "execution_count": null,
   "metadata": {},
   "outputs": [],
   "source": [
    "list_feats_repeat = [x for x in df_xxpay.columns if x.endswith('.1')]\n",
    "list_feats_repeat"
   ]
  },
  {
   "cell_type": "code",
   "execution_count": null,
   "metadata": {},
   "outputs": [],
   "source": [
    "df_xxpay.info()"
   ]
  },
  {
   "cell_type": "code",
   "execution_count": null,
   "metadata": {},
   "outputs": [],
   "source": [
    "df_xxpay['obs_dt'].value_counts()"
   ]
  },
  {
   "cell_type": "code",
   "execution_count": null,
   "metadata": {
    "scrolled": true,
    "tags": []
   },
   "outputs": [],
   "source": [
    "df_xxpay['card'].value_counts()"
   ]
  },
  {
   "cell_type": "code",
   "execution_count": null,
   "metadata": {},
   "outputs": [],
   "source": [
    "df_xxpay['label'].value_counts()"
   ]
  },
  {
   "cell_type": "code",
   "execution_count": null,
   "metadata": {},
   "outputs": [],
   "source": [
    "842647 / 842647"
   ]
  },
  {
   "cell_type": "code",
   "execution_count": null,
   "metadata": {
    "scrolled": true,
    "tags": []
   },
   "outputs": [],
   "source": [
    "df_xxpay[['card', 'label', 'uid']].groupby(by=['card', 'label']).count()"
   ]
  },
  {
   "cell_type": "code",
   "execution_count": null,
   "metadata": {},
   "outputs": [],
   "source": [
    "df_xxpay['obs_dt'] = pd.to_datetime(df_xxpay['obs_dt'])\n",
    "\n",
    "utils.save_pickle(df_xxpay, 'data/other/balance_34/df_xxpay_20240225_20240317.pickle')"
   ]
  },
  {
   "cell_type": "markdown",
   "metadata": {
    "tags": []
   },
   "source": [
    "## 特征选择"
   ]
  },
  {
   "cell_type": "markdown",
   "metadata": {},
   "source": [
    "* 方差"
   ]
  },
  {
   "cell_type": "code",
   "execution_count": null,
   "metadata": {
    "scrolled": true,
    "tags": []
   },
   "outputs": [],
   "source": [
    "# fusion\n",
    "# df = utils.load_pickle('data/other/balance/feats/df_fusion_20221120_20221211.pickle')\n",
    "\n",
    "# df = utils.load_pickle('data/other/increment_balance_24/df_fusion_20230813_20220903.pickle')\n",
    "\n",
    "# aspiration\n",
    "# df = utils.load_pickle('data/other/balance/feats/df_aspiration_part1_20221120_20221211.pickle')\n",
    "# df = utils.load_pickle('data/other/balance/feats/df_aspiration_part2_20221120_20221211.pickle')\n",
    "\n",
    "# df = utils.load_pickle('data/other/increment_balance_24/df_aspiration_part1_20230813_20230903.pickle')\n",
    "# df = utils.load_pickle('data/other/increment_balance_24/df_aspiration_part2_20230813_20230903.pickle')\n",
    "\n",
    "# debit card\n",
    "# df = utils.load_pickle('data/other/increment_balance_24/df_dc_20230813_20230903.pickle')\n",
    "\n",
    "# flow cashier\n",
    "# df = utils.load_pickle('data/other/balance_25/df_fc_20230730_20230820.pickle')\n",
    "\n",
    "# df = utils.load_pickle('data/other/increment_balance_24/df_fc_20230813_20230903.pickle')\n",
    "\n",
    "# xxpay\n",
    "df = utils.load_pickle('data/other/balance_34/df_xxpay_20240225_20240317.pickle')\n",
    "\n",
    "print(df.shape)\n",
    "df.head()"
   ]
  },
  {
   "cell_type": "code",
   "execution_count": null,
   "metadata": {},
   "outputs": [],
   "source": [
    "df_des = utils.df_des(df)\n",
    "print(df_des.shape)\n",
    "df_des.head()"
   ]
  },
  {
   "cell_type": "code",
   "execution_count": null,
   "metadata": {},
   "outputs": [],
   "source": [
    "# df_des.to_csv('data/df_des_fusion_20221120_20221211.csv', encoding='utf-8')\n",
    "# df_des.to_csv('data/df_des_aspiration_part1_20221120_20221211.csv', encoding='utf-8')\n",
    "# df_des.to_csv('data/df_des_aspiration_part2_20221120_20221211.csv', encoding='utf-8')\n",
    "# df_des.to_csv('data/df_des_fc_20230730_20230820.csv', encoding='utf-8')\n",
    "\n",
    "# df_des.to_csv('data/other/increment_balance_24/df_des_fusion_20230813_20230903.csv', encoding='utf-8')\n",
    "# df_des.to_csv('data/other/increment_balance_24/df_des_asp1_20230813_20230903.csv', encoding='utf-8')\n",
    "# df_des.to_csv('data/other/increment_balance_24/df_des_asp2_20230813_20230903.csv', encoding='utf-8')\n",
    "# df_des.to_csv('data/other/increment_balance_24/df_des_dc_20230813_20230903.csv', encoding='utf-8')\n",
    "# df_des.to_csv('data/other/increment_balance_24/df_des_fc_20230813_20230903.csv', encoding='utf-8')\n",
    "\n",
    "df_des.to_csv('data/other/balance_34/df_des_xxapy_20240225_20240317.csv', encoding='utf-8')"
   ]
  },
  {
   "cell_type": "code",
   "execution_count": null,
   "metadata": {},
   "outputs": [],
   "source": [
    "list_feats_id_dt_card_y = ['uid', 'obs_dt', 'card', 'label']\n",
    "list_feats_x = [x for x in df.columns if x not in list_feats_id_dt_card_y]\n",
    "print(len(list_feats_x))\n",
    "list_feats_x[:10]"
   ]
  },
  {
   "cell_type": "code",
   "execution_count": null,
   "metadata": {},
   "outputs": [],
   "source": [
    "# utils.save_pickle(list_feats_x, 'data/other/balance/feats/list_feats/list_feats_x_fusion_20221120_20221211.pickle')\n",
    "# utils.save_pickle(list_feats_x, 'data/other/balance/feats/list_feats/list_feats_x_aspiration_part1_20221120_20221211.pickle')\n",
    "# utils.save_pickle(list_feats_x, 'data/other/balance/feats/list_feats/list_feats_x_aspiration_part2_20221120_20221211.pickle')\n",
    "# utils.save_pickle(list_feats_x, 'data/other/balance_25/list_feats/list_feats_x_fc_20230730_20230820.pickle')\n",
    "\n",
    "# utils.save_pickle(list_feats_x, 'data/other/increment_balance_24/list_feats/list_feats_x_fusion_20230813_20230903.pickle')\n",
    "# utils.save_pickle(list_feats_x, 'data/other/increment_balance_24/list_feats/list_feats_x_asp1_20230813_20230903.pickle')\n",
    "# utils.save_pickle(list_feats_x, 'data/other/increment_balance_24/list_feats/list_feats_x_asp2_20230813_20230903.pickle')\n",
    "# utils.save_pickle(list_feats_x, 'data/other/increment_balance_24/list_feats/list_feats_x_dc_20230813_20230903.pickle')\n",
    "# utils.save_pickle(list_feats_x, 'data/other/increment_balance_24/list_feats/list_feats_x_fc_20230813_20230903.pickle')\n",
    "\n",
    "utils.save_pickle(list_feats_x, 'data/other/balance_34/list_feats/list_feats_x_xxpay_20240225_20240317.pickle')"
   ]
  },
  {
   "cell_type": "code",
   "execution_count": null,
   "metadata": {},
   "outputs": [],
   "source": [
    "list_feats_x_std_0 = [x for x in df_des[df_des['std']==0].index]\n",
    "print(len(list_feats_x_std_0))\n",
    "list_feats_x_std_0[:10]"
   ]
  },
  {
   "cell_type": "code",
   "execution_count": null,
   "metadata": {},
   "outputs": [],
   "source": [
    "# utils.save_pickle(list_feats_x_std_0, 'data/other/balance/feats/list_feats/list_feats_x_std_0_fusion_20221120_20221211.pickle')\n",
    "# utils.save_pickle(list_feats_x_std_0, 'data/other/balance/feats/list_feats/list_feats_x_std_0_aspiration_part1_20221120_20221211.pickle')\n",
    "# utils.save_pickle(list_feats_x_std_0, 'data/other/balance/feats/list_feats/list_feats_x_std_0_aspiration_part2_20221120_20221211.pickle')\n",
    "# utils.save_pickle(list_feats_x_std_0, 'data/other/balance_25/list_feats/list_feats_x_std_0_fc_20230730_20230820.pickle')\n",
    "\n",
    "# utils.save_pickle(list_feats_x_std_0, 'data/other/increment_balance_24/list_feats/list_feats_x_std_0_fusion_20230813_20230903.pickle')\n",
    "# utils.save_pickle(list_feats_x_std_0, 'data/other/increment_balance_24/list_feats/list_feats_x_std_0_asp1_20230813_20230903.pickle')\n",
    "# utils.save_pickle(list_feats_x_std_0, 'data/other/increment_balance_24/list_feats/list_feats_x_std_0_asp2_20230813_20230903.pickle')\n",
    "# utils.save_pickle(list_feats_x_std_0, 'data/other/increment_balance_24/list_feats/list_feats_x_std_0_dc_20230813_20230903.pickle')\n",
    "# utils.save_pickle(list_feats_x_std_0, 'data/other/increment_balance_24/list_feats/list_feats_x_std_0_fc_20230813_20230903.pickle')\n",
    "\n",
    "utils.save_pickle(list_feats_x_std_0, 'data/other/balance_34/list_feats/list_feats_x_std_0_xxpay_20240225_20240317.pickle')"
   ]
  },
  {
   "cell_type": "code",
   "execution_count": null,
   "metadata": {},
   "outputs": [],
   "source": [
    "list_feats_x_std = [x for x in list_feats_x if x not in list_feats_x_std_0]\n",
    "print(len(list_feats_x_std))\n",
    "list_feats_x_std[:10]"
   ]
  },
  {
   "cell_type": "code",
   "execution_count": null,
   "metadata": {},
   "outputs": [],
   "source": [
    "# utils.save_pickle(list_feats_x_std, 'data/other/balance/feats/list_feats/list_feats_x_std_fusion_20221120_20221211.pickle')\n",
    "# utils.save_pickle(list_feats_x_std, 'data/other/balance/feats/list_feats/list_feats_x_std_aspiration_part1_20221120_20221211.pickle')\n",
    "# utils.save_pickle(list_feats_x_std, 'data/other/balance/feats/list_feats/list_feats_x_std_aspiration_part2_20221120_20221211.pickle')\n",
    "# utils.save_pickle(list_feats_x_std, 'data/other/balance_25/list_feats/list_feats_x_std_fc_20230730_20230820.pickle')\n",
    "\n",
    "# utils.save_pickle(list_feats_x_std, 'data/other/increment_balance_24/list_feats/list_feats_x_std_fusion_20230813_20230903.pickle')\n",
    "# utils.save_pickle(list_feats_x_std, 'data/other/increment_balance_24/list_feats/list_feats_x_std_asp1_20230813_20230903.pickle')\n",
    "# utils.save_pickle(list_feats_x_std, 'data/other/increment_balance_24/list_feats/list_feats_x_std_asp2_20230813_20230903.pickle')\n",
    "# utils.save_pickle(list_feats_x_std, 'data/other/increment_balance_24/list_feats/list_feats_x_std_dc_20230813_20230903.pickle')\n",
    "# utils.save_pickle(list_feats_x_std, 'data/other/increment_balance_24/list_feats/list_feats_x_std_fc_20230813_20230903.pickle')\n",
    "\n",
    "utils.save_pickle(list_feats_x_std, 'data/other/balance_34/list_feats/list_feats_x_std_xxpay_20240225_20240317.pickle')"
   ]
  },
  {
   "cell_type": "markdown",
   "metadata": {},
   "source": [
    "* 多因素方差分析（假设检验，整体（先验+特征）f检验）"
   ]
  },
  {
   "cell_type": "code",
   "execution_count": null,
   "metadata": {},
   "outputs": [],
   "source": [
    "# list_feats_x_std = utils.load_pickle('data/other/balance/feats/list_feats/list_feats_x_std_fusion_20221120_20221211.pickle')\n",
    "# list_feats_x_std = utils.load_pickle('data/other/balance/feats/list_feats/list_feats_x_std_aspiration_part1_20221120_20221211.pickle')\n",
    "# list_feats_x_std = utils.load_pickle('data/other/balance/feats/list_feats/list_feats_x_std_aspiration_part2_20221120_20221211.pickle')\n",
    "# list_feats_x_std = utils.load_pickle('data/other/balance_25/list_feats/list_feats_x_std_fc_20230730_20230820.pickle')\n",
    "\n",
    "# list_feats_x_std = utils.load_pickle('data/other/increment_balance_24/list_feats/list_feats_x_std_fusion_20230813_20230903.pickle')\n",
    "# list_feats_x_std = utils.load_pickle('data/other/increment_balance_24/list_feats/list_feats_x_std_asp1_20230813_20230903.pickle')\n",
    "# list_feats_x_std = utils.load_pickle('data/other/increment_balance_24/list_feats/list_feats_x_std_asp2_20230813_20230903.pickle')\n",
    "# list_feats_x_std = utils.load_pickle('data/other/increment_balance_24/list_feats/list_feats_x_std_dc_20230813_20230903.pickle')\n",
    "# list_feats_x_std = utils.load_pickle('data/other/increment_balance_24/list_feats/list_feats_x_std_fc_20230813_20230903.pickle')\n",
    "\n",
    "list_feats_x_std = utils.load_pickle('data/other/balance_34/list_feats/list_feats_x_std_xxpay_20240225_20240317.pickle')\n",
    "\n",
    "print(len(list_feats_x_std))\n",
    "list_feats_x_std[:10]"
   ]
  },
  {
   "cell_type": "code",
   "execution_count": null,
   "metadata": {
    "scrolled": true,
    "tags": []
   },
   "outputs": [],
   "source": [
    "# card编码\n",
    "# 目标item卡（新）\n",
    "# dict_card = utils.load_pickle('data/dict_card_new.pickle')\n",
    "# dict_card = utils.load_pickle('data/other/balance_24/dict_card_24.pickle')\n",
    "dict_card = utils.load_pickle('data/other/balance_34/dict_card_34.pickle')\n",
    "# dict_card = {\n",
    "    'item1-a': 10, \n",
    "    'item1-b': 11, \n",
    "# }\n",
    "dict_card"
   ]
  },
  {
   "cell_type": "code",
   "execution_count": null,
   "metadata": {
    "scrolled": true,
    "tags": []
   },
   "outputs": [],
   "source": [
    "df['card_id'] = df['card']\n",
    "df['card_id'].replace(dict_card, inplace=True)\n",
    "df.head()"
   ]
  },
  {
   "cell_type": "code",
   "execution_count": null,
   "metadata": {
    "scrolled": true,
    "tags": []
   },
   "outputs": [],
   "source": [
    "df[['card', 'card_id', 'uid']].groupby(['card', 'card_id']).count()"
   ]
  },
  {
   "cell_type": "code",
   "execution_count": null,
   "metadata": {},
   "outputs": [],
   "source": [
    "df['card_id'].nunique()"
   ]
  },
  {
   "cell_type": "code",
   "execution_count": null,
   "metadata": {},
   "outputs": [],
   "source": [
    "# item特征处理\n",
    "# one hot encoding\n",
    "list_feats_ohe = ['card_id']\n",
    "list_df_ohe_card = []\n",
    "try:\n",
    "    with tqdm(list_feats_ohe) as t:\n",
    "        for feat in t:\n",
    "            df_ohe_feat = utils.one_hot_encoder(df, feat)\n",
    "            list_df_ohe_card.append(df_ohe_feat)\n",
    "except KeyboardInterrupt:\n",
    "    t.close()\n",
    "    raise\n",
    "t.close()\n",
    "\n",
    "df_ohe_card = pd.concat(list_df_ohe_card, axis=1)\n",
    "print(df_ohe_card.shape)\n",
    "df_ohe_card.head()"
   ]
  },
  {
   "cell_type": "code",
   "execution_count": null,
   "metadata": {
    "scrolled": true,
    "tags": []
   },
   "outputs": [],
   "source": [
    "df_ohe = pd.concat([df, df_ohe_card], axis=1)\n",
    "print(df_ohe.shape)\n",
    "df_ohe.head()"
   ]
  },
  {
   "cell_type": "code",
   "execution_count": null,
   "metadata": {},
   "outputs": [],
   "source": [
    "def multi_anova_f(data, label, list_item_feats, user_feat):\n",
    "    Y = data['label']\n",
    "    X = data[list_item_feats+[user_feat]]\n",
    "    X = sm.axx_constant(X)\n",
    "    \n",
    "    model = sm.OLS(Y, X)\n",
    "    result = model.fit()\n",
    "    \n",
    "    p = result.f_test(np.array([0]*(len(list_item_feats)+1)+[1])).pvalue\n",
    "    \n",
    "    return pd.DataFrame({'feature': [user_feat], 'p_value': [p]})\n",
    "\n",
    "\n",
    "def apply_parallel(func, data, list_feats, label, list_item_feats):\n",
    "    try:\n",
    "        with tqdm(list_feats) as t:\n",
    "            list_paraller = Parallel(n_jobs=8)(delayed(func)(data[[label]+list_item_feats+[user_feat]], label, list_item_feats, user_feat) for user_feat in t)\n",
    "    except KeyboardInterrupt:\n",
    "        t.close()\n",
    "        raise\n",
    "    t.close()\n",
    "    \n",
    "    return list_paraller"
   ]
  },
  {
   "cell_type": "code",
   "execution_count": null,
   "metadata": {
    "tags": []
   },
   "outputs": [],
   "source": [
    "list_item_feats = [x for x in df_ohe_card.columns]\n",
    "\n",
    "list_df_multi_anova_f = []\n",
    "\n",
    "try:\n",
    "    with tqdm(list_feats_x_std) as t:\n",
    "        for user_feat in t:\n",
    "            df_multi_anova_f_tmp = multi_anova_f(df_ohe[['label']+list_item_feats+[user_feat]], 'label', list_item_feats, user_feat)\n",
    "            list_df_multi_anova_f.append(df_multi_anova_f_tmp)\n",
    "except KeyboardInterrupt:\n",
    "    t.close()\n",
    "    raise\n",
    "t.close()\n",
    "\n",
    "# list_df_multi_anova_f = apply_parallel(multi_anova_f, df_ohe, list_feats_x_std, 'label', list_item_feats)\n",
    "\n",
    "df_multi_anova_f = pd.concat(list_df_multi_anova_f, axis=0)\n",
    "df_multi_anova_f.reset_index(drop=True, inplace=True)\n",
    "print(df_multi_anova_f.shape)\n",
    "df_multi_anova_f.head()"
   ]
  },
  {
   "cell_type": "code",
   "execution_count": null,
   "metadata": {},
   "outputs": [],
   "source": [
    "# utils.save_pickle(df_multi_anova_f, 'data/other/increment_balance_24/list_feats/df_multi_anova_f_fusion_20230813_20230903.pickle')\n",
    "# utils.save_pickle(df_multi_anova_f, 'data/other/increment_balance_24/list_feats/df_multi_anova_f_asp1_20230813_20230903.pickle')\n",
    "# utils.save_pickle(df_multi_anova_f, 'data/other/increment_balance_24/list_feats/df_multi_anova_f_asp2_20230813_20230903.pickle')\n",
    "# utils.save_pickle(df_multi_anova_f, 'data/other/increment_balance_24/list_feats/df_multi_anova_f_dc_20230813_20230903.pickle')\n",
    "# utils.save_pickle(df_multi_anova_f, 'data/other/increment_balance_24/list_feats/df_multi_anova_f_fc_20230813_20230903.pickle')\n",
    "\n",
    "utils.save_pickle(df_multi_anova_f, 'data/other/balance_34/list_feats/df_multi_anova_f_xxpay_20240225_20240317.pickle')"
   ]
  },
  {
   "cell_type": "code",
   "execution_count": null,
   "metadata": {},
   "outputs": [],
   "source": [
    "# df_multi_anova_f = utils.load_pickle('data/other/increment_balance_24/list_feats/df_multi_anova_f_asp1_20230813_20230903.pickle')\n",
    "\n",
    "df_multi_anova_f = utils.load_pickle('data/other/balance_34/list_feats/df_multi_anova_f_xxpay_20240225_20240317.pickle')\n",
    "\n",
    "print(df_multi_anova_f.shape)\n",
    "df_multi_anova_f.head()"
   ]
  },
  {
   "cell_type": "code",
   "execution_count": null,
   "metadata": {},
   "outputs": [],
   "source": [
    "list_feats_x_ht_no_select = list(df_multi_anova_f[df_multi_anova_f['p_value']>0.05]['feature'])\n",
    "list_feats_x_ht_no_select = [x for x in list_feats_x_std if x in list_feats_x_ht_no_select]\n",
    "print(len(list_feats_x_ht_no_select))\n",
    "list_feats_x_ht_no_select[:10]"
   ]
  },
  {
   "cell_type": "code",
   "execution_count": null,
   "metadata": {},
   "outputs": [],
   "source": [
    "# utils.save_pickle(list_feats_x_ht_no_select, 'data/other/balance/feats/list_feats/list_feats_x_ht_no_select_fusion_20221120_20221211.pickle')\n",
    "# utils.save_pickle(list_feats_x_ht_no_select, 'data/other/balance/feats/list_feats/list_feats_x_ht_no_select_aspiration_part1_20221120_20221211.pickle')\n",
    "# utils.save_pickle(list_feats_x_ht_no_select, 'data/other/balance/feats/list_feats/list_feats_x_ht_no_select_aspiration_part2_20221120_20221211.pickle')\n",
    "# utils.save_pickle(list_feats_x_ht_no_select, 'data/other/balance_25/list_feats/list_feats_x_ht_no_select_fc_20230730_20230820.pickle')\n",
    "\n",
    "# utils.save_pickle(list_feats_x_ht_no_select, 'data/other/increment_balance_24/list_feats/list_feats_x_ht_no_select_fusion_20230813_20230903.pickle')\n",
    "# utils.save_pickle(list_feats_x_ht_no_select, 'data/other/increment_balance_24/list_feats/list_feats_x_ht_no_select_asp1_20230813_20230903.pickle')\n",
    "# utils.save_pickle(list_feats_x_ht_no_select, 'data/other/increment_balance_24/list_feats/list_feats_x_ht_no_select_asp2_20230813_20230903.pickle')\n",
    "# utils.save_pickle(list_feats_x_ht_no_select, 'data/other/increment_balance_24/list_feats/list_feats_x_ht_no_select_dc_20230813_20230903.pickle')\n",
    "# utils.save_pickle(list_feats_x_ht_no_select, 'data/other/increment_balance_24/list_feats/list_feats_x_ht_no_select_fc_20230813_20230903.pickle')\n",
    "\n",
    "utils.save_pickle(list_feats_x_ht_no_select, 'data/other/balance_34/list_feats/list_feats_x_ht_no_select_xxpay_20240225_20240317.pickle')"
   ]
  },
  {
   "cell_type": "code",
   "execution_count": null,
   "metadata": {},
   "outputs": [],
   "source": [
    "# list_feats_x_ht_no_select = utils.load_pickle('data/other/balance/feats/list_feats/list_feats_x_ht_no_select_fusion_20221120_20221211.pickle')\n",
    "# list_feats_x_ht_no_select = utils.load_pickle('data/other/balance/feats/list_feats/list_feats_x_ht_no_select_aspiration_part1_20221120_20221211.pickle')\n",
    "# list_feats_x_ht_no_select = utils.load_pickle('data/other/balance/feats/list_feats/list_feats_x_ht_no_select_aspiration_part2_20221120_20221211.pickle')\n",
    "# list_feats_x_ht_no_select = utils.load_pickle('data/other/balance_25/list_feats/list_feats_x_ht_no_select_fc_20230730_20230820.pickle')\n",
    "\n",
    "# list_feats_x_ht_no_select = utils.load_pickle('data/other/increment_balance_24/list_feats/list_feats_x_ht_no_select_fusion_20230813_20230903.pickle')\n",
    "# list_feats_x_ht_no_select = utils.load_pickle('data/other/increment_balance_24/list_feats/list_feats_x_ht_no_select_asp1_20230813_20230903.pickle')\n",
    "# list_feats_x_ht_no_select = utils.load_pickle('data/other/increment_balance_24/list_feats/list_feats_x_ht_no_select_asp2_20230813_20230903.pickle')\n",
    "# list_feats_x_ht_no_select = utils.load_pickle('data/other/increment_balance_24/list_feats/list_feats_x_ht_no_select_dc_20230813_20230903.pickle')\n",
    "# list_feats_x_ht_no_select = utils.load_pickle('data/other/increment_balance_24/list_feats/list_feats_x_ht_no_select_fc_20230813_20230903.pickle')\n",
    "\n",
    "list_feats_x_ht_no_select = utils.load_pickle('data/other/balance_34/list_feats/list_feats_x_ht_no_select_xxpay_20240225_20240317.pickle')\n",
    "\n",
    "print(len(list_feats_x_ht_no_select))\n",
    "list_feats_x_ht_no_select[:10]"
   ]
  },
  {
   "cell_type": "code",
   "execution_count": null,
   "metadata": {},
   "outputs": [],
   "source": [
    "list_feats_x_ht = [x for x in list_feats_x_std if x not in list_feats_x_ht_no_select]\n",
    "print(len(list_feats_x_ht))\n",
    "list_feats_x_ht[:10]"
   ]
  },
  {
   "cell_type": "code",
   "execution_count": null,
   "metadata": {},
   "outputs": [],
   "source": [
    "# utils.save_pickle(list_feats_x_ht, 'data/other/balance/feats/list_feats/list_feats_x_ht_fusion_20221120_20221211.pickle')\n",
    "# utils.save_pickle(list_feats_x_ht, 'data/other/balance/feats/list_feats/list_feats_x_ht_aspiration_part1_20221120_20221211.pickle')\n",
    "# utils.save_pickle(list_feats_x_ht, 'data/other/balance/feats/list_feats/list_feats_x_ht_aspiration_part2_20221120_20221211.pickle')\n",
    "# utils.save_pickle(list_feats_x_ht, 'data/other/balance_25/list_feats/list_feats_x_ht_fc_20230730_20230820.pickle')\n",
    "\n",
    "# utils.save_pickle(list_feats_x_ht, 'data/other/increment_balance_24/list_feats/list_feats_x_ht_fusion_20230813_20230903.pickle')\n",
    "# utils.save_pickle(list_feats_x_ht, 'data/other/increment_balance_24/list_feats/list_feats_x_ht_asp1_20230813_20230903.pickle')\n",
    "# utils.save_pickle(list_feats_x_ht, 'data/other/increment_balance_24/list_feats/list_feats_x_ht_asp2_20230813_20230903.pickle')\n",
    "# utils.save_pickle(list_feats_x_ht, 'data/other/increment_balance_24/list_feats/list_feats_x_ht_dc_20230813_20230903.pickle')\n",
    "# utils.save_pickle(list_feats_x_ht, 'data/other/increment_balance_24/list_feats/list_feats_x_ht_fc_20230813_20230903.pickle')\n",
    "\n",
    "utils.save_pickle(list_feats_x_ht, 'data/other/balance_34/list_feats/list_feats_x_ht_xxpay_20240225_20240317.pickle')"
   ]
  },
  {
   "cell_type": "markdown",
   "metadata": {},
   "source": [
    "* 模型\n",
    "* 特征重要性\n",
    "* PI方法，使用lgb进行建模预测"
   ]
  },
  {
   "cell_type": "code",
   "execution_count": null,
   "metadata": {},
   "outputs": [],
   "source": [
    "df_fusion = utils.load_pickle('data/other/increment_balance_24/df_fusion_20230813_20220903.pickle')\n",
    "df_asp1 = utils.load_pickle('data/other/increment_balance_24/df_aspiration_part1_20230813_20230903.pickle')\n",
    "df_asp2 = utils.load_pickle('data/other/increment_balance_24/df_aspiration_part2_20230813_20230903.pickle')\n",
    "df_dc = utils.load_pickle('data/other/increment_balance_24/df_dc_20230813_20230903.pickle')\n",
    "df_fc = utils.load_pickle('data/other/increment_balance_24/df_fc_20230813_20230903.pickle')\n",
    "\n",
    "print(df_fusion.shape)\n",
    "print(df_asp1.shape)\n",
    "print(df_asp2.shape)\n",
    "print(df_dc.shape)\n",
    "print(df_fc.shape)"
   ]
  },
  {
   "cell_type": "code",
   "execution_count": null,
   "metadata": {},
   "outputs": [],
   "source": [
    "list_feats_id_dt_card_y = ['uid', 'obs_dt', 'card', 'label']\n",
    "\n",
    "list_feats_x_fusion = utils.load_pickle('data/other/increment_balance_24/list_feats/list_feats_x_ht_fusion_20230813_20230903.pickle')\n",
    "list_feats_x_asp1 = utils.load_pickle('data/other/increment_balance_24/list_feats/list_feats_x_ht_asp1_20230813_20230903.pickle')\n",
    "list_feats_x_asp2 = utils.load_pickle('data/other/increment_balance_24/list_feats/list_feats_x_ht_asp2_20230813_20230903.pickle')\n",
    "list_feats_x_dc = utils.load_pickle('data/other/increment_balance_24/list_feats/list_feats_x_ht_dc_20230813_20230903.pickle')\n",
    "list_feats_x_fc = utils.load_pickle('data/other/increment_balance_24/list_feats/list_feats_x_ht_fc_20230813_20230903.pickle')\n",
    "\n",
    "print(len(list_feats_x_fusion))\n",
    "print(len(list_feats_x_asp1))\n",
    "print(len(list_feats_x_asp2))\n",
    "print(len(list_feats_x_dc))\n",
    "print(len(list_feats_x_fc))"
   ]
  },
  {
   "cell_type": "code",
   "execution_count": null,
   "metadata": {},
   "outputs": [],
   "source": [
    "# 存在特征列名重复\n",
    "list_feats_repeat = [x for x in list_feats_x_asp1 if x in list_feats_x_fc]\n",
    "list_feats_repeat"
   ]
  },
  {
   "cell_type": "code",
   "execution_count": null,
   "metadata": {},
   "outputs": [],
   "source": [
    "list_feats_x_fc_ = list(map(lambda x: x+'_1' if x in list_feats_repeat else x, \n",
    "                       list_feats_x_fc))\n",
    "print(len(list_feats_x_fc_))\n",
    "list_feats_x_fc_[:10]"
   ]
  },
  {
   "cell_type": "code",
   "execution_count": null,
   "metadata": {},
   "outputs": [],
   "source": [
    "[x for x in list_feats_x_asp1 if x in list_feats_x_fc_]"
   ]
  },
  {
   "cell_type": "code",
   "execution_count": null,
   "metadata": {},
   "outputs": [],
   "source": [
    "utils.save_pickle(list_feats_x_fc_, 'data/other/increment_balance_24/list_feats/list_feats_x_ht_fc_rename_20230813_20230903.pickle')"
   ]
  },
  {
   "cell_type": "code",
   "execution_count": null,
   "metadata": {},
   "outputs": [],
   "source": [
    "list_feats_x_fc_all = utils.load_pickle('data/other/increment_balance_24/list_feats/list_feats_x_fc_20230813_20230903.pickle')\n",
    "print(len(list_feats_x_fc_all))\n",
    "list_feats_x_fc_all[:10]"
   ]
  },
  {
   "cell_type": "code",
   "execution_count": null,
   "metadata": {},
   "outputs": [],
   "source": [
    "list_feats_x_fc_all_ = list(map(lambda x: x+'_1' if x in list_feats_repeat else x, \n",
    "                                list_feats_x_fc_all))\n",
    "print(len(list_feats_x_fc_all_))\n",
    "list_feats_x_fc_all_[:10]"
   ]
  },
  {
   "cell_type": "code",
   "execution_count": null,
   "metadata": {},
   "outputs": [],
   "source": [
    "[x for x in list_feats_x_asp1 if x in list_feats_x_fc_all_]"
   ]
  },
  {
   "cell_type": "code",
   "execution_count": null,
   "metadata": {},
   "outputs": [],
   "source": [
    "utils.save_pickle(list_feats_x_fc_all_, 'data/other/increment_balance_24/list_feats/list_feats_x_fc_rename_20230813_20230903.pickle')"
   ]
  },
  {
   "cell_type": "code",
   "execution_count": null,
   "metadata": {},
   "outputs": [],
   "source": [
    "dict_rename = {x: x+'_1' for x in list_feats_repeat}\n",
    "dict_rename"
   ]
  },
  {
   "cell_type": "code",
   "execution_count": null,
   "metadata": {},
   "outputs": [],
   "source": [
    "df_fc.rename(columns=dict_rename, inplace=True)"
   ]
  },
  {
   "cell_type": "code",
   "execution_count": null,
   "metadata": {},
   "outputs": [],
   "source": [
    "# 存在部分重复负样本，采用排序后合并方式\n",
    "df_fusion.sort_values(by=list_feats_id_dt_card_y, inplace=True)\n",
    "df_fusion.reset_index(drop=True, inplace=True)\n",
    "\n",
    "df_asp1.sort_values(by=list_feats_id_dt_card_y, inplace=True)\n",
    "df_asp1.reset_index(drop=True, inplace=True)\n",
    "\n",
    "df_asp2.sort_values(by=list_feats_id_dt_card_y, inplace=True)\n",
    "df_asp2.reset_index(drop=True, inplace=True)\n",
    "\n",
    "df_dc.sort_values(by=list_feats_id_dt_card_y, inplace=True)\n",
    "df_dc.reset_index(drop=True, inplace=True)\n",
    "\n",
    "df_fc.sort_values(by=list_feats_id_dt_card_y, inplace=True)\n",
    "df_fc.reset_index(drop=True, inplace=True)"
   ]
  },
  {
   "cell_type": "code",
   "execution_count": null,
   "metadata": {},
   "outputs": [],
   "source": [
    "# 校验id\n",
    "df_fusion_id = df_fusion[list_feats_id_dt_card_y]\n",
    "df_fusion_id.rename(columns={'uid': 'uid_f', \n",
    "                             'obs_dt': 'obs_dt_f', \n",
    "                             'card': 'card_f', \n",
    "                             'label': 'label_f'}, \n",
    "                    inplace=True)\n",
    "\n",
    "df_asp1_id = df_asp1[list_feats_id_dt_card_y]\n",
    "df_asp1_id.rename(columns={'uid': 'uid_ap1', \n",
    "                           'obs_dt': 'obs_dt_ap1', \n",
    "                           'card': 'card_ap1', \n",
    "                           'label': 'label_ap1'}, \n",
    "                  inplace=True)\n",
    "\n",
    "df_asp2_id = df_asp2[list_feats_id_dt_card_y]\n",
    "df_asp2_id.rename(columns={'uid': 'uid_ap2', \n",
    "                           'obs_dt': 'obs_dt_ap2', \n",
    "                           'card': 'card_ap2', \n",
    "                           'label': 'label_ap2'}, \n",
    "                  inplace=True)\n",
    "\n",
    "df_dc_id = df_dc[list_feats_id_dt_card_y]\n",
    "df_dc_id.rename(columns={'uid': 'uid_dc', \n",
    "                         'obs_dt': 'obs_dt_dc', \n",
    "                         'card': 'card_dc', \n",
    "                         'label': 'label_dc'}, \n",
    "                inplace=True)\n",
    "\n",
    "df_fc_id = df_fc[list_feats_id_dt_card_y]\n",
    "df_fc_id.rename(columns={'uid': 'uid_fc', \n",
    "                         'obs_dt': 'obs_dt_fc', \n",
    "                         'card': 'card_fc', \n",
    "                         'label': 'label_fc'}, \n",
    "                inplace=True)\n",
    "\n",
    "df_id = pd.concat([df_fusion_id, df_asp1_id, df_asp2_id, df_dc_id, df_fc_id], axis=1)\n",
    "print(df_id.shape)\n",
    "\n",
    "print('fusion - aspiration part 1:', [sum(df_id[x+'_f']==df_id[x+'_ap1']) for x in list_feats_id_dt_card_y])\n",
    "print('fusion - aspiration part 2:', [sum(df_id[x+'_f']==df_id[x+'_ap2']) for x in list_feats_id_dt_card_y])\n",
    "print('fusion - debit card:', [sum(df_id[x+'_f']==df_id[x+'_dc']) for x in list_feats_id_dt_card_y])\n",
    "print('fusion - flow cashier:', [sum(df_id[x+'_f']==df_id[x+'_fc']) for x in list_feats_id_dt_card_y])\n",
    "\n",
    "print('aspiration part 1 - aspiration part 2:', [sum(df_id[x+'_ap1']==df_id[x+'_ap2']) for x in list_feats_id_dt_card_y])\n",
    "print('aspiration part 1 - debit card:', [sum(df_id[x+'_ap1']==df_id[x+'_dc']) for x in list_feats_id_dt_card_y])\n",
    "print('aspiration part 1 - flow cashier:', [sum(df_id[x+'_ap1']==df_id[x+'_fc']) for x in list_feats_id_dt_card_y])\n",
    "\n",
    "print('aspiration part 2 - debit card:', [sum(df_id[x+'_ap2']==df_id[x+'_dc']) for x in list_feats_id_dt_card_y])\n",
    "print('aspiration part 2 - flow cashier:', [sum(df_id[x+'_ap2']==df_id[x+'_fc']) for x in list_feats_id_dt_card_y])\n",
    "\n",
    "print('debit card - flow cashier:', [sum(df_id[x+'_dc']==df_id[x+'_fc']) for x in list_feats_id_dt_card_y])"
   ]
  },
  {
   "cell_type": "code",
   "execution_count": null,
   "metadata": {
    "scrolled": true,
    "tags": []
   },
   "outputs": [],
   "source": [
    "df = pd.concat([df_fusion[list_feats_id_dt_card_y+list_feats_x_fusion], \n",
    "                df_asp1[list_feats_x_asp1], \n",
    "                df_asp2[list_feats_x_asp2], \n",
    "                df_dc[list_feats_x_dc], \n",
    "                df_fc[list_feats_x_fc_]\n",
    "               ], axis=1)\n",
    "print(df.shape)\n",
    "df.head()"
   ]
  },
  {
   "cell_type": "code",
   "execution_count": null,
   "metadata": {},
   "outputs": [],
   "source": [
    "utils.save_pickle(df, 'data/other/increment_balance_24/df_fadf_20230813_20230903.pickle')"
   ]
  },
  {
   "cell_type": "code",
   "execution_count": null,
   "metadata": {
    "scrolled": true,
    "tags": []
   },
   "outputs": [],
   "source": [
    "df = utils.load_pickle('data/other/increment_balance_24/df_fadf_20230813_20230903.pickle')\n",
    "print(df.shape)\n",
    "df.head()"
   ]
  },
  {
   "cell_type": "code",
   "execution_count": null,
   "metadata": {
    "scrolled": true,
    "tags": []
   },
   "outputs": [],
   "source": [
    "df_des = utils.df_des(df)\n",
    "\n",
    "df_des.to_csv('data/other/increment_balance_24/df_des_fadf_20230813_20230903.csv')"
   ]
  },
  {
   "cell_type": "code",
   "execution_count": null,
   "metadata": {
    "scrolled": true,
    "tags": []
   },
   "outputs": [],
   "source": [
    "# card编码\n",
    "# 目标item卡（新）\n",
    "dict_card = utils.load_pickle('data/other/balance_24/dict_card_24.pickle')\n",
    "dict_card"
   ]
  },
  {
   "cell_type": "code",
   "execution_count": null,
   "metadata": {
    "scrolled": true,
    "tags": []
   },
   "outputs": [],
   "source": [
    "df['card_id'] = df['card']\n",
    "df['card_id'].replace(dict_card, inplace=True)\n",
    "df.head()"
   ]
  },
  {
   "cell_type": "code",
   "execution_count": null,
   "metadata": {
    "scrolled": true,
    "tags": []
   },
   "outputs": [],
   "source": [
    "df[['card', 'card_id', 'uid']].groupby(['card', 'card_id']).count()"
   ]
  },
  {
   "cell_type": "code",
   "execution_count": null,
   "metadata": {},
   "outputs": [],
   "source": [
    "df['card_id'].nunique()"
   ]
  },
  {
   "cell_type": "code",
   "execution_count": null,
   "metadata": {},
   "outputs": [],
   "source": [
    "# item特征处理\n",
    "# one hot encoding\n",
    "list_feats_ohe = ['card_id']\n",
    "list_df_ohe_card = []\n",
    "try:\n",
    "    with tqdm(list_feats_ohe) as t:\n",
    "        for feat in t:\n",
    "            df_ohe_feat = utils.one_hot_encoder(df, feat)\n",
    "            list_df_ohe_card.append(df_ohe_feat)\n",
    "except KeyboardInterrupt:\n",
    "    t.close()\n",
    "    raise\n",
    "t.close()\n",
    "\n",
    "df_ohe_card = pd.concat(list_df_ohe_card, axis=1)\n",
    "print(df_ohe_card.shape)\n",
    "df_ohe_card.head()"
   ]
  },
  {
   "cell_type": "code",
   "execution_count": null,
   "metadata": {
    "scrolled": true,
    "tags": []
   },
   "outputs": [],
   "source": [
    "df_ohe = pd.concat([df, df_ohe_card], axis=1)\n",
    "print(df_ohe.shape)\n",
    "df_ohe.head()"
   ]
  },
  {
   "cell_type": "code",
   "execution_count": null,
   "metadata": {},
   "outputs": [],
   "source": [
    "utils.save_pickle(df_ohe, 'data/other/increment_balance_24/df_fadf_ohe_20230813_20230903.pickle')"
   ]
  },
  {
   "cell_type": "code",
   "execution_count": null,
   "metadata": {
    "scrolled": true,
    "tags": []
   },
   "outputs": [],
   "source": [
    "df_ohe = utils.load_pickle('data/other/increment_balance_24/df_fadf_ohe_20230813_20230903.pickle')\n",
    "print(df_ohe.shape)\n",
    "df_ohe.head()"
   ]
  },
  {
   "cell_type": "code",
   "execution_count": null,
   "metadata": {},
   "outputs": [],
   "source": [
    "list_feats_item = [x for x in df_ohe.columns if x.startswith('card_id_')]\n",
    "\n",
    "list_feats_x_fusion = utils.load_pickle('data/other/increment_balance_24/list_feats/list_feats_x_ht_fusion_20230813_20230903.pickle')\n",
    "list_feats_x_asp1 = utils.load_pickle('data/other/increment_balance_24/list_feats/list_feats_x_ht_asp1_20230813_20230903.pickle')\n",
    "list_feats_x_asp2 = utils.load_pickle('data/other/increment_balance_24/list_feats/list_feats_x_ht_asp2_20230813_20230903.pickle')\n",
    "list_feats_x_dc = utils.load_pickle('data/other/increment_balance_24/list_feats/list_feats_x_ht_dc_20230813_20230903.pickle')\n",
    "list_feats_x_fc = utils.load_pickle('data/other/increment_balance_24/list_feats/list_feats_x_ht_fc_rename_20230813_20230903.pickle')\n",
    "\n",
    "list_feats_x = list_feats_x_fusion + list_feats_x_asp1 + list_feats_x_asp2 + list_feats_x_dc + list_feats_x_fc\n",
    "\n",
    "print(len(list_feats_item))\n",
    "\n",
    "print(len(list_feats_x_fusion))\n",
    "print(len(list_feats_x_asp1))\n",
    "print(len(list_feats_x_asp2))\n",
    "print(len(list_feats_x_dc))\n",
    "print(len(list_feats_x_fc))\n",
    "\n",
    "print(len(list_feats_x))"
   ]
  },
  {
   "cell_type": "code",
   "execution_count": null,
   "metadata": {},
   "outputs": [],
   "source": [
    "# PI\n",
    "df_ohe_y = df_ohe['label']\n",
    "df_ohe_X = df_ohe[list_feats_item+list_feats_x]\n",
    "\n",
    "print(df_ohe_y.shape)\n",
    "print(df_ohe_X.shape)"
   ]
  },
  {
   "cell_type": "code",
   "execution_count": null,
   "metadata": {},
   "outputs": [],
   "source": [
    "%xdel df_ohe"
   ]
  },
  {
   "cell_type": "code",
   "execution_count": null,
   "metadata": {},
   "outputs": [],
   "source": [
    "df_ohe_X_train, df_ohe_X_test, df_ohe_y_train, df_ohe_y_test = \\\n",
    "    train_test_split(df_ohe_X, df_ohe_y, test_size=0.2, random_state=2023)\n",
    "print(df_ohe_X_train.shape)\n",
    "print(df_ohe_X_test.shape)\n",
    "print(df_ohe_y_train.shape)\n",
    "print(df_ohe_y_test.shape)"
   ]
  },
  {
   "cell_type": "code",
   "execution_count": null,
   "metadata": {},
   "outputs": [],
   "source": [
    "utils.save_pickle(df_ohe_X_train, 'data/other/increment_balance_24/pi/df_item_X_train_20230813_20230903.pickle')\n",
    "utils.save_pickle(df_ohe_X_test, 'data/other/increment_balance_24/pi/df_item_X_test_20230813_20230903.pickle')\n",
    "utils.save_pickle(df_ohe_y_train, 'data/other/increment_balance_24/pi/df_y_train_20230813_20230903.pickle')\n",
    "utils.save_pickle(df_ohe_y_test, 'data/other/increment_balance_24/pi/df_y_test_20230813_20230903.pickle')"
   ]
  },
  {
   "cell_type": "code",
   "execution_count": null,
   "metadata": {},
   "outputs": [],
   "source": [
    "df_X_train = utils.load_pickle('data/other/increment_balance_24/pi/df_item_X_train_20230813_20230903.pickle')\n",
    "df_y_train = utils.load_pickle('data/other/increment_balance_24/pi/df_y_train_20230813_20230903.pickle')\n",
    "\n",
    "print(df_X_train.shape)\n",
    "print(df_y_train.shape)"
   ]
  },
  {
   "cell_type": "code",
   "execution_count": null,
   "metadata": {},
   "outputs": [],
   "source": [
    "%%time\n",
    "estimator_pi = lgb.LGBMClassifier(importance_type='gain')\n",
    "estimator_pi.fit(df_X_train, df_y_train)\n",
    "\n",
    "utils.save_pickle(estimator_pi, 'data/other/increment_balance_24/pi/estimator_pi_item_X_20230813_20230903.pickle')"
   ]
  },
  {
   "cell_type": "code",
   "execution_count": null,
   "metadata": {},
   "outputs": [],
   "source": [
    "df_X_test = utils.load_pickle('data/other/increment_balance_24/pi/df_item_X_test_20230813_20230903.pickle')\n",
    "df_y_test = utils.load_pickle('data/other/increment_balance_24/pi/df_y_test_20230813_20230903.pickle')\n",
    "\n",
    "print(df_X_test.shape)\n",
    "print(df_y_test.shape)"
   ]
  },
  {
   "cell_type": "code",
   "execution_count": null,
   "metadata": {},
   "outputs": [],
   "source": [
    "estimator_pi = utils.load_pickle('data/other/increment_balance_24/pi/estimator_pi_item_X_20230813_20230903.pickle')\n",
    "\n",
    "estimator_pi"
   ]
  },
  {
   "cell_type": "code",
   "execution_count": null,
   "metadata": {
    "tags": []
   },
   "outputs": [],
   "source": [
    "%%time\n",
    "pi = permutation_importance(estimator=estimator_pi, X=df_X_test, y=df_y_test, n_jobs=8)\n",
    "\n",
    "utils.save_pickle(pi, 'data/other/increment_balance_24/pi/pi_item_X_20230813_20230903.pickle')"
   ]
  },
  {
   "cell_type": "code",
   "execution_count": null,
   "metadata": {},
   "outputs": [],
   "source": [
    "list_feats_item = [x for x in df_X_test.columns if x.startswith('card_id_')]\n",
    "\n",
    "list_feats_x_fusion = utils.load_pickle('data/other/increment_balance_24/list_feats/list_feats_x_ht_fusion_20230813_20230903.pickle')\n",
    "list_feats_x_asp1 = utils.load_pickle('data/other/increment_balance_24/list_feats/list_feats_x_ht_asp1_20230813_20230903.pickle')\n",
    "list_feats_x_asp2 = utils.load_pickle('data/other/increment_balance_24/list_feats/list_feats_x_ht_asp2_20230813_20230903.pickle')\n",
    "list_feats_x_dc = utils.load_pickle('data/other/increment_balance_24/list_feats/list_feats_x_ht_dc_20230813_20230903.pickle')\n",
    "list_feats_x_fc = utils.load_pickle('data/other/increment_balance_24/list_feats/list_feats_x_ht_fc_rename_20230813_20230903.pickle')\n",
    "\n",
    "list_feats_x = list_feats_x_fusion + list_feats_x_asp1 + list_feats_x_asp2 + list_feats_x_dc + list_feats_x_fc\n",
    "\n",
    "print(len(list_feats_item))\n",
    "\n",
    "print(len(list_feats_x_fusion))\n",
    "print(len(list_feats_x_asp1))\n",
    "print(len(list_feats_x_asp2))\n",
    "print(len(list_feats_x_dc))\n",
    "print(len(list_feats_x_fc))\n",
    "\n",
    "print(len(list_feats_x))"
   ]
  },
  {
   "cell_type": "code",
   "execution_count": null,
   "metadata": {},
   "outputs": [],
   "source": [
    "df_pi = pd.DataFrame({'feature': list_feats_item+list_feats_x, 'permutation_importance_mean': pi.importances_mean})\n",
    "print(df_pi.shape)\n",
    "df_pi.head()"
   ]
  },
  {
   "cell_type": "code",
   "execution_count": null,
   "metadata": {},
   "outputs": [],
   "source": [
    "df_pi.sort_values(by=['permutation_importance_mean'], ascending=[False], inplace=True)\n",
    "df_pi"
   ]
  },
  {
   "cell_type": "code",
   "execution_count": null,
   "metadata": {},
   "outputs": [],
   "source": [
    "df_pi[['permutation_importance_mean']].quantile([x/10 for x in range(11)]).T"
   ]
  },
  {
   "cell_type": "code",
   "execution_count": null,
   "metadata": {},
   "outputs": [],
   "source": [
    "list_feats_x_pi_no_select = df_pi[\n",
    "    (df_pi['permutation_importance_mean']<=0.0)\n",
    "    &(~df_pi['feature'].isin(list_feats_item))\n",
    "]['feature'].values.tolist()\n",
    "print(len(list_feats_x_pi_no_select))\n",
    "list_feats_x_pi_no_select[:10]"
   ]
  },
  {
   "cell_type": "code",
   "execution_count": null,
   "metadata": {},
   "outputs": [],
   "source": [
    "utils.save_pickle(list_feats_x_pi_no_select, 'data/other/increment_balance_24/list_feats/list_feats_x_pi_no_select_fadf_20230813_20230903.pickle')"
   ]
  },
  {
   "cell_type": "code",
   "execution_count": null,
   "metadata": {},
   "outputs": [],
   "source": [
    "list_feats_x_pi = [x for x in list_feats_x if x not in list_feats_x_pi_no_select]\n",
    "print(len(list_feats_x_pi))\n",
    "list_feats_x_pi[:10]"
   ]
  },
  {
   "cell_type": "code",
   "execution_count": null,
   "metadata": {},
   "outputs": [],
   "source": [
    "utils.save_pickle(list_feats_x_pi, 'data/other/increment_balance_24/list_feats/list_feats_x_pi_fadf_20230813_20230903.pickle')"
   ]
  },
  {
   "cell_type": "markdown",
   "metadata": {},
   "source": [
    "## 全量数据拉取sql处理"
   ]
  },
  {
   "cell_type": "code",
   "execution_count": null,
   "metadata": {},
   "outputs": [],
   "source": [
    "def del_sql_coalesce(sql_file_path, special_words, sql_file_path_new):\n",
    "    with open(sql_file_path, 'r') as fi:\n",
    "        list_sql = fi.readlines()\n",
    "        \n",
    "        str_pattern = r'|'.join(['( '+x+', )' for x in special_words])\n",
    "        str_pattern_end = r'|'.join(['( '+x+' )' for x in special_words])\n",
    "        str_pattern_from = r'^from '\n",
    "        pattern = re.compile(str_pattern)\n",
    "        pattern_end = re.compile(str_pattern_end)\n",
    "        pattern_from = re.compile(str_pattern_from)\n",
    "        \n",
    "        list_sql_valid = []\n",
    "        list_sql_valid_front = []\n",
    "        list_sql_valid_back = []\n",
    "        \n",
    "        index_front = 0\n",
    "        for i in range(len(list_sql)):\n",
    "            if re.search(pattern_from, list_sql[i]):\n",
    "                index_front = i\n",
    "                break\n",
    "        list_sql_valid_back = list_sql[index_front+1:]\n",
    "        \n",
    "        try:\n",
    "            with tqdm(list(range(len(list_sql[:index_front])))) as t:\n",
    "                for i in t:\n",
    "                    if i == index_front - 1:\n",
    "                        if not re.search(str_pattern_end, list_sql[i]):\n",
    "                            list_sql_valid_front.append(list_sql[i])\n",
    "                    else:\n",
    "                        if not re.search(pattern, list_sql[i]):\n",
    "                            list_sql_valid_front.append(list_sql[i])\n",
    "        except KeyboardInterrupt:\n",
    "            t.close()\n",
    "            raise\n",
    "        t.close()\n",
    "        list_sql_valid = list_sql_valid_front + [list_sql[index_front]] + list_sql_valid_back\n",
    "        \n",
    "        with open(sql_file_path_new, 'w') as fo:\n",
    "            fo.writelines(list_sql_valid)\n",
    "            \n",
    "\n",
    "def del_sql_select_origin(sql_file_path, special_words, sql_file_path_new):\n",
    "    with open(sql_file_path, 'r') as fi:\n",
    "        list_sql = fi.readlines()\n",
    "        \n",
    "        str_pattern_1 = r'|'.join(['(\\t'+x+', )' for x in special_words])\n",
    "        str_pattern_2 = r'|'.join(['(    '+x+', )' for x in special_words])\n",
    "        str_pattern_3 = r'|'.join(['(\\t'+x+' )' for x in special_words])\n",
    "        str_pattern_4 = r'|'.join(['(    '+x+' )' for x in special_words])\n",
    "        str_pattern_from = r'^from '\n",
    "        pattern_1 = re.compile(str_pattern_1)\n",
    "        pattern_2 = re.compile(str_pattern_2)\n",
    "        pattern_3 = re.compile(str_pattern_3)\n",
    "        pattern_4 = re.compile(str_pattern_4)\n",
    "        pattern_from = re.compile(str_pattern_from)\n",
    "        \n",
    "        list_sql_valid = []\n",
    "        list_sql_valid_front = []\n",
    "        list_sql_valid_back = []\n",
    "        \n",
    "        index_front = 0\n",
    "        for i in range(len(list_sql)):\n",
    "            if re.search(pattern_from, list_sql[i]):\n",
    "                index_front = i\n",
    "                break\n",
    "        list_sql_valid_front = list_sql[:index_front]\n",
    "        \n",
    "        try:\n",
    "            with tqdm(list(range(len(list_sql[index_front+1:])))) as t:\n",
    "                for i in t:\n",
    "                    if not re.search(pattern_1, list_sql[index_front+1+i]) \\\n",
    "                        and not re.search(pattern_2, list_sql[index_front+1+i]) \\\n",
    "                        and not re.search(pattern_3, list_sql[index_front+1+i]) \\\n",
    "                        and not re.search(pattern_4, list_sql[index_front+1+i]):\n",
    "                        list_sql_valid_back.append(list_sql[index_front+1+i])\n",
    "        except KeyboardInterrupt:\n",
    "            t.close()\n",
    "            raise\n",
    "        t.close()\n",
    "        list_sql_valid = list_sql_valid_front + [list_sql[index_front]] + list_sql_valid_back\n",
    "        \n",
    "        with open(sql_file_path_new, 'w') as fo:\n",
    "            fo.writelines(list_sql_valid)\n",
    "            \n",
    "            \n",
    "def correct_end(sql_file_path, sql_file_path_new):\n",
    "    with open(sql_file_path, 'r') as fi:\n",
    "        list_sql = fi.readlines()\n",
    "        \n",
    "        str_pattern = r'from '\n",
    "        pattern = re.compile(str_pattern)\n",
    "        \n",
    "        try:\n",
    "            with tqdm(list(range(len(list_sql)))) as t:\n",
    "                for i in t:\n",
    "                    if re.search(pattern, list_sql[i]):\n",
    "                        if list_sql[i-1][-3:-1] == ', ':\n",
    "                            list_sql[i-1] = list_sql[i-1][:-3] + list_sql[i-1][-2:]\n",
    "        except KeyboardInterrupt:\n",
    "            t.close()\n",
    "            raise\n",
    "        t.close()\n",
    "        \n",
    "        with open(sql_file_path_new, 'w') as fo:\n",
    "            fo.writelines(list_sql)"
   ]
  },
  {
   "cell_type": "code",
   "execution_count": null,
   "metadata": {},
   "outputs": [],
   "source": [
    "# list_feats_x = utils.load_pickle('data/other/balance/feats/list_feats/list_feats_x_ht_fusion_20221120_20221211.pickle')\n",
    "# list_feats_x = utils.load_pickle('data/other/balance/feats/list_feats/list_feats_x_ht_aspiration_part1_20221120_20221211.pickle')\n",
    "# list_feats_x = utils.load_pickle('data/other/balance/feats/list_feats/list_feats_x_ht_aspiration_part2_20221120_20221211.pickle')\n",
    "# list_feats_x = utils.load_pickle('data/other/balance_25/list_feats/list_feats_x_ht_fc_20230730_20230820.pickle')\n",
    "\n",
    "# list_feats_x = utils.load_pickle('data/other/increment_balance_24/list_feats/list_feats_x_pi_fadf_20230813_20230903.pickle')\n",
    "\n",
    "list_feats_x = utils.load_pickle('data/other/balance_34/xxpay/list_feats/list_feats_x_xxpay_std.pickle')\n",
    "\n",
    "print(len(list_feats_x))\n",
    "list_feats_x[:10]"
   ]
  },
  {
   "cell_type": "code",
   "execution_count": null,
   "metadata": {},
   "outputs": [],
   "source": [
    "# list_feats_x_all = utils.load_pickle('data/other/balance/feats/list_feats/list_feats_x_fusion_20221120_20221211.pickle')\n",
    "# list_feats_x_all = utils.load_pickle('data/other/balance/feats/list_feats/list_feats_x_aspiration_part1_20221120_20221211.pickle')\n",
    "# list_feats_x_all = utils.load_pickle('data/other/balance/feats/list_feats/list_feats_x_aspiration_part2_20221120_20221211.pickle')\n",
    "# list_feats_x_all = utils.load_pickle('data/other/balance_25/list_feats/list_feats_x_fc_20230730_20230820.pickle')\n",
    "\n",
    "# list_feats_x_all = utils.load_pickle('data/other/increment_balance_24/list_feats/list_feats_x_fusion_20230813_20230903.pickle')\n",
    "# list_feats_x_all = utils.load_pickle('data/other/increment_balance_24/list_feats/list_feats_x_asp1_20230813_20230903.pickle')\n",
    "# list_feats_x_all = utils.load_pickle('data/other/increment_balance_24/list_feats/list_feats_x_asp2_20230813_20230903.pickle')\n",
    "# list_feats_x_all = utils.load_pickle('data/other/increment_balance_24/list_feats/list_feats_x_dc_20230813_20230903.pickle')\n",
    "# list_feats_x_all = utils.load_pickle('data/other/increment_balance_24/list_feats/list_feats_x_fc_rename_20230813_20230903.pickle')\n",
    "\n",
    "list_feats_x_all = utils.load_pickle('data/other/balance_34/list_feats/list_feats_x_xxpay_20240225_20240317.pickle')\n",
    "\n",
    "print(len(list_feats_x_all))\n",
    "list_feats_x_all[:10]"
   ]
  },
  {
   "cell_type": "code",
   "execution_count": null,
   "metadata": {},
   "outputs": [],
   "source": [
    "list_feats_x_pi = [x for x in list_feats_x_all if x in list_feats_x]\n",
    "print(len(list_feats_x_pi))\n",
    "\n",
    "# utils.save_pickle(list_feats_x_pi, 'data/other/increment_balance_24/list_feats/list_feats_x_pi_fusion_20230813_20230903.pickle')\n",
    "# utils.save_pickle(list_feats_x_pi, 'data/other/increment_balance_24/list_feats/list_feats_x_pi_asp1_20230813_20230903.pickle')\n",
    "# utils.save_pickle(list_feats_x_pi, 'data/other/increment_balance_24/list_feats/list_feats_x_pi_asp2_20230813_20230903.pickle')\n",
    "# utils.save_pickle(list_feats_x_pi, 'data/other/increment_balance_24/list_feats/list_feats_x_pi_dc_20230813_20230903.pickle')\n",
    "utils.save_pickle(list_feats_x_pi, 'data/other/increment_balance_24/list_feats/list_feats_x_pi_fc_rename_20230813_20230903.pickle')"
   ]
  },
  {
   "cell_type": "code",
   "execution_count": null,
   "metadata": {},
   "outputs": [],
   "source": [
    "# 新特征部分筛选\n",
    "list_feats_x_asp1_change = [\n",
    "    '\n",
    "]\n",
    "print(len(list_feats_x_asp1_change))\n",
    "\n",
    "list_feats_x_pi = utils.load_pickle('data/other/increment_balance_24/list_feats/list_feats_x_ht_asp1_20230813_20230903.pickle')\n",
    "\n",
    "list_feats_x_asp1_change_pi = [x for x in list_feats_x_pi if x in list_feats_x_asp1_change]\n",
    "print(len(list_feats_x_asp1_change_pi))\n",
    "\n",
    "# utils.save_pickle(list_feats_x_asp1_change_pi, 'data/other/increment_balance_24/list_feats/list_feats_x_pi_asp1_change_20230813_20230903.pickle')\n",
    "utils.save_pickle(list_feats_x_asp1_change_pi, 'data/other/increment_balance_24/list_feats/list_feats_x_ht_asp1_change_20230813_20230903.pickle')"
   ]
  },
  {
   "cell_type": "code",
   "execution_count": null,
   "metadata": {},
   "outputs": [],
   "source": [
    "aaa = [\n",
    "    \n",
    "]\n",
    "bbb = utils.load_pickle('data/other/increment_balance_24/list_feats/list_feats_x_ht_asp1_change_20230813_20230903.pickle')\n",
    "list_feats_x_del = [x for x in aaa if x not in bbb]\n",
    "print(len(list_feats_x_del))\n",
    "list_feats_x_del[:10]"
   ]
  },
  {
   "cell_type": "code",
   "execution_count": null,
   "metadata": {},
   "outputs": [],
   "source": [
    "list_feats_x_del = [x for x in list_feats_x_all if x not in list_feats_x]\n",
    "list_feats_x_del = ['asd'] if len(list_feats_x_del) == 0 else list_feats_x_del\n",
    "print(len(list_feats_x_del))\n",
    "list_feats_x_del[:10]"
   ]
  },
  {
   "cell_type": "code",
   "execution_count": null,
   "metadata": {},
   "outputs": [],
   "source": [
    "# sql_file_path = 'sample_label_feature_fusion_new.sql'\n",
    "\n",
    "# sql_file_path = 'sample_label_feature_aspiration_new_part1.sql'\n",
    "# sql_file_path = 'sample_label_feature_aspiration_new_part1_inc.sql'\n",
    "# sql_file_path = 'sample_label_feature_aspiration_new_part1_inc_ht.sql'\n",
    "\n",
    "# sql_file_path = 'sample_label_feature_aspiration_new_part2.sql'\n",
    "\n",
    "# sql_file_path = 'sample_label_feature_debit_card.sql'\n",
    "\n",
    "# sql_file_path = 'sample_label_feature_flow_cashier.sql'\n",
    "\n",
    "sql_file_path = 'sample_label_feature_xxpay.sql'\n",
    "\n",
    "special_words = list_feats_x_del\n",
    "\n",
    "# sql_file_path_new = 'sample_label_feature_fusion_new_.sql'\n",
    "# sql_file_path_new = 'sample_label_feature_fusion_new_inc_.sql'\n",
    "\n",
    "# sql_file_path_new = 'sample_label_feature_aspiration_new_part1_.sql'\n",
    "# sql_file_path_new = 'sample_label_feature_aspiration_new_part1_inc_.sql'\n",
    "\n",
    "# sql_file_path_new = 'sample_label_feature_aspiration_new_part2_.sql'\n",
    "# sql_file_path_new = 'sample_label_feature_aspiration_new_part2_inc_.sql'\n",
    "# sql_file_path_new = 'sample_label_feature_aspiration_new_part1_inc_ht_.sql'\n",
    "\n",
    "# sql_file_path_new = 'sample_label_feature_debit_card_inc_.sql'\n",
    "\n",
    "# sql_file_path_new = 'sample_label_feature_flow_cashier_.sql'\n",
    "# sql_file_path_new = 'sample_label_feature_flow_cashier_inc_.sql'\n",
    "\n",
    "sql_file_path_new = 'sample_label_feature_xxpay_.sql'\n",
    "\n",
    "del_sql_coalesce(sql_file_path, special_words, sql_file_path_new)\n",
    "del_sql_select_origin(sql_file_path_new, special_words, sql_file_path_new)\n",
    "correct_end(sql_file_path_new, sql_file_path_new)"
   ]
  },
  {
   "cell_type": "code",
   "execution_count": null,
   "metadata": {},
   "outputs": [],
   "source": []
  }
 ],
 "metadata": {
  "kernelspec": {
   "display_name": "Python3 (jarretthan)",
   "language": "python",
   "name": "jarretthan"
  },
  "language_info": {
   "codemirror_mode": {
    "name": "ipython",
    "version": 3
   },
   "file_extension": ".py",
   "mimetype": "text/x-python",
   "name": "python",
   "nbconvert_exporter": "python",
   "pygments_lexer": "ipython3",
   "version": "3.7.10"
  }
 },
 "nbformat": 4,
 "nbformat_minor": 4
}
