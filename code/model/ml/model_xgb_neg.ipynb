{
 "cells": [
  {
   "cell_type": "markdown",
   "id": "cd16c294-f7f0-4792-8651-eb1b8b77a7de",
   "metadata": {},
   "source": [
    "# 多利益点CVR模型\n",
    "## 增加不同item卡先验知识（特征one hot），预测最终cvr，不同item间打分可比\n",
    "## 也可看作为多标签分类变种\n",
    "## 目标item卡&平衡处理"
   ]
  },
  {
   "cell_type": "code",
   "execution_count": 1,
   "id": "be95a293-e248-4004-9410-58eafb45040f",
   "metadata": {
    "scrolled": true,
    "tags": []
   },
   "outputs": [
    {
     "ename": "KeyboardInterrupt",
     "evalue": "",
     "output_type": "error",
     "traceback": [
      "\u001b[0;31m---------------------------------------------------------------------------\u001b[0m",
      "\u001b[0;31mKeyboardInterrupt\u001b[0m                         Traceback (most recent call last)",
      "\u001b[0;32m/tmp/ipykernel_66133/18504530.py\u001b[0m in \u001b[0;36m<module>\u001b[0;34m\u001b[0m\n\u001b[1;32m      8\u001b[0m \u001b[0;32mimport\u001b[0m \u001b[0mmatplotlib\u001b[0m\u001b[0;34m.\u001b[0m\u001b[0mpyplot\u001b[0m \u001b[0;32mas\u001b[0m \u001b[0mplt\u001b[0m\u001b[0;34m\u001b[0m\u001b[0;34m\u001b[0m\u001b[0m\n\u001b[1;32m      9\u001b[0m \u001b[0;32mimport\u001b[0m \u001b[0mmatplotlib\u001b[0m\u001b[0;34m.\u001b[0m\u001b[0mpatches\u001b[0m \u001b[0;32mas\u001b[0m \u001b[0mmpatches\u001b[0m\u001b[0;34m\u001b[0m\u001b[0;34m\u001b[0m\u001b[0m\n\u001b[0;32m---> 10\u001b[0;31m \u001b[0;32mimport\u001b[0m \u001b[0mseaborn\u001b[0m \u001b[0;32mas\u001b[0m \u001b[0msns\u001b[0m\u001b[0;34m\u001b[0m\u001b[0;34m\u001b[0m\u001b[0m\n\u001b[0m\u001b[1;32m     11\u001b[0m \u001b[0;32mimport\u001b[0m \u001b[0mcollections\u001b[0m\u001b[0;34m\u001b[0m\u001b[0;34m\u001b[0m\u001b[0m\n\u001b[1;32m     12\u001b[0m \u001b[0;32mimport\u001b[0m \u001b[0mre\u001b[0m\u001b[0;34m\u001b[0m\u001b[0;34m\u001b[0m\u001b[0m\n",
      "\u001b[0;32m~/anaconda3/envs/jarretthan/lib/python3.7/site-packages/seaborn/__init__.py\u001b[0m in \u001b[0;36m<module>\u001b[0;34m\u001b[0m\n\u001b[1;32m      1\u001b[0m \u001b[0;31m# Import seaborn objects\u001b[0m\u001b[0;34m\u001b[0m\u001b[0;34m\u001b[0m\u001b[0;34m\u001b[0m\u001b[0m\n\u001b[0;32m----> 2\u001b[0;31m \u001b[0;32mfrom\u001b[0m \u001b[0;34m.\u001b[0m\u001b[0mrcmod\u001b[0m \u001b[0;32mimport\u001b[0m \u001b[0;34m*\u001b[0m  \u001b[0;31m# noqa: F401,F403\u001b[0m\u001b[0;34m\u001b[0m\u001b[0;34m\u001b[0m\u001b[0m\n\u001b[0m\u001b[1;32m      3\u001b[0m \u001b[0;32mfrom\u001b[0m \u001b[0;34m.\u001b[0m\u001b[0mutils\u001b[0m \u001b[0;32mimport\u001b[0m \u001b[0;34m*\u001b[0m  \u001b[0;31m# noqa: F401,F403\u001b[0m\u001b[0;34m\u001b[0m\u001b[0;34m\u001b[0m\u001b[0m\n\u001b[1;32m      4\u001b[0m \u001b[0;32mfrom\u001b[0m \u001b[0;34m.\u001b[0m\u001b[0mpalettes\u001b[0m \u001b[0;32mimport\u001b[0m \u001b[0;34m*\u001b[0m  \u001b[0;31m# noqa: F401,F403\u001b[0m\u001b[0;34m\u001b[0m\u001b[0;34m\u001b[0m\u001b[0m\n\u001b[1;32m      5\u001b[0m \u001b[0;32mfrom\u001b[0m \u001b[0;34m.\u001b[0m\u001b[0mrelational\u001b[0m \u001b[0;32mimport\u001b[0m \u001b[0;34m*\u001b[0m  \u001b[0;31m# noqa: F401,F403\u001b[0m\u001b[0;34m\u001b[0m\u001b[0;34m\u001b[0m\u001b[0m\n",
      "\u001b[0;32m~/anaconda3/envs/jarretthan/lib/python3.7/site-packages/seaborn/rcmod.py\u001b[0m in \u001b[0;36m<module>\u001b[0;34m\u001b[0m\n\u001b[1;32m      5\u001b[0m \u001b[0;32mimport\u001b[0m \u001b[0mmatplotlib\u001b[0m \u001b[0;32mas\u001b[0m \u001b[0mmpl\u001b[0m\u001b[0;34m\u001b[0m\u001b[0;34m\u001b[0m\u001b[0m\n\u001b[1;32m      6\u001b[0m \u001b[0;32mfrom\u001b[0m \u001b[0mcycler\u001b[0m \u001b[0;32mimport\u001b[0m \u001b[0mcycler\u001b[0m\u001b[0;34m\u001b[0m\u001b[0;34m\u001b[0m\u001b[0m\n\u001b[0;32m----> 7\u001b[0;31m \u001b[0;32mfrom\u001b[0m \u001b[0;34m.\u001b[0m \u001b[0;32mimport\u001b[0m \u001b[0mpalettes\u001b[0m\u001b[0;34m\u001b[0m\u001b[0;34m\u001b[0m\u001b[0m\n\u001b[0m\u001b[1;32m      8\u001b[0m \u001b[0;34m\u001b[0m\u001b[0m\n\u001b[1;32m      9\u001b[0m \u001b[0;34m\u001b[0m\u001b[0m\n",
      "\u001b[0;32m~/anaconda3/envs/jarretthan/lib/python3.7/site-packages/seaborn/palettes.py\u001b[0m in \u001b[0;36m<module>\u001b[0;34m\u001b[0m\n\u001b[1;32m      7\u001b[0m \u001b[0;32mfrom\u001b[0m \u001b[0;34m.\u001b[0m\u001b[0mexternal\u001b[0m \u001b[0;32mimport\u001b[0m \u001b[0mhusl\u001b[0m\u001b[0;34m\u001b[0m\u001b[0;34m\u001b[0m\u001b[0m\n\u001b[1;32m      8\u001b[0m \u001b[0;34m\u001b[0m\u001b[0m\n\u001b[0;32m----> 9\u001b[0;31m \u001b[0;32mfrom\u001b[0m \u001b[0;34m.\u001b[0m\u001b[0mutils\u001b[0m \u001b[0;32mimport\u001b[0m \u001b[0mdesaturate\u001b[0m\u001b[0;34m,\u001b[0m \u001b[0mget_color_cycle\u001b[0m\u001b[0;34m\u001b[0m\u001b[0;34m\u001b[0m\u001b[0m\n\u001b[0m\u001b[1;32m     10\u001b[0m \u001b[0;32mfrom\u001b[0m \u001b[0;34m.\u001b[0m\u001b[0mcolors\u001b[0m \u001b[0;32mimport\u001b[0m \u001b[0mxkcd_rgb\u001b[0m\u001b[0;34m,\u001b[0m \u001b[0mcrayons\u001b[0m\u001b[0;34m\u001b[0m\u001b[0;34m\u001b[0m\u001b[0m\n\u001b[1;32m     11\u001b[0m \u001b[0;34m\u001b[0m\u001b[0m\n",
      "\u001b[0;32m~/anaconda3/envs/jarretthan/lib/python3.7/site-packages/seaborn/utils.py\u001b[0m in \u001b[0;36m<module>\u001b[0;34m\u001b[0m\n\u001b[1;32m      8\u001b[0m \u001b[0;34m\u001b[0m\u001b[0m\n\u001b[1;32m      9\u001b[0m \u001b[0;32mimport\u001b[0m \u001b[0mnumpy\u001b[0m \u001b[0;32mas\u001b[0m \u001b[0mnp\u001b[0m\u001b[0;34m\u001b[0m\u001b[0;34m\u001b[0m\u001b[0m\n\u001b[0;32m---> 10\u001b[0;31m \u001b[0;32mfrom\u001b[0m \u001b[0mscipy\u001b[0m \u001b[0;32mimport\u001b[0m \u001b[0mstats\u001b[0m\u001b[0;34m\u001b[0m\u001b[0;34m\u001b[0m\u001b[0m\n\u001b[0m\u001b[1;32m     11\u001b[0m \u001b[0;32mimport\u001b[0m \u001b[0mpandas\u001b[0m \u001b[0;32mas\u001b[0m \u001b[0mpd\u001b[0m\u001b[0;34m\u001b[0m\u001b[0;34m\u001b[0m\u001b[0m\n\u001b[1;32m     12\u001b[0m \u001b[0;32mimport\u001b[0m \u001b[0mmatplotlib\u001b[0m \u001b[0;32mas\u001b[0m \u001b[0mmpl\u001b[0m\u001b[0;34m\u001b[0m\u001b[0;34m\u001b[0m\u001b[0m\n",
      "\u001b[0;32m~/anaconda3/envs/jarretthan/lib/python3.7/site-packages/scipy/stats/__init__.py\u001b[0m in \u001b[0;36m<module>\u001b[0;34m\u001b[0m\n\u001b[1;32m    439\u001b[0m \"\"\"\n\u001b[1;32m    440\u001b[0m \u001b[0;34m\u001b[0m\u001b[0m\n\u001b[0;32m--> 441\u001b[0;31m \u001b[0;32mfrom\u001b[0m \u001b[0;34m.\u001b[0m\u001b[0mstats\u001b[0m \u001b[0;32mimport\u001b[0m \u001b[0;34m*\u001b[0m\u001b[0;34m\u001b[0m\u001b[0;34m\u001b[0m\u001b[0m\n\u001b[0m\u001b[1;32m    442\u001b[0m \u001b[0;32mfrom\u001b[0m \u001b[0;34m.\u001b[0m\u001b[0mdistributions\u001b[0m \u001b[0;32mimport\u001b[0m \u001b[0;34m*\u001b[0m\u001b[0;34m\u001b[0m\u001b[0;34m\u001b[0m\u001b[0m\n\u001b[1;32m    443\u001b[0m \u001b[0;32mfrom\u001b[0m \u001b[0;34m.\u001b[0m\u001b[0mmorestats\u001b[0m \u001b[0;32mimport\u001b[0m \u001b[0;34m*\u001b[0m\u001b[0;34m\u001b[0m\u001b[0;34m\u001b[0m\u001b[0m\n",
      "\u001b[0;32m~/anaconda3/envs/jarretthan/lib/python3.7/importlib/_bootstrap.py\u001b[0m in \u001b[0;36m_find_and_load\u001b[0;34m(name, import_)\u001b[0m\n",
      "\u001b[0;32m~/anaconda3/envs/jarretthan/lib/python3.7/importlib/_bootstrap.py\u001b[0m in \u001b[0;36m_find_and_load_unlocked\u001b[0;34m(name, import_)\u001b[0m\n",
      "\u001b[0;32m~/anaconda3/envs/jarretthan/lib/python3.7/importlib/_bootstrap.py\u001b[0m in \u001b[0;36m_load_unlocked\u001b[0;34m(spec)\u001b[0m\n",
      "\u001b[0;32m~/anaconda3/envs/jarretthan/lib/python3.7/importlib/_bootstrap_external.py\u001b[0m in \u001b[0;36mexec_module\u001b[0;34m(self, module)\u001b[0m\n",
      "\u001b[0;32m~/anaconda3/envs/jarretthan/lib/python3.7/importlib/_bootstrap_external.py\u001b[0m in \u001b[0;36mget_code\u001b[0;34m(self, fullname)\u001b[0m\n",
      "\u001b[0;32m~/anaconda3/envs/jarretthan/lib/python3.7/importlib/_bootstrap_external.py\u001b[0m in \u001b[0;36m_compile_bytecode\u001b[0;34m(data, name, bytecode_path, source_path)\u001b[0m\n",
      "\u001b[0;31mKeyboardInterrupt\u001b[0m: "
     ]
    }
   ],
   "source": [
    "import datetime\n",
    "import numpy as np\n",
    "import pandas as pd\n",
    "import joblib\n",
    "import warnings\n",
    "import logging\n",
    "import os\n",
    "import matplotlib.pyplot as plt\n",
    "import matplotlib.patches as mpatches\n",
    "import seaborn as sns\n",
    "import collections\n",
    "import re\n",
    "import copy\n",
    "import xgboost as xgb\n",
    "import lightgbm as lgb\n",
    "import shap\n",
    "\n",
    "import utils\n",
    "\n",
    "from tqdm import tqdm\n",
    "from dateutil.relativedelta import relativedelta\n",
    "from joblib import Parallel, delayed\n",
    "from scipy.stats import norm\n",
    "from sklearn.preprocessing import StandardScaler\n",
    "from sklearn.model_selection import StratifiedKFold, train_test_split\n",
    "from sklearn.metrics import confusion_matrix, classification_report, roc_auc_score\n",
    "\n",
    "# pd.set_option('display.max_columns', None)\n",
    "# pd.set_option('max_row', 500)\n",
    "warnings.filterwarnings('ignore')\n",
    "tqdm.pandas(desc='pandas bar')"
   ]
  },
  {
   "cell_type": "code",
   "execution_count": null,
   "id": "a88b7ce3-0bdd-44f0-8dba-91c6b34ca1e5",
   "metadata": {},
   "outputs": [],
   "source": [
    "xgb.__version__"
   ]
  },
  {
   "cell_type": "code",
   "execution_count": null,
   "id": "1c40d88e-4daa-4111-97cf-59e3aec004ff",
   "metadata": {},
   "outputs": [],
   "source": [
    "lgb.__version__"
   ]
  },
  {
   "cell_type": "markdown",
   "id": "c875dc55-fd0b-43e8-be12-c31dafb0a1ec",
   "metadata": {},
   "source": [
    "## data"
   ]
  },
  {
   "cell_type": "markdown",
   "id": "287d077e-b023-4a91-af6f-a9ca191da59a",
   "metadata": {},
   "source": [
    "* xxpay 特征"
   ]
  },
  {
   "cell_type": "code",
   "execution_count": null,
   "id": "e479117a-4259-4def-b41d-5421b717a638",
   "metadata": {
    "scrolled": true,
    "tags": []
   },
   "outputs": [],
   "source": [
    "df_xxpay = utils.load_pickle('data/other/balance_34/df_xxpay_20240225_20240317.pickle')\n",
    "\n",
    "print(df_xxpay.shape)\n",
    "df_xxpay.head()"
   ]
  },
  {
   "cell_type": "code",
   "execution_count": null,
   "id": "1a72bcf5-259f-469c-a009-aacdd675a3a4",
   "metadata": {},
   "outputs": [],
   "source": [
    "list_feats_x_xxpay_std = utils.load_pickle('data/other/balance_34/list_feats/list_feats_x_ht_xxpay_20240225_20240317.pickle')\n",
    "print(len(list_feats_xxpay_x_std))\n",
    "list_feats_x_xxpay_std[:10]"
   ]
  },
  {
   "cell_type": "code",
   "execution_count": null,
   "id": "f6813630-9f76-46d5-b23e-5fd06dcea03a",
   "metadata": {},
   "outputs": [],
   "source": [
    "utils.save_pickle(list_feats_xxpay_x_std, 'data/other/balance_34/xxpay/list_feats/list_feats_x_xxpay_std.pickle')"
   ]
  },
  {
   "cell_type": "markdown",
   "id": "9caaedc7-f681-4dd1-aac5-94e42ba8c201",
   "metadata": {},
   "source": [
    "* flow cashier 特征"
   ]
  },
  {
   "cell_type": "code",
   "execution_count": null,
   "id": "84862a57-79a7-47bf-b645-9ff51c01f6f7",
   "metadata": {
    "scrolled": true,
    "tags": []
   },
   "outputs": [],
   "source": [
    "df_fc = pd.read_csv('data/other/balance_34/sample_label_feature_fc_20240225_20240317.txt', sep='\\t', encoding='utf-8')\n",
    "\n",
    "print(df_fc.shape)\n",
    "df_fc.head()"
   ]
  },
  {
   "cell_type": "code",
   "execution_count": null,
   "id": "ae51be3f-ff09-4304-b635-5c5195cbdb9d",
   "metadata": {},
   "outputs": [],
   "source": [
    "df_fc_des = utils.df_des(df_fc)\n",
    "\n",
    "df_fc_des.to_csv('data/other/balance_34/df_des_fc_20240225_20240317.csv')"
   ]
  },
  {
   "cell_type": "code",
   "execution_count": null,
   "id": "69fd203e-822d-49cd-a7be-d5d8bbd8dddb",
   "metadata": {},
   "outputs": [],
   "source": [
    "list_feats_fc_std_0 = list(df_fc_des[df_fc_des['std']==0].index)\n",
    "print(len(list_feats_fc_std_0))\n",
    "list_feats_fc_std_0[:10]"
   ]
  },
  {
   "cell_type": "code",
   "execution_count": null,
   "id": "bc17b9dd-3190-4464-b914-da3a975d3330",
   "metadata": {},
   "outputs": [],
   "source": [
    "utils.save_pickle(list_feats_fc_std_0, 'data/other/balance_34/list_feats/list_feats_x_fc_std_0.pickle')"
   ]
  },
  {
   "cell_type": "code",
   "execution_count": null,
   "id": "c75a6594-570a-46b1-a4aa-55fe0e875209",
   "metadata": {},
   "outputs": [],
   "source": [
    "list_feats_x_fc = [x for x in df_fc.columns if x not in ['uid', 'obs_dt', 'card', 'label']]\n",
    "print(len(list_feats_x_fc))\n",
    "list_feats_x_fc[:10]"
   ]
  },
  {
   "cell_type": "code",
   "execution_count": null,
   "id": "5d4f9302-301a-484c-923d-11bd4cb3240a",
   "metadata": {},
   "outputs": [],
   "source": [
    "utils.save_pickle(list_feats_x_fc, 'data/other/balance_34/list_feats/list_feats_x_fc.pickle')"
   ]
  },
  {
   "cell_type": "code",
   "execution_count": null,
   "id": "9916adec-7902-4ca5-9675-e112149a0bc9",
   "metadata": {},
   "outputs": [],
   "source": [
    "list_feats_x_fc_std = [x for x in list_feats_x_fc if x not in list_feats_fc_std_0]\n",
    "print(len(list_feats_x_fc_std))\n",
    "list_feats_x_fc_std[:10]"
   ]
  },
  {
   "cell_type": "code",
   "execution_count": null,
   "id": "f435eaa1-244c-496a-95df-942d0c744994",
   "metadata": {},
   "outputs": [],
   "source": [
    "utils.save_pickle(list_feats_x_fc_std, 'data/other/balance_34/list_feats/list_feats_x_fc_std.pickle')"
   ]
  },
  {
   "cell_type": "code",
   "execution_count": null,
   "id": "ba4e8237-1acb-4586-9f18-fb0cafa4dc64",
   "metadata": {},
   "outputs": [],
   "source": [
    "list_feats_x_fc_std = utils.load_pickle('data/other/balance_34/list_feats/list_feats_x_fc_std.pickle')\n",
    "print(len(list_feats_x_fc_std))\n",
    "list_feats_x_fc_std[:10]"
   ]
  },
  {
   "cell_type": "code",
   "execution_count": null,
   "id": "3a1ecd88-99af-4ede-a3e8-26d65a4d64c8",
   "metadata": {},
   "outputs": [],
   "source": [
    "list_feats_x_fc_std_arti = [\n",
    "    x for x in list_feats_x_fc_std if x not in \n",
    "    [\n",
    "        'xxx'\n",
    "    ]\n",
    "]\n",
    "print(len(list_feats_x_fc_std_arti))\n",
    "list_feats_x_fc_std_arti[:10]"
   ]
  },
  {
   "cell_type": "code",
   "execution_count": null,
   "id": "bcaa7197-25d1-48c3-b234-09dc8bdca110",
   "metadata": {},
   "outputs": [],
   "source": [
    "utils.save_pickle(list_feats_x_fc_std_arti, 'data/other/balance_34/xxpay/list_feats/list_feats_x_fc_std_arti.pickle')"
   ]
  },
  {
   "cell_type": "markdown",
   "id": "aed7358c-e0b1-4221-88b7-208a7795ada5",
   "metadata": {},
   "source": [
    "* debit card 特征"
   ]
  },
  {
   "cell_type": "code",
   "execution_count": null,
   "id": "c67ab1e0-a063-45e6-9ba7-8765880c2b3a",
   "metadata": {
    "scrolled": true,
    "tags": []
   },
   "outputs": [],
   "source": [
    "df_debit_card = pd.read_csv('data/other/balance_34/sample_label_feature_dc_20240225_20240317.txt', sep='\\t', encoding='utf-8')\n",
    "\n",
    "print(df_debit_card.shape)\n",
    "df_debit_card.head()"
   ]
  },
  {
   "cell_type": "code",
   "execution_count": null,
   "id": "51f8c5fa-1265-4af1-8019-a12e58e70c88",
   "metadata": {},
   "outputs": [],
   "source": [
    "df_debit_card_des = utils.df_des(df_debit_card)\n",
    "\n",
    "df_debit_card_des.to_csv('data/other/balance_34/df_des_dc_20240225_20240317.csv')"
   ]
  },
  {
   "cell_type": "code",
   "execution_count": null,
   "id": "7c33b8f0-48b9-44de-b705-9d56d18f822e",
   "metadata": {},
   "outputs": [],
   "source": [
    "list_feats_debit_card_std_0 = list(df_debit_card_des[df_debit_card_des['std']==0].index)\n",
    "print(len(list_feats_debit_card_std_0))\n",
    "list_feats_debit_card_std_0[:10]"
   ]
  },
  {
   "cell_type": "code",
   "execution_count": null,
   "id": "a9e0c537-8162-4a89-9388-ae46b3f60910",
   "metadata": {},
   "outputs": [],
   "source": [
    "utils.save_pickle(list_feats_debit_card_std_0, 'data/other/balance_34/list_feats/list_feats_x_dc_std_0.pickle')"
   ]
  },
  {
   "cell_type": "code",
   "execution_count": null,
   "id": "66819708-b127-426c-a94f-834879967ad2",
   "metadata": {},
   "outputs": [],
   "source": [
    "list_feats_x_debit_card = [x for x in df_debit_card.columns if x not in ['uid', 'obs_dt', 'card', 'label']]\n",
    "print(len(list_feats_x_debit_card))\n",
    "list_feats_x_debit_card[:10]"
   ]
  },
  {
   "cell_type": "code",
   "execution_count": null,
   "id": "8de048fa-392c-4712-8724-7438bd6a1501",
   "metadata": {},
   "outputs": [],
   "source": [
    "utils.save_pickle(list_feats_x_debit_card, 'data/other/balance_34/list_feats/list_feats_x_dc.pickle')"
   ]
  },
  {
   "cell_type": "code",
   "execution_count": null,
   "id": "cc562656-de11-4dbf-9442-ef710a708fbf",
   "metadata": {},
   "outputs": [],
   "source": [
    "list_feats_x_debit_card_std = [x for x in list_feats_x_debit_card if x not in list_feats_debit_card_std_0]\n",
    "print(len(list_feats_x_debit_card_std))\n",
    "list_feats_x_debit_card_std[:10]"
   ]
  },
  {
   "cell_type": "code",
   "execution_count": null,
   "id": "2d0303e6-0b67-41bb-815e-2a70a54b828b",
   "metadata": {},
   "outputs": [],
   "source": [
    "utils.save_pickle(list_feats_x_debit_card_std, 'data/other/balance_34/list_feats/list_feats_x_dc_std.pickle')"
   ]
  },
  {
   "cell_type": "code",
   "execution_count": null,
   "id": "b5c275cd-c0ed-4be9-a5ee-4687e259e69f",
   "metadata": {},
   "outputs": [],
   "source": [
    "list_feats_x_debit_card_std = utils.load_pickle('data/other/balance_34/list_feats/list_feats_x_dc_std.pickle')\n",
    "print(len(list_feats_x_debit_card_std))\n",
    "list_feats_x_debit_card_std[:10]"
   ]
  },
  {
   "cell_type": "markdown",
   "id": "982be2ab-ed16-4d77-a955-227216beb708",
   "metadata": {},
   "source": [
    "* fusion + aspiration 特征"
   ]
  },
  {
   "cell_type": "code",
   "execution_count": null,
   "id": "71198e4a-7917-4cdc-be5e-be267d83c53e",
   "metadata": {
    "tags": []
   },
   "outputs": [],
   "source": [
    "df_fusion = pd.read_csv('data/other/balance_34/sample_label_feature_fusion_20240225_20240317.txt', sep='\\t', encoding='utf-8')\n",
    "df_asp1 = pd.read_csv('data/other/balance_34/sample_label_feature_asp1_20240225_20240317.txt', sep='\\t', encoding='utf-8')\n",
    "df_asp2 = pd.read_csv('data/other/balance_34/sample_label_feature_asp2_20240225_20240317.txt', sep='\\t', encoding='utf-8')\n",
    "\n",
    "print(df_fusion.shape)\n",
    "print(df_asp1.shape)\n",
    "print(df_asp2.shape)"
   ]
  },
  {
   "cell_type": "code",
   "execution_count": null,
   "id": "e2f7f25d-d24a-4531-be2c-f5e57ace751e",
   "metadata": {},
   "outputs": [],
   "source": [
    "df_fusion_des = utils.df_des(df_fusion)\n",
    "df_asp1_des = utils.df_des(df_asp1)\n",
    "df_asp2_des = utils.df_des(df_asp2)\n",
    "\n",
    "df_fusion_des.to_csv('data/other/balance_34/df_des_fusion_20240225_20240317.csv')\n",
    "df_asp1_des.to_csv('data/other/balance_34/df_des_asp1_20240225_20240317.csv')\n",
    "df_asp2_des.to_csv('data/other/balance_34/df_des_asp2_20240225_20240317.csv')"
   ]
  },
  {
   "cell_type": "code",
   "execution_count": null,
   "id": "6ec61d88-24da-4a95-8330-2a5bed765bf6",
   "metadata": {},
   "outputs": [],
   "source": [
    "list_feats_x_fusion_std_0 = list(df_fusion_des[df_fusion_des['std']==0].index)\n",
    "list_feats_x_asp1_std_0 = list(df_asp1_des[df_asp1_des['std']==0].index)\n",
    "list_feats_x_asp2_std_0 = list(df_asp2_des[df_asp2_des['std']==0].index)\n",
    "\n",
    "print(len(list_feats_x_fusion_std_0))\n",
    "print(len(list_feats_x_asp1_std_0))\n",
    "print(len(list_feats_x_asp2_std_0))"
   ]
  },
  {
   "cell_type": "code",
   "execution_count": null,
   "id": "dadf51c8-734f-46c4-a211-b865d18b84f9",
   "metadata": {},
   "outputs": [],
   "source": [
    "utils.save_pickle(list_feats_x_fusion_std_0, 'data/other/balance_34/list_feats/list_feats_x_fusion_std_0.pickle')\n",
    "utils.save_pickle(list_feats_x_asp1_std_0, 'data/other/balance_34/list_feats/list_feats_x_asp1_std_0.pickle')\n",
    "utils.save_pickle(list_feats_x_asp2_std_0, 'data/other/balance_34/list_feats/list_feats_x_asp2_std_0.pickle')"
   ]
  },
  {
   "cell_type": "code",
   "execution_count": null,
   "id": "4e20d283-9a58-440d-a42f-1ff941c06135",
   "metadata": {},
   "outputs": [],
   "source": [
    "list_feats_x_fusion = [x for x in df_fusion.columns if x not in ['uid', 'obs_dt', 'card', 'label']]\n",
    "list_feats_x_asp1 = [x for x in df_asp1.columns if x not in ['uid', 'obs_dt', 'card', 'label']]\n",
    "list_feats_x_asp2 = [x for x in df_asp2.columns if x not in ['uid', 'obs_dt', 'card', 'label']]\n",
    "\n",
    "print(len(list_feats_x_fusion))\n",
    "print(len(list_feats_x_asp1))\n",
    "print(len(list_feats_x_asp2))"
   ]
  },
  {
   "cell_type": "code",
   "execution_count": null,
   "id": "d09940e4-82c4-4efa-a743-463f0c7b0cb4",
   "metadata": {},
   "outputs": [],
   "source": [
    "utils.save_pickle(list_feats_x_fusion, 'data/other/balance_34/list_feats/list_feats_x_fusion.pickle')\n",
    "utils.save_pickle(list_feats_x_asp1, 'data/other/balance_34/list_feats/list_feats_x_asp1.pickle')\n",
    "utils.save_pickle(list_feats_x_asp2, 'data/other/balance_34/list_feats/list_feats_x_asp2.pickle')"
   ]
  },
  {
   "cell_type": "code",
   "execution_count": null,
   "id": "2a2b6c0f-b138-44d8-acb6-f64e503af36c",
   "metadata": {},
   "outputs": [],
   "source": [
    "list_feats_x_fusion_std = [x for x in list_feats_x_fusion if x not in list_feats_x_fusion_std_0]\n",
    "list_feats_x_asp1_std = [x for x in list_feats_x_asp1 if x not in list_feats_x_asp1_std_0]\n",
    "list_feats_x_asp2_std = [x for x in list_feats_x_asp2 if x not in list_feats_x_asp1_std_0]\n",
    "\n",
    "print(len(list_feats_x_fusion_std))\n",
    "print(len(list_feats_x_asp1_std))\n",
    "print(len(list_feats_x_asp2_std))"
   ]
  },
  {
   "cell_type": "code",
   "execution_count": null,
   "id": "27f56620-fcbd-4f1c-a521-54a6bb561a00",
   "metadata": {},
   "outputs": [],
   "source": [
    "utils.save_pickle(list_feats_x_fusion_std, 'data/other/balance_34/list_feats/list_feats_x_fusion_std.pickle')\n",
    "utils.save_pickle(list_feats_x_asp1_std, 'data/other/balance_34/list_feats/list_feats_x_asp1_std.pickle')\n",
    "utils.save_pickle(list_feats_x_asp2_std, 'data/other/balance_34/list_feats/list_feats_x_asp2_std.pickle')"
   ]
  },
  {
   "cell_type": "code",
   "execution_count": null,
   "id": "a8780c0d-e99c-4603-9679-687383927811",
   "metadata": {},
   "outputs": [],
   "source": [
    "list_feats_x_fusion_std = utils.load_pickle('data/other/balance_34/list_feats/list_feats_x_fusion_std.pickle')\n",
    "list_feats_x_asp1_std = utils.load_pickle('data/other/balance_34/list_feats/list_feats_x_asp1_std.pickle')\n",
    "list_feats_x_asp2_std = utils.load_pickle('data/other/balance_34/list_feats/list_feats_x_asp2_std.pickle')\n",
    "\n",
    "print(len(list_feats_x_fusion_std))\n",
    "print(len(list_feats_x_asp1_std))\n",
    "print(len(list_feats_x_asp2_std))"
   ]
  },
  {
   "cell_type": "markdown",
   "id": "d3c5e185-9f97-419b-9739-b07c03c16348",
   "metadata": {},
   "source": [
    "* 数据合并"
   ]
  },
  {
   "cell_type": "code",
   "execution_count": null,
   "id": "2bb515eb-9383-4a52-ada3-68f08ec46475",
   "metadata": {},
   "outputs": [],
   "source": [
    "list_feats_id_dt_card_y = ['uid', 'obs_dt', 'card', 'label']"
   ]
  },
  {
   "cell_type": "code",
   "execution_count": null,
   "id": "ecc7640d-e532-4ace-8578-7737ce1e8dbf",
   "metadata": {
    "scrolled": true,
    "tags": []
   },
   "outputs": [],
   "source": [
    "# 存在部分重复负样本，采用排序后合并方式\n",
    "df_fusion.sort_values(by=list_feats_id_dt_card_y, inplace=True)\n",
    "df_fusion.reset_index(drop=True, inplace=True)\n",
    "\n",
    "df_asp1.sort_values(by=list_feats_id_dt_card_y, inplace=True)\n",
    "df_asp1.reset_index(drop=True, inplace=True)\n",
    "\n",
    "df_asp2.sort_values(by=list_feats_id_dt_card_y, inplace=True)\n",
    "df_asp2.reset_index(drop=True, inplace=True)\n",
    "\n",
    "df_debit_card.sort_values(by=list_feats_id_dt_card_y, inplace=True)\n",
    "df_debit_card.reset_index(drop=True, inplace=True)\n",
    "\n",
    "df_fc.sort_values(by=list_feats_id_dt_card_y, inplace=True)\n",
    "df_fc.reset_index(drop=True, inplace=True)\n",
    "\n",
    "df_xxpay.sort_values(by=list_feats_id_dt_card_y, inplace=True)\n",
    "df_xxpay.reset_index(drop=True, inplace=True)"
   ]
  },
  {
   "cell_type": "code",
   "execution_count": null,
   "id": "02d0f223-f81f-43cb-a64e-a2eb6bc4e41f",
   "metadata": {},
   "outputs": [],
   "source": [
    "# 校验id\n",
    "df_fusion_id = df_fusion[list_feats_id_dt_card_y]\n",
    "df_fusion_id.rename(columns={'uid': 'uid_f', \n",
    "                             'obs_dt': 'obs_dt_f', \n",
    "                             'card': 'card_f', \n",
    "                             'label': 'label_f'}, \n",
    "                    inplace=True)\n",
    "\n",
    "df_asp1_id = df_asp1[list_feats_id_dt_card_y]\n",
    "df_asp1_id.rename(columns={'uid': 'uid_ap1', \n",
    "                           'obs_dt': 'obs_dt_ap1', \n",
    "                           'card': 'card_ap1', \n",
    "                           'label': 'label_ap1'}, \n",
    "                  inplace=True)\n",
    "\n",
    "\n",
    "df_asp2_id = df_asp2[list_feats_id_dt_card_y]\n",
    "df_asp2_id.rename(columns={'uid': 'uid_ap2', \n",
    "                           'obs_dt': 'obs_dt_ap2', \n",
    "                           'card': 'card_ap2', \n",
    "                           'label': 'label_ap2'}, \n",
    "                  inplace=True)\n",
    "\n",
    "df_dc_id = df_debit_card[list_feats_id_dt_card_y]\n",
    "df_dc_id.rename(columns={'uid': 'uid_dc', \n",
    "                         'obs_dt': 'obs_dt_dc', \n",
    "                         'card': 'card_dc', \n",
    "                         'label': 'label_dc'}, \n",
    "                inplace=True)\n",
    "\n",
    "df_fc_id = df_fc[list_feats_id_dt_card_y]\n",
    "df_fc_id.rename(columns={'uid': 'uid_fc', \n",
    "                         'obs_dt': 'obs_dt_fc', \n",
    "                         'card': 'card_fc', \n",
    "                         'label': 'label_fc'}, \n",
    "                inplace=True)\n",
    "\n",
    "df_xxpay_id = df_fc[list_feats_id_dt_card_y]\n",
    "df_xxpay_id.rename(columns={'uid': 'uid_xxpay', \n",
    "                            'obs_dt': 'obs_dt_xxpay', \n",
    "                            'card': 'card_xxpay', \n",
    "                            'label': 'label_xxpay'}, \n",
    "                   inplace=True)\n",
    "\n",
    "df_id = pd.concat([df_fusion_id, df_asp1_id, df_asp2_id, df_dc_id, df_fc_id, df_xxpay_id], axis=1)\n",
    "print(df_id.shape)\n",
    "\n",
    "print('fusion - aspiration part 1:', [sum(df_id[x+'_f']==df_id[x+'_ap1']) for x in list_feats_id_dt_card_y])\n",
    "print('fusion - aspiration part 2:', [sum(df_id[x+'_f']==df_id[x+'_ap2']) for x in list_feats_id_dt_card_y])\n",
    "print('fusion - debit card:', [sum(df_id[x+'_f']==df_id[x+'_dc']) for x in list_feats_id_dt_card_y])\n",
    "print('fusion - flow cashier:', [sum(df_id[x+'_f']==df_id[x+'_fc']) for x in list_feats_id_dt_card_y])\n",
    "print('fusion - xxpay:', [sum(df_id[x+'_f']==df_id[x+'_xxpay']) for x in list_feats_id_dt_card_y])\n",
    "\n",
    "print('aspiration part 1 - aspiration part 2:', [sum(df_id[x+'_ap1']==df_id[x+'_ap2']) for x in list_feats_id_dt_card_y])\n",
    "print('aspiration part 1 - debit card:', [sum(df_id[x+'_ap1']==df_id[x+'_dc']) for x in list_feats_id_dt_card_y])\n",
    "print('aspiration part 1 - flow cashier:', [sum(df_id[x+'_ap1']==df_id[x+'_fc']) for x in list_feats_id_dt_card_y])\n",
    "print('aspiration part 1 - xxpay:', [sum(df_id[x+'_ap1']==df_id[x+'_xxpay']) for x in list_feats_id_dt_card_y])\n",
    "\n",
    "print('aspiration part 2 - debit card:', [sum(df_id[x+'_ap2']==df_id[x+'_dc']) for x in list_feats_id_dt_card_y])\n",
    "print('aspiration part 2 - flow cashier:', [sum(df_id[x+'_ap2']==df_id[x+'_fc']) for x in list_feats_id_dt_card_y])\n",
    "print('aspiration part 2 - xxpay:', [sum(df_id[x+'_ap2']==df_id[x+'_xxpay']) for x in list_feats_id_dt_card_y])\n",
    "\n",
    "print('debit card - flow cashier:', [sum(df_id[x+'_dc']==df_id[x+'_fc']) for x in list_feats_id_dt_card_y])\n",
    "print('debit card - xxpay:', [sum(df_id[x+'_dc']==df_id[x+'_xxpay']) for x in list_feats_id_dt_card_y])\n",
    "\n",
    "print('flow cashier - xxpay:', [sum(df_id[x+'_fc']==df_id[x+'_xxpay']) for x in list_feats_id_dt_card_y])"
   ]
  },
  {
   "cell_type": "code",
   "execution_count": null,
   "id": "3666ebd8-8c8a-4ec7-aecb-9848f53c8a0e",
   "metadata": {},
   "outputs": [],
   "source": [
    "list_feats_x_fusion_std = utils.load_pickle('data/other/balance_34/list_feats/list_feats_x_fusion_std.pickle')\n",
    "list_feats_x_asp1_std = utils.load_pickle('data/other/balance_34/list_feats/list_feats_x_asp1_std.pickle')\n",
    "list_feats_x_asp2_std = utils.load_pickle('data/other/balance_34/list_feats/list_feats_x_asp2_std.pickle')\n",
    "list_feats_x_dc_std = utils.load_pickle('data/other/balance_34/list_feats/list_feats_x_dc_std.pickle')\n",
    "# list_feats_x_fc_std = utils.load_pickle('data/other/balance_34/list_feats/list_feats_x_fc_std.pickle')\n",
    "\n",
    "list_feats_x_fc_std = utils.load_pickle('data/other/balance_34/xxpay/list_feats/list_feats_x_fc_std_arti.pickle')\n",
    "list_feats_x_xxpay_std = utils.load_pickle('data/other/balance_34/xxpay/list_feats/list_feats_x_xxpay_std.pickle')\n",
    "\n",
    "print(len(list_feats_x_fusion_std))\n",
    "print(len(list_feats_x_asp1_std))\n",
    "print(len(list_feats_x_asp2_std))\n",
    "print(len(list_feats_x_dc_std))\n",
    "print(len(list_feats_x_fc_std))\n",
    "\n",
    "print(len(list_feats_x_xxpay_std))"
   ]
  },
  {
   "cell_type": "code",
   "execution_count": null,
   "id": "f49b1cff-0b45-42a3-8ed7-dc2a17adaf21",
   "metadata": {},
   "outputs": [],
   "source": [
    "# 331+137+60+45+60\n",
    "331+137+60+45+59+43"
   ]
  },
  {
   "cell_type": "code",
   "execution_count": null,
   "id": "0b03af03-764d-4b22-9782-303ce2176e42",
   "metadata": {
    "scrolled": true,
    "tags": []
   },
   "outputs": [],
   "source": [
    "df = pd.concat([df_fusion[list_feats_id_dt_card_y+list_feats_x_fusion_std], \n",
    "                df_asp1[list_feats_x_asp1_std], \n",
    "                df_asp2[list_feats_x_asp2_std], \n",
    "                df_debit_card[list_feats_x_dc_std], \n",
    "                df_fc[list_feats_x_fc_std], \n",
    "                df_xxpay[list_feats_x_xxpay_std]\n",
    "               ], axis=1)\n",
    "print(df.shape)\n",
    "df.head()"
   ]
  },
  {
   "cell_type": "code",
   "execution_count": null,
   "id": "5c1a3087-515f-498e-9a55-7e1c73a6f7ea",
   "metadata": {},
   "outputs": [],
   "source": [
    "df_des = utils.df_des(df)\n",
    "\n",
    "# df_des.to_csv('data/other/balance_34/df_des_20240225_20240317.csv')\n",
    "df_des.to_csv('data/other/balance_34/xxpay/df_des_20240225_20240317.csv')"
   ]
  },
  {
   "cell_type": "code",
   "execution_count": null,
   "id": "c6d42f20-7176-4972-a0be-576bf0a95584",
   "metadata": {
    "scrolled": true,
    "tags": []
   },
   "outputs": [],
   "source": [
    "# card编码\n",
    "# 目标item卡（202404，34）\n",
    "# dict_card = {\n",
    "#     'item1-a': 11, \n",
    "#     'item1-b': 12, \n",
    "# }\n",
    "# utils.save_pickle(dict_card, 'data/other/balance_34/dict_card_34.pickle')\n",
    "\n",
    "dict_card = utils.load_pickle('data/other/balance_34/dict_card_34.pickle')\n",
    "print(len(dict_card))\n",
    "dict_card"
   ]
  },
  {
   "cell_type": "code",
   "execution_count": null,
   "id": "01151837-f535-4b94-9f10-eea2ac04a744",
   "metadata": {
    "scrolled": true,
    "tags": []
   },
   "outputs": [],
   "source": [
    "df['card_id'] = df['card']\n",
    "df['card_id'].replace(dict_card, inplace=True)\n",
    "df.head()"
   ]
  },
  {
   "cell_type": "code",
   "execution_count": null,
   "id": "53d0a474-1baa-4f6d-a880-f5526773bf21",
   "metadata": {
    "scrolled": true,
    "tags": []
   },
   "outputs": [],
   "source": [
    "df[['card', 'card_id', 'uid']].groupby(['card', 'card_id']).count()"
   ]
  },
  {
   "cell_type": "code",
   "execution_count": null,
   "id": "669cbd72-262b-4e2c-aff1-ced721884bda",
   "metadata": {},
   "outputs": [],
   "source": [
    "df['card_id'].nunique()"
   ]
  },
  {
   "cell_type": "code",
   "execution_count": null,
   "id": "3c50af40-f778-44fe-a140-6668afa4317e",
   "metadata": {},
   "outputs": [],
   "source": [
    "# item特征处理\n",
    "# one hot encoding\n",
    "list_feats_ohe = ['card_id']\n",
    "list_df_ohe_card = []\n",
    "try:\n",
    "    with tqdm(list_feats_ohe) as t:\n",
    "        for feat in t:\n",
    "            df_ohe_feat = utils.one_hot_encoder(df, feat)\n",
    "            list_df_ohe_card.append(df_ohe_feat)\n",
    "except KeyboardInterrupt:\n",
    "    t.close()\n",
    "    raise\n",
    "t.close()\n",
    "\n",
    "df_ohe_card = pd.concat(list_df_ohe_card, axis=1)\n",
    "print(df_ohe_card.shape)\n",
    "df_ohe_card.head()"
   ]
  },
  {
   "cell_type": "code",
   "execution_count": null,
   "id": "dddd63f5-1aef-487b-87dd-49a4f4cc7b01",
   "metadata": {
    "scrolled": true,
    "tags": []
   },
   "outputs": [],
   "source": [
    "df_ohe = pd.concat([df, df_ohe_card], axis=1)\n",
    "print(df_ohe.shape)\n",
    "df_ohe.head()"
   ]
  },
  {
   "cell_type": "code",
   "execution_count": null,
   "id": "623ad95f-68ae-4b29-b082-b3090a09e25d",
   "metadata": {},
   "outputs": [],
   "source": [
    "df_ohe['obs_dt'] = pd.to_datetime(df_ohe['obs_dt'])"
   ]
  },
  {
   "cell_type": "code",
   "execution_count": null,
   "id": "827ec6a6-61c3-4269-8c4b-9ee546f9fc1d",
   "metadata": {},
   "outputs": [],
   "source": [
    "# utils.save_pickle(df_ohe, 'data/other/balance_34/df_ohe_20240225_20240317.pickle')\n",
    "utils.save_pickle(df_ohe, 'data/other/balance_34/xxpay/df_ohe_20240225_20240317.pickle')"
   ]
  },
  {
   "cell_type": "markdown",
   "id": "ebf691b3-3086-459b-882d-19aad4ee9bfc",
   "metadata": {},
   "source": [
    "* 目标item卡34，平衡处理，1:1生成负样本\n",
    "* 尾部item上采样（对齐'xxx'，5k）\n",
    "* fusion + aspiration(replace) + v2 imp + debit card + flow cashier + xxpay + item 特征，709维\n",
    "* 2024.02.25~2024.03.17"
   ]
  },
  {
   "cell_type": "code",
   "execution_count": null,
   "id": "e6ad1471-e403-49e4-a0b8-415b2a37ccad",
   "metadata": {
    "scrolled": true,
    "tags": []
   },
   "outputs": [],
   "source": [
    "df = utils.load_pickle('data/other/balance_34/xxpay/df_ohe_20240225_20240317.pickle')\n",
    "print(df.shape)\n",
    "df.head()"
   ]
  },
  {
   "cell_type": "code",
   "execution_count": null,
   "id": "6d8f16a7-992f-4342-8108-ee29cb8ffcc8",
   "metadata": {
    "scrolled": true,
    "tags": []
   },
   "outputs": [],
   "source": [
    "df[['card', 'card_id', 'label', 'uid']].groupby(by=['card', 'card_id', 'label']).count()"
   ]
  },
  {
   "cell_type": "code",
   "execution_count": null,
   "id": "1a7611ca-4178-4f76-a677-15a9b5f90d00",
   "metadata": {},
   "outputs": [],
   "source": [
    "# 划分训练集（含验证集）&测试集，8:2，80%\n",
    "df_train, df_test = train_test_split(df, test_size=0.2, random_state=2024)\n",
    "print(df_train.shape)\n",
    "print(df_test.shape)"
   ]
  },
  {
   "cell_type": "code",
   "execution_count": null,
   "id": "f834ff8b-3be0-4e04-8ccd-a6871f55a946",
   "metadata": {},
   "outputs": [],
   "source": [
    "# 划分训练集&验证集，8:2，80%\n",
    "df_train_train, df_train_eval = train_test_split(df_train, test_size=0.2, random_state=2024)\n",
    "print(df_train_train.shape)\n",
    "print(df_train_eval.shape)"
   ]
  },
  {
   "cell_type": "code",
   "execution_count": null,
   "id": "297e2473-0b38-4b99-a071-0bef19493f7e",
   "metadata": {},
   "outputs": [],
   "source": [
    "list_feats_item = [x for x in df_train.columns if x.startswith('card_id_')]\n",
    "list_feats_x_fusion_std = utils.load_pickle('data/other/balance_34/list_feats/list_feats_x_fusion_std.pickle')\n",
    "list_feats_x_asp1_std = utils.load_pickle('data/other/balance_34/list_feats/list_feats_x_asp1_std.pickle')\n",
    "list_feats_x_asp2_std = utils.load_pickle('data/other/balance_34/list_feats/list_feats_x_asp2_std.pickle')\n",
    "list_feats_x_dc_std = utils.load_pickle('data/other/balance_34/list_feats/list_feats_x_dc_std.pickle')\n",
    "list_feats_x_fc_std = utils.load_pickle('data/other/balance_34/xxpay/list_feats/list_feats_x_fc_std_arti.pickle')\n",
    "list_feats_x_xxpay_std = utils.load_pickle('data/other/balance_34/xxpay/list_feats/list_feats_x_xxpay_std.pickle')\n",
    "\n",
    "df_train_eval_id = df_train_eval[['uid', 'obs_dt', 'card', 'card_id']]\n",
    "df_train_eval_y = df_train_eval['label']\n",
    "df_train_eval_X = df_train_eval[\n",
    "    list_feats_item\n",
    "    +list_feats_x_fusion_std\n",
    "    +list_feats_x_asp1_std\n",
    "    +list_feats_x_asp2_std\n",
    "    +list_feats_x_dc_std\n",
    "    +list_feats_x_fc_std\n",
    "    +list_feats_x_xxpay_std\n",
    "]\n",
    "print(df_train_eval_id.shape)\n",
    "print(df_train_eval_y.shape)\n",
    "print(df_train_eval_X.shape)\n",
    "\n",
    "df_test_id = df_test[['uid', 'obs_dt', 'card', 'card_id']]\n",
    "df_test_y = df_test['label']\n",
    "df_test_X = df_test[\n",
    "    list_feats_item\n",
    "    +list_feats_x_fusion_std\n",
    "    +list_feats_x_asp1_std\n",
    "    +list_feats_x_asp2_std\n",
    "    +list_feats_x_dc_std\n",
    "    +list_feats_x_fc_std\n",
    "    +list_feats_x_xxpay_std\n",
    "]\n",
    "print(df_test_id.shape)\n",
    "print(df_test_y.shape)\n",
    "print(df_test_X.shape)"
   ]
  },
  {
   "cell_type": "code",
   "execution_count": null,
   "id": "03845d7c-83d0-45b3-bf21-bef4207db292",
   "metadata": {},
   "outputs": [],
   "source": [
    "utils.save_pickle(df_train_eval_id, 'data/other/balance_34/xxpay/df_id_train_eval_20240225_20240317.pickle')\n",
    "utils.save_pickle(df_train_eval_y, 'data/other/balance_34/xxpay/df_y_train_eval_20240225_20240317.pickle')\n",
    "utils.save_pickle(df_train_eval_X, 'data/other/balance_34/xxpay/df_X_train_eval_20240225_20240317.pickle')\n",
    "\n",
    "utils.save_pickle(df_test_id, 'data/other/balance_34/xxpay/df_id_test_20240225_20240317.pickle')\n",
    "utils.save_pickle(df_test_y, 'data/other/balance_34/xxpay/df_y_test_20240225_20240317.pickle')\n",
    "utils.save_pickle(df_test_X, 'data/other/balance_34/xxpay/df_X_test_20240225_20240317.pickle')"
   ]
  },
  {
   "cell_type": "code",
   "execution_count": null,
   "id": "5d8b57f4-f83c-43d0-af4a-642a070ab98c",
   "metadata": {
    "scrolled": true,
    "tags": []
   },
   "outputs": [],
   "source": [
    "# 训练集尾部样本上采样\n",
    "df_train_train_bc_cnt = df_train_train[['card', 'card_id', 'uid']].groupby(by=['card', 'card_id']).count()\n",
    "df_train_train_bc_cnt.reset_index(inplace=True)\n",
    "df_train_train_bc_cnt.sort_values(by=['uid'], ascending=False, inplace=True)\n",
    "df_train_train_bc_cnt"
   ]
  },
  {
   "cell_type": "code",
   "execution_count": null,
   "id": "b86d3eb7-b0fe-4252-883b-ea568e2022ea",
   "metadata": {
    "scrolled": true,
    "tags": []
   },
   "outputs": [],
   "source": [
    "list_df_train_train_tail = []\n",
    "\n",
    "for x in ['xxx']:\n",
    "    df_train_train_tail_each = df_train_train[df_train_train['card']==x]\n",
    "    list_df_train_train_tail += [df_train_train_tail_each] * (df_train_train[df_train_train['card']=='北京item-借记卡'].shape[0]//df_train_train_tail_each.shape[0])\n",
    "    \n",
    "df_train_train_tail = pd.concat(list_df_train_train_tail, axis=0)\n",
    "print(df_train_train_tail.shape)\n",
    "df_train_train_tail.head()"
   ]
  },
  {
   "cell_type": "code",
   "execution_count": null,
   "id": "7cafb1b4-84af-422d-89d9-6f1446b8898f",
   "metadata": {},
   "outputs": [],
   "source": [
    "df_train_train_tail[['card', 'card_id', 'uid']].groupby(by=['card', 'card_id']).count()"
   ]
  },
  {
   "cell_type": "code",
   "execution_count": null,
   "id": "0ea71f57-3b19-4485-891e-aca63ead937e",
   "metadata": {
    "scrolled": true,
    "tags": []
   },
   "outputs": [],
   "source": [
    "df_train_train = pd.concat([df_train_train[~df_train_train['card'].isin(\n",
    "    ['xxx'])], df_train_train_tail], axis=0)\n",
    "df_train_train.reset_index(drop=True, inplace=True)\n",
    "print(df_train_train.shape)\n",
    "df_train_train.head()"
   ]
  },
  {
   "cell_type": "code",
   "execution_count": null,
   "id": "dcb89d8e-f400-4d00-b78c-9c22ed1c242a",
   "metadata": {
    "scrolled": true,
    "tags": []
   },
   "outputs": [],
   "source": [
    "df_train_train_bc_cnt_ = df_train_train[['card', 'card_id', 'uid']].groupby(by=['card', 'card_id']).count()\n",
    "df_train_train_bc_cnt_.reset_index(inplace=True)\n",
    "df_train_train_bc_cnt_.sort_values(by=['uid'], ascending=False, inplace=True)\n",
    "df_train_train_bc_cnt_"
   ]
  },
  {
   "cell_type": "code",
   "execution_count": null,
   "id": "e59b2c5e-b6b1-4fc8-a7ff-9bb9bc7d84d8",
   "metadata": {},
   "outputs": [],
   "source": [
    "# 打散\n",
    "df_train_train = df_train_train.sample(frac=1)\n",
    "df_train_train.reset_index(drop=True, inplace=True)\n",
    "\n",
    "df_train_train_id = df_train_train[['uid', 'obs_dt', 'card', 'card_id']]\n",
    "df_train_train_y = df_train_train['label']\n",
    "df_train_train_X = df_train_train[\n",
    "    list_feats_item\n",
    "    +list_feats_x_fusion_std\n",
    "    +list_feats_x_asp1_std\n",
    "    +list_feats_x_asp2_std\n",
    "    +list_feats_x_dc_std\n",
    "    +list_feats_x_fc_std\n",
    "    +list_feats_x_xxpay_std\n",
    "]\n",
    "print(df_train_train_id.shape)\n",
    "print(df_train_train_y.shape)\n",
    "print(df_train_train_X.shape)"
   ]
  },
  {
   "cell_type": "code",
   "execution_count": null,
   "id": "f318840f-e1f5-4d9b-84de-88a830ddb43c",
   "metadata": {},
   "outputs": [],
   "source": [
    "utils.save_pickle(df_train_train_id, 'data/other/balance_34/xxpay/df_id_train_train_20240225_20240317.pickle')\n",
    "utils.save_pickle(df_train_train_y, 'data/other/balance_34/xxpay/df_y_train_train_20240225_20240317.pickle')\n",
    "utils.save_pickle(df_train_train_X, 'data/other/balance_34/xxpay/df_X_train_train_20240225_20240317.pickle')"
   ]
  },
  {
   "cell_type": "markdown",
   "id": "6c70734b-b879-4e7b-a35f-d0e9daa9ba8b",
   "metadata": {},
   "source": [
    "## model"
   ]
  },
  {
   "cell_type": "markdown",
   "id": "e4de1179-ec8f-491b-b7ce-032e2610942a",
   "metadata": {},
   "source": [
    "* train"
   ]
  },
  {
   "cell_type": "code",
   "execution_count": null,
   "id": "d224e85d-e9e1-4cbc-b7fe-a25077f2da84",
   "metadata": {},
   "outputs": [],
   "source": [
    "df_id_train = utils.load_pickle('data/df_id_train_20231217_20240204.pickle')\n",
    "df_y_train = utils.load_pickle('data/df_y_train_20231217_20240204.pickle')\n",
    "df_X_train = utils.load_pickle('data/df_X_train_20231217_20240204.pickle')\n",
    "\n",
    "print(df_id_train.shape)\n",
    "print(df_y_train.shape)\n",
    "print(df_X_train.shape)"
   ]
  },
  {
   "cell_type": "code",
   "execution_count": null,
   "id": "b18573c1-64fc-4534-9256-267e5c341bfe",
   "metadata": {},
   "outputs": [],
   "source": [
    "df_X_y_train_dm = xgb.DMatrix(df_X_train, label=df_y_train)\n",
    "df_X_y_train_dm"
   ]
  },
  {
   "cell_type": "code",
   "execution_count": null,
   "id": "57eb927e-21ea-480a-9a8e-9ba2a6cc1f51",
   "metadata": {},
   "outputs": [],
   "source": [
    "# cv\n",
    "# 调参：学习率、树深\n",
    "params = {\n",
    "    'booster': 'gbtree', \n",
    "    'objective': 'binary:logistic', \n",
    "    'eta': 0.1, \n",
    "    'max_depth': 5, 'min_child_weight': 1, \n",
    "    'gamma': 0.1, \n",
    "    'subsample': 0.8, 'colsample_bytree': 0.8, \n",
    "    'alpha': 0.01, 'lambda': 0.01 \n",
    "}"
   ]
  },
  {
   "cell_type": "code",
   "execution_count": null,
   "id": "74a0f257-ab4b-45c5-884f-07031a93f5da",
   "metadata": {},
   "outputs": [],
   "source": [
    "# 调参：树的个数（early stopping）\n",
    "print(params)\n",
    "xgb_cv_eval = xgb.cv(params, df_X_y_train_dm, \n",
    "                     num_boost_round=10000, \n",
    "                     nfold=5, stratified=True, \n",
    "                     metrics=['auc', 'logloss'], \n",
    "                     early_stopping_rounds=50, \n",
    "                     verbose_eval=10, \n",
    "                     seed=2024)\n",
    "xgb_cv_eval"
   ]
  },
  {
   "cell_type": "code",
   "execution_count": null,
   "id": "bf9855c2-5aa4-4c7a-bb70-6bd34f791e8d",
   "metadata": {},
   "outputs": [],
   "source": [
    "xgb_cv_eval.shape[0]"
   ]
  },
  {
   "cell_type": "markdown",
   "id": "de39cde5-ff00-435b-b2b4-e4be3f69898d",
   "metadata": {},
   "source": [
    "train cv\n",
    "condition + p123 + rpl + lc + bc 特征，293\n",
    "2023.12.17~2024.02.04\n",
    "1.'eta': 0.1,  'max_depth': 5, num_boost_round: 4979, loss: 0.260447±0.001259, AUC: 0.947906±0.000447\n",
    "2.'eta': 0.05, 'max_depth': 5, num_boost_round: , loss: , AUC: \n",
    "3.'eta': 0.01, 'max_depth': 5, num_boost_round: , loss: , AUC: "
   ]
  },
  {
   "cell_type": "code",
   "execution_count": null,
   "id": "c3d71f31-841b-4ec6-b05a-72dded496aa7",
   "metadata": {},
   "outputs": [],
   "source": [
    "# 目标item卡34，平衡处理，1:1生成负样本\n",
    "# 尾部item上采样（对齐'xxx'，5k）\n",
    "# fusion + aspiration(replace) + v2 imp + debit card + flow cashier + xxpay + item 特征，709维\n",
    "# 2024.02.25~2024.03.17\n",
    "df_id_train_train = utils.load_pickle('data/other/balance_34/xxpay/df_id_train_train_20240225_20240317.pickle')\n",
    "df_y_train_train = utils.load_pickle('data/other/balance_34/xxpay/df_y_train_train_20240225_20240317.pickle')\n",
    "df_X_train_train = utils.load_pickle('data/other/balance_34/xxpay/df_X_train_train_20240225_20240317.pickle')\n",
    "\n",
    "df_id_train_eval = utils.load_pickle('data/other/balance_34/xxpay/df_id_train_eval_20240225_20240317.pickle')\n",
    "df_y_train_eval = utils.load_pickle('data/other/balance_34/xxpay/df_y_train_eval_20240225_20240317.pickle')\n",
    "df_X_train_eval = utils.load_pickle('data/other/balance_34/xxpay/df_X_train_eval_20240225_20240317.pickle')\n",
    "\n",
    "print(df_id_train_train.shape)\n",
    "print(df_y_train_train.shape)\n",
    "print(df_X_train_train.shape)\n",
    "\n",
    "print(df_id_train_eval.shape)\n",
    "print(df_y_train_eval.shape)\n",
    "print(df_X_train_eval.shape)"
   ]
  },
  {
   "cell_type": "code",
   "execution_count": null,
   "id": "068f99d6-d335-4b83-9a13-a93b2dc264b9",
   "metadata": {},
   "outputs": [],
   "source": [
    "list_feats_item = [x for x in df_X_train_train.columns if x.startswith('card_id_')]\n",
    "list_feats_x_fusion_std = utils.load_pickle('data/other/balance_34/list_feats/list_feats_x_fusion_std.pickle')\n",
    "list_feats_x_asp1_std = utils.load_pickle('data/other/balance_34/list_feats/list_feats_x_asp1_std.pickle')\n",
    "list_feats_x_asp2_std = utils.load_pickle('data/other/balance_34/list_feats/list_feats_x_asp2_std.pickle')\n",
    "list_feats_x_dc_std = utils.load_pickle('data/other/balance_34/list_feats/list_feats_x_dc_std.pickle')\n",
    "# list_feats_x_fc_std = utils.load_pickle('data/other/balance_34/list_feats/list_feats_x_fc_std.pickle')\n",
    "\n",
    "list_feats_x_fc_std = utils.load_pickle('data/other/balance_34/xxpay/list_feats/list_feats_x_fc_std_arti.pickle')\n",
    "list_feats_x_xxpay_std = utils.load_pickle('data/other/balance_34/xxpay/list_feats/list_feats_x_xxpay_std.pickle')\n",
    "\n",
    "list_feats_x = list_feats_item \\\n",
    "    + list_feats_x_fusion_std \\\n",
    "    + list_feats_x_asp1_std \\\n",
    "    + list_feats_x_asp2_std \\\n",
    "    + list_feats_x_dc_std \\\n",
    "    + list_feats_x_fc_std \\\n",
    "    + list_feats_x_xxpay_std\n",
    "\n",
    "print(len(list_feats_x))"
   ]
  },
  {
   "cell_type": "code",
   "execution_count": null,
   "id": "b15c1bbd-11bd-4edb-ad80-de66d41887d7",
   "metadata": {},
   "outputs": [],
   "source": [
    "df_X_y_train_dm = xgb.DMatrix(df_X_train_train[list_feats_x], label=df_y_train_train)\n",
    "df_X_y_train_dm"
   ]
  },
  {
   "cell_type": "code",
   "execution_count": null,
   "id": "7eca988c-eb11-4505-a762-670295e04827",
   "metadata": {},
   "outputs": [],
   "source": [
    "df_X_y_eval_dm = xgb.DMatrix(df_X_train_eval[list_feats_x], label=df_y_train_eval)\n",
    "df_X_y_eval_dm"
   ]
  },
  {
   "cell_type": "code",
   "execution_count": null,
   "id": "d0c7d2a9-ac21-4f0f-9fd8-7e22c0d9ae28",
   "metadata": {
    "scrolled": true,
    "tags": []
   },
   "outputs": [],
   "source": [
    "# 单验证集调参\n",
    "params = {\n",
    "    'booster': 'gbtree', \n",
    "    'objective': 'binary:logistic', \n",
    "    'eta': 0.1, \n",
    "    'max_depth':5, 'min_child_weight': 1, \n",
    "    'gamma': 0.1, \n",
    "    'subsample': 0.8, 'colsample_bytree': 0.8, \n",
    "    'alpha': 0.01, 'lambda': 0.01, \n",
    "    'eval_metric': ['auc', 'logloss']\n",
    "}\n",
    "print(params)\n",
    "\n",
    "list_watch = [(df_X_y_train_dm, 'train'), (df_X_y_eval_dm, 'eval')]\n",
    "dict_eval = {}\n",
    "\n",
    "clf_xgb = xgb.train(params, df_X_y_train_dm, \n",
    "                    num_boost_round=10000, \n",
    "                    evals=list_watch, \n",
    "                    early_stopping_rounds=100, \n",
    "                    evals_result=dict_eval)"
   ]
  },
  {
   "cell_type": "code",
   "execution_count": null,
   "id": "73108048-6a35-440c-afc9-86f6826edac4",
   "metadata": {
    "scrolled": true,
    "tags": []
   },
   "outputs": [],
   "source": [
    "df_eval_metric = pd.DataFrame(dict_eval['eval'])\n",
    "df_eval_metric.iloc[:clf_xgb.best_iteration+1, :]"
   ]
  },
  {
   "cell_type": "raw",
   "id": "70623082-7803-4276-91fc-e40f30f3c0be",
   "metadata": {},
   "source": [
    "目标item卡34，平衡处理，1:1生成负样本\n",
    "尾部item上采样（对齐'xxx'，5k）\n",
    "fusion + aspiration(replace) + v2 imp + debit card + flow cashier + xxpay + item 特征，709维\n",
    "2024.02.25~2024.03.17\n",
    "1.'eta': 0.1,  'max_depth': 5, num_boost_round: 1188,  loss: 0.522572, AUC: 0.815695\n",
    "2.'eta': 0.05, 'max_depth': 5, num_boost_round: ,  AUC: \n",
    "3.'eta': 0.01, 'max_depth': 5, num_boost_round: , AUC: "
   ]
  },
  {
   "cell_type": "code",
   "execution_count": null,
   "id": "7f83be2c-427a-43c8-a4cc-e420331bcf74",
   "metadata": {},
   "outputs": [],
   "source": [
    "%%time\n",
    "# model\n",
    "print(params)\n",
    "clf_xgb = xgb.train(params, df_X_y_train_dm, num_boost_round=1188)\n",
    "\n",
    "# clf_xgb.save_model('data/model/zf_cashier_bind_card_balance_tos_ht_v2_995_dc_fc_34_20240225_20240317_xgb.model')\n",
    "clf_xgb.save_model('data/model/zf_cashier_bind_card_balance_tos_ht_v2_995_dc_fc_xxpay_34_20240225_20240317_xgb.model')"
   ]
  },
  {
   "cell_type": "code",
   "execution_count": null,
   "id": "bea032ce-7c16-4c13-bf52-e56f98ee4ddc",
   "metadata": {},
   "outputs": [],
   "source": [
    "df_X_eval_dm = xgb.DMatrix(df_X_train_eval[list_feats_x])\n",
    "\n",
    "pred_prob = clf_xgb.predict(df_X_eval_dm)\n",
    "print(len(pred_prob))\n",
    "pred_prob"
   ]
  },
  {
   "cell_type": "code",
   "execution_count": null,
   "id": "cbc47922-52c1-4beb-b1a8-60bc121e5734",
   "metadata": {},
   "outputs": [],
   "source": [
    "df_y = pd.DataFrame({'y_true': df_y_train_eval, 'y_pred_prob': pred_prob})\n",
    "print(df_y.shape)\n",
    "df_y.head()"
   ]
  },
  {
   "cell_type": "code",
   "execution_count": null,
   "id": "6a3b494b-2fe4-43eb-b375-c857641fd7bc",
   "metadata": {},
   "outputs": [],
   "source": [
    "roc_auc_score(df_y['y_true'], df_y['y_pred_prob'])"
   ]
  },
  {
   "cell_type": "markdown",
   "id": "7b94a6fa-e3a4-4ab3-806c-13f73bd9bb22",
   "metadata": {},
   "source": [
    "* test"
   ]
  },
  {
   "cell_type": "code",
   "execution_count": null,
   "id": "98cddddc-c471-4067-a3ff-2c28c52a16c2",
   "metadata": {},
   "outputs": [],
   "source": [
    "# 目标item卡34，平衡处理，1:1生成负样本\n",
    "# 尾部item上采样（对齐'xxx'，5k）\n",
    "# fusion + aspiration(replace) + v2 imp + debit card + flow cashier + xxpay + item 特征，709\n",
    "# 2024.02.25~2024.03.17\n",
    "df_id_test = utils.load_pickle('data/other/balance_34/xxpay/df_id_test_20240225_20240317.pickle')\n",
    "df_y_test = utils.load_pickle('data/other/balance_34/xxpay/df_y_test_20240225_20240317.pickle')\n",
    "df_X_test = utils.load_pickle('data/other/balance_34/xxpay/df_X_test_20240225_20240317.pickle')\n",
    "\n",
    "print(df_id_test.shape)\n",
    "print(df_y_test.shape)\n",
    "print(df_X_test.shape)"
   ]
  },
  {
   "cell_type": "code",
   "execution_count": null,
   "id": "63cf9815-61d8-452d-a8e2-0980af9d1424",
   "metadata": {},
   "outputs": [],
   "source": [
    "list_feats_item = [x for x in df_X_test.columns if x.startswith('card_id_')]\n",
    "list_feats_x_fusion_std = utils.load_pickle('data/other/balance_34/list_feats/list_feats_x_fusion_std.pickle')\n",
    "list_feats_x_asp1_std = utils.load_pickle('data/other/balance_34/list_feats/list_feats_x_asp1_std.pickle')\n",
    "list_feats_x_asp2_std = utils.load_pickle('data/other/balance_34/list_feats/list_feats_x_asp2_std.pickle')\n",
    "list_feats_x_dc_std = utils.load_pickle('data/other/balance_34/list_feats/list_feats_x_dc_std.pickle')\n",
    "# list_feats_x_fc_std = utils.load_pickle('data/other/balance_34/list_feats/list_feats_x_fc_std.pickle')\n",
    "\n",
    "list_feats_x_fc_std = utils.load_pickle('data/other/balance_34/xxpay/list_feats/list_feats_x_fc_std_arti.pickle')\n",
    "list_feats_x_xxpay_std = utils.load_pickle('data/other/balance_34/xxpay/list_feats/list_feats_x_xxpay_std.pickle')\n",
    "\n",
    "list_feats_x = list_feats_item \\\n",
    "    + list_feats_x_fusion_std \\\n",
    "    + list_feats_x_asp1_std \\\n",
    "    + list_feats_x_asp2_std \\\n",
    "    + list_feats_x_dc_std \\\n",
    "    + list_feats_x_fc_std \\\n",
    "    + list_feats_x_xxpay_std\n",
    "\n",
    "print(len(list_feats_x))"
   ]
  },
  {
   "cell_type": "code",
   "execution_count": null,
   "id": "ad6bdc98-f483-4e2d-9a5b-2daba85cf754",
   "metadata": {},
   "outputs": [],
   "source": [
    "df_X_test_dm = xgb.DMatrix(df_X_test[list_feats_x])\n",
    "df_X_test_dm"
   ]
  },
  {
   "cell_type": "code",
   "execution_count": null,
   "id": "20f36a7a-e673-4240-9dba-dfd8a23067a2",
   "metadata": {},
   "outputs": [],
   "source": [
    "# 目标item卡34，平衡处理，1:1生成负样本\n",
    "# 尾部item上采样（对齐'xxx'，5k）\n",
    "# fusion + aspiration(replace) + v2 imp + debit card + flow cashier + xxpay + item 特征，709\n",
    "# 2024.02.25~2024.03.17\n",
    "clf_xgb = xgb.Booster(model_file='data/model/zf_cashier_bind_card_balance_tos_ht_v2_995_dc_fc_xxpay_34_20240225_20240317_xgb.model')\n",
    "\n",
    "clf_xgb"
   ]
  },
  {
   "cell_type": "code",
   "execution_count": null,
   "id": "9a02caf8-2c12-443f-b013-4b93fa256181",
   "metadata": {},
   "outputs": [],
   "source": [
    "pred_prob = clf_xgb.predict(df_X_test_dm)\n",
    "print(len(pred_prob))\n",
    "pred_prob"
   ]
  },
  {
   "cell_type": "code",
   "execution_count": null,
   "id": "cba76b20-4791-4d10-b724-49921a86e021",
   "metadata": {},
   "outputs": [],
   "source": [
    "df_y = pd.DataFrame({'y_true': df_y_test, 'y_pred_prob': pred_prob})\n",
    "print(df_y.shape)\n",
    "df_y.head()"
   ]
  },
  {
   "cell_type": "code",
   "execution_count": null,
   "id": "65996ce1-13e7-41f1-b681-513ce086f756",
   "metadata": {},
   "outputs": [],
   "source": [
    "# 整体效果\n",
    "roc_auc_score(df_y['y_true'], df_y['y_pred_prob'])"
   ]
  },
  {
   "cell_type": "raw",
   "id": "d1ff191a-4179-41c7-8171-536f91c76814",
   "metadata": {},
   "source": []
  },
  {
   "cell_type": "code",
   "execution_count": null,
   "id": "f3b3f3c4-3528-4f3b-8080-04ed2b98672f",
   "metadata": {},
   "outputs": [],
   "source": [
    "def cal_recall(df_y, y_true, y_pred, threshold=0.3):\n",
    "    df_y_sort = df_y.copy()\n",
    "    df_y_sort.sort_values(by=y_pred, ascending=False, inplace=True)\n",
    "    df_y_sort.reset_index(drop=True, inplace=True)\n",
    "    \n",
    "    df_y_sort['label_recall'] = 0\n",
    "    df_y_sort.loc[:int(df_y_sort.shape[0]*threshold), 'label_recall'] = 1\n",
    "    \n",
    "    dict_cr = classification_report(df_y_sort[y_true], df_y_sort['label_recall'], output_dict=True)\n",
    "    \n",
    "    return dict_cr['1']['recall']"
   ]
  },
  {
   "cell_type": "code",
   "execution_count": null,
   "id": "d118ee0a-d0ee-4669-a102-2ec4e68331d1",
   "metadata": {},
   "outputs": [],
   "source": [
    "cal_recall(df_y, 'y_true', 'y_pred_prob', threshold=0.2)"
   ]
  },
  {
   "cell_type": "raw",
   "id": "bb31c29a-997f-4883-b9f5-04594255981e",
   "metadata": {},
   "source": []
  },
  {
   "cell_type": "markdown",
   "id": "f95b7fb2-a631-4d9a-92d4-763ed7fc1fa5",
   "metadata": {},
   "source": [
    "* feature importance"
   ]
  },
  {
   "cell_type": "code",
   "execution_count": null,
   "id": "e0b65498-b79c-4e58-bf58-acde1a8fa2b7",
   "metadata": {},
   "outputs": [],
   "source": [
    "# 目标item卡34，平衡处理，1:1生成负样本\n",
    "# 尾部item上采样（对齐'xxx'，5k）\n",
    "# fusion + aspiration(replace) + v2 imp + debit card + flow cashier + xxpay + item 特征，709\n",
    "# 2024.02.25~2024.03.17\n",
    "clf_xgb = xgb.Booster(model_file='data/model/zf_cashier_bind_card_balance_tos_ht_v2_995_dc_fc_xxpay_34_20240225_20240317_xgb.model')\n",
    "\n",
    "clf_xgb"
   ]
  },
  {
   "cell_type": "code",
   "execution_count": null,
   "id": "4d242f26-8cb8-4130-8b47-5db582916039",
   "metadata": {
    "scrolled": true,
    "tags": []
   },
   "outputs": [],
   "source": [
    "dict_card = utils.load_pickle('data/other/balance_34/dict_card_34.pickle')\n",
    "list_feats_item = ['card_id_'+str(v) for _, v in dict_card.items()]\n",
    "\n",
    "list_feats_x_fusion_std = utils.load_pickle('data/other/balance_34/list_feats/list_feats_x_fusion_std.pickle')\n",
    "list_feats_x_asp1_std = utils.load_pickle('data/other/balance_34/list_feats/list_feats_x_asp1_std.pickle')\n",
    "list_feats_x_asp2_std = utils.load_pickle('data/other/balance_34/list_feats/list_feats_x_asp2_std.pickle')\n",
    "list_feats_x_dc_std = utils.load_pickle('data/other/balance_34/list_feats/list_feats_x_dc_std.pickle')\n",
    "# list_feats_x_fc_std = utils.load_pickle('data/other/balance_34/list_feats/list_feats_x_fc_std.pickle')\n",
    "\n",
    "list_feats_x_fc_std = utils.load_pickle('data/other/balance_34/xxpay/list_feats/list_feats_x_fc_std_arti.pickle')\n",
    "list_feats_x_xxpay_std = utils.load_pickle('data/other/balance_34/xxpay/list_feats/list_feats_x_xxpay_std.pickle')\n",
    "\n",
    "list_feats_x = list_feats_item \\\n",
    "    + list_feats_x_fusion_std \\\n",
    "    + list_feats_x_asp1_std \\\n",
    "    + list_feats_x_asp2_std \\\n",
    "    + list_feats_x_dc_std \\\n",
    "    + list_feats_x_fc_std \\\n",
    "    + list_feats_x_xxpay_std\n",
    "\n",
    "print(len(list_feats_x))\n",
    "list_feats_x[:50]"
   ]
  },
  {
   "cell_type": "code",
   "execution_count": null,
   "id": "162ae5cc-57b8-4729-800e-72b5c8a0b363",
   "metadata": {
    "scrolled": true,
    "tags": []
   },
   "outputs": [],
   "source": [
    "dict_feats = {'f{i}'.format(i=i): x for i, x in enumerate(list_feats_x)}\n",
    "dict_feats"
   ]
  },
  {
   "cell_type": "code",
   "execution_count": null,
   "id": "b1cc8182-8f11-427c-bb58-2243410b20b5",
   "metadata": {
    "scrolled": true,
    "tags": []
   },
   "outputs": [],
   "source": [
    "dict_fi = clf_xgb.get_score(importance_type='total_gain')\n",
    "dict_fi"
   ]
  },
  {
   "cell_type": "code",
   "execution_count": null,
   "id": "3f0a518c-d51f-447b-ab84-ee667784a6b0",
   "metadata": {},
   "outputs": [],
   "source": [
    "df_fn = pd.DataFrame.from_dict(dict_feats, orient='index', columns=['f_name'])\n",
    "df_fn.reset_index(inplace=True)\n",
    "df_fn.rename(columns={'index': 'f_index'}, inplace=True)\n",
    "df_fn"
   ]
  },
  {
   "cell_type": "code",
   "execution_count": null,
   "id": "7896ba28-7597-48e0-af4d-2df9c1e27210",
   "metadata": {},
   "outputs": [],
   "source": [
    "df_fi = pd.DataFrame.from_dict(dict_fi, orient='index', columns=['f_importance'])\n",
    "df_fi.reset_index(inplace=True)\n",
    "df_fi.rename(columns={'index': 'f_index'}, inplace=True)\n",
    "df_fi"
   ]
  },
  {
   "cell_type": "code",
   "execution_count": null,
   "id": "133bf898-a32e-4338-880b-04a4b8528596",
   "metadata": {},
   "outputs": [],
   "source": [
    "df_feature_importance = df_fn.merge(df_fi, on='f_index', how='left')\n",
    "df_feature_importance['f_importance'].fillna(0, inplace=True)\n",
    "df_feature_importance"
   ]
  },
  {
   "cell_type": "code",
   "execution_count": null,
   "id": "44d40215-8ff4-4d31-b703-bc2b3e9d3288",
   "metadata": {},
   "outputs": [],
   "source": [
    "df_feature_importance.sort_values(by='f_importance', ascending=False, inplace=True)\n",
    "df_feature_importance.reset_index(drop=True, inplace=True)\n",
    "df_feature_importance"
   ]
  },
  {
   "cell_type": "code",
   "execution_count": null,
   "id": "81da9bb8-079e-48a1-9e10-9f23ef670976",
   "metadata": {},
   "outputs": [],
   "source": [
    "# df_feature_importance.to_csv('data/other/balance_34/feature_importance_20240225_20240317_xgb.csv', encoding='utf-8', index=False)\n",
    "df_feature_importance.to_csv('data/other/balance_34/xxpay/feature_importance_20240225_20240317_xgb.csv', encoding='utf-8', index=False)"
   ]
  },
  {
   "cell_type": "code",
   "execution_count": null,
   "id": "1b647c35-ec8c-4ba8-861f-4fd4a615c92e",
   "metadata": {},
   "outputs": [],
   "source": [
    "plt.rcParams['font.sans-serif'] = ['simhei']\n",
    "plt.rcParams['font.serif'] = ['simhei']\n",
    "plt.rcParams['axes.unicode_minus'] = False\n",
    "sns.set(font_scale=1.5)\n",
    "sns.set_style('darkgrid', {'font.sans-serif':['simhei', 'Droid Sans Fallback']})\n",
    "\n",
    "plt.rcParams['figure.figsize'] = (12.0, 8.0)\n",
    "fig, axes = plt.subplots(1, 1)\n",
    "sns.barplot(x='f_importance', y='f_name', data=df_feature_importance.head(25), ax=axes)\n",
    "axes.set_title('Top-25 importance features')\n",
    "\n",
    "plt.show()"
   ]
  },
  {
   "cell_type": "code",
   "execution_count": null,
   "id": "ad455146-32fd-48f1-b4db-bf36abc4ce50",
   "metadata": {
    "scrolled": true,
    "tags": []
   },
   "outputs": [],
   "source": [
    "df_feature_importance.head(25)"
   ]
  },
  {
   "cell_type": "code",
   "execution_count": null,
   "id": "88c20895-feca-47ac-a084-f6b88553c251",
   "metadata": {
    "scrolled": true,
    "tags": []
   },
   "outputs": [],
   "source": [
    "df_feature_importance[df_feature_importance['f_name'].isin(list_feats_item)]"
   ]
  },
  {
   "cell_type": "code",
   "execution_count": null,
   "id": "bf13fb92-8259-4bbe-8cfa-bcca644ce754",
   "metadata": {},
   "outputs": [],
   "source": [
    "# df_feature_importance = pd.read_csv('data/other/balance_34/feature_importance_20240225_20240317_xgb.csv', encoding='utf-8')\n",
    "df_feature_importance = pd.read_csv('data/other/balance_34/xxpay/feature_importance_20240225_20240317_xgb.csv', encoding='utf-8')\n",
    "\n",
    "print(df_feature_importance.shape)\n",
    "df_feature_importance.head()"
   ]
  },
  {
   "cell_type": "code",
   "execution_count": null,
   "id": "a1a189e0-4bd6-40f9-9149-ce180fe2b15a",
   "metadata": {
    "scrolled": true,
    "tags": []
   },
   "outputs": [],
   "source": [
    "dict_card = utils.load_pickle('data/other/balance_34/dict_card_34.pickle')\n",
    "list_feats_item = ['card_id_'+str(v) for _, v in dict_card.items()]\n",
    "\n",
    "df_fi25 = df_feature_importance[~df_feature_importance['f_name'].isin(list_feats_item)].head(25)\n",
    "df_fi25"
   ]
  },
  {
   "cell_type": "markdown",
   "id": "a77bf0ac-b0c5-4d4e-b73a-852c75edc15c",
   "metadata": {},
   "source": [
    "* compare"
   ]
  },
  {
   "cell_type": "code",
   "execution_count": null,
   "id": "5b0eb51b-b5e0-4986-bf71-1e82a4dc88dd",
   "metadata": {
    "tags": []
   },
   "outputs": [],
   "source": [
    "# 2024.03.24\n",
    "df_fusion = pd.read_csv('data/other/balance_34/sample_label_feature_fusion_20240324.txt', sep='\\t', encoding='utf-8')\n",
    "df_asp1 = pd.read_csv('data/other/balance_34/sample_label_feature_asp1_20240324.txt', sep='\\t', encoding='utf-8')\n",
    "df_asp2 = pd.read_csv('data/other/balance_34/sample_label_feature_asp2_20240324.txt', sep='\\t', encoding='utf-8')\n",
    "df_dc = pd.read_csv('data/other/balance_34/sample_label_feature_dc_20240324.txt', sep='\\t', encoding='utf-8')\n",
    "df_fc = pd.read_csv('data/other/balance_34/sample_label_feature_fc_20240324.txt', sep='\\t', encoding='utf-8')\n",
    "\n",
    "df_xxpay = pd.read_csv('data/other/balance_34/sample_label_feature_xxpay_20240324.txt', sep='\\t', encoding='utf-8')\n",
    "\n",
    "print(df_fusion.shape)\n",
    "print(df_asp1.shape)\n",
    "print(df_asp2.shape)\n",
    "print(df_dc.shape)\n",
    "print(df_fc.shape)\n",
    "print(df_xxpay.shape)"
   ]
  },
  {
   "cell_type": "code",
   "execution_count": null,
   "id": "739aaaef-5771-455d-b5a0-7dcf39db6bb2",
   "metadata": {},
   "outputs": [],
   "source": [
    "df_fusion['obs_dt'] = pd.to_datetime(df_fusion['obs_dt'])\n",
    "df_asp1['obs_dt'] = pd.to_datetime(df_asp1['obs_dt'])\n",
    "df_asp2['obs_dt'] = pd.to_datetime(df_asp2['obs_dt'])\n",
    "df_dc['obs_dt'] = pd.to_datetime(df_dc['obs_dt'])\n",
    "df_fc['obs_dt'] = pd.to_datetime(df_fc['obs_dt'])\n",
    "\n",
    "df_xxpay['obs_dt'] = pd.to_datetime(df_xxpay['obs_dt'])\n",
    "\n",
    "df_fusion['obs_dt'].value_counts()"
   ]
  },
  {
   "cell_type": "code",
   "execution_count": null,
   "id": "2acf077f-cba2-4902-a935-fedbd8a0307e",
   "metadata": {
    "scrolled": true,
    "tags": []
   },
   "outputs": [],
   "source": [
    "df_fusion.head()"
   ]
  },
  {
   "cell_type": "code",
   "execution_count": null,
   "id": "ce26e173-26d9-4525-8003-2d3a47870512",
   "metadata": {
    "scrolled": true,
    "tags": []
   },
   "outputs": [],
   "source": [
    "df_fusion[['card', 'label', 'uid']].groupby(by=['card', 'label']).count()"
   ]
  },
  {
   "cell_type": "code",
   "execution_count": null,
   "id": "e7b2214d-d004-4e9a-9c05-5b7c997680a7",
   "metadata": {},
   "outputs": [],
   "source": [
    "list_feats_id_dt_card_y = ['uid', 'obs_dt', 'card', 'label']\n",
    "\n",
    "# 目标item卡34，平衡处理，1:1生成负样本\n",
    "# 尾部item上采样（对齐'xxx'，5k）\n",
    "# fusion + aspiration(replace) + v2 imp + debit card + flow cashier + xxpay + item 特征，709\n",
    "list_feats_x_fusion_std = utils.load_pickle('data/other/balance_34/list_feats/list_feats_x_fusion_std.pickle')\n",
    "list_feats_x_asp1_std = utils.load_pickle('data/other/balance_34/list_feats/list_feats_x_asp1_std.pickle')\n",
    "list_feats_x_asp2_std = utils.load_pickle('data/other/balance_34/list_feats/list_feats_x_asp2_std.pickle')\n",
    "list_feats_x_dc_std = utils.load_pickle('data/other/balance_34/list_feats/list_feats_x_dc_std.pickle')\n",
    "list_feats_x_fc_std_arti = utils.load_pickle('data/other/balance_34/xxpay/list_feats/list_feats_x_fc_std_arti.pickle')\n",
    "list_feats_x_xxpay_std = utils.load_pickle('data/other/balance_34/xxpay/list_feats/list_feats_x_xxpay_std.pickle')\n",
    "\n",
    "print(len(list_feats_x_fusion_std))\n",
    "print(len(list_feats_x_asp1_std))\n",
    "print(len(list_feats_x_asp2_std))\n",
    "print(len(list_feats_x_dc_std))\n",
    "print(len(list_feats_x_fc_std_arti))\n",
    "\n",
    "print(len(list_feats_x_xxpay_std))"
   ]
  },
  {
   "cell_type": "code",
   "execution_count": null,
   "id": "2b8d224b-2b6b-4294-b18d-dd0c95a5bc08",
   "metadata": {
    "scrolled": true,
    "tags": []
   },
   "outputs": [],
   "source": [
    "df = df_fusion[list_feats_id_dt_card_y+list_feats_x_fusion_std].\\\n",
    "    merge(df_asp1[list_feats_id_dt_card_y+list_feats_x_asp1_std], on=list_feats_id_dt_card_y, how='left').\\\n",
    "    merge(df_asp2[list_feats_id_dt_card_y+list_feats_x_asp2_std], on=list_feats_id_dt_card_y, how='left').\\\n",
    "    merge(df_dc[list_feats_id_dt_card_y+list_feats_x_dc_std], on=list_feats_id_dt_card_y, how='left').\\\n",
    "    merge(df_fc[list_feats_id_dt_card_y+list_feats_x_fc_std_arti], on=list_feats_id_dt_card_y, how='left').\\\n",
    "    merge(df_xxpay[list_feats_id_dt_card_y+list_feats_x_xxpay_std], on=list_feats_id_dt_card_y, how='left')\n",
    "\n",
    "print(df.shape)\n",
    "df.head()"
   ]
  },
  {
   "cell_type": "code",
   "execution_count": null,
   "id": "96fcd9f9-0b27-41bb-8a86-caa7acde5c4c",
   "metadata": {},
   "outputs": [],
   "source": [
    "df_des = utils.df_des(df)\n",
    "\n",
    "# df_des.to_csv('data/other/balance_26/df_des_pos_20240324.csv', encoding='utf-8')\n",
    "# df_des.to_csv('data/other/balance_34/df_des_pos_20240324.csv', encoding='utf-8')\n",
    "df_des.to_csv('data/other/balance_34/xxpay/df_des_pos_20240324.csv', encoding='utf-8')"
   ]
  },
  {
   "cell_type": "raw",
   "id": "379c4078-f70f-4b31-add8-569f627846bc",
   "metadata": {},
   "source": [
    "特征缺失\n",
    "\n",
    "\n",
    "已重新训练！！！"
   ]
  },
  {
   "cell_type": "code",
   "execution_count": null,
   "id": "b318b907-f95f-4e5a-9690-e92dddb12c8e",
   "metadata": {
    "scrolled": true,
    "tags": []
   },
   "outputs": [],
   "source": [
    "# dict_card = utils.load_pickle('data/other/balance_26/dict_card_26.pickle')\n",
    "dict_card = utils.load_pickle('data/other/balance_34/dict_card_34.pickle')\n",
    "\n",
    "print(len(dict_card))\n",
    "dict_card"
   ]
  },
  {
   "cell_type": "code",
   "execution_count": null,
   "id": "e4a55882-4898-4d3e-8c9a-d5287ac37555",
   "metadata": {},
   "outputs": [],
   "source": [
    "# 部分item测试\n",
    "df = df[df['card'].isin(list(dict_card.keys()))]\n",
    "df.reset_index(drop=True, inplace=True)\n",
    "print(df.shape)"
   ]
  },
  {
   "cell_type": "code",
   "execution_count": null,
   "id": "0cda51ab-c839-4526-889c-d69a25a40db8",
   "metadata": {
    "scrolled": true,
    "tags": []
   },
   "outputs": [],
   "source": [
    "df['card_id'] = df['card']\n",
    "df['card_id'].replace(dict_card, inplace=True)\n",
    "df.head()"
   ]
  },
  {
   "cell_type": "code",
   "execution_count": null,
   "id": "4bbb28fd-4b44-464d-9491-7e74be32ef67",
   "metadata": {
    "scrolled": true,
    "tags": []
   },
   "outputs": [],
   "source": [
    "df[['card', 'card_id', 'uid']].groupby(['card', 'card_id']).count()"
   ]
  },
  {
   "cell_type": "code",
   "execution_count": null,
   "id": "b573933b-c30f-4bf9-9a3b-58176f70d698",
   "metadata": {},
   "outputs": [],
   "source": [
    "df['card_id'].nunique()"
   ]
  },
  {
   "cell_type": "code",
   "execution_count": null,
   "id": "7685feae-28d0-4006-a04e-fb067a956f61",
   "metadata": {},
   "outputs": [],
   "source": [
    "# 目标item卡34，平衡处理，1:1生成负样本\n",
    "# 尾部item上采样（对齐'xxx'，5k）\n",
    "# fusion + aspiration(replace) + v2 imp + debit card + flow cashier + xxpay + item 特征，709\n",
    "list_feats_x_fusion_std = utils.load_pickle('data/other/balance_34/list_feats/list_feats_x_fusion_std.pickle')\n",
    "list_feats_x_asp1_std = utils.load_pickle('data/other/balance_34/list_feats/list_feats_x_asp1_std.pickle')\n",
    "list_feats_x_asp2_std = utils.load_pickle('data/other/balance_34/list_feats/list_feats_x_asp2_std.pickle')\n",
    "list_feats_x_dc_std = utils.load_pickle('data/other/balance_34/list_feats/list_feats_x_dc_std.pickle')\n",
    "list_feats_x_fc_std_arti = utils.load_pickle('data/other/balance_34/xxpay/list_feats/list_feats_x_fc_std_arti.pickle')\n",
    "list_feats_x_xxpay_std = utils.load_pickle('data/other/balance_34/xxpay/list_feats/list_feats_x_xxpay_std.pickle')\n",
    "\n",
    "list_feats_x = list_feats_x_fusion_std \\\n",
    "    + list_feats_x_asp1_std \\\n",
    "    + list_feats_x_asp2_std \\\n",
    "    + list_feats_x_dc_std \\\n",
    "    + list_feats_x_fc_std_arti \\\n",
    "    + list_feats_x_xxpay_std\n",
    "\n",
    "print(len(list_feats_x))\n",
    "list_feats_x[:10]"
   ]
  },
  {
   "cell_type": "code",
   "execution_count": null,
   "id": "63b1f011-b9b4-4fb2-be7d-f36ac2f479b1",
   "metadata": {},
   "outputs": [],
   "source": [
    "def cal_each(df, card_id):\n",
    "    df_ = df.copy()\n",
    "    \n",
    "    for k, v in dict_card.items():\n",
    "        if v == card_id:\n",
    "            df_['card_id_'+str(v)] = 1\n",
    "        else:\n",
    "            df_['card_id_'+str(v)] = 0\n",
    "            \n",
    "    df_X = df_[[x for x in df_.columns if x.startswith('card_id_')]+list_feats_x]\n",
    "    \n",
    "    df_X_dm = xgb.DMatrix(df_X)\n",
    "    \n",
    "    # clf_xgb = xgb.Booster(model_file='data/model/zf_cashier_bind_card_balance_tos_ht_v2_995_dc_fc_26_20231008_20231029_xgb.model')\n",
    "    # clf_xgb = xgb.Booster(model_file='data/model/zf_cashier_bind_card_balance_tos_ht_v2_995_dc_fc_34_20240225_20240317_xgb.model')\n",
    "    clf_xgb = xgb.Booster(model_file='data/model/zf_cashier_bind_card_balance_tos_ht_v2_995_dc_fc_xxpay_34_20240225_20240317_xgb.model')\n",
    "    \n",
    "    pred_prob = clf_xgb.predict(df_X_dm)\n",
    "    \n",
    "    return pd.DataFrame({'card_id_'+str(card_id): pred_prob})"
   ]
  },
  {
   "cell_type": "code",
   "execution_count": null,
   "id": "f7f2f299-d5a0-49b6-831d-2317b93a5b11",
   "metadata": {},
   "outputs": [],
   "source": [
    "df_y = df[['uid', 'obs_dt', 'card_id']].copy()\n",
    "df_y.rename(columns={'card_id': 'y_true'}, inplace=True)\n",
    "\n",
    "list_df = [df_y]\n",
    "try:\n",
    "    with tqdm(dict_card.items()) as t:\n",
    "        for k, v in t:\n",
    "            df_each = cal_each(df, v)\n",
    "            list_df.append(df_each)\n",
    "except KeyboardInterrupt:\n",
    "    t.close()\n",
    "    raise\n",
    "t.close()\n",
    "\n",
    "df_res = pd.concat(list_df, axis=1)\n",
    "print(df_res.shape)\n",
    "df_res.head()"
   ]
  },
  {
   "cell_type": "code",
   "execution_count": null,
   "id": "5fc9ee6b-5d98-4534-8e57-4c07b31f821d",
   "metadata": {
    "scrolled": true,
    "tags": []
   },
   "outputs": [],
   "source": [
    "%%time\n",
    "list_card_id = [x for x in df_res.columns if x.startswith('card_id_')]\n",
    "dict_card_index = {x: i for i, x in enumerate(list_card_id)}\n",
    "\n",
    "df_res['y_true_rank'] = df_res.\\\n",
    "    apply(lambda x: {x:i for i, x in enumerate(list(np.array(x[list_card_id]).argsort())[::-1])}[dict_card_index['card_id_'+str(x['y_true'])]], axis=1)\n",
    "\n",
    "df_res.head()"
   ]
  },
  {
   "cell_type": "code",
   "execution_count": null,
   "id": "6e32db14-acde-4171-a301-e96452954812",
   "metadata": {
    "scrolled": true,
    "tags": []
   },
   "outputs": [],
   "source": [
    "pd.set_option('display.max_columns', None)\n",
    "df_res.sample(10)"
   ]
  },
  {
   "cell_type": "code",
   "execution_count": null,
   "id": "decb457e-4ff3-40ed-9b84-bc209b612391",
   "metadata": {},
   "outputs": [],
   "source": [
    "# utils.save_pickle(df_res, 'data/other/balance_26/df_pos_pred_20240324.pickle')\n",
    "# utils.save_pickle(df_res, 'data/other/balance_34/df_pos_pred_20240324.pickle')\n",
    "utils.save_pickle(df_res, 'data/other/balance_34/xxpay/df_pos_pred_20240324.pickle')"
   ]
  },
  {
   "cell_type": "code",
   "execution_count": null,
   "id": "b4096a1c-98a3-499c-a779-35abb88c9372",
   "metadata": {},
   "outputs": [],
   "source": [
    "# 活动item测试\n",
    "# df_res = utils.load_pickle('data/other/balance_34/df_pos_pred_20240324.pickle')\n",
    "df_res = utils.load_pickle('data/other/balance_34/xxpay/df_pos_pred_20240324.pickle')\n",
    "\n",
    "print(df_res.shape)\n",
    "df_res.head()"
   ]
  },
  {
   "cell_type": "code",
   "execution_count": null,
   "id": "a18cab9d-5772-4624-9210-b614aad842d8",
   "metadata": {},
   "outputs": [],
   "source": [
    "dict_card_26 = utils.load_pickle('data/other/balance_26/dict_card_26.pickle')\n",
    "\n",
    "df_res_26 = df_res[\n",
    "    (df_res['y_true'].isin(list(dict_card_26.values())))\n",
    "][['uid', 'obs_dt', 'y_true']+['card_id_'+str(v) for _, v in dict_card_26.items()]]\n",
    "df_res_26.head()"
   ]
  },
  {
   "cell_type": "code",
   "execution_count": null,
   "id": "6771eca6-60e8-4155-ac3b-74bf1ad2d37c",
   "metadata": {},
   "outputs": [],
   "source": [
    "%%time\n",
    "list_card_id_26 = [x for x in df_res_26.columns if x.startswith('card_id_')]\n",
    "dict_card_index_26 = {x: i for i, x in enumerate(list_card_id_26)}\n",
    "\n",
    "df_res_26['y_true_rank'] = df_res_26.\\\n",
    "    apply(lambda x: {x:i for i, x in enumerate(list(np.array(x[list_card_id_26]).argsort())[::-1])}[dict_card_index_26['card_id_'+str(x['y_true'])]], axis=1)\n",
    "\n",
    "df_res_26.head()"
   ]
  },
  {
   "cell_type": "code",
   "execution_count": null,
   "id": "05d0582c-3422-484a-a652-ff93792083f1",
   "metadata": {},
   "outputs": [],
   "source": [
    "pd.set_option('display.max_columns', None)\n",
    "df_res_26.sample(10)"
   ]
  },
  {
   "cell_type": "code",
   "execution_count": null,
   "id": "2d1c4955-9447-4cb7-9c2e-798e7ef6e95a",
   "metadata": {},
   "outputs": [],
   "source": [
    "# df_res['y_pred_top_1'] = df_res['y_true_rank'].apply(lambda x: 1 if x<1 else 0)\n",
    "# df_res['y_pred_top_2'] = df_res['y_true_rank'].apply(lambda x: 1 if x<2 else 0)\n",
    "# df_res['y_pred_top_3'] = df_res['y_true_rank'].apply(lambda x: 1 if x<3 else 0)\n",
    "\n",
    "# df_res.head()\n",
    "\n",
    "df_res_26['y_pred_top_1'] = df_res_26['y_true_rank'].apply(lambda x: 1 if x<1 else 0)\n",
    "df_res_26['y_pred_top_2'] = df_res_26['y_true_rank'].apply(lambda x: 1 if x<2 else 0)\n",
    "df_res_26['y_pred_top_3'] = df_res_26['y_true_rank'].apply(lambda x: 1 if x<3 else 0)\n",
    "\n",
    "df_res_26.head()"
   ]
  },
  {
   "cell_type": "code",
   "execution_count": null,
   "id": "1b156cbe-6bcc-4c79-9fa8-c30a77bcaf1c",
   "metadata": {},
   "outputs": [],
   "source": [
    "# print('Recall top 1: {}'.format(df_res['y_pred_top_1'].sum()/df_res.shape[0]))\n",
    "# print('Recall top 2: {}'.format(df_res['y_pred_top_2'].sum()/df_res.shape[0]))\n",
    "# print('Recall top 3: {}'.format(df_res['y_pred_top_3'].sum()/df_res.shape[0]))\n",
    "\n",
    "print('Recall top 1: {}'.format(df_res_26['y_pred_top_1'].sum()/df_res_26.shape[0]))\n",
    "print('Recall top 2: {}'.format(df_res_26['y_pred_top_2'].sum()/df_res_26.shape[0]))\n",
    "print('Recall top 3: {}'.format(df_res_26['y_pred_top_3'].sum()/df_res_26.shape[0]))"
   ]
  },
  {
   "cell_type": "raw",
   "id": "9c86efa4-205b-4ff3-9dab-78904ef692a0",
   "metadata": {},
   "source": [
    "26\n",
    "Recall top 3:    0.6624328668313144\n",
    "\n",
    "34\n",
    "Recall top 3:    0.5633302063789869\n",
    "Recall top 3 26: 0.645014178002535\n",
    "\n",
    "34 xxpay\n",
    "Recall top 3:    0.5689446529080675\n",
    "Recall top 3 26: 0.6525801351157108"
   ]
  },
  {
   "cell_type": "code",
   "execution_count": null,
   "id": "a3e5d883-3f17-436b-a009-d21b2cf250a3",
   "metadata": {
    "scrolled": true,
    "tags": []
   },
   "outputs": [],
   "source": [
    "# dict_card_reverse = {v:k for k, v in dict_card.items()}\n",
    "dict_card_reverse = {v:k for k, v in dict_card_26.items()}\n",
    "dict_card_reverse"
   ]
  },
  {
   "cell_type": "code",
   "execution_count": null,
   "id": "a5a7ebeb-da59-4979-89aa-c3a7b52fd1b3",
   "metadata": {
    "scrolled": true,
    "tags": []
   },
   "outputs": [],
   "source": [
    "# 分item卡效果\n",
    "# try:\n",
    "#     with tqdm(list(dict_card.values())) as t:\n",
    "#         for card_id in t:\n",
    "#             index_card = df_res[df_res['y_true']==card_id].index\n",
    "#             df_y_card = df_res.loc[index_card, :]\n",
    "#             print(df_y_card.shape)\n",
    "#             print('card_id:{ci}, card:{c}, Recall top 1:{rt1}, Recall top 2:{rt2}, Recall top 3:{rt3},'.format(\n",
    "#                 ci=card_id, \n",
    "#                 c=dict_card_reverse[card_id], \n",
    "#                 rt1=df_y_card['y_pred_top_1'].sum()/df_y_card.shape[0], \n",
    "#                 rt2=df_y_card['y_pred_top_2'].sum()/df_y_card.shape[0], \n",
    "#                 rt3=df_y_card['y_pred_top_3'].sum()/df_y_card.shape[0]))\n",
    "# except KeyboardInterrupt:\n",
    "#     t.close()\n",
    "#     raise\n",
    "# t.close()\n",
    "\n",
    "try:\n",
    "    with tqdm(list(dict_card_26.values())) as t:\n",
    "        for card_id in t:\n",
    "            index_card = df_res_26[df_res_26['y_true']==card_id].index\n",
    "            df_y_card = df_res_26.loc[index_card, :]\n",
    "            print(df_y_card.shape)\n",
    "            print('card_id:{ci}, card:{c}, Recall top 1:{rt1}, Recall top 2:{rt2}, Recall top 3:{rt3},'.format(\n",
    "                ci=card_id, \n",
    "                c=dict_card_reverse[card_id], \n",
    "                rt1=df_y_card['y_pred_top_1'].sum()/df_y_card.shape[0], \n",
    "                rt2=df_y_card['y_pred_top_2'].sum()/df_y_card.shape[0], \n",
    "                rt3=df_y_card['y_pred_top_3'].sum()/df_y_card.shape[0]))\n",
    "except KeyboardInterrupt:\n",
    "    t.close()\n",
    "    raise\n",
    "t.close()"
   ]
  },
  {
   "cell_type": "raw",
   "id": "8f530c44-06fe-4203-97e3-1a383ecf1b47",
   "metadata": {},
   "source": []
  },
  {
   "cell_type": "code",
   "execution_count": null,
   "id": "56dcaa85-b1a4-4522-bd09-684f5329f774",
   "metadata": {},
   "outputs": [],
   "source": []
  }
 ],
 "metadata": {
  "kernelspec": {
   "display_name": "Python3 (jarretthan)",
   "language": "python",
   "name": "jarretthan"
  },
  "language_info": {
   "codemirror_mode": {
    "name": "ipython",
    "version": 3
   },
   "file_extension": ".py",
   "mimetype": "text/x-python",
   "name": "python",
   "nbconvert_exporter": "python",
   "pygments_lexer": "ipython3",
   "version": "3.7.10"
  }
 },
 "nbformat": 4,
 "nbformat_minor": 5
}
