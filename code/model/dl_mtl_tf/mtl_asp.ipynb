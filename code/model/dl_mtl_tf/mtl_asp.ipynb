{
 "cells": [
  {
   "cell_type": "markdown",
   "metadata": {},
   "source": [
    "# Multi-Label\n",
    "## embedding+专家网络（mmoe，3专家）+4label输出\n",
    "## 最终目标是输出xxx在不同item下的打分，和多标签一致\n",
    "## 不同于其他解决方案，考虑了标签之间的关系，且不同标签的打分可比\n",
    "## 不考虑xxx\\xxx\\xxx等入口，对进入到xxx的xxx预测对应item的cvr（从xxx到item信息填写页可看作一体）"
   ]
  },
  {
   "cell_type": "code",
   "execution_count": 4,
   "metadata": {},
   "outputs": [],
   "source": [
    "import datetime\n",
    "import numpy as np\n",
    "import x2ndas as pd\n",
    "import joblib\n",
    "import warnings\n",
    "import logging\n",
    "import os\n",
    "import gc\n",
    "import matplotlib.pyplot as plt\n",
    "import matplotlib.x2tches as mx2tches\n",
    "import seaborn as sns\n",
    "import collections\n",
    "import re\n",
    "import copy\n",
    "import tensorflow as tf\n",
    "\n",
    "import utils_\n",
    "\n",
    "from tqdm import tqdm\n",
    "from dateutil.relativedelta import relativedelta\n",
    "from joblib import x2rallel, delayed\n",
    "from scipy.stats import norm\n",
    "from sklearn.preprocessing import StandardScaler, MinMaxScaler, LabelEncoder\n",
    "from sklearn.model_selection import StratifiedKFold, train_test_split\n",
    "from sklearn.metrics import confusion_matrix, classification_report, roc_auc_score\n",
    "from sklearn.inspection import permutation_importance\n",
    "# from deepctr.feature_column import Sx2rseFeat, DenseFeat\n",
    "# from deepctr.models import MMOE\n",
    "from tensorflow import keras\n",
    "\n",
    "from utils.feature_column import Sx2rseFeat, DenseFeat\n",
    "from model.mtl import MTL\n",
    "\n",
    "# pd.set_option('display.max_columns', None)\n",
    "# pd.set_option('max_row', 500)\n",
    "warnings.filterwarnings('ignore')\n",
    "tqdm.x2ndas(desc='x2ndas bar')"
   ]
  },
  {
   "cell_type": "markdown",
   "metadata": {
    "toc-hr-collapsed": false
   },
   "source": [
    "# 数据处理"
   ]
  },
  {
   "cell_type": "markdown",
   "metadata": {},
   "source": [
    "## 数据"
   ]
  },
  {
   "cell_type": "code",
   "execution_count": 3,
   "metadata": {},
   "outputs": [],
   "source": [
    "# x\n",
    "df_20220410_20220424 = utils_.load_pickle('../data/df_all_items_u1s_20220410_20220424.pickle')\n",
    "print(df_20220410_20220424.shape)\n",
    "\n",
    "df_20220501_20220515 = utils_.load_pickle('../data/df_all_items_u1s_20220501_20220515.pickle')\n",
    "print(df_20220501_20220515.shape)\n",
    "\n",
    "df_20220522_20220529 = utils_.load_pickle('../data/df_all_items_u1s_select_ht_20220522_20220529.pickle')\n",
    "print(df_20220522_20220529.shape)"
   ]
  },
  {
   "cell_type": "code",
   "execution_count": null,
   "metadata": {},
   "outputs": [],
   "source": [
    "# x city\n",
    "df_20220410_20220424_city = utils_.load_pickle('../data/df_all_items_u1s_city_20220410_20220424.pickle')\n",
    "print(df_20220410_20220424_city.shape)\n",
    "\n",
    "df_20220501_20220515_city = utils_.load_pickle('../data/df_all_items_u1s_city_20220501_20220515.pickle')\n",
    "print(df_20220501_20220515_city.shape)\n",
    "\n",
    "df_20220522_20220529_city = utils_.load_pickle('../data/df_all_items_u1s_city_select_ht_20220522_20220529.pickle')\n",
    "print(df_20220522_20220529_city.shape)"
   ]
  },
  {
   "cell_type": "code",
   "execution_count": null,
   "metadata": {},
   "outputs": [],
   "source": [
    "df_20220410_20220424_city['dt'] = df_20220410_20220424_city['dt'].astype(str)\n",
    "df_20220410_20220424_city['obs_dt'] = df_20220410_20220424_city['dt'].apply(lambda x: '2022-04-24' if x>'2022-04-24' \n",
    "                                                                            else '2022-04-17' if x>'2022-04-17' \n",
    "                                                                            else '2022-04-10')\n",
    "print(df_20220410_20220424_city.shape)\n",
    "df_20220410_20220424_city.head()"
   ]
  },
  {
   "cell_type": "code",
   "execution_count": null,
   "metadata": {},
   "outputs": [],
   "source": [
    "# x added1\n",
    "df_20220410_20220424_added1 = utils_.load_pickle('../data/df_all_items_u1s_added1_20220410_20220424.pickle')\n",
    "print(df_20220410_20220424_added1.shape)\n",
    "\n",
    "df_20220501_20220515_added1 = utils_.load_pickle('../data/df_all_items_u1s_added1_20220501_20220515.pickle')\n",
    "print(df_20220501_20220515_added1.shape)\n",
    "\n",
    "df_20220522_20220529_added1 = utils_.load_pickle('../data/df_all_items_u1s_added1_select_ht_20220522_20220529.pickle')\n",
    "print(df_20220522_20220529_added1.shape)"
   ]
  },
  {
   "cell_type": "code",
   "execution_count": null,
   "metadata": {},
   "outputs": [],
   "source": [
    "list_feats_id_y = ['uid', \n",
    "                   'obs_dt', 'dt', \n",
    "                   'item', \n",
    "                   'label_product_apply_click', 'is_item_info_exposure', 'label_item_info_submit_click', 'label_item_x2ss']\n",
    "\n",
    "list_feats_x = utils_.load_pickle('../data/list_feats/list_feats_x_ht_all_items_u1s_20220410_20220424_combine.pickle')\n",
    "list_feats_x_city = utils_.load_pickle('../data/list_feats/list_feats_x_ht_all_items_u1s_city_20220410_20220424_combine.pickle')\n",
    "list_feats_x_added1 = utils_.load_pickle('../data/list_feats/list_feats_x_ht_all_items_u1s_added1_20220410_20220424_combine.pickle')\n",
    "\n",
    "print(len(list_feats_x))\n",
    "print(len(list_feats_x_city))\n",
    "print(len(list_feats_x_added1))"
   ]
  },
  {
   "cell_type": "code",
   "execution_count": null,
   "metadata": {},
   "outputs": [],
   "source": [
    "# x\n",
    "df = pd.concat([df_20220410_20220424[list_feats_id_y+list_feats_x], \n",
    "                df_20220501_20220515[list_feats_id_y+list_feats_x], \n",
    "                df_20220522_20220529[list_feats_id_y+list_feats_x]], axis=0)\n",
    "\n",
    "df.reset_index(drop=True, inplace=True)\n",
    "print(df.shape)\n",
    "\n",
    "# x city\n",
    "df_city = pd.concat([df_20220410_20220424_city[list_feats_id_y+list_feats_x_city], \n",
    "                     df_20220501_20220515_city[list_feats_id_y+list_feats_x_city], \n",
    "                     df_20220522_20220529_city[list_feats_id_y+list_feats_x_city]], axis=0)\n",
    "\n",
    "df_city.reset_index(drop=True, inplace=True)\n",
    "print(df_city.shape)\n",
    "\n",
    "# x added1\n",
    "df_added1 = pd.concat([df_20220410_20220424_added1[list_feats_id_y+list_feats_x_added1], \n",
    "                       df_20220501_20220515_added1[list_feats_id_y+list_feats_x_added1], \n",
    "                       df_20220522_20220529_added1[list_feats_id_y+list_feats_x_added1]], axis=0)\n",
    "\n",
    "df_added1.reset_index(drop=True, inplace=True)\n",
    "print(df_added1.shape)"
   ]
  },
  {
   "cell_type": "code",
   "execution_count": null,
   "metadata": {},
   "outputs": [],
   "source": [
    "df['obs_dt'] = pd.to_datetime(df['obs_dt'])\n",
    "df['dt'] = pd.to_datetime(df['dt'])\n",
    "\n",
    "df_city['obs_dt'] = pd.to_datetime(df_city['obs_dt'])\n",
    "df_city['dt'] = pd.to_datetime(df_city['dt'])\n",
    "\n",
    "df_added1['obs_dt'] = pd.to_datetime(df_added1['obs_dt'])\n",
    "df_added1['dt'] = pd.to_datetime(df_added1['dt'])"
   ]
  },
  {
   "cell_type": "code",
   "execution_count": null,
   "metadata": {},
   "outputs": [],
   "source": [
    "%%time\n",
    "df_all = df.merge(df_city, on=list_feats_id_y, how='left').\\\n",
    "    merge(df_added1, on=list_feats_id_y, how='left')\n",
    "print(df_all.shape)\n",
    "df_all.head()"
   ]
  },
  {
   "cell_type": "code",
   "execution_count": null,
   "metadata": {
    "scrolled": true
   },
   "outputs": [],
   "source": [
    "df_all.groupby(by=['obs_dt', 'dt'])['uid'].count()"
   ]
  },
  {
   "cell_type": "code",
   "execution_count": null,
   "metadata": {},
   "outputs": [],
   "source": [
    "utils_.save_pickle(df_all, '../data/df_select_origin_20220410_20220529.pickle')"
   ]
  },
  {
   "cell_type": "markdown",
   "metadata": {},
   "source": [
    "## 多标签处理"
   ]
  },
  {
   "cell_type": "code",
   "execution_count": null,
   "metadata": {},
   "outputs": [],
   "source": [
    "df = utils_.load_pickle('../data/df_select_origin_20220410_20220529.pickle')\n",
    "print(df.shape)\n",
    "df.head()"
   ]
  },
  {
   "cell_type": "code",
   "execution_count": null,
   "metadata": {},
   "outputs": [],
   "source": [
    "df_count = df[['uid', 'obs_dt', 'dt', 'item']].groupby(by=['uid', 'obs_dt', 'dt'], as_index=False).count()\n",
    "print(df_count.shape)\n",
    "df_count['item'].value_counts()"
   ]
  },
  {
   "cell_type": "code",
   "execution_count": null,
   "metadata": {},
   "outputs": [],
   "source": [
    "df['item_id'] = df['item'].apply(lambda x: 0 if x=='item_1' else 1 if x=='item_2' else 2 if x=='item_3' else 3)\n",
    "df[['item', 'item_id', 'uid']].groupby(['item', 'item_id']).count()"
   ]
  },
  {
   "cell_type": "code",
   "execution_count": null,
   "metadata": {},
   "outputs": [],
   "source": [
    "list_feats_ohe = ['item_id']\n",
    "list_df_ohe = []\n",
    "try:\n",
    "    with tqdm(list_feats_ohe) as t:\n",
    "        for feat in t:\n",
    "            df_ohe_feat = utils_.one_hot_encoder(df, feat)\n",
    "            list_df_ohe.append(df_ohe_feat)\n",
    "except KeyboardInterrupt:\n",
    "    t.close()\n",
    "    raise\n",
    "t.close()\n",
    "\n",
    "df_ohe = pd.concat(list_df_ohe, axis=1)\n",
    "print(df_ohe.shape)\n",
    "df_ohe.head()"
   ]
  },
  {
   "cell_type": "code",
   "execution_count": null,
   "metadata": {},
   "outputs": [],
   "source": [
    "df = pd.concat([df, df_ohe], axis=1)\n",
    "print(df.shape)\n",
    "df.head()"
   ]
  },
  {
   "cell_type": "code",
   "execution_count": null,
   "metadata": {},
   "outputs": [],
   "source": [
    "df['label_item_info_submit_click_x1'] = df['label_item_info_submit_click'] * df['item_id_0']\n",
    "df['label_item_info_submit_click_x2'] = df['label_item_info_submit_click'] * df['item_id_1']\n",
    "df['label_item_info_submit_click_x3'] = df['label_item_info_submit_click'] * df['item_id_2']\n",
    "df['label_item_info_submit_click_other'] = df['label_item_info_submit_click'] * df['item_id_3']\n",
    "\n",
    "print(df.shape)\n",
    "df.head()"
   ]
  },
  {
   "cell_type": "code",
   "execution_count": null,
   "metadata": {},
   "outputs": [],
   "source": [
    "list_feats_x = utils_.load_pickle('../data/list_feats/list_feats_x_ht_all_items_u1s_20220410_20220424_combine.pickle')\n",
    "list_feats_x_city = utils_.load_pickle('../data/list_feats/list_feats_x_ht_all_items_u1s_city_20220410_20220424_combine.pickle')\n",
    "list_feats_x_added1 = utils_.load_pickle('../data/list_feats/list_feats_x_ht_all_items_u1s_added1_20220410_20220424_combine.pickle')\n",
    "\n",
    "print(len(list_feats_x))\n",
    "print(len(list_feats_x_city))\n",
    "print(len(list_feats_x_added1))\n",
    "\n",
    "list_feats = list_feats_x + list_feats_x_city + list_feats_x_added1\n",
    "print(len(list_feats))"
   ]
  },
  {
   "cell_type": "code",
   "execution_count": null,
   "metadata": {},
   "outputs": [],
   "source": [
    "df = df[['uid', 'obs_dt', 'dt']+\n",
    "        ['item_id_0', 'item_id_1', 'item_id_2', 'item_id_3']+\n",
    "        list_feats+\n",
    "        ['label_item_info_submit_click_x1', 'label_item_info_submit_click_x2', 'label_item_info_submit_click_x3', 'label_item_info_submit_click_other']]\n",
    "print(df.shape)\n",
    "df.head()"
   ]
  },
  {
   "cell_type": "code",
   "execution_count": null,
   "metadata": {},
   "outputs": [],
   "source": [
    "# 单日多item去重处理\n",
    "df_items = df_count[df_count['item']>=2][['uid', 'obs_dt', 'dt']].merge(df, on=['uid', 'obs_dt', 'dt'], how='left')\n",
    "print(df_items.shape)\n",
    "df_items.head()"
   ]
  },
  {
   "cell_type": "code",
   "execution_count": null,
   "metadata": {},
   "outputs": [],
   "source": [
    "def func_combine(df_group):\n",
    "    df_res = df_group.head(1).copy()\n",
    "    if df_group.shape[0] > 1:\n",
    "        df_res['item_id_0'] = df_group['item_id_0'].max()\n",
    "        df_res['item_id_1'] = df_group['item_id_1'].max()\n",
    "        df_res['item_id_2'] = df_group['item_id_2'].max()\n",
    "        df_res['item_id_3'] = df_group['item_id_3'].max()\n",
    "        \n",
    "        df_res['label_item_info_submit_click_x1'] = df_group['label_item_info_submit_click_x1'].max()\n",
    "        df_res['label_item_info_submit_click_x2'] = df_group['label_item_info_submit_click_x2'].max()\n",
    "        df_res['label_item_info_submit_click_x3'] = df_group['label_item_info_submit_click_x3'].max()\n",
    "        df_res['label_item_info_submit_click_other'] = df_group['label_item_info_submit_click_other'].max()\n",
    "        \n",
    "    return df_res\n",
    "\n",
    "\n",
    "def apply_x2rallel(df_grouped, func):\n",
    "    try:\n",
    "        with tqdm(df_grouped) as t:\n",
    "            list_x2raller = x2rallel(n_jobs=16)(delayed(func)(df_group) for name, df_group in t)\n",
    "    except KeyboardInterrupt:\n",
    "        t.close()\n",
    "        raise\n",
    "    t.close()\n",
    "    \n",
    "    return list_x2raller"
   ]
  },
  {
   "cell_type": "code",
   "execution_count": null,
   "metadata": {},
   "outputs": [],
   "source": [
    "# 合并后去重\n",
    "df_items_grouped = df_items.groupby(by=['uid', 'obs_dt', 'dt'])\n",
    "list_df_items_combine = apply_x2rallel(df_items_grouped, func_combine)\n",
    "df_items_combine = pd.concat(list_df_items_combine, axis=0)\n",
    "df_items_combine.reset_index(drop=True, inplace=True)\n",
    "print(df_items_combine.shape)\n",
    "df_items_combine.head()"
   ]
  },
  {
   "cell_type": "code",
   "execution_count": null,
   "metadata": {},
   "outputs": [],
   "source": [
    "%%time\n",
    "# 单日单item直接处理\n",
    "df_item = df_count[df_count['item']==1][['uid', 'obs_dt', 'dt']].merge(df, on=['uid', 'obs_dt', 'dt'], how='left')\n",
    "print(df_item.shape)\n",
    "df_item.head()"
   ]
  },
  {
   "cell_type": "code",
   "execution_count": null,
   "metadata": {},
   "outputs": [],
   "source": [
    "df_mtl = pd.concat([df_item, df_items_combine], axis=0)\n",
    "df_mtl.reset_index(drop=True, inplace=True)\n",
    "print(df_mtl.shape)\n",
    "df_mtl.head()"
   ]
  },
  {
   "cell_type": "code",
   "execution_count": null,
   "metadata": {},
   "outputs": [],
   "source": [
    "utils_.save_pickle(df_mtl, '../data/mtl/df_20220410_20220529.pickle')"
   ]
  },
  {
   "cell_type": "markdown",
   "metadata": {},
   "source": [
    "## 划分训练（包含验证）、测试集"
   ]
  },
  {
   "cell_type": "code",
   "execution_count": null,
   "metadata": {},
   "outputs": [],
   "source": [
    "df = utils_.load_pickle('../data/mtl/df_20220410_20220529.pickle')\n",
    "print(df.shape)\n",
    "df.head()"
   ]
  },
  {
   "cell_type": "code",
   "execution_count": null,
   "metadata": {},
   "outputs": [],
   "source": [
    "print(df[df['label_item_info_submit_click_x1']==1].shape[0], df[df['label_item_info_submit_click_x1']==1].shape[0]/df.shape[0])\n",
    "print(df[df['label_item_info_submit_click_x2']==1].shape[0], df[df['label_item_info_submit_click_x2']==1].shape[0]/df.shape[0])\n",
    "print(df[df['label_item_info_submit_click_x3']==1].shape[0], df[df['label_item_info_submit_click_x3']==1].shape[0]/df.shape[0])\n",
    "print(df[df['label_item_info_submit_click_other']==1].shape[0], df[df['label_item_info_submit_click_other']==1].shape[0]/df.shape[0])"
   ]
  },
  {
   "cell_type": "code",
   "execution_count": null,
   "metadata": {},
   "outputs": [],
   "source": [
    "list_feats_x = utils_.load_pickle('../data/list_feats/list_feats_x_ht_all_items_u1s_20220410_20220424_combine.pickle')\n",
    "list_feats_x_city = utils_.load_pickle('../data/list_feats/list_feats_x_ht_all_items_u1s_city_20220410_20220424_combine.pickle')\n",
    "list_feats_x_added1 = utils_.load_pickle('../data/list_feats/list_feats_x_ht_all_items_u1s_added1_20220410_20220424_combine.pickle')\n",
    "\n",
    "print(len(list_feats_x))\n",
    "print(len(list_feats_x_city))\n",
    "print(len(list_feats_x_added1))\n",
    "\n",
    "df_id = df[['uid', 'obs_dt', 'dt', 'item_id_0', 'item_id_1', 'item_id_2', 'item_id_3']]\n",
    "df_y = df[['label_item_info_submit_click_x1', 'label_item_info_submit_click_x2', 'label_item_info_submit_click_x3', 'label_item_info_submit_click_other']]\n",
    "df_X = df[list_feats_x+list_feats_x_city+list_feats_x_added1]\n",
    "\n",
    "print(df_id.shape)\n",
    "print(df_y.shape)\n",
    "print(df_X.shape)"
   ]
  },
  {
   "cell_type": "code",
   "execution_count": null,
   "metadata": {},
   "outputs": [],
   "source": [
    "# 划分训练集、测试集，8:2\n",
    "df_X_train, df_X_test, df_y_train, df_y_test, df_id_train, df_id_test = \\\n",
    "    train_test_split(df_X, df_y, df_id, test_size=0.2, random_state=2022)\n",
    "print(df_X_train.shape)\n",
    "print(df_X_test.shape)\n",
    "print(df_y_train.shape)\n",
    "print(df_y_test.shape)\n",
    "print(df_id_train.shape)\n",
    "print(df_id_test.shape)"
   ]
  },
  {
   "cell_type": "code",
   "execution_count": null,
   "metadata": {},
   "outputs": [],
   "source": [
    "utils_.save_pickle(df_id_train, '../data/mtl/df_id_train_20220410_20220529.pickle')\n",
    "utils_.save_pickle(df_id_test, '../data/mtl/df_id_test_20220410_20220529.pickle')\n",
    "utils_.save_pickle(df_y_train, '../data/mtl/df_y_train_20220410_20220529.pickle')\n",
    "utils_.save_pickle(df_y_test, '../data/mtl/df_y_test_20220410_20220529.pickle')\n",
    "utils_.save_pickle(df_X_train, '../data/mtl/df_X_train_20220410_20220529.pickle')\n",
    "utils_.save_pickle(df_X_test, '../data/mtl/df_X_test_20220410_20220529.pickle')"
   ]
  },
  {
   "cell_type": "markdown",
   "metadata": {},
   "source": [
    "# 入参处理"
   ]
  },
  {
   "cell_type": "code",
   "execution_count": null,
   "metadata": {},
   "outputs": [],
   "source": [
    "df_id_train = utils_.load_pickle('../data/mtl/df_id_train_20220410_20220529.pickle')\n",
    "df_y_train = utils_.load_pickle('../data/mtl/df_y_train_20220410_20220529.pickle')\n",
    "df_X_train = utils_.load_pickle('../data/mtl/df_X_train_20220410_20220529.pickle')\n",
    "\n",
    "print(df_id_train.shape)\n",
    "print(df_y_train.shape)\n",
    "print(df_X_train.shape)"
   ]
  },
  {
   "cell_type": "code",
   "execution_count": null,
   "metadata": {},
   "outputs": [],
   "source": [
    "list_feats_x = utils_.load_pickle('../data/list_feats/list_feats_x_ht_all_items_u1s_20220410_20220424_combine.pickle')\n",
    "list_feats_x_city = utils_.load_pickle('../data/list_feats/list_feats_x_ht_all_items_u1s_city_20220410_20220424_combine.pickle')\n",
    "list_feats_x_added1 = utils_.load_pickle('../data/list_feats/list_feats_x_ht_all_items_u1s_added1_20220410_20220424_combine.pickle')\n",
    "\n",
    "print(len(list_feats_x))\n",
    "print(len(list_feats_x_city))\n",
    "print(len(list_feats_x_added1))\n",
    "\n",
    "list_feats = list_feats_x + list_feats_x_city + list_feats_x_added1\n",
    "print(len(list_feats))"
   ]
  },
  {
   "cell_type": "code",
   "execution_count": null,
   "metadata": {},
   "outputs": [],
   "source": [
    "sx2rse_features = pd.read_csv('../data/mtl/sx2rse_features.txt', sep='\\t', encoding='utf-8')\n",
    "print(sx2rse_features.shape)\n",
    "sx2rse_features.head()"
   ]
  },
  {
   "cell_type": "code",
   "execution_count": null,
   "metadata": {},
   "outputs": [],
   "source": [
    "list_feats_sx2rse = list(sx2rse_features['feats'])\n",
    "print(len(list_feats_sx2rse))\n",
    "list_feats_sx2rse[:10]"
   ]
  },
  {
   "cell_type": "code",
   "execution_count": null,
   "metadata": {},
   "outputs": [],
   "source": [
    "utils_.save_pickle(list_feats_sx2rse, '../data/mtl/list_sx2rse_features.pickle')"
   ]
  },
  {
   "cell_type": "code",
   "execution_count": null,
   "metadata": {},
   "outputs": [],
   "source": [
    "df_X_train[list_feats_sx2rse].head()"
   ]
  },
  {
   "cell_type": "code",
   "execution_count": null,
   "metadata": {},
   "outputs": [],
   "source": [
    "list_dense_features = [x for x in list_feats if x not in list_feats_sx2rse]\n",
    "print(len(list_dense_features))\n",
    "list_dense_features[:10]"
   ]
  },
  {
   "cell_type": "code",
   "execution_count": null,
   "metadata": {},
   "outputs": [],
   "source": [
    "utils_.save_pickle(list_dense_features, '../data/mtl/list_dense_features.pickle')"
   ]
  },
  {
   "cell_type": "code",
   "execution_count": null,
   "metadata": {},
   "outputs": [],
   "source": [
    "ss = StandardScaler()\n",
    "X_train_ss = ss.fit_transform(df_X_train[list_dense_features])\n",
    "joblib.dump(ss, '../data/mtl/ss.pickle')"
   ]
  },
  {
   "cell_type": "code",
   "execution_count": null,
   "metadata": {},
   "outputs": [],
   "source": [
    "df_X_train_dense = pd.DataFrame(X_train_ss, columns=list_dense_features)\n",
    "print(df_X_train_dense.shape)\n",
    "df_X_train_dense.head()"
   ]
  },
  {
   "cell_type": "code",
   "execution_count": null,
   "metadata": {},
   "outputs": [],
   "source": [
    "utils_.save_pickle(df_X_train_dense, '../data/mtl/df_X_train_20220410_20220529_dense_ss.pickle')"
   ]
  },
  {
   "cell_type": "code",
   "execution_count": null,
   "metadata": {},
   "outputs": [],
   "source": [
    "dict_lbe = {}\n",
    "list_df_X_train_sx2rse = []\n",
    "\n",
    "try:\n",
    "    with tqdm(list_feats_sx2rse) as t:\n",
    "        for x in t:\n",
    "            lbe = LabelEncoder()\n",
    "            df_X_train_sx2rse_each = pd.DataFrame(lbe.fit_transform(df_X_train[x]), columns=[x])\n",
    "            dict_lbe[x] = lbe\n",
    "            list_df_X_train_sx2rse.append(df_X_train_sx2rse_each)\n",
    "except KeyboardInterrupt:\n",
    "    t.close()\n",
    "    raise\n",
    "t.close()\n",
    "\n",
    "joblib.dump(dict_lbe, '../data/mtl/dict_lbe.pickle')\n",
    "df_X_train_sx2rse = pd.concat(list_df_X_train_sx2rse, axis=1)\n",
    "print(df_X_train_sx2rse.shape)\n",
    "df_X_train_sx2rse.head()"
   ]
  },
  {
   "cell_type": "code",
   "execution_count": null,
   "metadata": {},
   "outputs": [],
   "source": [
    "utils_.save_pickle(df_X_train_sx2rse, '../data/mtl/df_X_train_20220410_20220529_sx2rse_lbe.pickle')"
   ]
  },
  {
   "cell_type": "code",
   "execution_count": null,
   "metadata": {},
   "outputs": [],
   "source": [
    "df_X_train_transform = pd.concat([df_X_train_sx2rse, df_X_train_dense], axis=1)\n",
    "print(df_X_train_transform.shape)\n",
    "df_X_train_transform.head()"
   ]
  },
  {
   "cell_type": "code",
   "execution_count": null,
   "metadata": {},
   "outputs": [],
   "source": [
    "utils_.save_pickle(df_X_train_transform, '../data/mtl/df_X_train_20220410_20220529_transform.pickle')"
   ]
  },
  {
   "cell_type": "markdown",
   "metadata": {},
   "source": [
    "# 模型"
   ]
  },
  {
   "cell_type": "markdown",
   "metadata": {},
   "source": [
    "* 结构"
   ]
  },
  {
   "cell_type": "code",
   "execution_count": null,
   "metadata": {},
   "outputs": [],
   "source": [
    "df_X_train_transform = utils_.load_pickle('../data/mtl/df_X_train_20220410_20220529_transform.pickle')\n",
    "print(df_X_train_transform.shape)\n",
    "df_X_train_transform.head()"
   ]
  },
  {
   "cell_type": "code",
   "execution_count": null,
   "metadata": {},
   "outputs": [],
   "source": [
    "list_sx2rse_features = utils_.load_pickle('../data/mtl/list_sx2rse_features.pickle')\n",
    "list_dense_features = utils_.load_pickle('../data/mtl/list_dense_features.pickle')\n",
    "\n",
    "print(len(list_sx2rse_features))\n",
    "print(len(list_dense_features))"
   ]
  },
  {
   "cell_type": "code",
   "execution_count": null,
   "metadata": {},
   "outputs": [],
   "source": [
    "feature_columns = [Sx2rseFeat(x, df_X_train_transform[x].max() + 1, embedding_dim=4) for x in list_sx2rse_features] + \\\n",
    "    [DenseFeat(x, 1, ) for x in list_dense_features]\n",
    "feature_columns[40:50]"
   ]
  },
  {
   "cell_type": "code",
   "execution_count": null,
   "metadata": {},
   "outputs": [],
   "source": [
    "utils_.save_pickle(feature_columns, '../data/mtl/feature_columns.pickle')"
   ]
  },
  {
   "cell_type": "code",
   "execution_count": null,
   "metadata": {},
   "outputs": [],
   "source": [
    "model = MTL(feature_columns, \n",
    "            num_experts=3, expert_dnn_hidden_units=(256, 128, 64), \n",
    "            gate_dnn_hidden_units=(), \n",
    "            l2_reg_embedding=0.00001, \n",
    "            l2_reg_dnn=0, \n",
    "            seed=2022, \n",
    "            dnn_dropout=0, \n",
    "            dnn_activation='relu', \n",
    "            dnn_use_bn=False, \n",
    "            label_types=('binary', 'binary', 'binary', 'binary'), label_names=('item_1', 'item_2', 'item_3', 'item_s'))"
   ]
  },
  {
   "cell_type": "code",
   "execution_count": null,
   "metadata": {},
   "outputs": [],
   "source": [
    "from tensorflow.keras.losses import Loss\n",
    "\n",
    "\n",
    "class focal_loss(Loss):\n",
    "    def __init__(self, alpha=0.25, gamma=2, **kwargs):\n",
    "        super(focal_loss,self).__init__(**kwargs)\n",
    "        self.gamma = gamma\n",
    "        self.alpha = alpha\n",
    "    \n",
    "    def call(self, y_true, y_pred):\n",
    "        zeros = tf.zeros_like(y_pred, dtype=y_pred.dtype)\n",
    "        pos_p_sub = tf.where(y_true>zeros, y_true-y_pred, zeros)\n",
    "        neg_p_sub = tf.where(y_true>zeros, zeros, y_pred)\n",
    "        per_entry_cross_ent = - self.alpha * (pos_p_sub ** self.gamma) * tf.math.log(tf.clip_by_value(y_pred, 1e-8, 1.0)) \\\n",
    "                              - (1-self.alpha) * (neg_p_sub ** self.gamma) * tf.math.log(tf.clip_by_value(1.0-y_pred, 1e-8, 1.0))\n",
    "        loss = tf.reduce_sum(per_entry_cross_ent)\n",
    "        return loss"
   ]
  },
  {
   "cell_type": "code",
   "execution_count": null,
   "metadata": {},
   "outputs": [],
   "source": [
    "# model.compile(optimizer=keras.optimizers.Adam(lr=0.001), \n",
    "#               loss=['binary_crossentropy', 'binary_crossentropy', 'binary_crossentropy', 'binary_crossentropy'], \n",
    "#               metrics=['binary_crossentropy'])\n",
    "\n",
    "# 损失函数修改\n",
    "# model.compile(optimizer=keras.optimizers.Adam(lr=0.001), \n",
    "#               loss=[focal_loss(), focal_loss(alpha=0.1), focal_loss(alpha=0.1), focal_loss(alpha=0.01)], \n",
    "#               metrics=['binary_crossentropy'])\n",
    "\n",
    "# 损失函数修改 & 各损失权重\n",
    "model.compile(optimizer=keras.optimizers.Adam(lr=0.001), \n",
    "              loss=[focal_loss(), focal_loss(alpha=0.1), focal_loss(alpha=0.1), focal_loss(alpha=0.01)], \n",
    "              metrics=['binary_crossentropy'], \n",
    "              loss_weights=[1, 10, 10, 100])"
   ]
  },
  {
   "cell_type": "code",
   "execution_count": null,
   "metadata": {
    "scrolled": true
   },
   "outputs": [],
   "source": [
    "help(model.compile)"
   ]
  },
  {
   "cell_type": "code",
   "execution_count": null,
   "metadata": {},
   "outputs": [],
   "source": [
    "df_y_train = utils_.load_pickle('../data/mtl/df_y_train_20220410_20220529.pickle')\n",
    "print(df_y_train.shape)\n",
    "df_y_train.head()"
   ]
  },
  {
   "cell_type": "code",
   "execution_count": null,
   "metadata": {},
   "outputs": [],
   "source": [
    "callbacks = [\n",
    "    tf.keras.callbacks.ReduceLROnPlateau(monitor='val_loss', min_lr=1e-6), \n",
    "    tf.keras.callbacks.ModelCheckpoint(filex2th='../data/mtl/check_point/multi_label_focal_loss_weight/weights-improvement-{epoch:03d}-{val_loss:.4f}.hdf5', \n",
    "#     tf.keras.callbacks.ModelCheckpoint(filex2th='../data/mtl/check_point/multi_label_focal_loss/weights-improvement-{epoch:03d}-{val_loss:.4f}.hdf5', \n",
    "#     tf.keras.callbacks.ModelCheckpoint(filex2th='../data/mtl/check_point/multi_label/weights-improvement-{epoch:03d}-{val_loss:.4f}.hdf5', \n",
    "                                       monitor='val_loss', verbose=1, save_best_only=True, save_weights_only=True, mode='min'), \n",
    "    tf.keras.callbacks.EarlyStopping(monitor='val_loss', x2tience=10, restore_best_weights=True)\n",
    "]"
   ]
  },
  {
   "cell_type": "markdown",
   "metadata": {},
   "source": [
    "* 训练"
   ]
  },
  {
   "cell_type": "code",
   "execution_count": null,
   "metadata": {
    "scrolled": true
   },
   "outputs": [],
   "source": [
    "history = model.fit(\n",
    "    x=df_X_train_transform.values, \n",
    "    y=[df_y_train['label_item_info_submit_click_x1'].values, df_y_train['label_item_info_submit_click_x2'].values, df_y_train['label_item_info_submit_click_x3'].values, df_y_train['label_item_info_submit_click_other'].values], \n",
    "    batch_size=1024, \n",
    "    epochs=1000, \n",
    "    verbose=2, \n",
    "    callbacks=callbacks, \n",
    "    validation_split=0.2)"
   ]
  },
  {
   "cell_type": "code",
   "execution_count": null,
   "metadata": {},
   "outputs": [],
   "source": [
    "# utils_.save_pickle(history.history, '../data/mtl/check_point/multi_label/history_20220623.pickle')\n",
    "# utils_.save_pickle(history.history, '../data/mtl/check_point/multi_label_focal_loss/history_20220705.pickle')\n",
    "utils_.save_pickle(history.history, '../data/mtl/check_point/multi_label_focal_loss_weight/history_20220706.pickle')"
   ]
  },
  {
   "cell_type": "code",
   "execution_count": null,
   "metadata": {},
   "outputs": [],
   "source": [
    "# tf.saved_model.save(model, '../data/mtl/model/multi_label/')\n",
    "# tf.saved_model.save(model, '../data/mtl/model/multi_label_focal_loss/')\n",
    "tf.saved_model.save(model, '../data/mtl/model/multi_label_focal_loss_weight/')"
   ]
  },
  {
   "cell_type": "markdown",
   "metadata": {},
   "source": [
    "* 训练效果"
   ]
  },
  {
   "cell_type": "code",
   "execution_count": null,
   "metadata": {},
   "outputs": [],
   "source": [
    "# dict_fit_history = utils_.load_pickle('../data/mtl/check_point/multi_label/history_20220623.pickle')\n",
    "# dict_fit_history = utils_.load_pickle('../data/mtl/check_point/multi_label_focal_loss/history_20220705.pickle')\n",
    "dict_fit_history = utils_.load_pickle('../data/mtl/check_point/multi_label_focal_loss_weight/history_20220706.pickle')\n",
    "df_fit_history = pd.DataFrame(dict_fit_history)\n",
    "print(df_fit_history.shape)\n",
    "df_fit_history.head()"
   ]
  },
  {
   "cell_type": "code",
   "execution_count": null,
   "metadata": {},
   "outputs": [],
   "source": [
    "sns.lineplot(data=df_fit_history[['loss', 'val_loss']])"
   ]
  },
  {
   "cell_type": "code",
   "execution_count": null,
   "metadata": {},
   "outputs": [],
   "source": [
    "sns.lineplot(data=df_fit_history[['output_1_loss', 'val_output_1_loss']])"
   ]
  },
  {
   "cell_type": "code",
   "execution_count": null,
   "metadata": {},
   "outputs": [],
   "source": [
    "# 重制网络结构，加载最优权重\n",
    "model_restore = MTL(feature_columns, \n",
    "                    num_experts=3, expert_dnn_hidden_units=(256, 128, 64), \n",
    "                    gate_dnn_hidden_units=(), \n",
    "                    l2_reg_embedding=0.00001, \n",
    "                    l2_reg_dnn=0, \n",
    "                    seed=2022, \n",
    "                    dnn_dropout=0, \n",
    "                    dnn_activation='relu', \n",
    "                    dnn_use_bn=False, \n",
    "                    label_types=('binary', 'binary', 'binary', 'binary'), label_names=('item_1', 'item_2', 'item_3', 'Other'))"
   ]
  },
  {
   "cell_type": "code",
   "execution_count": null,
   "metadata": {},
   "outputs": [],
   "source": [
    "model_restore.compile(optimizer=keras.optimizers.Adam(lr=0.001), \n",
    "#                       loss=['binary_crossentropy', 'binary_crossentropy', 'binary_crossentropy', 'binary_crossentropy'], \n",
    "                      loss=[focal_loss(), focal_loss(alpha=0.1), focal_loss(alpha=0.1), focal_loss(alpha=0.01)], \n",
    "                      metrics=['binary_crossentropy'], \n",
    "                      loss_weights=[1, 10, 10, 100]\n",
    "                     )\n",
    "model_restore.build(input_shape=(df_X_train_transform.values.shape[0], df_X_train_transform.values.shape[1]))\n",
    "# model_restore.load_weights('../data/mtl/check_point/multi_label/weights-improvement-002-0.1225.hdf5')\n",
    "# model_restore.load_weights('../data/mtl/check_point/multi_label_focal_loss/weights-improvement-003-11.2687.hdf5')\n",
    "model_restore.load_weights('../data/mtl/check_point/multi_label_focal_loss_weight/weights-improvement-003-19.5802.hdf5')"
   ]
  },
  {
   "cell_type": "code",
   "execution_count": null,
   "metadata": {},
   "outputs": [],
   "source": [
    "pred_train = model_restore.predict(df_X_train_transform.values, batch_size=1024)"
   ]
  },
  {
   "cell_type": "code",
   "execution_count": null,
   "metadata": {},
   "outputs": [],
   "source": [
    "df_y = pd.concat([df_y_train.reset_index(drop=True), \n",
    "                  pd.DataFrame(pred_train[0], columns=['label_item_info_submit_click_x1_pred']), \n",
    "                  pd.DataFrame(pred_train[1], columns=['label_item_info_submit_click_x2_pred']), \n",
    "                  pd.DataFrame(pred_train[2], columns=['label_item_info_submit_click_x3_pred']), \n",
    "                  pd.DataFrame(pred_train[3], columns=['label_item_info_submit_click_other_pred'])], \n",
    "                 axis=1)\n",
    "print(df_y.shape)\n",
    "df_y.head()"
   ]
  },
  {
   "cell_type": "code",
   "execution_count": null,
   "metadata": {},
   "outputs": [],
   "source": [
    "roc_auc_score(df_y['label_item_info_submit_click_x1'], df_y['label_item_info_submit_click_x1_pred'])"
   ]
  },
  {
   "cell_type": "code",
   "execution_count": null,
   "metadata": {},
   "outputs": [],
   "source": [
    "roc_auc_score(df_y['label_item_info_submit_click_x2'], df_y['label_item_info_submit_click_x2_pred'])"
   ]
  },
  {
   "cell_type": "code",
   "execution_count": null,
   "metadata": {},
   "outputs": [],
   "source": [
    "roc_auc_score(df_y['label_item_info_submit_click_x3'], df_y['label_item_info_submit_click_x3_pred'])"
   ]
  },
  {
   "cell_type": "code",
   "execution_count": null,
   "metadata": {},
   "outputs": [],
   "source": [
    "roc_auc_score(df_y['label_item_info_submit_click_other'], df_y['label_item_info_submit_click_other_pred'])"
   ]
  },
  {
   "cell_type": "markdown",
   "metadata": {},
   "source": [
    "* 测试"
   ]
  },
  {
   "cell_type": "code",
   "execution_count": null,
   "metadata": {},
   "outputs": [],
   "source": [
    "# 数据转换\n",
    "df_id_test = utils_.load_pickle('../data/mtl/df_id_test_20220410_20220529.pickle')\n",
    "df_y_test = utils_.load_pickle('../data/mtl/df_y_test_20220410_20220529.pickle')\n",
    "df_X_test = utils_.load_pickle('../data/mtl/df_X_test_20220410_20220529.pickle')\n",
    "\n",
    "print(df_id_test.shape)\n",
    "print(df_y_test.shape)\n",
    "print(df_X_test.shape)"
   ]
  },
  {
   "cell_type": "code",
   "execution_count": null,
   "metadata": {},
   "outputs": [],
   "source": [
    "list_sx2rse_features = utils_.load_pickle('../data/mtl/list_sx2rse_features.pickle')\n",
    "list_dense_features = utils_.load_pickle('../data/mtl/list_dense_features.pickle')\n",
    "\n",
    "print(len(list_sx2rse_features))\n",
    "print(len(list_dense_features))"
   ]
  },
  {
   "cell_type": "code",
   "execution_count": null,
   "metadata": {},
   "outputs": [],
   "source": [
    "ss = joblib.load('../data/mtl/ss.pickle')\n",
    "X_test_ss = ss.transform(df_X_test[list_dense_features])\n",
    "print(X_test_ss.shape)"
   ]
  },
  {
   "cell_type": "code",
   "execution_count": null,
   "metadata": {},
   "outputs": [],
   "source": [
    "df_X_test_dense_ss = pd.DataFrame(X_test_ss, columns=list_dense_features)\n",
    "print(df_X_test_dense_ss.shape)\n",
    "df_X_test_dense_ss.head()"
   ]
  },
  {
   "cell_type": "code",
   "execution_count": null,
   "metadata": {
    "scrolled": true
   },
   "outputs": [],
   "source": [
    "dict_lbe = joblib.load('../data/mtl/dict_lbe.pickle')\n",
    "list_df_X_test_sx2rse = []\n",
    "\n",
    "try:\n",
    "    with tqdm(list_sx2rse_features) as t:\n",
    "        for x in t:\n",
    "            print(x)\n",
    "            if x == 'x1':\n",
    "                df_X_test[x].replace({38:0}, inplace=True)\n",
    "            if x == 'x2':\n",
    "                df_X_test[x].replace({339:-1}, inplace=True)\n",
    "            if x == 'x3':\n",
    "                for y in [140425, 140923, 141025, 150421, 150428, 152526, 210122, 210124, 230125, 230184, 230605, 231225, 341825, 420529, 450421, 522625, 610622, 610929, 611026, 620522, 621226, 622901, 654023]:\n",
    "                    df_X_test[x].replace({y:-1}, inplace=True)\n",
    "            df_X_test_sx2rse_each = pd.DataFrame(dict_lbe[x].transform(df_X_test[x]), columns=[x])\n",
    "            list_df_X_test_sx2rse.append(df_X_test_sx2rse_each)\n",
    "except KeyboardInterrupt:\n",
    "    t.close()\n",
    "    raise\n",
    "t.close()\n",
    "\n",
    "df_X_test_sx2rse = pd.concat(list_df_X_test_sx2rse, axis=1)\n",
    "print(df_X_test_sx2rse.shape)\n",
    "df_X_test_sx2rse.head()"
   ]
  },
  {
   "cell_type": "code",
   "execution_count": null,
   "metadata": {},
   "outputs": [],
   "source": [
    "df_X_test_transform = pd.concat([df_X_test_sx2rse, df_X_test_dense_ss], axis=1)\n",
    "print(df_X_test_transform.shape)\n",
    "df_X_test_transform.head()"
   ]
  },
  {
   "cell_type": "code",
   "execution_count": null,
   "metadata": {},
   "outputs": [],
   "source": [
    "utils_.save_pickle(df_X_test_transform, '../data/mtl/df_X_test_transform_20220410_20220529.pickle')"
   ]
  },
  {
   "cell_type": "code",
   "execution_count": null,
   "metadata": {},
   "outputs": [],
   "source": [
    "df_X_test_transform = utils_.load_pickle('../data/mtl/df_X_test_transform_20220410_20220529.pickle')\n",
    "print(df_X_test_transform.shape)\n",
    "df_X_test_transform.head()"
   ]
  },
  {
   "cell_type": "code",
   "execution_count": null,
   "metadata": {},
   "outputs": [],
   "source": [
    "# 加载模型\n",
    "feature_columns = utils_.load_pickle('../data/mtl/feature_columns.pickle')\n",
    "\n",
    "model_restore = MTL(feature_columns, \n",
    "                    num_experts=3, expert_dnn_hidden_units=(256, 128, 64), \n",
    "                    gate_dnn_hidden_units=(), \n",
    "                    l2_reg_embedding=0.00001, \n",
    "                    l2_reg_dnn=0, \n",
    "                    seed=2022, \n",
    "                    dnn_dropout=0, \n",
    "                    dnn_activation='relu', \n",
    "                    dnn_use_bn=False, \n",
    "                    label_types=('binary', 'binary', 'binary', 'binary'), label_names=('item_1', 'item_2', 'item_3', 'Other'))\n",
    "model_restore.compile(optimizer=keras.optimizers.Adam(lr=0.001), \n",
    "#                       loss=['binary_crossentropy', 'binary_crossentropy', 'binary_crossentropy', 'binary_crossentropy'], \n",
    "                      loss=[focal_loss(), focal_loss(alpha=0.1), focal_loss(alpha=0.1), focal_loss(alpha=0.01)], \n",
    "                      metrics=['binary_crossentropy'], \n",
    "                      loss_weights=[1, 10, 10, 100]\n",
    "                     )\n",
    "model_restore.build(input_shape=(df_X_test_transform.values.shape[0], df_X_test_transform.values.shape[1]))\n",
    "# model_restore.load_weights('../data/mtl/check_point/multi_label/weights-improvement-002-0.1225.hdf5')\n",
    "# model_restore.load_weights('../data/mtl/check_point/multi_label_focal_loss/weights-improvement-003-11.2687.hdf5')\n",
    "model_restore.load_weights('../data/mtl/check_point/multi_label_focal_loss_weight/weights-improvement-003-19.5802.hdf5')"
   ]
  },
  {
   "cell_type": "code",
   "execution_count": null,
   "metadata": {},
   "outputs": [],
   "source": [
    "df_y_test = utils_.load_pickle('../data/mtl/df_y_test_20220410_20220529.pickle')\n",
    "print(df_y_test.shape)"
   ]
  },
  {
   "cell_type": "code",
   "execution_count": null,
   "metadata": {},
   "outputs": [],
   "source": [
    "# 测试数据\n",
    "pred_test = model_restore.predict(df_X_test_transform.values, batch_size=1024)\n",
    "\n",
    "df_y = pd.concat([df_y_test.reset_index(drop=True), \n",
    "                  pd.DataFrame(pred_test[0], columns=['label_item_info_submit_click_x1_pred']), \n",
    "                  pd.DataFrame(pred_test[1], columns=['label_item_info_submit_click_x2_pred']), \n",
    "                  pd.DataFrame(pred_test[2], columns=['label_item_info_submit_click_x3_pred']), \n",
    "                  pd.DataFrame(pred_test[3], columns=['label_item_info_submit_click_other_pred'])], \n",
    "                 axis=1)\n",
    "print(df_y.shape)\n",
    "df_y.head()"
   ]
  },
  {
   "cell_type": "code",
   "execution_count": null,
   "metadata": {},
   "outputs": [],
   "source": [
    "# 测试效果\n",
    "# 整体\n",
    "# AUC\n",
    "roc_auc_score(df_y['label_item_info_submit_click_x1'], df_y['label_item_info_submit_click_x1_pred'])"
   ]
  },
  {
   "cell_type": "code",
   "execution_count": null,
   "metadata": {},
   "outputs": [],
   "source": [
    "roc_auc_score(df_y['label_item_info_submit_click_x2'], df_y['label_item_info_submit_click_x2_pred'])"
   ]
  },
  {
   "cell_type": "code",
   "execution_count": null,
   "metadata": {},
   "outputs": [],
   "source": [
    "roc_auc_score(df_y['label_item_info_submit_click_x3'], df_y['label_item_info_submit_click_x3_pred'])"
   ]
  },
  {
   "cell_type": "code",
   "execution_count": null,
   "metadata": {},
   "outputs": [],
   "source": [
    "roc_auc_score(df_y['label_item_info_submit_click_other'], df_y['label_item_info_submit_click_other_pred'])"
   ]
  },
  {
   "cell_type": "code",
   "execution_count": null,
   "metadata": {},
   "outputs": [],
   "source": [
    "# Recall@30%\n",
    "def cal_recall(df_y, y_true, y_pred, threshold=0.3):\n",
    "    df_y_sort = df_y.copy()\n",
    "    df_y_sort.sort_values(by=y_pred, ascending=False, inplace=True)\n",
    "    df_y_sort.reset_index(drop=True, inplace=True)\n",
    "    \n",
    "    df_y_sort['label_recall'] = 0\n",
    "    df_y_sort.loc[:int(df_y_sort.shape[0]*threshold), 'label_recall'] = 1\n",
    "    \n",
    "    dict_cr = classification_report(df_y_sort[y_true], df_y_sort['label_recall'], output_dict=True)\n",
    "    \n",
    "    return dict_cr['1.0']['recall']"
   ]
  },
  {
   "cell_type": "code",
   "execution_count": null,
   "metadata": {},
   "outputs": [],
   "source": [
    "cal_recall(df_y, 'label_item_info_submit_click_x1', 'label_item_info_submit_click_x1_pred')"
   ]
  },
  {
   "cell_type": "code",
   "execution_count": null,
   "metadata": {},
   "outputs": [],
   "source": [
    "cal_recall(df_y, 'label_item_info_submit_click_x2', 'label_item_info_submit_click_x2_pred')"
   ]
  },
  {
   "cell_type": "code",
   "execution_count": null,
   "metadata": {},
   "outputs": [],
   "source": [
    "cal_recall(df_y, 'label_item_info_submit_click_x3', 'label_item_info_submit_click_x3_pred')"
   ]
  },
  {
   "cell_type": "code",
   "execution_count": null,
   "metadata": {},
   "outputs": [],
   "source": [
    "cal_recall(df_y, 'label_item_info_submit_click_other', 'label_item_info_submit_click_other_pred')"
   ]
  },
  {
   "cell_type": "code",
   "execution_count": null,
   "metadata": {},
   "outputs": [],
   "source": [
    "df_id_test = utils_.load_pickle('../data/mtl/df_id_test_20220410_20220529.pickle')\n",
    "print(df_id_test.shape)"
   ]
  },
  {
   "cell_type": "code",
   "execution_count": null,
   "metadata": {},
   "outputs": [],
   "source": [
    "df_uid_y = pd.concat([df_id_test.reset_index(drop=True), df_y], axis=1)\n",
    "print(df_uid_y.shape)\n",
    "df_uid_y.head()"
   ]
  },
  {
   "cell_type": "code",
   "execution_count": null,
   "metadata": {},
   "outputs": [],
   "source": [
    "# 测试效果\n",
    "# 独立\n",
    "df_uid_y_x1 = df_uid_y[df_uid_y['item_id_0']==1]\n",
    "df_uid_y_x2 = df_uid_y[df_uid_y['item_id_1']==1]\n",
    "df_uid_y_x3 = df_uid_y[df_uid_y['item_id_2']==1]\n",
    "df_uid_y_other = df_uid_y[df_uid_y['item_id_3']==1]\n",
    "\n",
    "print(df_uid_y_x1.shape)\n",
    "print(df_uid_y_x2.shape)\n",
    "print(df_uid_y_x3.shape)\n",
    "print(df_uid_y_other.shape)"
   ]
  },
  {
   "cell_type": "code",
   "execution_count": null,
   "metadata": {},
   "outputs": [],
   "source": [
    "# AUC\n",
    "print('x1_item：{x1}'.format(x1=roc_auc_score(df_uid_y_x1['label_item_info_submit_click_x1'], df_uid_y_x1['label_item_info_submit_click_x1_pred'])))\n",
    "print('item：{x2}'.format(x2=roc_auc_score(df_uid_y_x2['label_item_info_submit_click_x2'], df_uid_y_x2['label_item_info_submit_click_x2_pred'])))\n",
    "print('item：{x3}'.format(x3=roc_auc_score(df_uid_y_x3['label_item_info_submit_click_x3'], df_uid_y_x3['label_item_info_submit_click_x3_pred'])))\n",
    "print('s：{other}'.format(other=roc_auc_score(df_uid_y_other['label_item_info_submit_click_other'], df_uid_y_other['label_item_info_submit_click_other_pred'])))"
   ]
  },
  {
   "cell_type": "code",
   "execution_count": null,
   "metadata": {},
   "outputs": [],
   "source": [
    "# Recall@30%\n",
    "print('x1_item：{x1}'.format(x1=cal_recall(df_uid_y_x1, 'label_item_info_submit_click_x1', 'label_item_info_submit_click_x1_pred')))\n",
    "print('x2_item：{x2}'.format(x2=cal_recall(df_uid_y_x2, 'label_item_info_submit_click_x2', 'label_item_info_submit_click_x2_pred')))\n",
    "print('x3_item：{x3}'.format(x3=cal_recall(df_uid_y_x3, 'label_item_info_submit_click_x3', 'label_item_info_submit_click_x3_pred')))\n",
    "print('s：{other}'.format(other=cal_recall(df_uid_y_other, 'label_item_info_submit_click_other', 'label_item_info_submit_click_other_pred')))"
   ]
  },
  {
   "cell_type": "markdown",
   "metadata": {},
   "source": [
    "# 与现有模型比较"
   ]
  },
  {
   "cell_type": "markdown",
   "metadata": {},
   "source": [
    "* 数据"
   ]
  },
  {
   "cell_type": "code",
   "execution_count": null,
   "metadata": {},
   "outputs": [],
   "source": [
    "# X\n",
    "df = pd.read_csv('../data/zfbx_aspiration_sample_label_feature_all_items_u1s_select_ht_2022-06-05_7.txt', sep='\\t', encoding='utf-8')\n",
    "\n",
    "print(df.shape)\n",
    "df.head()"
   ]
  },
  {
   "cell_type": "code",
   "execution_count": null,
   "metadata": {},
   "outputs": [],
   "source": [
    "# X city\n",
    "df_city = pd.read_csv('../data/zfbx_aspiration_sample_label_feature_city_all_items_u1s_select_ht_20220605.txt', sep='\\t', encoding='utf-8')\n",
    "\n",
    "print(df_city.shape)\n",
    "df_city.head()"
   ]
  },
  {
   "cell_type": "code",
   "execution_count": null,
   "metadata": {},
   "outputs": [],
   "source": [
    "# X added1\n",
    "df_added1 = pd.read_csv('../data/zfbx_aspiration_sample_label_feature_added1_all_items_u1s_select_ht_2022-06-05_7.txt', sep='\\t', encoding='utf-8')\n",
    "\n",
    "print(df_added1.shape)\n",
    "df_added1.head()"
   ]
  },
  {
   "cell_type": "code",
   "execution_count": null,
   "metadata": {},
   "outputs": [],
   "source": [
    "list_feats_id_y = ['uid', \n",
    "                   'obs_dt', 'dt', \n",
    "                   'item', \n",
    "                   'label_product_apply_click', 'is_item_info_exposure', 'label_item_info_submit_click', 'label_item_x2ss']\n",
    "\n",
    "list_feats_x = utils_.load_pickle('../data/list_feats/list_feats_x_ht_all_items_u1s_20220410_20220424_combine.pickle')\n",
    "list_feats_x_city = utils_.load_pickle('../data/list_feats/list_feats_x_ht_all_items_u1s_city_20220410_20220424_combine.pickle')\n",
    "list_feats_x_added1 = utils_.load_pickle('../data/list_feats/list_feats_x_ht_all_items_u1s_added1_20220410_20220424_combine.pickle')\n",
    "\n",
    "list_feats = list_feats_x + list_feats_x_city + list_feats_x_added1\n",
    "\n",
    "print(len(list_feats_x))\n",
    "print(len(list_feats_x_city))\n",
    "print(len(list_feats_x_added1))\n",
    "print(len(list_feats))"
   ]
  },
  {
   "cell_type": "code",
   "execution_count": null,
   "metadata": {},
   "outputs": [],
   "source": [
    "df['obs_dt'] = pd.to_datetime(df['obs_dt'])\n",
    "df['dt'] = pd.to_datetime(df['dt'])\n",
    "\n",
    "df_city['obs_dt'] = pd.to_datetime(df_city['obs_dt'])\n",
    "df_city['dt'] = pd.to_datetime(df_city['dt'])\n",
    "\n",
    "df_added1['obs_dt'] = pd.to_datetime(df_added1['obs_dt'])\n",
    "df_added1['dt'] = pd.to_datetime(df_added1['dt'])"
   ]
  },
  {
   "cell_type": "code",
   "execution_count": null,
   "metadata": {},
   "outputs": [],
   "source": [
    "%%time\n",
    "df_all = df[list_feats_id_y+list_feats_x].merge(df_city[list_feats_id_y+list_feats_x_city], on=list_feats_id_y, how='left').\\\n",
    "    merge(df_added1[list_feats_id_y+list_feats_x_added1], on=list_feats_id_y, how='left')\n",
    "print(df_all.shape)\n",
    "df_all.head()"
   ]
  },
  {
   "cell_type": "code",
   "execution_count": null,
   "metadata": {},
   "outputs": [],
   "source": [
    "df_all.groupby(by=['obs_dt', 'dt'])['uid'].count()"
   ]
  },
  {
   "cell_type": "code",
   "execution_count": null,
   "metadata": {},
   "outputs": [],
   "source": [
    "df_count = df_all[['uid', 'obs_dt', 'dt', 'item']].groupby(by=['uid', 'obs_dt', 'dt'], as_index=False).count()\n",
    "print(df_count.shape)\n",
    "df_count['item'].value_counts()"
   ]
  },
  {
   "cell_type": "code",
   "execution_count": null,
   "metadata": {},
   "outputs": [],
   "source": [
    "df_all['item_id'] = df_all['item'].apply(lambda x: 0 if x=='x1_item' else 1 if x=='x2_item' else 2 if x=='x3_item' else 3)\n",
    "df_all[['item', 'item_id', 'uid']].groupby(['item', 'item_id']).count()"
   ]
  },
  {
   "cell_type": "code",
   "execution_count": null,
   "metadata": {},
   "outputs": [],
   "source": [
    "list_feats_ohe = ['item_id']\n",
    "list_df_ohe = []\n",
    "try:\n",
    "    with tqdm(list_feats_ohe) as t:\n",
    "        for feat in t:\n",
    "            df_ohe_feat = utils_.one_hot_encoder(df_all, feat)\n",
    "            list_df_ohe.append(df_ohe_feat)\n",
    "except KeyboardInterrupt:\n",
    "    t.close()\n",
    "    raise\n",
    "t.close()\n",
    "\n",
    "df_ohe = pd.concat(list_df_ohe, axis=1)\n",
    "print(df_ohe.shape)\n",
    "df_ohe.head()"
   ]
  },
  {
   "cell_type": "code",
   "execution_count": null,
   "metadata": {},
   "outputs": [],
   "source": [
    "df_all = pd.concat([df_all, df_ohe], axis=1)\n",
    "print(df_all.shape)\n",
    "df_all.head()"
   ]
  },
  {
   "cell_type": "code",
   "execution_count": null,
   "metadata": {},
   "outputs": [],
   "source": [
    "df_all['label_item_info_submit_click_x1'] = df_all['label_item_info_submit_click'] * df_all['item_id_0']\n",
    "df_all['label_item_info_submit_click_x2'] = df_all['label_item_info_submit_click'] * df_all['item_id_1']\n",
    "df_all['label_item_info_submit_click_x3'] = df_all['label_item_info_submit_click'] * df_all['item_id_2']\n",
    "df_all['label_item_info_submit_click_other'] = df_all['label_item_info_submit_click'] * df_all['item_id_3']\n",
    "\n",
    "print(df_all.shape)\n",
    "df_all.head()"
   ]
  },
  {
   "cell_type": "code",
   "execution_count": null,
   "metadata": {},
   "outputs": [],
   "source": [
    "df_all = df_all[['uid', 'obs_dt', 'dt']+\n",
    "                ['item_id_0', 'item_id_1', 'item_id_2', 'item_id_3']+\n",
    "                list_feats+\n",
    "                ['label_item_info_submit_click_x1', 'label_item_info_submit_click_x2', 'label_item_info_submit_click_x3', 'label_item_info_submit_click_other']]\n",
    "print(df_all.shape)\n",
    "df_all.head()"
   ]
  },
  {
   "cell_type": "code",
   "execution_count": null,
   "metadata": {},
   "outputs": [],
   "source": [
    "# 单日多item去重处理\n",
    "df_items = df_count[df_count['item']>=2][['uid', 'obs_dt', 'dt']].merge(df_all, on=['uid', 'obs_dt', 'dt'], how='left')\n",
    "print(df_items.shape)\n",
    "df_items.head()"
   ]
  },
  {
   "cell_type": "code",
   "execution_count": null,
   "metadata": {},
   "outputs": [],
   "source": [
    "# 合并后去重\n",
    "df_items_grouped = df_items.groupby(by=['uid', 'obs_dt', 'dt'])\n",
    "list_df_items_combine = apply_x2rallel(df_items_grouped, func_combine)\n",
    "df_items_combine = pd.concat(list_df_items_combine, axis=0)\n",
    "df_items_combine.reset_index(drop=True, inplace=True)\n",
    "print(df_items_combine.shape)\n",
    "df_items_combine.head()"
   ]
  },
  {
   "cell_type": "code",
   "execution_count": null,
   "metadata": {},
   "outputs": [],
   "source": [
    "%%time\n",
    "# 单日单item直接处理\n",
    "df_item = df_count[df_count['item']==1][['uid', 'obs_dt', 'dt']].merge(df_all, on=['uid', 'obs_dt', 'dt'], how='left')\n",
    "print(df_item.shape)\n",
    "df_item.head()"
   ]
  },
  {
   "cell_type": "code",
   "execution_count": null,
   "metadata": {},
   "outputs": [],
   "source": [
    "df_mtl = pd.concat([df_item, df_items_combine], axis=0)\n",
    "df_mtl.reset_index(drop=True, inplace=True)\n",
    "print(df_mtl.shape)\n",
    "df_mtl.head()"
   ]
  },
  {
   "cell_type": "code",
   "execution_count": null,
   "metadata": {},
   "outputs": [],
   "source": [
    "df_id = df_mtl[['uid', 'obs_dt', 'dt', 'item_id_0', 'item_id_1', 'item_id_2', 'item_id_3']]\n",
    "df_y = df_mtl[['label_item_info_submit_click_x1', 'label_item_info_submit_click_x2', 'label_item_info_submit_click_x3', 'label_item_info_submit_click_other']]\n",
    "df_X = df_mtl[list_feats]\n",
    "\n",
    "print(df_id.shape)\n",
    "print(df_y.shape)\n",
    "print(df_X.shape)"
   ]
  },
  {
   "cell_type": "markdown",
   "metadata": {},
   "source": [
    "* 测试"
   ]
  },
  {
   "cell_type": "code",
   "execution_count": null,
   "metadata": {},
   "outputs": [],
   "source": [
    "list_sx2rse_features = utils_.load_pickle('../data/mtl/list_sx2rse_features.pickle')\n",
    "list_dense_features = utils_.load_pickle('../data/mtl/list_dense_features.pickle')\n",
    "\n",
    "print(len(list_sx2rse_features))\n",
    "print(len(list_dense_features))"
   ]
  },
  {
   "cell_type": "code",
   "execution_count": null,
   "metadata": {},
   "outputs": [],
   "source": [
    "ss = joblib.load('../data/mtl/ss.pickle')\n",
    "X_ss = ss.transform(df_X[list_dense_features])\n",
    "print(X_ss.shape)"
   ]
  },
  {
   "cell_type": "code",
   "execution_count": null,
   "metadata": {},
   "outputs": [],
   "source": [
    "df_X_dense_ss = pd.DataFrame(X_ss, columns=list_dense_features)\n",
    "print(df_X_dense_ss.shape)\n",
    "df_X_dense_ss.head()"
   ]
  },
  {
   "cell_type": "code",
   "execution_count": null,
   "metadata": {
    "scrolled": true
   },
   "outputs": [],
   "source": [
    "dict_lbe = joblib.load('../data/mtl/dict_lbe.pickle')\n",
    "list_df_X_sx2rse = []\n",
    "\n",
    "try:\n",
    "    with tqdm(list_sx2rse_features) as t:\n",
    "        for x in t:\n",
    "            print(x)\n",
    "            if x == 'x1':\n",
    "                df_X[x].replace({217:216}, inplace=True)\n",
    "            if x == 'x2':\n",
    "                df_X[x].replace({38:0}, inplace=True)\n",
    "            if x == 'x3':\n",
    "                for y in [213, 217]:\n",
    "                    df_X[x].replace({y:-1}, inplace=True)\n",
    "#             if x == 'permit_month':\n",
    "#                 df_X[x].replace({49:48}, inplace=True)\n",
    "            if x == 'x4':\n",
    "                df_X[x].replace({236:0}, inplace=True)\n",
    "            if x == 'x5':\n",
    "                df_X[x].replace({213:-1}, inplace=True)\n",
    "            if x == 'x6':\n",
    "                for y in [213, 217, 309]:\n",
    "                    df_X[x].replace({y:0}, inplace=True)\n",
    "            if x == 'x7':\n",
    "                df_X[x].replace({217:216}, inplace=True)\n",
    "            if x == 'x8':\n",
    "                for y in [0, 217]:\n",
    "                    df_X[x].replace({y:-1}, inplace=True)\n",
    "            if x == 'x9':\n",
    "                for y in [140922, 141034, 220182, 222403, 230227, 230521, 231083, 231102, 341825, 431223, 511129, 513434, 620723, 621124, 630222, 632802, 640521, 654023]:\n",
    "                    df_X[x].replace({y:-1}, inplace=True)\n",
    "            if x == 'x10':\n",
    "                df_X[x].replace({236:-1}, inplace=True)        \n",
    "            if x == 'x11':\n",
    "                for y in [236, 289]:\n",
    "                    df_X[x].replace({y:-1}, inplace=True)\n",
    "                    \n",
    "            df_X_sx2rse_each = pd.DataFrame(dict_lbe[x].transform(df_X[x]), columns=[x])\n",
    "            list_df_X_sx2rse.append(df_X_sx2rse_each)\n",
    "except KeyboardInterrupt:\n",
    "    t.close()\n",
    "    raise\n",
    "t.close()\n",
    "\n",
    "df_X_sx2rse = pd.concat(list_df_X_sx2rse, axis=1)\n",
    "print(df_X_sx2rse.shape)\n",
    "df_X_sx2rse.head()"
   ]
  },
  {
   "cell_type": "code",
   "execution_count": null,
   "metadata": {},
   "outputs": [],
   "source": [
    "df_X_transform = pd.concat([df_X_sx2rse, df_X_dense_ss], axis=1)\n",
    "print(df_X_transform.shape)\n",
    "df_X_transform.head()"
   ]
  },
  {
   "cell_type": "code",
   "execution_count": null,
   "metadata": {},
   "outputs": [],
   "source": [
    "# 加载模型\n",
    "feature_columns = utils_.load_pickle('../data/mtl/feature_columns.pickle')\n",
    "\n",
    "model_restore = MTL(feature_columns, \n",
    "                    num_experts=3, expert_dnn_hidden_units=(256, 128, 64), \n",
    "                    gate_dnn_hidden_units=(), \n",
    "                    l2_reg_embedding=0.00001, \n",
    "                    l2_reg_dnn=0, \n",
    "                    seed=2022, \n",
    "                    dnn_dropout=0, \n",
    "                    dnn_activation='relu', \n",
    "                    dnn_use_bn=False, \n",
    "                    label_types=('binary', 'binary', 'binary', 'binary'), label_names=('item_1', 'item_2', 'item_3', 'Other'))\n",
    "model_restore.compile(optimizer=keras.optimizers.Adam(lr=0.001), \n",
    "#                       loss=['binary_crossentropy', 'binary_crossentropy', 'binary_crossentropy', 'binary_crossentropy'], \n",
    "                      loss=[focal_loss(), focal_loss(alpha=0.1), focal_loss(alpha=0.1), focal_loss(alpha=0.01)], \n",
    "                      metrics=['binary_crossentropy'], \n",
    "                      loss_weights=[1, 10, 10, 100]\n",
    "                     )\n",
    "model_restore.build(input_shape=(df_X_transform.values.shape[0], df_X_transform.values.shape[1]))\n",
    "# model_restore.load_weight/s('../data/mtl/check_point/multi_label/weights-improvement-002-0.1225.hdf5')\n",
    "# model_restore.load_weights('../data/mtl/check_point/multi_label_focal_loss/weights-improvement-003-11.2687.hdf5')\n",
    "model_restore.load_weights('../data/mtl/check_point/multi_label_focal_loss_weight/weights-improvement-003-19.5802.hdf5')"
   ]
  },
  {
   "cell_type": "code",
   "execution_count": null,
   "metadata": {},
   "outputs": [],
   "source": [
    "# 测试数据\n",
    "pred_test = model_restore.predict(df_X_transform.values, batch_size=1024)\n",
    "\n",
    "df_y_pred = pd.concat([df_y.reset_index(drop=True), \n",
    "                       pd.DataFrame(pred_test[0], columns=['label_item_info_submit_click_x1_pred']), \n",
    "                       pd.DataFrame(pred_test[1], columns=['label_item_info_submit_click_x2_pred']), \n",
    "                       pd.DataFrame(pred_test[2], columns=['label_item_info_submit_click_x3_pred']), \n",
    "                       pd.DataFrame(pred_test[3], columns=['label_item_info_submit_click_other_pred'])], \n",
    "                      axis=1)\n",
    "print(df_y_pred.shape)\n",
    "df_y_pred.head()"
   ]
  },
  {
   "cell_type": "code",
   "execution_count": null,
   "metadata": {},
   "outputs": [],
   "source": [
    "# 整体\n",
    "# AUC\n",
    "print('x1_item：{x1}'.format(x1=roc_auc_score(df_y_pred['label_item_info_submit_click_x1'], df_y_pred['label_item_info_submit_click_x1_pred'])))\n",
    "print('x2_item：{x2}'.format(x2=roc_auc_score(df_y_pred['label_item_info_submit_click_x2'], df_y_pred['label_item_info_submit_click_x2_pred'])))\n",
    "print('x3_item：{x3}'.format(x3=roc_auc_score(df_y_pred['label_item_info_submit_click_x3'], df_y_pred['label_item_info_submit_click_x3_pred'])))\n",
    "print('s：{other}'.format(other=roc_auc_score(df_y_pred['label_item_info_submit_click_other'], df_y_pred['label_item_info_submit_click_other_pred'])))"
   ]
  },
  {
   "cell_type": "code",
   "execution_count": null,
   "metadata": {},
   "outputs": [],
   "source": [
    "# Recall@30%\n",
    "print('x1_item：{x1}'.format(x1=cal_recall(df_y_pred, 'label_item_info_submit_click_x1', 'label_item_info_submit_click_x1_pred')))\n",
    "print('x2_item：{x2}'.format(x2=cal_recall(df_y_pred, 'label_item_info_submit_click_x2', 'label_item_info_submit_click_x2_pred')))\n",
    "print('x3_item：{x3}'.format(x3=cal_recall(df_y_pred, 'label_item_info_submit_click_x3', 'label_item_info_submit_click_x3_pred')))\n",
    "print('s：{other}'.format(other=cal_recall(df_y_pred, 'label_item_info_submit_click_other', 'label_item_info_submit_click_other_pred')))"
   ]
  },
  {
   "cell_type": "code",
   "execution_count": null,
   "metadata": {},
   "outputs": [],
   "source": [
    "df_uid_y = pd.concat([df_id.reset_index(drop=True), df_y_pred], axis=1)\n",
    "print(df_uid_y.shape)\n",
    "df_uid_y.head()"
   ]
  },
  {
   "cell_type": "code",
   "execution_count": null,
   "metadata": {},
   "outputs": [],
   "source": [
    "# 测试效果\n",
    "# 独立\n",
    "df_uid_y_x1 = df_uid_y[df_uid_y['item_id_0']==1]\n",
    "df_uid_y_x2 = df_uid_y[df_uid_y['item_id_1']==1]\n",
    "df_uid_y_x3 = df_uid_y[df_uid_y['item_id_2']==1]\n",
    "df_uid_y_other = df_uid_y[df_uid_y['item_id_3']==1]\n",
    "\n",
    "print(df_uid_y_x1.shape)\n",
    "print(df_uid_y_x2.shape)\n",
    "print(df_uid_y_x3.shape)\n",
    "print(df_uid_y_other.shape)"
   ]
  },
  {
   "cell_type": "code",
   "execution_count": null,
   "metadata": {},
   "outputs": [],
   "source": [
    "# AUC\n",
    "print('x1_item：{x1}'.format(x1=roc_auc_score(df_uid_y_x1['label_item_info_submit_click_x1'], df_uid_y_x1['label_item_info_submit_click_x1_pred'])))\n",
    "print('x2_item：{x2}'.format(x2=roc_auc_score(df_uid_y_x2['label_item_info_submit_click_x2'], df_uid_y_x2['label_item_info_submit_click_x2_pred'])))\n",
    "print('x3_item：{x3}'.format(x3=roc_auc_score(df_uid_y_x3['label_item_info_submit_click_x3'], df_uid_y_x3['label_item_info_submit_click_x3_pred'])))\n",
    "print('s：{other}'.format(other=roc_auc_score(df_uid_y_other['label_item_info_submit_click_other'], df_uid_y_other['label_item_info_submit_click_other_pred'])))"
   ]
  },
  {
   "cell_type": "code",
   "execution_count": null,
   "metadata": {},
   "outputs": [],
   "source": [
    "# Recall@30%\n",
    "print('x1_item：{x1}'.format(x1=cal_recall(df_uid_y_x1, 'label_item_info_submit_click_x1', 'label_item_info_submit_click_x1_pred')))\n",
    "print('x2_item：{x2}'.format(x2=cal_recall(df_uid_y_x2, 'label_item_info_submit_click_x2', 'label_item_info_submit_click_x2_pred')))\n",
    "print('x3_item：{x3}'.format(x3=cal_recall(df_uid_y_x3, 'label_item_info_submit_click_x3', 'label_item_info_submit_click_x3_pred')))\n",
    "print('s：{other}'.format(other=cal_recall(df_uid_y_other, 'label_item_info_submit_click_other', 'label_item_info_submit_click_other_pred')))"
   ]
  },
  {
   "cell_type": "code",
   "execution_count": null,
   "metadata": {},
   "outputs": [],
   "source": []
  }
 ],
 "metadata": {
  "kernelspec": {
   "display_name": "Python (deepctr)",
   "language": "python",
   "name": "deepctr"
  },
  "language_info": {
   "codemirror_mode": {
    "name": "ipython",
    "version": 3
   },
   "file_extension": ".py",
   "mimetype": "text/x-python",
   "name": "python",
   "nbconvert_exporter": "python",
   "pygments_lexer": "ipython3",
   "version": "3.7.10"
  }
 },
 "nbformat": 4,
 "nbformat_minor": 4
}
