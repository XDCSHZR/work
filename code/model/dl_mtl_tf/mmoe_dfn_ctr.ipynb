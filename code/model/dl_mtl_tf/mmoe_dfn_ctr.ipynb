{
 "cells": [
  {
   "cell_type": "markdown",
   "metadata": {},
   "source": [
    "# MMOE\n",
    "## dfn ctr"
   ]
  },
  {
   "cell_type": "code",
   "execution_count": 2,
   "metadata": {
    "scrolled": true,
    "tags": []
   },
   "outputs": [],
   "source": [
    "import datetime\n",
    "import numpy as np\n",
    "import pandas as pd\n",
    "import joblib\n",
    "import warnings\n",
    "import logging\n",
    "import os\n",
    "import gc\n",
    "import matplotlib.pyplot as plt\n",
    "import matplotlib.patches as mpatches\n",
    "import seaborn as sns\n",
    "import collections\n",
    "import re\n",
    "import copy\n",
    "import tensorflow as tf\n",
    "\n",
    "import utils_\n",
    "\n",
    "from tqdm import tqdm\n",
    "from dateutil.relativedelta import relativedelta\n",
    "from joblib import Parallel, delayed\n",
    "from scipy.stats import norm\n",
    "from sklearn.preprocessing import StandardScaler, MinMaxScaler, LabelEncoder\n",
    "from sklearn.model_selection import StratifiedKFold, train_test_split\n",
    "from sklearn.metrics import confusion_matrix, classification_report, roc_auc_score\n",
    "from sklearn.inspection import permutation_importance\n",
    "# from deepctr.feature_column import SparseFeat, DenseFeat\n",
    "# from deepctr.models import MMOE\n",
    "from tensorflow import keras\n",
    "\n",
    "from utils.feature_column import SparseFeat, DenseFeat\n",
    "from model.mmoe import MMOE\n",
    "\n",
    "# pd.set_option('display.max_columns', None)\n",
    "# pd.set_option('max_row', 500)\n",
    "warnings.filterwarnings('ignore')\n",
    "tqdm.pandas(desc='pandas bar')"
   ]
  },
  {
   "cell_type": "markdown",
   "metadata": {
    "toc-hr-collapsed": false
   },
   "source": [
    "# 数据处理"
   ]
  },
  {
   "cell_type": "markdown",
   "metadata": {},
   "source": [
    "## 数据"
   ]
  },
  {
   "cell_type": "code",
   "execution_count": null,
   "metadata": {},
   "outputs": [],
   "source": [
    "df_20211219 = pd.read_csv('../data/sample_dfn/union/zfbx_click_resource_ctr_sample_label_feature_union_new_dfn_ctr1_20211219.txt', sep='\\t', encoding='utf-8')\n",
    "print(df_20211219.shape)\n",
    "df_20211219.head()"
   ]
  },
  {
   "cell_type": "code",
   "execution_count": null,
   "metadata": {},
   "outputs": [],
   "source": [
    "df_20211219.groupby(by=['obs_dt', 'dt'])['uid'].count()"
   ]
  },
  {
   "cell_type": "code",
   "execution_count": null,
   "metadata": {},
   "outputs": [],
   "source": [
    "df_20211219['label_click'].value_counts()"
   ]
  },
  {
   "cell_type": "code",
   "execution_count": null,
   "metadata": {},
   "outputs": [],
   "source": [
    "347870 / 2408693"
   ]
  },
  {
   "cell_type": "code",
   "execution_count": null,
   "metadata": {},
   "outputs": [],
   "source": [
    "df_20211219['label_click_apply'].value_counts()"
   ]
  },
  {
   "cell_type": "code",
   "execution_count": null,
   "metadata": {},
   "outputs": [],
   "source": [
    "117459 / 347870"
   ]
  },
  {
   "cell_type": "code",
   "execution_count": null,
   "metadata": {},
   "outputs": [],
   "source": [
    "117459 / 2408693"
   ]
  },
  {
   "cell_type": "code",
   "execution_count": null,
   "metadata": {},
   "outputs": [],
   "source": [
    "# 特征\n",
    "list_feats_x = utils_.load_pickle('../data/sample_dfn/union/list_feats/list_feats_x_new_adj.pickle')\n",
    "print(len(list_feats_x))\n",
    "list_feats_x[:10]"
   ]
  },
  {
   "cell_type": "code",
   "execution_count": null,
   "metadata": {},
   "outputs": [],
   "source": [
    "df_20211219['obs_dt'] = pd.to_datetime(df_20211219['obs_dt'])\n",
    "df_20211219['dt'] = pd.to_datetime(df_20211219['dt'])\n",
    "df_20211219.head()"
   ]
  },
  {
   "cell_type": "code",
   "execution_count": null,
   "metadata": {},
   "outputs": [],
   "source": [
    "utils_.save_pickle(df_20211219[['uid', 'obs_dt', 'dt', 'label_click', 'label_click_apply']+list_feats_x], \n",
    "                  '../data/sample_dfn/union/df_new_20211219.pickle')"
   ]
  },
  {
   "cell_type": "markdown",
   "metadata": {},
   "source": [
    "## 划分训练（包含验证）、测试集"
   ]
  },
  {
   "cell_type": "code",
   "execution_count": null,
   "metadata": {},
   "outputs": [],
   "source": [
    "df_20211219 = utils_.load_pickle('../data/sample_dfn/union/df_new_20211219.pickle')\n",
    "print(df_20211219.shape)\n",
    "df_20211219.head()"
   ]
  },
  {
   "cell_type": "code",
   "execution_count": null,
   "metadata": {},
   "outputs": [],
   "source": [
    "# 按id、obs_dt去重划分\n",
    "# 数据集包含1周的数据，但由于特征为周更级别，因此7天内同id的特征都一致\n",
    "# 但不同obs_dt去重划分下同id的可以保留\n",
    "df_id = df_20211219[['uid', 'obs_dt']].drop_duplicates()\n",
    "print(df_id.shape)\n",
    "df_id.head()"
   ]
  },
  {
   "cell_type": "code",
   "execution_count": null,
   "metadata": {},
   "outputs": [],
   "source": [
    "# 比例：8:2\n",
    "df_id_train = df_id.sample(frac=0.8, random_state=2021).reset_index(drop=True)\n",
    "print(df_id_train.shape)\n",
    "df_id_train.head()"
   ]
  },
  {
   "cell_type": "code",
   "execution_count": null,
   "metadata": {},
   "outputs": [],
   "source": [
    "df_id_test = pd.concat([df_id, df_id_train], axis=0)\n",
    "df_id_test.drop_duplicates(keep=False, inplace=True)\n",
    "df_id_test.reset_index(drop=True, inplace=True)\n",
    "print(df_id_test.shape)\n",
    "df_id_test.head()"
   ]
  },
  {
   "cell_type": "code",
   "execution_count": null,
   "metadata": {},
   "outputs": [],
   "source": [
    "%%time\n",
    "df_train = df_id_train.merge(df_20211219, on=['uid', 'obs_dt'], how='left')\n",
    "print(df_train.shape)\n",
    "df_train.head()"
   ]
  },
  {
   "cell_type": "code",
   "execution_count": null,
   "metadata": {},
   "outputs": [],
   "source": [
    "utils_.save_pickle(df_train, '../data/sample_dfn/union/df_train_new_20211219.pickle')"
   ]
  },
  {
   "cell_type": "code",
   "execution_count": null,
   "metadata": {},
   "outputs": [],
   "source": [
    "%%time\n",
    "df_test = df_id_test.merge(df_20211219, on=['uid', 'obs_dt'], how='left')\n",
    "print(df_test.shape)\n",
    "df_test.head()"
   ]
  },
  {
   "cell_type": "code",
   "execution_count": null,
   "metadata": {},
   "outputs": [],
   "source": [
    "utils_.save_pickle(df_test, '../data/sample_dfn/union/df_test_new_20211219.pickle')"
   ]
  },
  {
   "cell_type": "code",
   "execution_count": null,
   "metadata": {},
   "outputs": [],
   "source": [
    "# 训练集处理：由于当前特征的最小间隔为周（样本为天），因此需要对相同样本（uid，obs_date）进行整合（周期内是否为点击）\n",
    "df_train = utils_.load_pickle('../data/sample_dfn/union/df_train_new_20211219.pickle')\n",
    "print(df_train.shape)\n",
    "df_train.head()"
   ]
  },
  {
   "cell_type": "code",
   "execution_count": null,
   "metadata": {},
   "outputs": [],
   "source": [
    "df_train_unique_label = df_train[['uid', 'obs_dt', 'label_click', 'label_click_apply']].\\\n",
    "    groupby(by=['uid', 'obs_dt']).max()\n",
    "df_train_unique_label.reset_index(inplace=True)\n",
    "print(df_train_unique_label.shape)\n",
    "df_train_unique_label.head()"
   ]
  },
  {
   "cell_type": "code",
   "execution_count": null,
   "metadata": {},
   "outputs": [],
   "source": [
    "df_train_unique_label.rename(columns={'label_click': 'label_click_combine', \n",
    "                                      'label_click_apply': 'label_click_apply_combine'}, \n",
    "                             inplace=True)\n",
    "df_train_unique_label.head()"
   ]
  },
  {
   "cell_type": "code",
   "execution_count": null,
   "metadata": {},
   "outputs": [],
   "source": [
    "%%time\n",
    "df_train_unique = df_train.\\\n",
    "    merge(df_train_unique_label, on=['uid', 'obs_dt'], how='left')\n",
    "df_train_unique.drop(columns=['dt', 'label_click', 'label_click_apply'], inplace=True)\n",
    "print(df_train_unique.shape)\n",
    "df_train_unique.head()"
   ]
  },
  {
   "cell_type": "code",
   "execution_count": null,
   "metadata": {},
   "outputs": [],
   "source": [
    "df_train_unique.rename(columns={'label_click_combine': 'label_click', \n",
    "                                'label_click_apply_combine': 'label_click_apply'}, \n",
    "                       inplace=True)\n",
    "df_train_unique.head()"
   ]
  },
  {
   "cell_type": "code",
   "execution_count": null,
   "metadata": {},
   "outputs": [],
   "source": [
    "df_train_unique.drop_duplicates(inplace=True)\n",
    "df_train_unique.reset_index(drop=True, inplace=True)\n",
    "print(df_train_unique.shape)\n",
    "df_train_unique.head()"
   ]
  },
  {
   "cell_type": "code",
   "execution_count": null,
   "metadata": {},
   "outputs": [],
   "source": [
    "utils_.save_pickle(df_train_unique, '../data/sample_dfn/union/df_train_unique_new_20211219.pickle')"
   ]
  },
  {
   "cell_type": "code",
   "execution_count": null,
   "metadata": {},
   "outputs": [],
   "source": [
    "# id，X，y\n",
    "df_train_unique = utils_.load_pickle('../data/sample_dfn/union/df_train_unique_new_20211219.pickle')\n",
    "\n",
    "df_train_unique_uid_obsDate = df_train_unique[['uid', 'obs_dt']]\n",
    "df_train_unique_y = df_train_unique[['label_click', 'label_click_apply']]\n",
    "df_train_unique_X = df_train_unique[[x for x in df_train_unique.columns \n",
    "                                     if x not in ['uid', 'obs_dt', 'label_click', 'label_click_apply']]]\n",
    "\n",
    "utils_.save_pickle(df_train_unique_uid_obsDate, \n",
    "                  '../data/sample_dfn/union/df_train_unique_uid_obsDate_new_20211219.pickle')\n",
    "utils_.save_pickle(df_train_unique_y, '../data/sample_dfn/union/df_train_unique_y_new_20211219.pickle')\n",
    "utils_.save_pickle(df_train_unique_X, '../data/sample_dfn/union/df_train_unique_X_new_20211219.pickle')"
   ]
  },
  {
   "cell_type": "code",
   "execution_count": null,
   "metadata": {},
   "outputs": [],
   "source": [
    "df_test = utils_.load_pickle('../data/sample_dfn/union/df_test_new_20211219.pickle')\n",
    "\n",
    "df_test_uid_obsDate_dt = df_test[['uid', 'obs_dt', 'dt']]\n",
    "df_test_y = df_test[['label_click', 'label_click_apply']]\n",
    "df_test_X = df_test[[x for x in df_test.columns \n",
    "                     if x not in ['uid', 'obs_dt', 'dt', 'label_click', 'label_click_apply']]]\n",
    "\n",
    "utils_.save_pickle(df_test_uid_obsDate_dt, \n",
    "                  '../data/sample_dfn/union/df_test_uid_obsDate_dt_new_20211219.pickle')\n",
    "utils_.save_pickle(df_test_y, '../data/sample_dfn/union/df_test_y_new_20211219.pickle')\n",
    "utils_.save_pickle(df_test_X, '../data/sample_dfn/union/df_test_X_new_20211219.pickle')"
   ]
  },
  {
   "cell_type": "markdown",
   "metadata": {},
   "source": [
    "# 入参处理"
   ]
  },
  {
   "cell_type": "code",
   "execution_count": null,
   "metadata": {},
   "outputs": [],
   "source": [
    "df_train_unique_uid_obsDate = utils_.load_pickle('../data/sample_dfn/union/df_train_unique_uid_obsDate_new_20211219.pickle')\n",
    "df_train_unique_y = utils_.load_pickle('../data/sample_dfn/union/df_train_unique_y_new_20211219.pickle')\n",
    "df_train_unique_X = utils_.load_pickle('../data/sample_dfn/union/df_train_unique_X_new_20211219.pickle')\n",
    "\n",
    "print(df_train_unique_uid_obsDate.shape)\n",
    "print(df_train_unique_y.shape)\n",
    "print(df_train_unique_X.shape)"
   ]
  },
  {
   "cell_type": "code",
   "execution_count": null,
   "metadata": {},
   "outputs": [],
   "source": [
    "list_feats_x = utils_.load_pickle('../data/sample_dfn/union/list_feats/list_feats_x_new_adj.pickle')\n",
    "print(len(list_feats_x))\n",
    "list_feats_x[:10]"
   ]
  },
  {
   "cell_type": "code",
   "execution_count": null,
   "metadata": {},
   "outputs": [],
   "source": [
    "sparse_features = [\n",
    "    'xxx'\n",
    "]\n",
    "print(len(sparse_features))"
   ]
  },
  {
   "cell_type": "code",
   "execution_count": null,
   "metadata": {},
   "outputs": [],
   "source": [
    "utils_.save_pickle(sparse_features, '../data/sample_dfn/union/list_feats/list_sparse_features.pickle')"
   ]
  },
  {
   "cell_type": "code",
   "execution_count": null,
   "metadata": {},
   "outputs": [],
   "source": [
    "df_train_unique_X[sparse_features].head()"
   ]
  },
  {
   "cell_type": "code",
   "execution_count": null,
   "metadata": {},
   "outputs": [],
   "source": [
    "dense_features = [x for x in list_feats_x if x not in sparse_features]\n",
    "print(len(dense_features))\n",
    "dense_features[:10]"
   ]
  },
  {
   "cell_type": "code",
   "execution_count": null,
   "metadata": {},
   "outputs": [],
   "source": [
    "utils_.save_pickle(dense_features, '../data/sample_dfn/union/list_feats/list_dense_features.pickle')"
   ]
  },
  {
   "cell_type": "code",
   "execution_count": null,
   "metadata": {},
   "outputs": [],
   "source": [
    "mms = MinMaxScaler()\n",
    "train_unique_X_mms = mms.fit_transform(df_train_unique_X[dense_features])\n",
    "joblib.dump(mms, '../data/sample_dfn/union/scaler/mms.pickle')"
   ]
  },
  {
   "cell_type": "code",
   "execution_count": null,
   "metadata": {},
   "outputs": [],
   "source": [
    "mms = joblib.load('../data/sample_dfn/union/scaler/mms.pickle')\n",
    "train_unique_X_mms = mms.transform(df_train_unique_X[dense_features])\n",
    "print(train_unique_X_mms.shape)"
   ]
  },
  {
   "cell_type": "code",
   "execution_count": null,
   "metadata": {},
   "outputs": [],
   "source": [
    "mms = joblib.load('../data/sample_dfn/union/scaler/mms.pickle')"
   ]
  },
  {
   "cell_type": "code",
   "execution_count": null,
   "metadata": {
    "scrolled": true
   },
   "outputs": [],
   "source": [
    "mms.data_min_"
   ]
  },
  {
   "cell_type": "code",
   "execution_count": null,
   "metadata": {
    "scrolled": true
   },
   "outputs": [],
   "source": [
    "mms.data_max_"
   ]
  },
  {
   "cell_type": "code",
   "execution_count": null,
   "metadata": {},
   "outputs": [],
   "source": [
    "df_train_unique_X[dense_features].max()"
   ]
  },
  {
   "cell_type": "code",
   "execution_count": null,
   "metadata": {},
   "outputs": [],
   "source": [
    "df_train_unique_X[dense_features].min()"
   ]
  },
  {
   "cell_type": "code",
   "execution_count": null,
   "metadata": {},
   "outputs": [],
   "source": [
    "(39+99)/(117+99)*(1-0)+0"
   ]
  },
  {
   "cell_type": "code",
   "execution_count": null,
   "metadata": {},
   "outputs": [],
   "source": [
    "df_train_unique_X_dense = pd.DataFrame(train_unique_X_mms, columns=dense_features)\n",
    "print(df_train_unique_X_dense.shape)\n",
    "df_train_unique_X_dense.head()"
   ]
  },
  {
   "cell_type": "code",
   "execution_count": null,
   "metadata": {},
   "outputs": [],
   "source": [
    "df_train_unique_X[dense_features].head()"
   ]
  },
  {
   "cell_type": "code",
   "execution_count": null,
   "metadata": {},
   "outputs": [],
   "source": [
    "utils.save_pickle(df_train_unique_X_dense, '../data/sample_dfn/union/df_train_unique_X_dense_20211219.pickle')"
   ]
  },
  {
   "cell_type": "code",
   "execution_count": null,
   "metadata": {},
   "outputs": [],
   "source": [
    "dict_lbe = {}\n",
    "list_df_train_unique_X_sparse = []\n",
    "\n",
    "try:\n",
    "    with tqdm(sparse_features) as t:\n",
    "        for x in t:\n",
    "            lbe = LabelEncoder()\n",
    "            df_train_unique_X_sparse_each = pd.DataFrame(lbe.fit_transform(df_train_unique_X[x]), columns=[x])\n",
    "            dict_lbe[x] = lbe\n",
    "            list_df_train_unique_X_sparse.append(df_train_unique_X_sparse_each)\n",
    "except KeyboardInterrupt:\n",
    "    t.close()\n",
    "    raise\n",
    "t.close()\n",
    "\n",
    "joblib.dump(dict_lbe, '../data/sample_dfn/union/scaler/dict_lbe.pickle')\n",
    "df_train_unique_X_sparse = pd.concat(list_df_train_unique_X_sparse, axis=1)\n",
    "print(df_train_unique_X_sparse.shape)\n",
    "df_train_unique_X_sparse.head()"
   ]
  },
  {
   "cell_type": "code",
   "execution_count": null,
   "metadata": {},
   "outputs": [],
   "source": [
    "dict_lbe = joblib.load('../data/sample_dfn/union/scaler/dict_lbe.pickle')\n",
    "dict_lbe"
   ]
  },
  {
   "cell_type": "code",
   "execution_count": null,
   "metadata": {},
   "outputs": [],
   "source": [
    "df_train_unique_X[sparse_features].head()"
   ]
  },
  {
   "cell_type": "code",
   "execution_count": null,
   "metadata": {},
   "outputs": [],
   "source": [
    "for k, v in dict_lbe.items():\n",
    "    print('key:{ke}, collect_set:{cs}'.format(ke=k, cs=v.classes_))"
   ]
  },
  {
   "cell_type": "code",
   "execution_count": null,
   "metadata": {},
   "outputs": [],
   "source": [
    "df_train_unique_X['b_edu_type'].value_counts()"
   ]
  },
  {
   "cell_type": "code",
   "execution_count": null,
   "metadata": {},
   "outputs": [],
   "source": [
    "utils.save_pickle(df_train_unique_X_sparse, '../data/sample_dfn/union/df_train_unique_X_sparse_20211219.pickle')"
   ]
  },
  {
   "cell_type": "code",
   "execution_count": null,
   "metadata": {},
   "outputs": [],
   "source": [
    "df_train_unique_X_sparse = utils.load_pickle('../data/sample_dfn/union/df_train_unique_X_sparse_20211219.pickle')\n",
    "df_train_unique_X_dense = utils.load_pickle('../data/sample_dfn/union/df_train_unique_X_dense_20211219.pickle')\n",
    "\n",
    "print(df_train_unique_X_sparse.shape)\n",
    "print(df_train_unique_X_dense.shape)"
   ]
  },
  {
   "cell_type": "code",
   "execution_count": null,
   "metadata": {},
   "outputs": [],
   "source": [
    "df_train_unique_X_transform = pd.concat([df_train_unique_X_sparse, df_train_unique_X_dense], axis=1)\n",
    "print(df_train_unique_X_transform.shape)\n",
    "df_train_unique_X_transform.head()"
   ]
  },
  {
   "cell_type": "code",
   "execution_count": null,
   "metadata": {},
   "outputs": [],
   "source": [
    "utils.save_pickle(df_train_unique_X_transform, '../data/sample_dfn/union/df_train_unique_X_transform_20211219.pickle')"
   ]
  },
  {
   "cell_type": "markdown",
   "metadata": {},
   "source": [
    "# 模型"
   ]
  },
  {
   "cell_type": "markdown",
   "metadata": {},
   "source": [
    "* 结构"
   ]
  },
  {
   "cell_type": "code",
   "execution_count": null,
   "metadata": {},
   "outputs": [],
   "source": [
    "df_train_unique_X_transform = utils_.load_pickle('../data/sample_dfn/union/df_train_unique_X_transform_20211219.pickle')\n",
    "print(df_train_unique_X_transform.shape)\n",
    "df_train_unique_X_transform.head()"
   ]
  },
  {
   "cell_type": "code",
   "execution_count": null,
   "metadata": {},
   "outputs": [],
   "source": [
    "sparse_features = utils_.load_pickle('../data/sample_dfn/union/list_feats/list_sparse_features.pickle')\n",
    "dense_features = utils_.load_pickle('../data/sample_dfn/union/list_feats/list_dense_features.pickle')\n",
    "\n",
    "print(len(sparse_features))\n",
    "print(len(dense_features))"
   ]
  },
  {
   "cell_type": "code",
   "execution_count": null,
   "metadata": {},
   "outputs": [],
   "source": [
    "feature_columns = [SparseFeat(x, df_train_unique_X_transform[x].max() + 1, embedding_dim=4) for x in sparse_features] + \\\n",
    "    [DenseFeat(x, 1, ) for x in dense_features]\n",
    "feature_columns[15:20]"
   ]
  },
  {
   "cell_type": "code",
   "execution_count": null,
   "metadata": {},
   "outputs": [],
   "source": [
    "# utils.save_pickle(feature_columns, '../data/sample_dfn/union/other/feature_columns.pickle')\n",
    "utils_.save_pickle(feature_columns, '../data/sample_dfn/union/other/feature_columns_self.pickle')"
   ]
  },
  {
   "cell_type": "code",
   "execution_count": null,
   "metadata": {},
   "outputs": [],
   "source": [
    "# feature_columns = utils_.load_pickle('../data/sample_dfn/union/other/feature_columns.pickle')\n",
    "feature_columns = utils_.load_pickle('../data/sample_dfn/union/other/feature_columns_self.pickle')\n",
    "\n",
    "model = MMOE(feature_columns, \n",
    "             num_experts=3, expert_dnn_hidden_units=(256, 128), \n",
    "             tower_dnn_hidden_units=(64, ), \n",
    "             gate_dnn_hidden_units=(), \n",
    "             l2_reg_embedding=0.00001, \n",
    "             l2_reg_dnn=0, \n",
    "             seed=2022, \n",
    "             dnn_dropout=0, \n",
    "             dnn_activation='relu', \n",
    "             dnn_use_bn=False, \n",
    "             task_types=['binary', 'binary'], task_names=['label_click', 'label_click_apply'])"
   ]
  },
  {
   "cell_type": "code",
   "execution_count": null,
   "metadata": {},
   "outputs": [],
   "source": [
    "model.compile(optimizer=keras.optimizers.Adam(lr=0.001), loss=['binary_crossentropy', 'binary_crossentropy'], metrics=['binary_crossentropy'])"
   ]
  },
  {
   "cell_type": "code",
   "execution_count": null,
   "metadata": {},
   "outputs": [],
   "source": [
    "df_train_unique_y = utils_.load_pickle('../data/sample_dfn/union/df_train_unique_y_new_20211219.pickle')\n",
    "print(df_train_unique_y.shape)\n",
    "df_train_unique_y.head()"
   ]
  },
  {
   "cell_type": "code",
   "execution_count": null,
   "metadata": {},
   "outputs": [],
   "source": [
    "# train_input = {x: df_train_unique_X_transform[x] for x in sparse_features+dense_features}"
   ]
  },
  {
   "cell_type": "code",
   "execution_count": null,
   "metadata": {},
   "outputs": [],
   "source": [
    "callbacks = [\n",
    "    tf.keras.callbacks.ReduceLROnPlateau(monitor='val_loss', min_lr=1e-6), \n",
    "#     tf.keras.callbacks.ModelCheckpoint(filepath='../data/model/check_point/mmoe_deepctr_20220208/weights-improvement-{epoch:03d}-{val_loss:.4f}.hdf5', \n",
    "#                                        monitor='val_loss', verbose=1, save_best_only=True, save_weights_only=True, mode='min'), \n",
    "#     tf.keras.callbacks.ModelCheckpoint(filepath='../data/model/check_point/mmoe_20220214/weights-improvement-{epoch:03d}-{val_loss:.4f}.hdf5', \n",
    "#                                        monitor='val_loss', verbose=1, save_best_only=True, save_weights_only=True, mode='min'), \n",
    "    tf.keras.callbacks.ModelCheckpoint(filepath='../data/model/check_point/mmoe_20220215/weights-improvement-{epoch:03d}-{val_loss:.4f}.hdf5', \n",
    "                                       monitor='val_loss', verbose=1, save_best_only=True, save_weights_only=True, mode='min'), \n",
    "    tf.keras.callbacks.EarlyStopping(monitor='val_loss', patience=10, restore_best_weights=True)\n",
    "]"
   ]
  },
  {
   "cell_type": "markdown",
   "metadata": {},
   "source": [
    "* 训练"
   ]
  },
  {
   "cell_type": "code",
   "execution_count": null,
   "metadata": {
    "scrolled": true
   },
   "outputs": [],
   "source": [
    "history = model.fit(\n",
    "#     x=train_input, \n",
    "    x=df_train_unique_X_transform.values, \n",
    "    y=[df_train_unique_y['label_click'].values, df_train_unique_y['label_click_apply'].values], \n",
    "    batch_size=1024, \n",
    "    epochs=1000, \n",
    "    verbose=2, \n",
    "    callbacks=callbacks, \n",
    "    validation_split=0.2)"
   ]
  },
  {
   "cell_type": "code",
   "execution_count": null,
   "metadata": {},
   "outputs": [],
   "source": [
    "# utils.save_pickle(history.history, '../data/model/check_point/history_20220208.pickle')\n",
    "# utils_.save_pickle(history.history, '../data/model/check_point/mmoe_20220214/history_20220214.pickle')\n",
    "utils_.save_pickle(history.history, '../data/model/check_point/mmoe_20220215/history_20220215.pickle')"
   ]
  },
  {
   "cell_type": "code",
   "execution_count": null,
   "metadata": {},
   "outputs": [],
   "source": [
    "tf.saved_model.save(model, '../data/model/dfn_mutil_task_online/mmoe_train/')"
   ]
  },
  {
   "cell_type": "markdown",
   "metadata": {},
   "source": [
    "* 训练效果"
   ]
  },
  {
   "cell_type": "code",
   "execution_count": null,
   "metadata": {},
   "outputs": [],
   "source": [
    "# dict_fit_history = utils.load_pickle('../data/model/check_point/history_20220208.pickle')\n",
    "# dict_fit_history = utils_.load_pickle('../data/model/check_point/mmoe_20220214/history_20220214.pickle')\n",
    "dict_fit_history = utils_.load_pickle('../data/model/check_point/mmoe_20220215/history_20220215.pickle')\n",
    "df_fit_history = pd.DataFrame(dict_fit_history)\n",
    "print(df_fit_history.shape)\n",
    "df_fit_history.head()"
   ]
  },
  {
   "cell_type": "code",
   "execution_count": null,
   "metadata": {},
   "outputs": [],
   "source": [
    "sns.lineplot(data=df_fit_history[['loss', 'val_loss']])"
   ]
  },
  {
   "cell_type": "code",
   "execution_count": null,
   "metadata": {},
   "outputs": [],
   "source": [
    "# sns.lineplot(data=df_fit_history[['label_click_loss', 'val_label_click_loss']])\n",
    "sns.lineplot(data=df_fit_history[['output_1_loss', 'val_output_1_loss']])"
   ]
  },
  {
   "cell_type": "code",
   "execution_count": null,
   "metadata": {},
   "outputs": [],
   "source": [
    "# sns.lineplot(data=df_fit_history[['label_click_apply_loss', 'val_label_click_apply_loss']])\n",
    "sns.lineplot(data=df_fit_history[['output_2_loss', 'val_output_2_loss']])"
   ]
  },
  {
   "cell_type": "code",
   "execution_count": null,
   "metadata": {},
   "outputs": [],
   "source": [
    "# 重制网络结构，加载最优权重\n",
    "best_model = MMOE(feature_columns, \n",
    "                  num_experts=3, expert_dnn_hidden_units=(256, 128), \n",
    "                  tower_dnn_hidden_units=(64, ), \n",
    "                  gate_dnn_hidden_units=(), \n",
    "                  l2_reg_embedding=0.00001, \n",
    "                  l2_reg_dnn=0, \n",
    "                  seed=2022, \n",
    "                  dnn_dropout=0, \n",
    "                  dnn_activation='relu', \n",
    "                  dnn_use_bn=False, \n",
    "                  task_types=['binary', 'binary'], task_names=['label_click', 'label_click_apply'])"
   ]
  },
  {
   "cell_type": "code",
   "execution_count": null,
   "metadata": {},
   "outputs": [],
   "source": [
    "# best_model.load_weights('../data/model/check_point/weights-improvement-008-0.5136.hdf5')\n",
    "best_model.compile(optimizer=keras.optimizers.Adam(lr=0.001), loss=['binary_crossentropy', 'binary_crossentropy'], metrics=['binary_crossentropy'])\n",
    "best_model.build(input_shape=(df_train_unique_X_transform.values.shape[0], df_train_unique_X_transform.values.shape[1]))\n",
    "# best_model.load_weights('../data/model/check_point/mmoe_20220214/weights-improvement-006-0.5126.hdf5')\n",
    "best_model.load_weights('../data/model/check_point/mmoe_20220215/weights-improvement-007-0.5132.hdf5')"
   ]
  },
  {
   "cell_type": "code",
   "execution_count": null,
   "metadata": {},
   "outputs": [],
   "source": [
    "tf.saved_model.save(best_model, '../data/model/dfn_mutil_task_online/mmoe_reload/')"
   ]
  },
  {
   "cell_type": "code",
   "execution_count": null,
   "metadata": {},
   "outputs": [],
   "source": [
    "# pred_train = best_model.predict(train_input, batch_size=1024)\n",
    "pred_train = best_model.predict(df_train_unique_X_transform.values, batch_size=1024)"
   ]
  },
  {
   "cell_type": "code",
   "execution_count": null,
   "metadata": {},
   "outputs": [],
   "source": [
    "df_y = pd.concat([df_train_unique_y, pd.DataFrame(pred_train[0], columns=['label_click_pred']), pd.DataFrame(pred_train[1], columns=['label_click_apply_pred'])], \n",
    "                 axis=1)\n",
    "print(df_y.shape)\n",
    "df_y.head()"
   ]
  },
  {
   "cell_type": "code",
   "execution_count": null,
   "metadata": {},
   "outputs": [],
   "source": [
    "roc_auc_score(df_y['label_click'], df_y['label_click_pred'])"
   ]
  },
  {
   "cell_type": "code",
   "execution_count": null,
   "metadata": {},
   "outputs": [],
   "source": [
    "roc_auc_score(df_y['label_click_apply'], df_y['label_click_apply_pred'])"
   ]
  },
  {
   "cell_type": "markdown",
   "metadata": {},
   "source": [
    "* 测试"
   ]
  },
  {
   "cell_type": "code",
   "execution_count": null,
   "metadata": {},
   "outputs": [],
   "source": [
    "# 数据转换\n",
    "df_test_uid_obsDate_dt = utils_.load_pickle('../data/sample_dfn/union/df_test_uid_obsDate_dt_new_20211219.pickle')\n",
    "df_test_y = utils_.load_pickle('../data/sample_dfn/union/df_test_y_new_20211219.pickle')\n",
    "df_test_X = utils_.load_pickle('../data/sample_dfn/union/df_test_X_new_20211219.pickle')\n",
    "\n",
    "print(df_test_uid_obsDate_dt.shape)\n",
    "print(df_test_y.shape)\n",
    "print(df_test_X.shape)"
   ]
  },
  {
   "cell_type": "code",
   "execution_count": null,
   "metadata": {},
   "outputs": [],
   "source": [
    "sparse_features = utils_.load_pickle('../data/sample_dfn/union/list_feats/list_sparse_features.pickle')\n",
    "dense_features = utils_.load_pickle('../data/sample_dfn/union/list_feats/list_dense_features.pickle')\n",
    "\n",
    "print(len(sparse_features))\n",
    "print(len(dense_features))"
   ]
  },
  {
   "cell_type": "code",
   "execution_count": null,
   "metadata": {},
   "outputs": [],
   "source": [
    "tmp = pd.concat([df_test_uid_obsDate_dt[['uid']].head(100), df_test_X[sparse_features].head(100), df_test_X[dense_features].head(100)], axis=1)\n",
    "print(tmp.shape)\n",
    "tmp"
   ]
  },
  {
   "cell_type": "code",
   "execution_count": null,
   "metadata": {},
   "outputs": [],
   "source": [
    "tmp.to_csv('../data/sample_dfn/union/other/test_sample_100.csv', encoding='utf-8', index=False)"
   ]
  },
  {
   "cell_type": "code",
   "execution_count": null,
   "metadata": {},
   "outputs": [],
   "source": [
    "mms = joblib.load('../data/sample_dfn/union/scaler/mms.pickle')\n",
    "test_X_mms = mms.transform(df_test_X[dense_features])\n",
    "print(test_X_mms.shape)"
   ]
  },
  {
   "cell_type": "code",
   "execution_count": null,
   "metadata": {},
   "outputs": [],
   "source": [
    "df_test_X_dense = pd.DataFrame(test_X_mms, columns=dense_features)\n",
    "print(df_test_X_dense.shape)\n",
    "df_test_X_dense.head()"
   ]
  },
  {
   "cell_type": "code",
   "execution_count": null,
   "metadata": {},
   "outputs": [],
   "source": [
    "df_test_X[dense_features].head()"
   ]
  },
  {
   "cell_type": "code",
   "execution_count": null,
   "metadata": {},
   "outputs": [],
   "source": [
    "dict_lbe = joblib.load('../data/sample_dfn/union/scaler/dict_lbe.pickle')\n",
    "list_df_test_X_sparse = []\n",
    "\n",
    "try:\n",
    "    with tqdm(sparse_features) as t:\n",
    "        for x in t:\n",
    "            df_test_X_sparse_each = pd.DataFrame(dict_lbe[x].transform(df_test_X[x]), columns=[x])\n",
    "            list_df_test_X_sparse.append(df_test_X_sparse_each)\n",
    "except KeyboardInterrupt:\n",
    "    t.close()\n",
    "    raise\n",
    "t.close()\n",
    "\n",
    "df_test_X_sparse = pd.concat(list_df_test_X_sparse, axis=1)\n",
    "print(df_test_X_sparse.shape)\n",
    "df_test_X_sparse.head()"
   ]
  },
  {
   "cell_type": "code",
   "execution_count": null,
   "metadata": {},
   "outputs": [],
   "source": [
    "df_test_X_transform = pd.concat([df_test_X_sparse, df_test_X_dense], axis=1)\n",
    "print(df_test_X_transform.shape)\n",
    "df_test_X_transform.head()"
   ]
  },
  {
   "cell_type": "code",
   "execution_count": null,
   "metadata": {},
   "outputs": [],
   "source": [
    "utils.save_pickle(df_test_X_transform, '../data/sample_dfn/union/df_test_X_transform_20211219.pickle')"
   ]
  },
  {
   "cell_type": "code",
   "execution_count": null,
   "metadata": {},
   "outputs": [],
   "source": [
    "df_test_X_transform = utils_.load_pickle('../data/sample_dfn/union/df_test_X_transform_20211219.pickle')\n",
    "print(df_test_X_transform.shape)\n",
    "df_test_X_transform.head()"
   ]
  },
  {
   "cell_type": "code",
   "execution_count": null,
   "metadata": {},
   "outputs": [],
   "source": [
    "# test_input = {x: df_test_X_transform[x] for x in sparse_features+dense_features}"
   ]
  },
  {
   "cell_type": "code",
   "execution_count": null,
   "metadata": {},
   "outputs": [],
   "source": [
    "# 加载模型\n",
    "# feature_columns = utils.load_pickle('../data/sample_dfn/union/other/feature_columns.pickle')\n",
    "feature_columns = utils_.load_pickle('../data/sample_dfn/union/other/feature_columns_self.pickle')\n",
    "\n",
    "best_model = MMOE(feature_columns, \n",
    "                  num_experts=3, expert_dnn_hidden_units=(256, 128), \n",
    "                  tower_dnn_hidden_units=(64, ), \n",
    "                  gate_dnn_hidden_units=(), \n",
    "                  l2_reg_embedding=0.00001, \n",
    "                  l2_reg_dnn=0, \n",
    "                  seed=2022, \n",
    "                  dnn_dropout=0, \n",
    "                  dnn_activation='relu', \n",
    "                  dnn_use_bn=False, \n",
    "                  task_types=['binary', 'binary'], task_names=['label_click', 'label_click_apply'])\n",
    "# best_model.load_weights('../data/model/check_point/weights-improvement-008-0.5136.hdf5')\n",
    "best_model.compile(optimizer=keras.optimizers.Adam(lr=0.001), loss=['binary_crossentropy', 'binary_crossentropy'], metrics=['binary_crossentropy'])\n",
    "best_model.build(input_shape=(df_test_X_transform.values.shape[0], df_test_X_transform.values.shape[1]))\n",
    "# best_model.load_weights('../data/model/check_point/mmoe_20220214/weights-improvement-006-0.5126.hdf5')\n",
    "best_model.load_weights('../data/model/check_point/mmoe_20220215/weights-improvement-007-0.5132.hdf5')"
   ]
  },
  {
   "cell_type": "code",
   "execution_count": null,
   "metadata": {},
   "outputs": [],
   "source": [
    "# 测试数据\n",
    "# pred_test = best_model.predict(test_input, batch_size=1024)\n",
    "pred_test = best_model.predict(df_test_X_transform.values, batch_size=1024)\n",
    "\n",
    "df_test_y = utils_.load_pickle('../data/sample_dfn/union/df_test_y_new_20211219.pickle')\n",
    "df_y = pd.concat([df_test_y, pd.DataFrame(pred_test[0], columns=['label_click_pred']), pd.DataFrame(pred_test[1], columns=['label_click_apply_pred'])], \n",
    "                 axis=1)\n",
    "print(df_y.shape)\n",
    "df_y.head()"
   ]
  },
  {
   "cell_type": "code",
   "execution_count": null,
   "metadata": {},
   "outputs": [],
   "source": [
    "df_test_uid_obsDate_dt = utils_.load_pickle('../data/sample_dfn/union/df_test_uid_obsDate_dt_new_20211219.pickle')\n",
    "df_test_uid_obsDate_dt.head()"
   ]
  },
  {
   "cell_type": "code",
   "execution_count": null,
   "metadata": {},
   "outputs": [],
   "source": [
    "df_y_uid = pd.concat([df_test_uid_obsDate_dt[['uid']], df_y], axis=1)\n",
    "df_y_uid.head()"
   ]
  },
  {
   "cell_type": "code",
   "execution_count": null,
   "metadata": {},
   "outputs": [],
   "source": [
    "df_y_uid[df_y_uid['uid']==]"
   ]
  },
  {
   "cell_type": "code",
   "execution_count": null,
   "metadata": {},
   "outputs": [],
   "source": [
    "# 测试效果\n",
    "roc_auc_score(df_y['label_click'], df_y['label_click_pred'])"
   ]
  },
  {
   "cell_type": "code",
   "execution_count": null,
   "metadata": {},
   "outputs": [],
   "source": [
    "roc_auc_score(df_y['label_click_apply'], df_y['label_click_apply_pred'])"
   ]
  },
  {
   "cell_type": "raw",
   "metadata": {},
   "source": [
    "union(fusion+aspiration+personalise) adjust new del 2021.12.20~2021.12.26 deepctr: \n",
    "ctr 1: 0.7833243198981107, ctr: 0.8002643246477179\n",
    "\n",
    "union(fusion+aspiration+personalise) adjust new del 2021.12.20~2021.12.26 self: \n",
    "ctr 1: 0.7831516864069005, ctr: 0.8014017860616318\n",
    "\n",
    "union(fusion+aspiration+personalise) adjust new del 2021.12.20~2021.12.26 self 1: \n",
    "ctr 1: 0.783800365724246, ctr: 0.7983342160370187"
   ]
  },
  {
   "cell_type": "code",
   "execution_count": null,
   "metadata": {},
   "outputs": [],
   "source": [
    "def cal_recall(df_y, y_true, y_pred, threshold=0.3):\n",
    "    df_y_sort = df_y.copy()\n",
    "    df_y_sort.sort_values(by=y_pred, ascending=False, inplace=True)\n",
    "    df_y_sort.reset_index(drop=True, inplace=True)\n",
    "    \n",
    "    df_y_sort['label_recall'] = 0\n",
    "    df_y_sort.loc[:int(df_y_sort.shape[0]*threshold), 'label_recall'] = 1\n",
    "    \n",
    "    dict_cr = classification_report(df_y_sort[y_true], df_y_sort['label_recall'], output_dict=True)\n",
    "    \n",
    "    return dict_cr['1.0']['recall']"
   ]
  },
  {
   "cell_type": "code",
   "execution_count": null,
   "metadata": {},
   "outputs": [],
   "source": [
    "cal_recall(df_y, 'label_click', 'label_click_pred')"
   ]
  },
  {
   "cell_type": "code",
   "execution_count": null,
   "metadata": {},
   "outputs": [],
   "source": [
    "cal_recall(df_y, 'label_click_apply', 'label_click_apply_pred')"
   ]
  },
  {
   "cell_type": "raw",
   "metadata": {},
   "source": [
    "union(fusion+aspiration+personalise) adjust new del 2021.12.20~2021.12.26 deepctr: \n",
    "ctr 1: 0.6634547826959751, ctr: 0.7347763225038272\n",
    "\n",
    "union(fusion+aspiration+personalise) adjust new del 2021.12.20~2021.12.26 self: \n",
    "ctr 1: 0.6618918570138083, ctr: 0.7334155468617112\n",
    "\n",
    "union(fusion+aspiration+personalise) adjust new del 2021.12.20~2021.12.26 self 1: \n",
    "ctr 1: 0.6626231341678496, ctr: 0.7302262289505018"
   ]
  },
  {
   "cell_type": "code",
   "execution_count": null,
   "metadata": {
    "scrolled": true
   },
   "outputs": [],
   "source": [
    "df_y_copy = df_y.copy()\n",
    "df_y_copy['label_click'] = df_y_copy['label_click'].astype(int)\n",
    "df_y_th = utils_.PR_threshold(df_y_copy['label_click'], df_y_copy['label_click_pred'], \n",
    "                              threshold_bottom=0.0, threshold_top=0.5, threshold_interval=0.01, dec=3)\n",
    "df_y_th"
   ]
  },
  {
   "cell_type": "code",
   "execution_count": null,
   "metadata": {
    "scrolled": true
   },
   "outputs": [],
   "source": [
    "df_y_copy['label_click_apply'] = df_y_copy['label_click_apply'].astype(int)\n",
    "df_y_th = utils_.PR_threshold(df_y_copy['label_click_apply'], df_y_copy['label_click_apply_pred'], \n",
    "                              threshold_bottom=0.0, threshold_top=0.5, threshold_interval=0.01, dec=3)\n",
    "df_y_th"
   ]
  },
  {
   "cell_type": "markdown",
   "metadata": {},
   "source": [
    "# 与现有模型比较"
   ]
  },
  {
   "cell_type": "markdown",
   "metadata": {},
   "source": [
    "* 数据"
   ]
  },
  {
   "cell_type": "code",
   "execution_count": null,
   "metadata": {},
   "outputs": [],
   "source": [
    "# df_union = pd.read_csv('../data/sample_dfn/union/zfbx_click_resource_ctr_sample_label_feature_union_new_dfn_ctr1_20220116.txt', sep='\\t', encoding='utf-8')\n",
    "df_union = pd.read_csv('../data/sample_dfn/union/zfbx_click_resource_ctr_sample_label_feature_union_new_dfn_ctr1_20220227.txt', sep='\\t', encoding='utf-8')\n",
    "print(df_union.shape)\n",
    "df_union.head()"
   ]
  },
  {
   "cell_type": "code",
   "execution_count": null,
   "metadata": {},
   "outputs": [],
   "source": [
    "df_union.groupby(by=['obs_dt', 'dt'])['uid'].count()"
   ]
  },
  {
   "cell_type": "code",
   "execution_count": null,
   "metadata": {},
   "outputs": [],
   "source": [
    "df_union['label_click'].value_counts()"
   ]
  },
  {
   "cell_type": "code",
   "execution_count": null,
   "metadata": {},
   "outputs": [],
   "source": [
    "# 160051 / 1162575\n",
    "115291 / 1261844"
   ]
  },
  {
   "cell_type": "code",
   "execution_count": null,
   "metadata": {},
   "outputs": [],
   "source": [
    "df_union['label_click_apply'].value_counts()"
   ]
  },
  {
   "cell_type": "code",
   "execution_count": null,
   "metadata": {},
   "outputs": [],
   "source": [
    "# 54848 / 1162575\n",
    "35410 / 1261844"
   ]
  },
  {
   "cell_type": "code",
   "execution_count": null,
   "metadata": {},
   "outputs": [],
   "source": [
    "# 删除旧资源位流量特征\n",
    "list_feats_x = utils_.load_pickle('../data/sample_dfn/union/list_feats/list_feats_x_new_adj.pickle')\n",
    "print(len(list_feats_x))\n",
    "list_feats_x[:10]"
   ]
  },
  {
   "cell_type": "code",
   "execution_count": null,
   "metadata": {},
   "outputs": [],
   "source": [
    "df_union['obs_dt'] = pd.to_datetime(df_union['obs_dt'])\n",
    "df_union['dt'] = pd.to_datetime(df_union['dt'])\n",
    "\n",
    "df_union_test_uid_obsDate_dt = df_union[['uid', 'obs_dt', 'dt']]\n",
    "df_union_test_y = df_union[['label_click', 'label_click_apply']]\n",
    "df_union_test_X = df_union[list_feats_x]\n",
    "\n",
    "print(df_union_test_uid_obsDate_dt.shape)\n",
    "print(df_union_test_y.shape)\n",
    "print(df_union_test_X.shape)"
   ]
  },
  {
   "cell_type": "code",
   "execution_count": null,
   "metadata": {},
   "outputs": [],
   "source": [
    "# utils_.save_pickle(df_union_test_uid_obsDate_dt, '../data/sample_dfn/union/df_test_uid_obsDate_dt_new_20220116.pickle')\n",
    "# utils_.save_pickle(df_union_test_y, '../data/sample_dfn/union/df_test_y_new_20220116.pickle')\n",
    "utils_.save_pickle(df_union_test_uid_obsDate_dt, '../data/sample_dfn/union/df_test_uid_obsDate_dt_new_20220227.pickle')\n",
    "utils_.save_pickle(df_union_test_y, '../data/sample_dfn/union/df_test_y_new_20220227.pickle')"
   ]
  },
  {
   "cell_type": "code",
   "execution_count": null,
   "metadata": {},
   "outputs": [],
   "source": [
    "# 数据转换\n",
    "sparse_features = utils_.load_pickle('../data/sample_dfn/union/list_feats/list_sparse_features.pickle')\n",
    "dense_features = utils_.load_pickle('../data/sample_dfn/union/list_feats/list_dense_features.pickle')\n",
    "\n",
    "print(len(sparse_features))\n",
    "print(len(dense_features))"
   ]
  },
  {
   "cell_type": "code",
   "execution_count": null,
   "metadata": {},
   "outputs": [],
   "source": [
    "mms = joblib.load('../data/sample_dfn/union/scaler/mms.pickle')\n",
    "test_X_mms = mms.transform(df_union_test_X[dense_features])\n",
    "print(test_X_mms.shape)"
   ]
  },
  {
   "cell_type": "code",
   "execution_count": null,
   "metadata": {},
   "outputs": [],
   "source": [
    "df_test_X_dense = pd.DataFrame(test_X_mms, columns=dense_features)\n",
    "print(df_test_X_dense.shape)\n",
    "df_test_X_dense.head()"
   ]
  },
  {
   "cell_type": "code",
   "execution_count": null,
   "metadata": {},
   "outputs": [],
   "source": [
    "df_union_test_X[dense_features].head()"
   ]
  },
  {
   "cell_type": "code",
   "execution_count": null,
   "metadata": {},
   "outputs": [],
   "source": [
    "dict_lbe = joblib.load('../data/sample_dfn/union/scaler/dict_lbe.pickle')\n",
    "list_df_test_X_sparse = []\n",
    "\n",
    "try:\n",
    "    with tqdm(sparse_features) as t:\n",
    "        for x in t:\n",
    "            if x == 'xxx':\n",
    "                df_test_X_sparse_each = df_union_test_X[[x]].copy()\n",
    "                df_test_X_sparse_each[x] = 0\n",
    "            else:\n",
    "                df_test_X_sparse_each = pd.DataFrame(dict_lbe[x].transform(df_union_test_X[x]), columns=[x])\n",
    "            list_df_test_X_sparse.append(df_test_X_sparse_each)\n",
    "except KeyboardInterrupt:\n",
    "    t.close()\n",
    "    raise\n",
    "t.close()\n",
    "\n",
    "df_test_X_sparse = pd.concat(list_df_test_X_sparse, axis=1)\n",
    "print(df_test_X_sparse.shape)\n",
    "df_test_X_sparse.head()"
   ]
  },
  {
   "cell_type": "code",
   "execution_count": null,
   "metadata": {},
   "outputs": [],
   "source": [
    "df_test_X_transform = pd.concat([df_test_X_sparse, df_test_X_dense], axis=1)\n",
    "print(df_test_X_transform.shape)\n",
    "df_test_X_transform.head()"
   ]
  },
  {
   "cell_type": "code",
   "execution_count": null,
   "metadata": {},
   "outputs": [],
   "source": [
    "# utils_.save_pickle(df_test_X_transform, '../data/sample_dfn/union/df_test_X_transform_20220116.pickle')\n",
    "utils_.save_pickle(df_test_X_transform, '../data/sample_dfn/union/df_test_X_transform_20220227.pickle')"
   ]
  },
  {
   "cell_type": "code",
   "execution_count": null,
   "metadata": {},
   "outputs": [],
   "source": [
    "# df_test_X_transform = utils_.load_pickle('../data/sample_dfn/union/df_test_X_transform_20220116.pickle')\n",
    "df_test_X_transform = utils_.load_pickle('../data/sample_dfn/union/df_test_X_transform_20220227.pickle')\n",
    "print(df_test_X_transform.shape)\n",
    "df_test_X_transform.head()"
   ]
  },
  {
   "cell_type": "code",
   "execution_count": null,
   "metadata": {},
   "outputs": [],
   "source": [
    "# test_input = {x: df_test_X_transform[x] for x in sparse_features+dense_features}"
   ]
  },
  {
   "cell_type": "code",
   "execution_count": null,
   "metadata": {},
   "outputs": [],
   "source": [
    "# 加载模型\n",
    "# feature_columns = utils_.load_pickle('../data/sample_dfn/union/other/feature_columns.pickle')\n",
    "feature_columns = utils_.load_pickle('../data/sample_dfn/union/other/feature_columns_self.pickle')\n",
    "\n",
    "best_model = MMOE(feature_columns, \n",
    "                  num_experts=3, expert_dnn_hidden_units=(256, 128), \n",
    "                  tower_dnn_hidden_units=(64, ), \n",
    "                  gate_dnn_hidden_units=(), \n",
    "                  l2_reg_embedding=0.00001, \n",
    "                  l2_reg_dnn=0, \n",
    "                  seed=2022, \n",
    "                  dnn_dropout=0, \n",
    "                  dnn_activation='relu', \n",
    "                  dnn_use_bn=False, \n",
    "                  task_types=['binary', 'binary'], task_names=['label_click', 'label_click_apply'])\n",
    "# best_model.load_weights('../data/model/check_point/weights-improvement-008-0.5136.hdf5')\n",
    "best_model.compile(optimizer=keras.optimizers.Adam(lr=0.001), loss=['binary_crossentropy', 'binary_crossentropy'], metrics=['binary_crossentropy'])\n",
    "best_model.build(input_shape=(df_test_X_transform.values.shape[0], df_test_X_transform.values.shape[1]))\n",
    "# best_model.load_weights('../data/model/check_point/mmoe_20220214/weights-improvement-006-0.5126.hdf5')\n",
    "best_model.load_weights('../data/model/check_point/mmoe_20220215/weights-improvement-007-0.5132.hdf5')"
   ]
  },
  {
   "cell_type": "code",
   "execution_count": null,
   "metadata": {},
   "outputs": [],
   "source": [
    "# 测试数据\n",
    "# pred_test = best_model.predict(test_input, batch_size=1024)\n",
    "pred_test = best_model.predict(df_test_X_transform.values, batch_size=1024)\n",
    "\n",
    "# df_test_y = utils_.load_pickle('../data/sample_dfn/union/df_test_y_new_20220116.pickle')\n",
    "df_test_y = utils_.load_pickle('../data/sample_dfn/union/df_test_y_new_20220227.pickle')\n",
    "df_y = pd.concat([df_test_y, pd.DataFrame(pred_test[0], columns=['label_click_pred']), pd.DataFrame(pred_test[1], columns=['label_click_apply_pred'])], \n",
    "                 axis=1)\n",
    "print(df_y.shape)\n",
    "df_y.head()"
   ]
  },
  {
   "cell_type": "code",
   "execution_count": null,
   "metadata": {},
   "outputs": [],
   "source": [
    "# 测试效果\n",
    "roc_auc_score(df_y['label_click'], df_y['label_click_pred'])"
   ]
  },
  {
   "cell_type": "code",
   "execution_count": null,
   "metadata": {},
   "outputs": [],
   "source": [
    "roc_auc_score(df_y['label_click_apply'], df_y['label_click_apply_pred'])"
   ]
  },
  {
   "cell_type": "raw",
   "metadata": {},
   "source": [
    "union(fusion+aspiration+personalise) adjust new del 2022.01.17~2022.01.23: \n",
    "ctr 1: 0.7612408300742777, ctr: 0.7832009193490607\n",
    "\n",
    "union(fusion+aspiration+personalise) adjust new del 2022.01.17~2022.01.23 self: \n",
    "ctr 1: 0.7579012064604914, ctr: 0.7809514110834705\n",
    "\n",
    "千3左右差异。\n",
    "\n",
    "union(fusion+aspiration+personalise) adjust new del 2022.01.17~2022.01.23 self 1: \n",
    "ctr 1: 0.7594499357299941, ctr: 0.7742755473430685\n",
    "\n",
    "ctr下降较多，可能需要多次训练取最佳。\n",
    "\n",
    "union(fusion+aspiration+personalise) adjust new del 2022.02.21~2022.02.27 self: \n",
    "ctr 1: 0.7412408260252192, ctr: 0.7648271007122319"
   ]
  },
  {
   "cell_type": "code",
   "execution_count": null,
   "metadata": {},
   "outputs": [],
   "source": [
    "cal_recall(df_y, 'label_click', 'label_click_pred')"
   ]
  },
  {
   "cell_type": "code",
   "execution_count": null,
   "metadata": {},
   "outputs": [],
   "source": [
    "cal_recall(df_y, 'label_click_apply', 'label_click_apply_pred')"
   ]
  },
  {
   "cell_type": "raw",
   "metadata": {},
   "source": [
    "union(fusion+aspiration+personalise) adjust new del 2022.01.17~2022.01.23: \n",
    "ctr 1: 0.6242, ctr: 0.7034\n",
    "\n",
    "union(fusion+aspiration+personalise) adjust new del 2022.01.17~2022.01.23 self: \n",
    "ctr 1: 0.6188, ctr: 0.6991\n",
    "\n",
    "千5左右差异。\n",
    "\n",
    "union(fusion+aspiration+personalise) adjust new del 2022.01.17~2022.01.23 self: \n",
    "ctr 1: 0.6216, ctr: 0.6890\n",
    "\n",
    "ctr下降较多，可能需要多次训练取最佳。\n",
    "\n",
    "union(fusion+aspiration+personalise) adjust new del 2022.02.21~2022.02.27 self: \n",
    "ctr 1: 0.6165875913991552, ctr: 0.6784241739621576"
   ]
  },
  {
   "cell_type": "code",
   "execution_count": null,
   "metadata": {
    "scrolled": true
   },
   "outputs": [],
   "source": [
    "df_y_copy = df_y.copy()\n",
    "df_y_copy['label_click'] = df_y_copy['label_click'].astype(int)\n",
    "df_y_th = utils_.PR_threshold(df_y_copy['label_click'], df_y_copy['label_click_pred'], \n",
    "                              threshold_bottom=0.0, threshold_top=0.5, threshold_interval=0.01, dec=3)\n",
    "df_y_th"
   ]
  },
  {
   "cell_type": "code",
   "execution_count": null,
   "metadata": {
    "scrolled": true
   },
   "outputs": [],
   "source": [
    "df_y_copy['label_click_apply'] = df_y_copy['label_click_apply'].astype(int)\n",
    "df_y_th = utils_.PR_threshold(df_y_copy['label_click_apply'], df_y_copy['label_click_apply_pred'], \n",
    "                              threshold_bottom=0.0, threshold_top=0.5, threshold_interval=0.01, dec=3)\n",
    "df_y_th"
   ]
  },
  {
   "cell_type": "code",
   "execution_count": null,
   "metadata": {},
   "outputs": [],
   "source": []
  },
  {
   "cell_type": "code",
   "execution_count": null,
   "metadata": {},
   "outputs": [],
   "source": []
  },
  {
   "cell_type": "code",
   "execution_count": null,
   "metadata": {},
   "outputs": [],
   "source": []
  },
  {
   "cell_type": "code",
   "execution_count": null,
   "metadata": {},
   "outputs": [],
   "source": []
  },
  {
   "cell_type": "code",
   "execution_count": null,
   "metadata": {},
   "outputs": [],
   "source": []
  },
  {
   "cell_type": "code",
   "execution_count": null,
   "metadata": {},
   "outputs": [],
   "source": []
  },
  {
   "cell_type": "code",
   "execution_count": null,
   "metadata": {},
   "outputs": [],
   "source": []
  },
  {
   "cell_type": "code",
   "execution_count": null,
   "metadata": {},
   "outputs": [],
   "source": []
  },
  {
   "cell_type": "code",
   "execution_count": null,
   "metadata": {},
   "outputs": [],
   "source": []
  },
  {
   "cell_type": "code",
   "execution_count": null,
   "metadata": {},
   "outputs": [],
   "source": []
  },
  {
   "cell_type": "code",
   "execution_count": null,
   "metadata": {},
   "outputs": [],
   "source": []
  },
  {
   "cell_type": "code",
   "execution_count": null,
   "metadata": {},
   "outputs": [],
   "source": []
  },
  {
   "cell_type": "code",
   "execution_count": null,
   "metadata": {},
   "outputs": [],
   "source": []
  },
  {
   "cell_type": "code",
   "execution_count": null,
   "metadata": {},
   "outputs": [],
   "source": []
  },
  {
   "cell_type": "code",
   "execution_count": null,
   "metadata": {},
   "outputs": [],
   "source": []
  },
  {
   "cell_type": "code",
   "execution_count": null,
   "metadata": {},
   "outputs": [],
   "source": []
  },
  {
   "cell_type": "code",
   "execution_count": null,
   "metadata": {},
   "outputs": [],
   "source": []
  },
  {
   "cell_type": "code",
   "execution_count": null,
   "metadata": {},
   "outputs": [],
   "source": []
  },
  {
   "cell_type": "code",
   "execution_count": null,
   "metadata": {},
   "outputs": [],
   "source": []
  },
  {
   "cell_type": "code",
   "execution_count": null,
   "metadata": {},
   "outputs": [],
   "source": []
  },
  {
   "cell_type": "code",
   "execution_count": null,
   "metadata": {},
   "outputs": [],
   "source": []
  },
  {
   "cell_type": "code",
   "execution_count": null,
   "metadata": {},
   "outputs": [],
   "source": []
  },
  {
   "cell_type": "code",
   "execution_count": null,
   "metadata": {
    "scrolled": true
   },
   "outputs": [],
   "source": [
    "feature_columns = utils.load_pickle('../data/sample_dfn/union/other/feature_columns.pickle')\n",
    "print(feature_columns)\n",
    "feature_columns"
   ]
  },
  {
   "cell_type": "code",
   "execution_count": null,
   "metadata": {},
   "outputs": [],
   "source": [
    "from collections import namedtuple, OrderedDict\n",
    "def split_features(feature_columns, prefix=''):\n",
    "    dict_sparse_features = OrderedDict()\n",
    "    dict_dense_features = OrderedDict()\n",
    "    for fc in feature_columns:\n",
    "        if isinstance(fc, SparseFeat):\n",
    "            dict_sparse_features[fc.name] = fc\n",
    "        elif isinstance(fc, DenseFeat):\n",
    "            dict_dense_features[fc.name] = fc\n",
    "        else:\n",
    "            raise TypeError(\"Invalid feature column type,got\", type(fc))\n",
    "\n",
    "    return dict_sparse_features, dict_dense_features"
   ]
  },
  {
   "cell_type": "code",
   "execution_count": null,
   "metadata": {},
   "outputs": [],
   "source": [
    "df_test_X_transform = utils.load_pickle('../data/sample_dfn/union/df_test_X_transform_20211219.pickle')\n",
    "print(df_test_X_transform.shape)\n",
    "df_test_X_transform.head()"
   ]
  },
  {
   "cell_type": "code",
   "execution_count": null,
   "metadata": {},
   "outputs": [],
   "source": [
    "df_test_X_transform.iloc[:, len(aaa):]"
   ]
  },
  {
   "cell_type": "code",
   "execution_count": null,
   "metadata": {},
   "outputs": [],
   "source": [
    "tensor_input = tf.convert_to_tensor(df_test_X_transform)\n",
    "tensor_input"
   ]
  },
  {
   "cell_type": "code",
   "execution_count": null,
   "metadata": {},
   "outputs": [],
   "source": [
    "orderDict_features_sparse, orderDict_features_dense = split_features(feature_columns)"
   ]
  },
  {
   "cell_type": "code",
   "execution_count": null,
   "metadata": {},
   "outputs": [],
   "source": [
    "inputs_sparse, input_dense = tensor_input[:, :len(orderDict_features_sparse)], tensor_input[:, len(orderDict_features_sparse):]\n",
    "inputs_sparse"
   ]
  },
  {
   "cell_type": "code",
   "execution_count": null,
   "metadata": {},
   "outputs": [],
   "source": [
    "input_dense"
   ]
  },
  {
   "cell_type": "code",
   "execution_count": null,
   "metadata": {},
   "outputs": [],
   "source": [
    "from tensorflow.python.keras.layers import Embedding\n",
    "from tensorflow.python.keras.regularizers import l2\n",
    "\n",
    "\n",
    "def create_embedding(sparse_feature_columns, l2_reg, prefix='sparse_'):\n",
    "    list_embedding_sparse = []\n",
    "    for k, v in sparse_feature_columns.items():\n",
    "        emb = Embedding(v.vocabulary_size, v.embedding_dim,\n",
    "                        embeddings_initializer=v.embeddings_initializer,\n",
    "                        embeddings_regularizer=l2(l2_reg),\n",
    "                        name=prefix+'_emb_'+v.embedding_name)\n",
    "        emb.trainable = v.trainable\n",
    "        list_embedding_sparse.append(emb)\n",
    "\n",
    "    return list_embedding_sparse"
   ]
  },
  {
   "cell_type": "code",
   "execution_count": null,
   "metadata": {},
   "outputs": [],
   "source": [
    "embedding_layers = create_embedding(orderDict_features_sparse, 0.00001)"
   ]
  },
  {
   "cell_type": "code",
   "execution_count": null,
   "metadata": {
    "scrolled": true
   },
   "outputs": [],
   "source": [
    "sparse_embedding = [emb_layer(inputs_sparse[:, i]) for i, emb_layer in enumerate(embedding_layers)]\n",
    "sparse_embedding"
   ]
  },
  {
   "cell_type": "code",
   "execution_count": null,
   "metadata": {},
   "outputs": [],
   "source": [
    "import tensorflow as tf\n",
    "from tensorflow.python.keras.layers import Flatten\n",
    "\n",
    "try:\n",
    "    from tensorflow.python.ops.lookup_ops import StaticHashTable\n",
    "except ImportError:\n",
    "    from tensorflow.python.ops.lookup_ops import HashTable as StaticHashTable\n",
    "\n",
    "\n",
    "class NoMask(tf.keras.layers.Layer):\n",
    "    def __init__(self, **kwargs):\n",
    "        super(NoMask, self).__init__(**kwargs)\n",
    "\n",
    "    def build(self, input_shape):\n",
    "        # Be sure to call this somewhere!\n",
    "        super(NoMask, self).build(input_shape)\n",
    "\n",
    "    def call(self, x, mask=None, **kwargs):\n",
    "        return x\n",
    "\n",
    "    def compute_mask(self, inputs, mask):\n",
    "        return None\n",
    "\n",
    "    \n",
    "def reduce_sum(input_tensor,\n",
    "               axis=None,\n",
    "               keep_dims=False,\n",
    "               name=None,\n",
    "               reduction_indices=None):\n",
    "    try:\n",
    "        return tf.reduce_sum(input_tensor,\n",
    "                             axis=axis,\n",
    "                             keep_dims=keep_dims,\n",
    "                             name=name,\n",
    "                             reduction_indices=reduction_indices)\n",
    "    except TypeError:\n",
    "        return tf.reduce_sum(input_tensor,\n",
    "                             axis=axis,\n",
    "                             keepdims=keep_dims,\n",
    "                             name=name)\n",
    "    \n",
    "\n",
    "def concat_func(inputs, axis=-1, mask=False):\n",
    "    if not mask:\n",
    "        inputs = list(map(NoMask(), inputs))\n",
    "    if len(inputs) == 1:\n",
    "        return inputs[0]\n",
    "    else:\n",
    "        return tf.keras.layers.Concatenate(axis=axis)(inputs)"
   ]
  },
  {
   "cell_type": "code",
   "execution_count": null,
   "metadata": {},
   "outputs": [],
   "source": [
    "sparse_dnn_input = Flatten()(concat_func(sparse_embedding))\n",
    "sparse_dnn_input"
   ]
  },
  {
   "cell_type": "code",
   "execution_count": null,
   "metadata": {},
   "outputs": [],
   "source": [
    "dnn_input = tf.concat([tf.cast(sparse_dnn_input, tf.float32), tf.cast(input_dense,  tf.float32)], axis=-1)\n",
    "dnn_input"
   ]
  },
  {
   "cell_type": "code",
   "execution_count": null,
   "metadata": {},
   "outputs": [],
   "source": [
    "from layers.core import DNN, PredictionLayer"
   ]
  },
  {
   "cell_type": "code",
   "execution_count": null,
   "metadata": {},
   "outputs": [],
   "source": [
    "expert_layers = [DNN((256, 128), 'relu', 0, 0, False, seed=1024, name='expert_'+str(i)) for i in range(3)]\n",
    "expert_layers"
   ]
  },
  {
   "cell_type": "code",
   "execution_count": null,
   "metadata": {
    "scrolled": true
   },
   "outputs": [],
   "source": [
    "expert_outs = [exp_layer(dnn_input) for exp_layer in expert_layers]\n",
    "expert_outs"
   ]
  },
  {
   "cell_type": "code",
   "execution_count": null,
   "metadata": {
    "scrolled": true
   },
   "outputs": [],
   "source": [
    "expert_concat = tf.keras.layers.Lambda(lambda x: tf.stack(x, axis=1))(expert_outs)\n",
    "expert_concat"
   ]
  },
  {
   "cell_type": "code",
   "execution_count": null,
   "metadata": {},
   "outputs": [],
   "source": [
    "gate_layers_inputs = [DNN((), 'relu', 0, 0, False, seed=1024, name='gate_'+('ctr', 'ctcvr')[i]) for i in range(len(('ctr', 'ctcvr')))]\n",
    "gate_layers_inputs"
   ]
  },
  {
   "cell_type": "code",
   "execution_count": null,
   "metadata": {},
   "outputs": [],
   "source": [
    "gate_layers_outputs = [tf.keras.layers.Dense(3, use_bias=False, activation='softmax', name='gate_softmax_'+('ctr', 'ctcvr')[i]) \n",
    "                       for i in range(len(('ctr', 'ctcvr')))]\n",
    "gate_layers_outputs"
   ]
  },
  {
   "cell_type": "code",
   "execution_count": null,
   "metadata": {},
   "outputs": [],
   "source": [
    "\n",
    "mmoe_outputs = []\n",
    "for i in range(len(('ctr', 'ctcvr'))):\n",
    "    gate_input = gate_layers_inputs[i](dnn_input)\n",
    "    gate_output = tf.keras.layers.Lambda(lambda x: tf.expand_dims(x, axis=-1))\\\n",
    "        (gate_layers_outputs[i](gate_input))\n",
    "    gate_mul_expert = tf.keras.layers.Lambda(lambda x: reduce_sum(x[0]*x[1], axis=1, keep_dims=False),\n",
    "                                             name='gate_mul_expert_'+('ctr', 'ctcvr')[i])\\\n",
    "        ([expert_concat, gate_output])\n",
    "    mmoe_outputs.append(gate_mul_expert)\n",
    "mmoe_outputs"
   ]
  },
  {
   "cell_type": "code",
   "execution_count": null,
   "metadata": {},
   "outputs": [],
   "source": [
    "tower_layers = [DNN((64,), 'relu', 0, 0, False, seed=1024, name='tower_'+('ctr', 'ctcvr')[i])\n",
    "                for i in range(len(('ctr', 'ctcvr')))]\n",
    "tower_layers"
   ]
  },
  {
   "cell_type": "code",
   "execution_count": null,
   "metadata": {},
   "outputs": [],
   "source": [
    "logits = [tf.keras.layers.Dense(1, use_bias=False, activation=None) for _ in range(len(('ctr', 'ctcvr')))]\n",
    "logits  "
   ]
  },
  {
   "cell_type": "code",
   "execution_count": null,
   "metadata": {},
   "outputs": [],
   "source": [
    "output_layers = [PredictionLayer(task_type, name=task_name) for task_type, task_name in zip(('binary', 'binary'), ('ctr', 'ctcvr'))]"
   ]
  },
  {
   "cell_type": "code",
   "execution_count": null,
   "metadata": {},
   "outputs": [],
   "source": [
    "task_outputs = []\n",
    "for i in range(len(('ctr', 'ctcvr'))):\n",
    "    tower_output = tower_layers[i](mmoe_outputs[i])\n",
    "    logit_output = logits[i](tower_output)\n",
    "    task_output = output_layers[i](logit_output)\n",
    "    task_outputs.append(task_output)\n",
    "task_outputs"
   ]
  },
  {
   "cell_type": "code",
   "execution_count": null,
   "metadata": {},
   "outputs": [],
   "source": []
  },
  {
   "cell_type": "code",
   "execution_count": null,
   "metadata": {},
   "outputs": [],
   "source": [
    "list_sparse_features = utils_.load_pickle('../data/sample_dfn/union/list_feats/list_sparse_features.pickle')\n",
    "print(len(list_sparse_features))\n",
    "list_sparse_features[:10]"
   ]
  },
  {
   "cell_type": "code",
   "execution_count": null,
   "metadata": {},
   "outputs": [],
   "source": [
    "list_dense_features = utils_.load_pickle('../data/sample_dfn/union/list_feats/list_dense_features.pickle')\n",
    "print(len(list_dense_features))\n",
    "list_dense_features[:10]"
   ]
  },
  {
   "cell_type": "code",
   "execution_count": null,
   "metadata": {},
   "outputs": [],
   "source": [
    "dict_lbe = joblib.load('../data/sample_dfn/union/scaler/dict_lbe.pickle')\n",
    "dict_lbe"
   ]
  },
  {
   "cell_type": "code",
   "execution_count": null,
   "metadata": {},
   "outputs": [],
   "source": [
    "mms = joblib.load('../data/sample_dfn/union/scaler/mms.pickle')\n",
    "mms"
   ]
  },
  {
   "cell_type": "code",
   "execution_count": null,
   "metadata": {
    "scrolled": true
   },
   "outputs": [],
   "source": [
    "list_features_config = []\n",
    "\n",
    "\n",
    "\n",
    "for x in list_sparse_features:\n",
    "    feature_config = []\n",
    "    feature_config.append(x)\n",
    "    feature_config.append(x+'_alias')\n",
    "    feature_config.append('cate')\n",
    "    feature_config.append(','.join([str(int(x)) for x in dict_lbe[x].classes_]))\n",
    "    list_features_config.append(' '.join(feature_config)+'\\n')\n",
    "\n",
    "for i, x in enumerate(list_dense_features):\n",
    "    feature_config = []\n",
    "    feature_config.append(x)\n",
    "    feature_config.append(x+'_alias')\n",
    "    feature_config.append('minMax')\n",
    "    feature_config.append(','.join([str(mms.data_min_[i]), str(mms.data_max_[i])]))\n",
    "    list_features_config.append(' '.join(feature_config)+'\\n')\n",
    "\n",
    "list_features_config"
   ]
  },
  {
   "cell_type": "code",
   "execution_count": null,
   "metadata": {},
   "outputs": [],
   "source": [
    "with open('../data/sample_dfn/union/other/conf.config', 'w') as f:\n",
    "    f.writelines(list_features_config)"
   ]
  },
  {
   "cell_type": "code",
   "execution_count": null,
   "metadata": {},
   "outputs": [],
   "source": [
    "list_features_name = []\n",
    "\n",
    "list_features_name.append('uid_alias')\n",
    "\n",
    "for x in list_sparse_features:\n",
    "    list_features_name.append(x+'_alias')\n",
    "\n",
    "for x in list_dense_features:\n",
    "    list_features_name.append(x+'_alias')\n",
    "\n",
    "print(len(list_features_name))\n",
    "list_features_name[:10]"
   ]
  },
  {
   "cell_type": "code",
   "execution_count": null,
   "metadata": {},
   "outputs": [],
   "source": [
    "with open('../data/sample_dfn/union/other/features.txt', 'w') as f:\n",
    "    f.write(' '.join(list_features_config))"
   ]
  },
  {
   "cell_type": "code",
   "execution_count": null,
   "metadata": {},
   "outputs": [],
   "source": []
  }
 ],
 "metadata": {
  "kernelspec": {
   "display_name": "Python (deepctr)",
   "language": "python",
   "name": "deepctr"
  },
  "language_info": {
   "codemirror_mode": {
    "name": "ipython",
    "version": 3
   },
   "file_extension": ".py",
   "mimetype": "text/x-python",
   "name": "python",
   "nbconvert_exporter": "python",
   "pygments_lexer": "ipython3",
   "version": "3.7.10"
  }
 },
 "nbformat": 4,
 "nbformat_minor": 4
}
