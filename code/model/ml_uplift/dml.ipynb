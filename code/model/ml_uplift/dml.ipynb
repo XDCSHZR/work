{
 "cells": [
  {
   "cell_type": "code",
   "execution_count": 2,
   "id": "34556f01-49b7-4abb-a052-b65f15e7a82e",
   "metadata": {},
   "outputs": [],
   "source": [
    "import warnings\n",
    "warnings.filterwarnings(\"ignore\")\n",
    "\n",
    "import pandas as pd\n",
    "import econml # 0.14.1\n",
    "from econml.dml import DML, LinearDML, SparseLinearDML, CausalForestDML\n",
    "import numpy as np\n",
    "from itertools import product\n",
    "from sklearn.linear_model import (Lasso, LassoCV, LogisticRegression,\n",
    "                                  LogisticRegressionCV,LinearRegression,\n",
    "                                  MultiTaskElasticNet,MultiTaskElasticNetCV)\n",
    "from sklearn.ensemble import RandomForestRegressor,RandomForestClassifier\n",
    "from sklearn.preprocessing import PolynomialFeatures\n",
    "import matplotlib.pyplot as plt\n",
    "import matplotlib\n",
    "from sklearn.model_selection import train_test_split\n",
    "from sklearn.base import BaseEstimator, clone\n",
    "import lightgbm as lgb\n",
    "import seaborn as sns\n",
    "import glob\n",
    "import os"
   ]
  },
  {
   "cell_type": "code",
   "execution_count": null,
   "id": "1465657d-1726-4526-9fb0-1173a5f88fbc",
   "metadata": {},
   "outputs": [],
   "source": [
    "%matplotlib inline"
   ]
  },
  {
   "cell_type": "code",
   "execution_count": null,
   "id": "024bea52-c41d-4880-b0c1-48b3685de0b9",
   "metadata": {},
   "outputs": [],
   "source": [
    "# M_y(x)分类模型需要包装成回归模型\n",
    "class RegressionWrapper(BaseEstimator):\n",
    "    def __init__(self, clf):\n",
    "        self.clf = clf\n",
    "\n",
    "    def fit(self, X, y, **kwargs):\n",
    "        self.clf_ = clone(self.clf)\n",
    "        self.clf_.fit(X, y, **kwargs)\n",
    "        return self\n",
    "\n",
    "    def predict(self, X):\n",
    "        return self.clf_.predict_proba(X)[:, 1]"
   ]
  },
  {
   "cell_type": "markdown",
   "id": "a88f5f92-be3f-4d8a-9cbf-b9516d9a12f6",
   "metadata": {},
   "source": [
    "### 1.加载数据和预处理"
   ]
  },
  {
   "cell_type": "code",
   "execution_count": null,
   "id": "c3ef6a69-c5f7-4211-a4e9-008a04f69932",
   "metadata": {},
   "outputs": [],
   "source": [
    "cols = pd.read_csv('cols_select.txt', header=None)\n",
    "cols = list(cols[0])\n",
    "\n",
    "df = pd.read_csv('train_dataset_2023-07-10.txt', sep='\\t')\n",
    "df1 = pd.read_csv('train_dataset_2023-07-03.txt', sep='\\t')\n",
    "df2 = pd.read_csv('train_dataset_2023-06-26.txt', sep='\\t')\n",
    "df3 = pd.read_csv('train_dataset_2023-06-19.txt', sep='\\t')\n",
    "df4 = pd.read_csv('train_dataset_2023-06-12.txt', sep='\\t')\n",
    "df5 = pd.read_csv('train_dataset_2023-06-05.txt', sep='\\t')\n",
    "df = pd.concat([df, df1, df2, df3, df4, df5], axis=0)\n",
    "df1 = df2 = df3 = df4 = df5 = pd.DataFrame()\n",
    "df = df[cols]\n",
    "df = df.fillna(0)"
   ]
  },
  {
   "cell_type": "code",
   "execution_count": null,
   "id": "99712224-d61d-4d84-8c9f-c19c6e8e4880",
   "metadata": {},
   "outputs": [],
   "source": [
    "df"
   ]
  },
  {
   "cell_type": "code",
   "execution_count": null,
   "id": "0a5245b2-cfc9-466c-b22a-7791937bfb4e",
   "metadata": {},
   "outputs": [],
   "source": [
    "df['t1.label_purchase'].value_counts()"
   ]
  },
  {
   "cell_type": "code",
   "execution_count": null,
   "id": "451bc2ef-143f-4428-9870-029abe76e4da",
   "metadata": {},
   "outputs": [],
   "source": [
    "df['t1.product'].value_counts()"
   ]
  },
  {
   "cell_type": "code",
   "execution_count": null,
   "id": "ac0bf5e0-dae2-4816-9ee8-ac4d481549d0",
   "metadata": {},
   "outputs": [],
   "source": [
    "df['tmp'] = df['t1.product'] + df['t1.label_purchase'].astype(str)"
   ]
  },
  {
   "cell_type": "code",
   "execution_count": null,
   "id": "5d4745bd-2cb1-4d2a-921d-1e6687351cff",
   "metadata": {},
   "outputs": [],
   "source": [
    "df['tmp']"
   ]
  },
  {
   "cell_type": "code",
   "execution_count": null,
   "id": "a3cfd3b5-7599-4d0f-96dc-8ef09a89303a",
   "metadata": {},
   "outputs": [],
   "source": [
    "df['tmp'].value_counts()\n",
    "df.pop('tmp')"
   ]
  },
  {
   "cell_type": "code",
   "execution_count": null,
   "id": "97780b17-6aac-40f8-be11-a7279be4be1a",
   "metadata": {},
   "outputs": [],
   "source": [
    "label_encode_dict = {\n",
    "    'xxx':5,\n",
    "    'xxx':2,\n",
    "    'xxx':0,\n",
    "    'xxx':1, \n",
    "    'xxx':3, \n",
    "    'xxx':4 }\n",
    "df = df[df['t1.product'].isin(list(label_encode_dict.keys()))].reset_index(drop=True)\n",
    "df['t1.product'] = df['t1.product'].apply(lambda x: label_encode_dict[x])"
   ]
  },
  {
   "cell_type": "code",
   "execution_count": null,
   "id": "39daf12b-4d31-44fe-8b08-7a04847da8ca",
   "metadata": {},
   "outputs": [],
   "source": [
    "T, Y = df['t1.product'], df['t1.label_purchase']"
   ]
  },
  {
   "cell_type": "code",
   "execution_count": null,
   "id": "9cd3c25d-8943-4968-a8f5-542be61735e4",
   "metadata": {},
   "outputs": [],
   "source": [
    "X = df.iloc[:, :-2]"
   ]
  },
  {
   "cell_type": "code",
   "execution_count": null,
   "id": "2576426d-cfd3-4775-a7b5-c6ee894cb4d6",
   "metadata": {},
   "outputs": [],
   "source": [
    "X"
   ]
  },
  {
   "cell_type": "markdown",
   "id": "07636079-5600-4cd3-abd2-af6e9796068a",
   "metadata": {},
   "source": [
    "### 2.模型构建和训练"
   ]
  },
  {
   "cell_type": "code",
   "execution_count": null,
   "id": "46261536-a2ae-478d-a70c-9fa63039bea0",
   "metadata": {},
   "outputs": [],
   "source": [
    "\n",
    "est = CausalForestDML(\n",
    "    model_y= RegressionWrapper(lgb.LGBMClassifier(random_state=2023, num_leaves=63, learning_rate=0.05, n_estimators=200, objective='binary')),\n",
    "    model_t = lgb.LGBMClassifier(random_state=2023, num_leaves=63, learning_rate=0.05, n_estimators=200, objective='multiclass'),\n",
    "    discrete_treatment=True,\n",
    "    max_depth=10,\n",
    "    min_samples_split=10,\n",
    "    cv=10,\n",
    "    #,criterion='het'\n",
    "    verbose=10,\n",
    "    random_state=2023,\n",
    "    n_estimators=100,\n",
    "    subforest_size=2,\n",
    ")"
   ]
  },
  {
   "cell_type": "code",
   "execution_count": null,
   "id": "d8d7b030-5aea-48c3-a896-e88ac8fd6080",
   "metadata": {
    "scrolled": true,
    "tags": []
   },
   "outputs": [],
   "source": [
    "est.fit(Y.values, T=T.values,  X=X.values, W=None, cache_values=True)"
   ]
  },
  {
   "cell_type": "code",
   "execution_count": null,
   "id": "b2c3ecf6-3999-42d6-bffe-6b06dce7e0ca",
   "metadata": {
    "scrolled": true,
    "tags": []
   },
   "outputs": [],
   "source": [
    "est.summary()"
   ]
  },
  {
   "cell_type": "code",
   "execution_count": null,
   "id": "4cd172a7-b329-4e37-9544-36fc0999712b",
   "metadata": {},
   "outputs": [],
   "source": []
  },
  {
   "cell_type": "code",
   "execution_count": null,
   "id": "516e6e83-fb17-4b04-aa8b-8827cfe701d6",
   "metadata": {},
   "outputs": [],
   "source": []
  },
  {
   "cell_type": "markdown",
   "id": "847bc2bd-fd49-4f9b-84f9-ade325dd6c0d",
   "metadata": {},
   "source": [
    "### 3.模型效果评估"
   ]
  },
  {
   "cell_type": "code",
   "execution_count": null,
   "id": "8e667d36-2b7c-4888-adbf-5616bb102603",
   "metadata": {},
   "outputs": [],
   "source": [
    "import glob\n",
    "import os\n",
    "import pandas as pd\n",
    "\n",
    "cols = pd.read_csv('cols_select_test.txt', header=None)\n",
    "cols = list(cols[0])\n",
    "\n",
    "joined_files = os.path.join(\"./\", \"test_dataset_*.txt\")\n",
    "joined_list = glob.glob(joined_files)\n",
    "print(joined_list)\n",
    "\n",
    "df_test = pd.concat([pd.read_csv(i, sep='\\t') for i in joined_list], ignore_index=True)\n",
    "\n",
    "df_test = df_test[cols]\n",
    "df_test = df_test.fillna(0)\n",
    "df_test = df_test.rename(columns={'t1.label_invert': 't1.label_purchase'})"
   ]
  },
  {
   "cell_type": "code",
   "execution_count": null,
   "id": "5a03c4b6-828a-4265-8f59-49b5b70782b0",
   "metadata": {},
   "outputs": [],
   "source": [
    "df_test"
   ]
  },
  {
   "cell_type": "code",
   "execution_count": null,
   "id": "deed2e59-3279-4139-883b-7aac169b0a84",
   "metadata": {},
   "outputs": [],
   "source": [
    "df_test = df_test[df_test['t1.product'].isin(list(label_encode_dict.keys()))].reset_index(drop=True)\n",
    "df_test['t1.product'] = df_test['t1.product'].apply(lambda x: label_encode_dict[x])\n",
    "\n",
    "T_test, Y_test = df_test['t1.product'], df_test['t1.label_purchase']\n",
    "X_test = df_test.iloc[:, :-2]"
   ]
  },
  {
   "cell_type": "code",
   "execution_count": null,
   "id": "373b6edc-b266-4a09-8fb5-c257b89bf52a",
   "metadata": {},
   "outputs": [],
   "source": [
    "res = est.const_marginal_effect(X_test)"
   ]
  },
  {
   "cell_type": "code",
   "execution_count": null,
   "id": "fd2ed9ff-6e26-42de-8258-e4c17772ddaf",
   "metadata": {},
   "outputs": [],
   "source": [
    "res.shape"
   ]
  },
  {
   "cell_type": "code",
   "execution_count": null,
   "id": "4a283d7f-6b90-49d9-97f9-55002f079372",
   "metadata": {},
   "outputs": [],
   "source": [
    "res[:, -1]"
   ]
  },
  {
   "cell_type": "code",
   "execution_count": null,
   "id": "f719c60a-6d48-4033-9128-2bd52e8b647e",
   "metadata": {},
   "outputs": [],
   "source": [
    "for p in range(len(label_encode_dict)-1):\n",
    "    cnt = 0\n",
    "    for i in res[:, p] > 0:\n",
    "        if i: cnt += 1\n",
    "    print(p, cnt)"
   ]
  },
  {
   "cell_type": "code",
   "execution_count": null,
   "id": "774558c3-6203-42d6-89df-4c8c73760891",
   "metadata": {},
   "outputs": [],
   "source": [
    "df_test['tmp'] = df_test['t1.product'].astype(str) + df_test['t1.label_purchase'].astype(str)"
   ]
  },
  {
   "cell_type": "code",
   "execution_count": null,
   "id": "796f6d32-e639-440c-9909-812bab6ad2c7",
   "metadata": {},
   "outputs": [],
   "source": [
    "df_test['tmp'].value_counts()"
   ]
  },
  {
   "cell_type": "code",
   "execution_count": null,
   "id": "66f1e802-4e0a-4687-9085-5835059e77af",
   "metadata": {},
   "outputs": [],
   "source": [
    "def pmg(df_test, predict_result):\n",
    "    df_test_label = df_test[['t1.product', 't1.label_purchase']].rename(\n",
    "        columns={'t1.product': 'treatment', 't1.label_purchase': 'label'})\n",
    "    zeros = np.zeros(predict_result.shape[0])\n",
    "    res_tmp = np.insert(predict_result, 0, zeros, axis=1)\n",
    "    res_tmp = pd.DataFrame(res_tmp) \n",
    "    res_tmp['predict_treatment'] = res_tmp.apply(\n",
    "        lambda row: sorted(dict(row[:-1]).items(), key=lambda x: x[1], reverse=True)[0][0], axis=1)\n",
    "\n",
    "    df_summary = pd.concat([res_tmp, df_test_label], axis=1)\n",
    "    df_summary['if_same'] = (df_summary['predict_treatment'] == df_summary['treatment']).astype(int)\n",
    "    df_overlap_summary = df_summary[df_summary['if_same'] == 1].groupby('predict_treatment') \\\n",
    "        .agg({'label':'mean'}) \\\n",
    "        .rename(columns={'label':'mean'}) \\\n",
    "        .reset_index()\n",
    "    df_stg_summary = df_summary.groupby('predict_treatment')\\\n",
    "        .count().reset_index() \\\n",
    "        .rename(columns={'treatment':'num_stg_treatment'})[['predict_treatment','num_stg_treatment']]\n",
    "    df_finnal_summary = df_overlap_summary.merge(df_stg_summary, how = 'inner', on = 'predict_treatment')\n",
    "    total_gain = sum(df_finnal_summary['mean'] * df_finnal_summary['num_stg_treatment'])\n",
    "    total_count = df_finnal_summary.num_stg_treatment.sum()\n",
    "    avg_gain = total_gain/total_count\n",
    "    base = df_summary.label.mean()\n",
    "    gain = (avg_gain - base)/base\n",
    "\n",
    "    return gain"
   ]
  },
  {
   "cell_type": "code",
   "execution_count": null,
   "id": "06477386-1483-4347-931e-75b3af0418b3",
   "metadata": {},
   "outputs": [],
   "source": [
    "pmg(df_test, res)"
   ]
  },
  {
   "cell_type": "code",
   "execution_count": null,
   "id": "4f75c75e-ca81-4957-bb18-b20f610c1f1e",
   "metadata": {},
   "outputs": [],
   "source": [
    "# import joblib\n",
    "\n",
    "# modelpath = 'dml_v1_0.pkl'\n",
    "# joblib.dump(est, filename=modelpath)\n",
    "\n",
    "import cloudpickle\n",
    "modelpath = 'dml_v1_0_.pkl'\n",
    "with open(modelpath, 'wb') as f: \n",
    "    cloudpickle.dump(est, f)"
   ]
  },
  {
   "cell_type": "code",
   "execution_count": null,
   "id": "b3a9b6c3-67ef-40e4-8ba4-04b226a2fc76",
   "metadata": {},
   "outputs": [],
   "source": []
  },
  {
   "cell_type": "code",
   "execution_count": null,
   "id": "9d2a644a-e864-42b9-84ce-5aeb30b702e0",
   "metadata": {},
   "outputs": [],
   "source": [
    "# m = joblib.load(modelpath)\n",
    "# print(m)"
   ]
  },
  {
   "cell_type": "code",
   "execution_count": null,
   "id": "a72fbf5e-0a3e-45e8-8b52-ee3307f11847",
   "metadata": {},
   "outputs": [],
   "source": []
  },
  {
   "cell_type": "code",
   "execution_count": null,
   "id": "070f94da-2590-4112-a160-35a6946dea42",
   "metadata": {},
   "outputs": [],
   "source": []
  },
  {
   "cell_type": "markdown",
   "id": "6c84a067-dc03-42d7-9a48-1282723aba4e",
   "metadata": {},
   "source": [
    "### 4.特征重要度及可视化"
   ]
  },
  {
   "cell_type": "markdown",
   "id": "2aa0a206-6a95-4d03-8528-ca9afddeb7eb",
   "metadata": {},
   "source": [
    "#### 4.1 feature_importance_"
   ]
  },
  {
   "cell_type": "code",
   "execution_count": null,
   "id": "48677006-c5d7-4b7d-a8ea-481738458f83",
   "metadata": {},
   "outputs": [],
   "source": [
    "feature_importance_dict = {df.columns[i]: est.feature_importances_[i] for i in range(df.shape[1] - 2)}"
   ]
  },
  {
   "cell_type": "code",
   "execution_count": null,
   "id": "5874673f-af75-45a6-9a40-3fc74fb3619d",
   "metadata": {},
   "outputs": [],
   "source": [
    "feature_importance = pd.DataFrame({'feature_name': df.columns[:-2], 'importance': est.feature_importances_})"
   ]
  },
  {
   "cell_type": "code",
   "execution_count": null,
   "id": "f1f2544b-84a5-41b7-8a55-a1796412bd48",
   "metadata": {},
   "outputs": [],
   "source": [
    "feature_importance = feature_importance.sort_values(by=\"importance\", ascending=False)"
   ]
  },
  {
   "cell_type": "code",
   "execution_count": null,
   "id": "edb5be00-1f29-4f8a-ab87-67369cad5ca8",
   "metadata": {},
   "outputs": [],
   "source": [
    "feature_importance"
   ]
  },
  {
   "cell_type": "code",
   "execution_count": null,
   "id": "ff7c3489-2b03-4d7f-bb29-a7e565d2c956",
   "metadata": {},
   "outputs": [],
   "source": [
    "feature_importance[feature_importance['importance'] > 0]"
   ]
  },
  {
   "cell_type": "code",
   "execution_count": null,
   "id": "54aaac8d-a98e-41ca-8c6c-d18ea8d1876b",
   "metadata": {},
   "outputs": [],
   "source": [
    "import seaborn as sns\n",
    "\n",
    "plt.figure(figsize=(5, 20))\n",
    "# data=feature_importance[feature_importance['importance'] > 0]\n",
    "data = feature_importance.reset_index(drop=True).loc[:50, :]\n",
    "sns.barplot(x=\"importance\", y=\"feature_name\", data=data, order=data[\"feature_name\"], orient=\"h\")"
   ]
  },
  {
   "cell_type": "code",
   "execution_count": null,
   "id": "10882017-5f11-4782-9bb8-ea1e82d07b68",
   "metadata": {},
   "outputs": [],
   "source": []
  },
  {
   "cell_type": "code",
   "execution_count": null,
   "id": "fe165ff8-543a-4c69-8b27-887b0f491206",
   "metadata": {},
   "outputs": [],
   "source": [
    "feature_importance.reset_index(drop=True).loc[:400, :][['feature_name']].to_csv('cols_select_importance.txt', header=None, index=False, sep='\\t')"
   ]
  },
  {
   "cell_type": "code",
   "execution_count": null,
   "id": "9e278cdc-56ef-4283-a776-932bbca19ebb",
   "metadata": {},
   "outputs": [],
   "source": []
  },
  {
   "cell_type": "markdown",
   "id": "b4fc7574-e076-40e7-8c7b-19cd23bb3681",
   "metadata": {},
   "source": [
    "#### 4.2 shap_values"
   ]
  },
  {
   "cell_type": "code",
   "execution_count": null,
   "id": "32998847-654e-4000-b3c7-257793f7467f",
   "metadata": {},
   "outputs": [],
   "source": [
    "shap_values = est.shap_values(X)"
   ]
  },
  {
   "cell_type": "code",
   "execution_count": null,
   "id": "5a654cd6-195a-4310-b559-f1211b993e01",
   "metadata": {
    "scrolled": true,
    "tags": []
   },
   "outputs": [],
   "source": [
    "shap_values"
   ]
  },
  {
   "cell_type": "code",
   "execution_count": null,
   "id": "ad10d491-c558-4c69-b7a9-4e3ac9bfecef",
   "metadata": {},
   "outputs": [],
   "source": []
  },
  {
   "cell_type": "code",
   "execution_count": null,
   "id": "8553867b-c38c-4358-a690-be8ce98c8317",
   "metadata": {},
   "outputs": [],
   "source": []
  },
  {
   "cell_type": "markdown",
   "id": "c7388186-1866-4e14-8ee6-2dae33c82d28",
   "metadata": {},
   "source": [
    "### 线上打分pmg计算"
   ]
  },
  {
   "cell_type": "code",
   "execution_count": null,
   "id": "ebf8c10e-9f5b-4082-b5d3-b3a56b7d8c3a",
   "metadata": {},
   "outputs": [],
   "source": [
    "import glob\n",
    "import os\n",
    "import pandas as pd\n",
    "\n",
    "score_cols = ['insurance_driver_end_trip_popup_window_score.uid', 'insurance_driver_end_trip_popup_window_score.score_0',\t'insurance_driver_end_trip_popup_window_score.score_1',\t'insurance_driver_end_trip_popup_window_score.score_2', 'insurance_driver_end_trip_popup_window_score.score_5',\t'insurance_driver_end_trip_popup_window_score.score_6',\t'insurance_driver_end_trip_popup_window_score.score_7']\n",
    "label_cols = ['t1.uid', 't1.product', 't1.label_invert']\n",
    "\n",
    "score_files = os.path.join(\"./\", \"online_score_*.txt\")\n",
    "score_list = glob.glob(score_files)\n",
    "print(score_list)\n",
    "\n",
    "test_files = os.path.join(\"./\", \"test_dataset_*.txt\")\n",
    "test_list = glob.glob(test_files)\n",
    "print(test_list)\n",
    "\n",
    "df_tmp = pd.concat([pd.read_csv(score_list[i], sep='\\t')[score_cols].merge(pd.read_csv(test_list[i], sep='\\t')[label_cols], how='inner', left_on=score_cols[0], right_on=label_cols[0]) for i in range(len(score_list))], ignore_index=True)\n",
    "\n",
    "# df_test = pd.concat([pd.read_csv(i, sep='\\t') for i in joined_list], ignore_index=True)"
   ]
  },
  {
   "cell_type": "code",
   "execution_count": null,
   "id": "7cf01615-a6f0-468f-a0bc-8b67dd840e2f",
   "metadata": {},
   "outputs": [],
   "source": [
    "df_tmp"
   ]
  },
  {
   "cell_type": "code",
   "execution_count": null,
   "id": "f773773c-9338-4fe4-a466-68aa492036b5",
   "metadata": {},
   "outputs": [],
   "source": [
    "product_name = ['xxx', 'xxx', 'xxx', 'xxx', 'xxx', 'xxx']\n",
    "df_tmp = df_tmp.rename(columns={score_cols[i+1]: product_name[i] for i in range(len(product_name))})\n",
    "df_tmp['predict_treatment'] = df_tmp[product_name].apply(\n",
    "        lambda row: sorted(dict(row).items(), key=lambda x: x[1], reverse=True)[0][0], axis=1)"
   ]
  },
  {
   "cell_type": "code",
   "execution_count": null,
   "id": "49797f18-7363-4305-9ad8-2b67f8da642e",
   "metadata": {},
   "outputs": [],
   "source": [
    "df_tmp = df_tmp[df_tmp['t1.product'].isin(product_name)].reset_index(drop=True)\n",
    "df_tmp"
   ]
  },
  {
   "cell_type": "code",
   "execution_count": null,
   "id": "1ec579a3-41b4-4bd2-a759-80d5691484c4",
   "metadata": {},
   "outputs": [],
   "source": [
    "# pmg\n",
    "def pmg(df_tmp):\n",
    "    \"\"\"\n",
    "    df_test: DataFrame of test data\n",
    "    predict_result: dml model output\n",
    "    \"\"\"\n",
    "    df_summary = df_tmp[['t1.product', 't1.label_invert', 'predict_treatment']].rename(\n",
    "        columns={'t1.product': 'treatment', 't1.label_invert': 'label'})\n",
    "    \n",
    "    df_summary['if_same'] = (df_summary['predict_treatment'] == df_summary['treatment']).astype(int)\n",
    "    df_overlap_summary = df_summary[df_summary['if_same'] == 1].groupby('predict_treatment') \\\n",
    "        .agg({'label':'mean'}) \\\n",
    "        .rename(columns={'label':'mean'}) \\\n",
    "        .reset_index()\n",
    "    df_stg_summary = df_summary.groupby('predict_treatment')\\\n",
    "        .count().reset_index() \\\n",
    "        .rename(columns={'treatment':'num_stg_treatment'})[['predict_treatment','num_stg_treatment']]\n",
    "    df_finnal_summary = df_overlap_summary.merge(df_stg_summary, how = 'inner', on = 'predict_treatment')\n",
    "    total_gain = sum(df_finnal_summary['mean'] * df_finnal_summary['num_stg_treatment'])\n",
    "    total_count = df_finnal_summary.num_stg_treatment.sum()\n",
    "    avg_gain = total_gain/total_count\n",
    "    base = df_summary.label.mean()\n",
    "    gain = (avg_gain - base)/base\n",
    "\n",
    "    return gain"
   ]
  },
  {
   "cell_type": "code",
   "execution_count": null,
   "id": "8f2c7e50-1a2c-40e7-9a9a-d18cdd2c0e40",
   "metadata": {},
   "outputs": [],
   "source": [
    "pmg(df_tmp)"
   ]
  },
  {
   "cell_type": "code",
   "execution_count": null,
   "id": "89d6674a-2391-4416-8434-bb796a324ab3",
   "metadata": {},
   "outputs": [],
   "source": []
  },
  {
   "cell_type": "markdown",
   "id": "acc11d43-1630-4266-9c10-ac1e881bfb26",
   "metadata": {},
   "source": [
    "### 附录：\n",
    "#### 1. PMG\n"
   ]
  },
  {
   "cell_type": "markdown",
   "id": "a5efa6f6-0540-4a0d-ad49-0d85642806c5",
   "metadata": {},
   "source": [
    "![pmg.png](pmg.png)"
   ]
  },
  {
   "cell_type": "code",
   "execution_count": null,
   "id": "ae8ac9db-c4d3-40e8-a2f8-df57b6975369",
   "metadata": {},
   "outputs": [],
   "source": []
  },
  {
   "cell_type": "code",
   "execution_count": null,
   "id": "74fd3acf-4fb3-415c-b767-2ab656e5452f",
   "metadata": {},
   "outputs": [],
   "source": []
  },
  {
   "cell_type": "markdown",
   "id": "46007358-28d3-4251-bbca-d3778513d3c4",
   "metadata": {},
   "source": [
    "#### 2.特征筛选"
   ]
  },
  {
   "cell_type": "code",
   "execution_count": null,
   "id": "15cc5e2d-ac42-488c-aba4-67e4018f3109",
   "metadata": {},
   "outputs": [],
   "source": [
    "from people_uplift_tree import PeopleUpliftTree"
   ]
  },
  {
   "cell_type": "code",
   "execution_count": null,
   "id": "41d9d712-3d66-47dd-81f2-2b6fce67f2b3",
   "metadata": {},
   "outputs": [],
   "source": [
    "X"
   ]
  },
  {
   "cell_type": "code",
   "execution_count": null,
   "id": "7bfabc89-a22a-4357-9364-542637e433a2",
   "metadata": {},
   "outputs": [],
   "source": [
    "top50_cols = pd.read_csv('cols_select_importance.txt', header=None)\n",
    "top50_cols = list(top50_cols[0])[:50]"
   ]
  },
  {
   "cell_type": "code",
   "execution_count": null,
   "id": "d1700dfb-b532-43db-b779-9548a3b8ef43",
   "metadata": {},
   "outputs": [],
   "source": [
    "top50_cols"
   ]
  },
  {
   "cell_type": "code",
   "execution_count": null,
   "id": "1b463e35-db2b-4bd1-b9c0-0ad626f0e264",
   "metadata": {},
   "outputs": [],
   "source": [
    "from people_uplift_tree import PeopleUpliftTree\n",
    "from IPython.display import Image\n",
    "\n",
    "put = PeopleUpliftTree(max_depth=3, min_samples_leaf=100)"
   ]
  },
  {
   "cell_type": "code",
   "execution_count": null,
   "id": "a6e73b97-e92c-44a9-a465-46d662f312a4",
   "metadata": {},
   "outputs": [],
   "source": [
    "T1 = T.apply(lambda x: x if x == 0 else 1)"
   ]
  },
  {
   "cell_type": "code",
   "execution_count": null,
   "id": "b74dd909-5f9f-4541-a3ab-0502e6c0c9f7",
   "metadata": {},
   "outputs": [],
   "source": [
    "T1.shape"
   ]
  },
  {
   "cell_type": "code",
   "execution_count": null,
   "id": "7ebf0b96-5bff-4854-99e9-d60170e604ff",
   "metadata": {
    "scrolled": true,
    "tags": []
   },
   "outputs": [],
   "source": [
    "for i in top50_cols:\n",
    "    tree = put.fit(x=df[i], treatment=T1, y=Y)\n",
    "    graph = put.plot_tree(tree, x_name=i, score_name=\"convert_prob\")\n",
    "    \n",
    "    display(Image(graph.create_png()))"
   ]
  },
  {
   "cell_type": "code",
   "execution_count": null,
   "id": "87a8b93f-0aa0-4bea-9c2d-6e2818f8f490",
   "metadata": {},
   "outputs": [],
   "source": [
    "\n"
   ]
  },
  {
   "cell_type": "code",
   "execution_count": null,
   "id": "9ad41c84-6d26-47ce-a25f-be1e2d51d73a",
   "metadata": {},
   "outputs": [],
   "source": []
  },
  {
   "cell_type": "code",
   "execution_count": null,
   "id": "664c2fa0-a60a-410c-8da6-d58965b17874",
   "metadata": {},
   "outputs": [],
   "source": []
  },
  {
   "cell_type": "code",
   "execution_count": null,
   "id": "880588d3-8b36-4401-ab60-c25ebfbe998f",
   "metadata": {},
   "outputs": [],
   "source": []
  },
  {
   "cell_type": "code",
   "execution_count": null,
   "id": "68c87fba-7839-4719-9cd0-b073a6d31506",
   "metadata": {},
   "outputs": [],
   "source": []
  },
  {
   "cell_type": "code",
   "execution_count": null,
   "id": "6751aaa8-9ebd-4d3d-8abd-cdc3dc106a1c",
   "metadata": {},
   "outputs": [],
   "source": []
  },
  {
   "cell_type": "code",
   "execution_count": null,
   "id": "868e61af-f1c9-4f65-a91a-b243c4f7cb60",
   "metadata": {},
   "outputs": [],
   "source": []
  },
  {
   "cell_type": "code",
   "execution_count": null,
   "id": "5e8ebb25-83df-49c1-bdab-cfd71e80535c",
   "metadata": {},
   "outputs": [],
   "source": []
  },
  {
   "cell_type": "code",
   "execution_count": null,
   "id": "ef5d1c96-d41b-43e2-9c07-cad0767ed2e5",
   "metadata": {},
   "outputs": [],
   "source": []
  },
  {
   "cell_type": "code",
   "execution_count": null,
   "id": "9c368736-1066-4201-a2d8-07f726f98c5a",
   "metadata": {},
   "outputs": [],
   "source": [
    "import warnings\n",
    "warnings.filterwarnings(\"ignore\")\n",
    "\n",
    "import pandas as pd\n",
    "import econml\n",
    "from econml.dml import DML, LinearDML, SparseLinearDML, CausalForestDML\n",
    "import numpy as np\n",
    "from sklearn.ensemble import RandomForestRegressor,RandomForestClassifier\n",
    "from sklearn.preprocessing import PolynomialFeatures\n",
    "import matplotlib.pyplot as plt\n",
    "import matplotlib\n",
    "from sklearn.model_selection import train_test_split\n",
    "from sklearn.base import BaseEstimator, clone\n",
    "import lightgbm as lgb\n",
    "import seaborn as sns\n",
    "import glob\n",
    "import os\n",
    "import joblib\n",
    "import cloudpickle\n",
    "from reg_wrapper import RegressionWrapper\n",
    "import argparse"
   ]
  },
  {
   "cell_type": "code",
   "execution_count": null,
   "id": "351454be-7751-4468-bdd6-b88b23536357",
   "metadata": {},
   "outputs": [],
   "source": [
    "TEST_FILE_DATE = ['2023-10-02', '2023-10-09']"
   ]
  },
  {
   "cell_type": "code",
   "execution_count": null,
   "id": "046611b5-9319-4b98-b9ea-0d2c062896c2",
   "metadata": {},
   "outputs": [],
   "source": [
    "print('-------------------------\\n testing... \\n-------------------------\\n')\n",
    "cols = pd.read_csv('./cols_select_test_50.txt', header=None)\n",
    "cols = list(cols[0])\n",
    "\n",
    "test_file_list = ['test_dataset_{}.txt'.format(i) for i in TEST_FILE_DATE]\n",
    "df_test = pd.concat([pd.read_csv(i, sep='\\t') for i in test_file_list], ignore_index=True)\n",
    "\n",
    "df_test = df_test[cols]\n",
    "df_test = df_test.fillna(0)\n",
    "df_test = df_test.rename(columns={'t1.label_invert': 't1.label_purchase'})\n",
    "df_test = df_test[df_test['t1.product'].isin(list(label_encode_dict.keys()))].reset_index(drop=True)\n",
    "df_test['t1.product'] = df_test['t1.product'].apply(lambda x: label_encode_dict[x])\n",
    "print(df_test['t1.product'].value_counts())"
   ]
  },
  {
   "cell_type": "code",
   "execution_count": null,
   "id": "5b85f6b7-c17c-400c-aaaf-03dbfca639d7",
   "metadata": {},
   "outputs": [],
   "source": []
  },
  {
   "cell_type": "code",
   "execution_count": null,
   "id": "926ea1d5-f01e-480b-b504-a206dd5390a7",
   "metadata": {},
   "outputs": [],
   "source": []
  }
 ],
 "metadata": {
  "kernelspec": {
   "display_name": "Python 3 (ipykernel)",
   "language": "python",
   "name": "python3"
  },
  "language_info": {
   "codemirror_mode": {
    "name": "ipython",
    "version": 3
   },
   "file_extension": ".py",
   "mimetype": "text/x-python",
   "name": "python",
   "nbconvert_exporter": "python",
   "pygments_lexer": "ipython3",
   "version": "3.7.10"
  }
 },
 "nbformat": 4,
 "nbformat_minor": 5
}
