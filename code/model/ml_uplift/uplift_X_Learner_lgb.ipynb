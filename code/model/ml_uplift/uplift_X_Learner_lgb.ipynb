{
 "cells": [
  {
   "cell_type": "markdown",
   "metadata": {},
   "source": [
    "# 增益模型\n",
    "## X Learner lightgbm"
   ]
  },
  {
   "cell_type": "code",
   "execution_count": 1,
   "metadata": {
    "scrolled": true,
    "tags": []
   },
   "outputs": [
    {
     "ename": "KeyboardInterrupt",
     "evalue": "",
     "output_type": "error",
     "traceback": [
      "\u001b[0;31m---------------------------------------------------------------------------\u001b[0m",
      "\u001b[0;31mKeyboardInterrupt\u001b[0m                         Traceback (most recent call last)",
      "\u001b[0;32m/tmp/ipykernel_20420/135023387.py\u001b[0m in \u001b[0;36m<module>\u001b[0;34m\u001b[0m\n\u001b[1;32m      6\u001b[0m \u001b[0;32mimport\u001b[0m \u001b[0mlogging\u001b[0m\u001b[0;34m\u001b[0m\u001b[0;34m\u001b[0m\u001b[0m\n\u001b[1;32m      7\u001b[0m \u001b[0;32mimport\u001b[0m \u001b[0mos\u001b[0m\u001b[0;34m\u001b[0m\u001b[0;34m\u001b[0m\u001b[0m\n\u001b[0;32m----> 8\u001b[0;31m \u001b[0;32mimport\u001b[0m \u001b[0mmatplotlib\u001b[0m\u001b[0;34m.\u001b[0m\u001b[0mpyplot\u001b[0m \u001b[0;32mas\u001b[0m \u001b[0mplt\u001b[0m\u001b[0;34m\u001b[0m\u001b[0;34m\u001b[0m\u001b[0m\n\u001b[0m\u001b[1;32m      9\u001b[0m \u001b[0;32mimport\u001b[0m \u001b[0mmatplotlib\u001b[0m\u001b[0;34m.\u001b[0m\u001b[0mpatches\u001b[0m \u001b[0;32mas\u001b[0m \u001b[0mmpatches\u001b[0m\u001b[0;34m\u001b[0m\u001b[0;34m\u001b[0m\u001b[0m\n\u001b[1;32m     10\u001b[0m \u001b[0;32mimport\u001b[0m \u001b[0mseaborn\u001b[0m \u001b[0;32mas\u001b[0m \u001b[0msns\u001b[0m\u001b[0;34m\u001b[0m\u001b[0;34m\u001b[0m\u001b[0m\n",
      "\u001b[0;32m~/anaconda3/envs/deepctr/lib/python3.7/site-packages/matplotlib/pyplot.py\u001b[0m in \u001b[0;36m<module>\u001b[0;34m\u001b[0m\n\u001b[1;32m     47\u001b[0m \u001b[0;32mfrom\u001b[0m \u001b[0mcycler\u001b[0m \u001b[0;32mimport\u001b[0m \u001b[0mcycler\u001b[0m\u001b[0;34m\u001b[0m\u001b[0;34m\u001b[0m\u001b[0m\n\u001b[1;32m     48\u001b[0m \u001b[0;32mimport\u001b[0m \u001b[0mmatplotlib\u001b[0m\u001b[0;34m\u001b[0m\u001b[0;34m\u001b[0m\u001b[0m\n\u001b[0;32m---> 49\u001b[0;31m \u001b[0;32mimport\u001b[0m \u001b[0mmatplotlib\u001b[0m\u001b[0;34m.\u001b[0m\u001b[0mcolorbar\u001b[0m\u001b[0;34m\u001b[0m\u001b[0;34m\u001b[0m\u001b[0m\n\u001b[0m\u001b[1;32m     50\u001b[0m \u001b[0;32mimport\u001b[0m \u001b[0mmatplotlib\u001b[0m\u001b[0;34m.\u001b[0m\u001b[0mimage\u001b[0m\u001b[0;34m\u001b[0m\u001b[0;34m\u001b[0m\u001b[0m\n\u001b[1;32m     51\u001b[0m \u001b[0;32mfrom\u001b[0m \u001b[0mmatplotlib\u001b[0m \u001b[0;32mimport\u001b[0m \u001b[0m_api\u001b[0m\u001b[0;34m\u001b[0m\u001b[0;34m\u001b[0m\u001b[0m\n",
      "\u001b[0;32m~/anaconda3/envs/deepctr/lib/python3.7/site-packages/matplotlib/colorbar.py\u001b[0m in \u001b[0;36m<module>\u001b[0;34m\u001b[0m\n\u001b[1;32m     19\u001b[0m \u001b[0;34m\u001b[0m\u001b[0m\n\u001b[1;32m     20\u001b[0m \u001b[0;32mimport\u001b[0m \u001b[0mmatplotlib\u001b[0m \u001b[0;32mas\u001b[0m \u001b[0mmpl\u001b[0m\u001b[0;34m\u001b[0m\u001b[0;34m\u001b[0m\u001b[0m\n\u001b[0;32m---> 21\u001b[0;31m \u001b[0;32mfrom\u001b[0m \u001b[0mmatplotlib\u001b[0m \u001b[0;32mimport\u001b[0m \u001b[0m_api\u001b[0m\u001b[0;34m,\u001b[0m \u001b[0mcollections\u001b[0m\u001b[0;34m,\u001b[0m \u001b[0mcm\u001b[0m\u001b[0;34m,\u001b[0m \u001b[0mcolors\u001b[0m\u001b[0;34m,\u001b[0m \u001b[0mcontour\u001b[0m\u001b[0;34m,\u001b[0m \u001b[0mticker\u001b[0m\u001b[0;34m\u001b[0m\u001b[0;34m\u001b[0m\u001b[0m\n\u001b[0m\u001b[1;32m     22\u001b[0m \u001b[0;32mimport\u001b[0m \u001b[0mmatplotlib\u001b[0m\u001b[0;34m.\u001b[0m\u001b[0martist\u001b[0m \u001b[0;32mas\u001b[0m \u001b[0mmartist\u001b[0m\u001b[0;34m\u001b[0m\u001b[0;34m\u001b[0m\u001b[0m\n\u001b[1;32m     23\u001b[0m \u001b[0;32mimport\u001b[0m \u001b[0mmatplotlib\u001b[0m\u001b[0;34m.\u001b[0m\u001b[0mpatches\u001b[0m \u001b[0;32mas\u001b[0m \u001b[0mmpatches\u001b[0m\u001b[0;34m\u001b[0m\u001b[0;34m\u001b[0m\u001b[0m\n",
      "\u001b[0;32m~/anaconda3/envs/deepctr/lib/python3.7/site-packages/matplotlib/collections.py\u001b[0m in \u001b[0;36m<module>\u001b[0;34m\u001b[0m\n\u001b[1;32m     18\u001b[0m \u001b[0;34m\u001b[0m\u001b[0m\n\u001b[1;32m     19\u001b[0m \u001b[0;32mimport\u001b[0m \u001b[0mmatplotlib\u001b[0m \u001b[0;32mas\u001b[0m \u001b[0mmpl\u001b[0m\u001b[0;34m\u001b[0m\u001b[0;34m\u001b[0m\u001b[0m\n\u001b[0;32m---> 20\u001b[0;31m from . import (_api, _path, artist, cbook, cm, colors as mcolors, docstring,\n\u001b[0m\u001b[1;32m     21\u001b[0m                hatch as mhatch, lines as mlines, path as mpath, transforms)\n\u001b[1;32m     22\u001b[0m \u001b[0;32mfrom\u001b[0m \u001b[0;34m.\u001b[0m\u001b[0m_enums\u001b[0m \u001b[0;32mimport\u001b[0m \u001b[0mJoinStyle\u001b[0m\u001b[0;34m,\u001b[0m \u001b[0mCapStyle\u001b[0m\u001b[0;34m\u001b[0m\u001b[0;34m\u001b[0m\u001b[0m\n",
      "\u001b[0;32m~/anaconda3/envs/deepctr/lib/python3.7/site-packages/matplotlib/artist.py\u001b[0m in \u001b[0;36m<module>\u001b[0;34m\u001b[0m\n\u001b[1;32m   1764\u001b[0m \u001b[0;31m# We defer this to the end of them module, because it needs ArtistInspector\u001b[0m\u001b[0;34m\u001b[0m\u001b[0;34m\u001b[0m\u001b[0;34m\u001b[0m\u001b[0m\n\u001b[1;32m   1765\u001b[0m \u001b[0;31m# to be defined.\u001b[0m\u001b[0;34m\u001b[0m\u001b[0;34m\u001b[0m\u001b[0;34m\u001b[0m\u001b[0m\n\u001b[0;32m-> 1766\u001b[0;31m \u001b[0mArtist\u001b[0m\u001b[0;34m.\u001b[0m\u001b[0m_update_set_signature_and_docstring\u001b[0m\u001b[0;34m(\u001b[0m\u001b[0;34m)\u001b[0m\u001b[0;34m\u001b[0m\u001b[0;34m\u001b[0m\u001b[0m\n\u001b[0m",
      "\u001b[0;32m~/anaconda3/envs/deepctr/lib/python3.7/site-packages/matplotlib/artist.py\u001b[0m in \u001b[0;36m_update_set_signature_and_docstring\u001b[0;34m(cls)\u001b[0m\n\u001b[1;32m    139\u001b[0m             [Parameter(\"self\", Parameter.POSITIONAL_OR_KEYWORD),\n\u001b[1;32m    140\u001b[0m              *[Parameter(prop, Parameter.KEYWORD_ONLY, default=_UNSET)\n\u001b[0;32m--> 141\u001b[0;31m                \u001b[0;32mfor\u001b[0m \u001b[0mprop\u001b[0m \u001b[0;32min\u001b[0m \u001b[0mArtistInspector\u001b[0m\u001b[0;34m(\u001b[0m\u001b[0mcls\u001b[0m\u001b[0;34m)\u001b[0m\u001b[0;34m.\u001b[0m\u001b[0mget_setters\u001b[0m\u001b[0;34m(\u001b[0m\u001b[0;34m)\u001b[0m\u001b[0;34m\u001b[0m\u001b[0;34m\u001b[0m\u001b[0m\n\u001b[0m\u001b[1;32m    142\u001b[0m                if prop not in Artist._PROPERTIES_EXCLUDED_FROM_SET]])\n\u001b[1;32m    143\u001b[0m         \u001b[0mcls\u001b[0m\u001b[0;34m.\u001b[0m\u001b[0mset\u001b[0m\u001b[0;34m.\u001b[0m\u001b[0m_autogenerated_signature\u001b[0m \u001b[0;34m=\u001b[0m \u001b[0;32mTrue\u001b[0m\u001b[0;34m\u001b[0m\u001b[0;34m\u001b[0m\u001b[0m\n",
      "\u001b[0;32m~/anaconda3/envs/deepctr/lib/python3.7/site-packages/matplotlib/artist.py\u001b[0m in \u001b[0;36mget_setters\u001b[0;34m(self)\u001b[0m\n\u001b[1;32m   1446\u001b[0m             \u001b[0mfunc\u001b[0m \u001b[0;34m=\u001b[0m \u001b[0mgetattr\u001b[0m\u001b[0;34m(\u001b[0m\u001b[0mself\u001b[0m\u001b[0;34m.\u001b[0m\u001b[0mo\u001b[0m\u001b[0;34m,\u001b[0m \u001b[0mname\u001b[0m\u001b[0;34m)\u001b[0m\u001b[0;34m\u001b[0m\u001b[0;34m\u001b[0m\u001b[0m\n\u001b[1;32m   1447\u001b[0m             if (not callable(func)\n\u001b[0;32m-> 1448\u001b[0;31m                     \u001b[0;32mor\u001b[0m \u001b[0mlen\u001b[0m\u001b[0;34m(\u001b[0m\u001b[0minspect\u001b[0m\u001b[0;34m.\u001b[0m\u001b[0msignature\u001b[0m\u001b[0;34m(\u001b[0m\u001b[0mfunc\u001b[0m\u001b[0;34m)\u001b[0m\u001b[0;34m.\u001b[0m\u001b[0mparameters\u001b[0m\u001b[0;34m)\u001b[0m \u001b[0;34m<\u001b[0m \u001b[0;36m2\u001b[0m\u001b[0;34m\u001b[0m\u001b[0;34m\u001b[0m\u001b[0m\n\u001b[0m\u001b[1;32m   1449\u001b[0m                     or self.is_alias(func)):\n\u001b[1;32m   1450\u001b[0m                 \u001b[0;32mcontinue\u001b[0m\u001b[0;34m\u001b[0m\u001b[0;34m\u001b[0m\u001b[0m\n",
      "\u001b[0;32m~/anaconda3/envs/deepctr/lib/python3.7/inspect.py\u001b[0m in \u001b[0;36msignature\u001b[0;34m(obj, follow_wrapped)\u001b[0m\n\u001b[1;32m   3081\u001b[0m \u001b[0;32mdef\u001b[0m \u001b[0msignature\u001b[0m\u001b[0;34m(\u001b[0m\u001b[0mobj\u001b[0m\u001b[0;34m,\u001b[0m \u001b[0;34m*\u001b[0m\u001b[0;34m,\u001b[0m \u001b[0mfollow_wrapped\u001b[0m\u001b[0;34m=\u001b[0m\u001b[0;32mTrue\u001b[0m\u001b[0;34m)\u001b[0m\u001b[0;34m:\u001b[0m\u001b[0;34m\u001b[0m\u001b[0;34m\u001b[0m\u001b[0m\n\u001b[1;32m   3082\u001b[0m     \u001b[0;34m\"\"\"Get a signature object for the passed callable.\"\"\"\u001b[0m\u001b[0;34m\u001b[0m\u001b[0;34m\u001b[0m\u001b[0m\n\u001b[0;32m-> 3083\u001b[0;31m     \u001b[0;32mreturn\u001b[0m \u001b[0mSignature\u001b[0m\u001b[0;34m.\u001b[0m\u001b[0mfrom_callable\u001b[0m\u001b[0;34m(\u001b[0m\u001b[0mobj\u001b[0m\u001b[0;34m,\u001b[0m \u001b[0mfollow_wrapped\u001b[0m\u001b[0;34m=\u001b[0m\u001b[0mfollow_wrapped\u001b[0m\u001b[0;34m)\u001b[0m\u001b[0;34m\u001b[0m\u001b[0;34m\u001b[0m\u001b[0m\n\u001b[0m\u001b[1;32m   3084\u001b[0m \u001b[0;34m\u001b[0m\u001b[0m\n\u001b[1;32m   3085\u001b[0m \u001b[0;34m\u001b[0m\u001b[0m\n",
      "\u001b[0;32m~/anaconda3/envs/deepctr/lib/python3.7/inspect.py\u001b[0m in \u001b[0;36mfrom_callable\u001b[0;34m(cls, obj, follow_wrapped)\u001b[0m\n\u001b[1;32m   2831\u001b[0m         \u001b[0;34m\"\"\"Constructs Signature for the given callable object.\"\"\"\u001b[0m\u001b[0;34m\u001b[0m\u001b[0;34m\u001b[0m\u001b[0m\n\u001b[1;32m   2832\u001b[0m         return _signature_from_callable(obj, sigcls=cls,\n\u001b[0;32m-> 2833\u001b[0;31m                                         follow_wrapper_chains=follow_wrapped)\n\u001b[0m\u001b[1;32m   2834\u001b[0m \u001b[0;34m\u001b[0m\u001b[0m\n\u001b[1;32m   2835\u001b[0m     \u001b[0;34m@\u001b[0m\u001b[0mproperty\u001b[0m\u001b[0;34m\u001b[0m\u001b[0;34m\u001b[0m\u001b[0m\n",
      "\u001b[0;32m~/anaconda3/envs/deepctr/lib/python3.7/inspect.py\u001b[0m in \u001b[0;36m_signature_from_callable\u001b[0;34m(obj, follow_wrapper_chains, skip_bound_arg, sigcls)\u001b[0m\n\u001b[1;32m   2282\u001b[0m         \u001b[0;31m# If it's a pure Python function, or an object that is duck type\u001b[0m\u001b[0;34m\u001b[0m\u001b[0;34m\u001b[0m\u001b[0;34m\u001b[0m\u001b[0m\n\u001b[1;32m   2283\u001b[0m         \u001b[0;31m# of a Python function (Cython functions, for instance), then:\u001b[0m\u001b[0;34m\u001b[0m\u001b[0;34m\u001b[0m\u001b[0;34m\u001b[0m\u001b[0m\n\u001b[0;32m-> 2284\u001b[0;31m         \u001b[0;32mreturn\u001b[0m \u001b[0m_signature_from_function\u001b[0m\u001b[0;34m(\u001b[0m\u001b[0msigcls\u001b[0m\u001b[0;34m,\u001b[0m \u001b[0mobj\u001b[0m\u001b[0;34m)\u001b[0m\u001b[0;34m\u001b[0m\u001b[0;34m\u001b[0m\u001b[0m\n\u001b[0m\u001b[1;32m   2285\u001b[0m \u001b[0;34m\u001b[0m\u001b[0m\n\u001b[1;32m   2286\u001b[0m     \u001b[0;32mif\u001b[0m \u001b[0m_signature_is_builtin\u001b[0m\u001b[0;34m(\u001b[0m\u001b[0mobj\u001b[0m\u001b[0;34m)\u001b[0m\u001b[0;34m:\u001b[0m\u001b[0;34m\u001b[0m\u001b[0;34m\u001b[0m\u001b[0m\n",
      "\u001b[0;32m~/anaconda3/envs/deepctr/lib/python3.7/inspect.py\u001b[0m in \u001b[0;36m_signature_from_function\u001b[0;34m(cls, func)\u001b[0m\n\u001b[1;32m   2149\u001b[0m     \u001b[0;31m# Non-keyword-only parameters w/o defaults.\u001b[0m\u001b[0;34m\u001b[0m\u001b[0;34m\u001b[0m\u001b[0;34m\u001b[0m\u001b[0m\n\u001b[1;32m   2150\u001b[0m     \u001b[0mnon_default_count\u001b[0m \u001b[0;34m=\u001b[0m \u001b[0mpos_count\u001b[0m \u001b[0;34m-\u001b[0m \u001b[0mpos_default_count\u001b[0m\u001b[0;34m\u001b[0m\u001b[0;34m\u001b[0m\u001b[0m\n\u001b[0;32m-> 2151\u001b[0;31m     \u001b[0;32mfor\u001b[0m \u001b[0mname\u001b[0m \u001b[0;32min\u001b[0m \u001b[0mpositional\u001b[0m\u001b[0;34m[\u001b[0m\u001b[0;34m:\u001b[0m\u001b[0mnon_default_count\u001b[0m\u001b[0;34m]\u001b[0m\u001b[0;34m:\u001b[0m\u001b[0;34m\u001b[0m\u001b[0;34m\u001b[0m\u001b[0m\n\u001b[0m\u001b[1;32m   2152\u001b[0m         \u001b[0mannotation\u001b[0m \u001b[0;34m=\u001b[0m \u001b[0mannotations\u001b[0m\u001b[0;34m.\u001b[0m\u001b[0mget\u001b[0m\u001b[0;34m(\u001b[0m\u001b[0mname\u001b[0m\u001b[0;34m,\u001b[0m \u001b[0m_empty\u001b[0m\u001b[0;34m)\u001b[0m\u001b[0;34m\u001b[0m\u001b[0;34m\u001b[0m\u001b[0m\n\u001b[1;32m   2153\u001b[0m         parameters.append(Parameter(name, annotation=annotation,\n",
      "\u001b[0;31mKeyboardInterrupt\u001b[0m: "
     ]
    }
   ],
   "source": [
    "import datetime\n",
    "import numpy as np\n",
    "import pandas as pd\n",
    "import joblib\n",
    "import warnings\n",
    "import logging\n",
    "import os\n",
    "import matplotlib.pyplot as plt\n",
    "import matplotlib.patches as mpatches\n",
    "import seaborn as sns\n",
    "import collections\n",
    "import re\n",
    "import copy\n",
    "import xgboost as xgb\n",
    "import lightgbm as lgb\n",
    "import shap\n",
    "import causalml\n",
    "import statsmodels.api as sm\n",
    "\n",
    "import utils\n",
    "import propensity\n",
    "\n",
    "from tqdm import tqdm\n",
    "from dateutil.relativedelta import relativedelta\n",
    "from joblib import Parallel, delayed\n",
    "from scipy.stats import norm\n",
    "from sklearn.preprocessing import StandardScaler\n",
    "from sklearn.model_selection import StratifiedKFold, train_test_split\n",
    "from sklearn.metrics import confusion_matrix, classification_report, roc_auc_score\n",
    "from supervised.automl import AutoML\n",
    "from causalml.inference.meta import BaseSClassifier, BaseTClassifier, BaseXClassifier, BaseRClassifier\n",
    "\n",
    "from causalml_visualize.visualize_ import plot_all\n",
    "\n",
    "pd.set_option('display.max_columns', None)\n",
    "pd.set_option('max_row', 500)\n",
    "warnings.filterwarnings('ignore')\n",
    "tqdm.pandas(desc='pandas bar')\n",
    "logger = logging.getLogger('causalml')\n",
    "logging.basicConfig(level=logging.INFO)\n",
    "os.environ['NUMEXPR_MAX_THREADS'] = str(os.cpu_count())"
   ]
  },
  {
   "cell_type": "code",
   "execution_count": null,
   "metadata": {},
   "outputs": [],
   "source": [
    "xgb.__version__"
   ]
  },
  {
   "cell_type": "code",
   "execution_count": null,
   "metadata": {},
   "outputs": [],
   "source": [
    "lgb.__version__"
   ]
  },
  {
   "cell_type": "markdown",
   "metadata": {},
   "source": [
    "## data"
   ]
  },
  {
   "cell_type": "code",
   "execution_count": null,
   "metadata": {},
   "outputs": [],
   "source": [
    "df_train = pd.read_csv('data/no_secret_bt/sample_label_feature_union_uplift_20220206_20220227_train.txt', sep='\\t', encoding='utf-8')\n",
    "\n",
    "print(df_train.shape)\n",
    "df_train.head()"
   ]
  },
  {
   "cell_type": "code",
   "execution_count": null,
   "metadata": {},
   "outputs": [],
   "source": [
    "df_train.info()"
   ]
  },
  {
   "cell_type": "code",
   "execution_count": null,
   "metadata": {
    "scrolled": true
   },
   "outputs": [],
   "source": [
    "df_train.groupby(by=['obs_dt', 'dt'])['uid'].count()"
   ]
  },
  {
   "cell_type": "code",
   "execution_count": null,
   "metadata": {},
   "outputs": [],
   "source": [
    "df_train.groupby(by=['coupon'])['uid'].count()"
   ]
  },
  {
   "cell_type": "code",
   "execution_count": null,
   "metadata": {},
   "outputs": [],
   "source": [
    "df_train['label'].value_counts()"
   ]
  },
  {
   "cell_type": "code",
   "execution_count": null,
   "metadata": {},
   "outputs": [],
   "source": [
    "64223/(1000000+64223)"
   ]
  },
  {
   "cell_type": "code",
   "execution_count": null,
   "metadata": {},
   "outputs": [],
   "source": [
    "1000000 / 6650831"
   ]
  },
  {
   "cell_type": "code",
   "execution_count": null,
   "metadata": {},
   "outputs": [],
   "source": [
    "df_train['obs_dt'] = pd.to_datetime(df_train['obs_dt'])\n",
    "df_train['dt'] = pd.to_datetime(df_train['dt'])\n",
    "df_train.head()"
   ]
  },
  {
   "cell_type": "code",
   "execution_count": null,
   "metadata": {},
   "outputs": [],
   "source": [
    "df_train_des = utils.df_des(df_train)\n",
    "df_train_des.to_csv('data/no_secret_bt/df_des_sample_label_feature_union_uplift_20220206_20220227_train.csv', encoding='utf-8')\n",
    "df_train_des.head()"
   ]
  },
  {
   "cell_type": "code",
   "execution_count": null,
   "metadata": {},
   "outputs": [],
   "source": [
    "utils.save_pickle(df_train, 'data/no_secret_bt/df_sample_label_feature_union_uplift_20220206_20220227_train.pickle')"
   ]
  },
  {
   "cell_type": "markdown",
   "metadata": {},
   "source": [
    "## feature process"
   ]
  },
  {
   "cell_type": "code",
   "execution_count": null,
   "metadata": {},
   "outputs": [],
   "source": [
    "df_train = utils.load_pickle('data/no_secret_bt/df_sample_label_feature_union_uplift_20220206_20220227_train.pickle')\n",
    "print(df_train.shape)\n",
    "df_train.head()"
   ]
  },
  {
   "cell_type": "code",
   "execution_count": null,
   "metadata": {},
   "outputs": [],
   "source": [
    "df_train[['obs_dt', 'dt']].info()"
   ]
  },
  {
   "cell_type": "code",
   "execution_count": null,
   "metadata": {},
   "outputs": [],
   "source": [
    "# dt转周一～周日\n",
    "# LabelEncoding\n",
    "df_train['dt_weekday'] = df_train['dt'].apply(lambda x: x.weekday())\n",
    "df_train.head()"
   ]
  },
  {
   "cell_type": "code",
   "execution_count": null,
   "metadata": {},
   "outputs": [],
   "source": [
    "df_train_uid_obsDt = df_train[['uid', 'obs_dt', 'dt']]\n",
    "df_train_treatment = df_train['coupon']\n",
    "df_train_y = df_train['label']\n",
    "df_train_X = df_train[['dt_weekday']+[x for x in df_train.columns \n",
    "                                      if x not in ['uid', 'obs_dt', 'dt', 'coupon', 'label', 'dt_weekday']]]\n",
    "\n",
    "print(df_train_uid_obsDt.shape)\n",
    "print(df_train_treatment.shape)\n",
    "print(df_train_y.shape)\n",
    "print(df_train_X.shape)\n",
    "\n",
    "utils.save_pickle(df_train_uid_obsDt, 'data/no_secret_bt/df_sample_label_feature_union_uplift_uid_obsDate_20220206_20220227_train.pickle')\n",
    "utils.save_pickle(df_train_treatment, 'data/no_secret_bt/df_sample_label_feature_union_uplift_treatment_20220206_20220227_train.pickle')\n",
    "utils.save_pickle(df_train_y, 'data/no_secret_bt/df_sample_label_feature_union_uplift_y_20220206_20220227_train.pickle')\n",
    "utils.save_pickle(df_train_X, 'data/no_secret_bt/df_sample_label_feature_union_uplift_X_20220206_20220227_train.pickle')"
   ]
  },
  {
   "cell_type": "code",
   "execution_count": null,
   "metadata": {},
   "outputs": [],
   "source": [
    "df_train_X.head()"
   ]
  },
  {
   "cell_type": "code",
   "execution_count": null,
   "metadata": {},
   "outputs": [],
   "source": [
    "df_train_treatment_map = df_train_treatment.map({0.0: 'control', \n",
    "                                                 0.2: 'treatment_1', \n",
    "                                                 0.5: 'treatment_2', \n",
    "                                                 1.0: 'treatment_3', \n",
    "                                                 1.5: 'treatment_4', \n",
    "                                                 1.8: 'treatment_5'})\n",
    "utils.save_pickle(df_train_treatment_map, 'data/no_secret_bt/df_sample_label_feature_union_uplift_treatment_map_20220206_20220227.pickle')\n",
    "df_train_treatment_map"
   ]
  },
  {
   "cell_type": "code",
   "execution_count": null,
   "metadata": {},
   "outputs": [],
   "source": [
    "# 初始化倾向性得分（暂使用各treatment组占比（treatment+control））\n",
    "dict_p = {}\n",
    "dict_p['treatment_1'] = np.array([0.0671]*df_train.shape[0])\n",
    "dict_p['treatment_2'] = np.array([0.2996]*df_train.shape[0])\n",
    "dict_p['treatment_3'] = np.array([0.0696]*df_train.shape[0])\n",
    "dict_p['treatment_4'] = np.array([0.0533]*df_train.shape[0])\n",
    "dict_p['treatment_5'] = np.array([0.0423]*df_train.shape[0])\n",
    "utils.save_pickle(dict_p, 'data/no_secret_bt/dict_p_feature_union_uplift_20220206_20220227.pickle')\n",
    "dict_p"
   ]
  },
  {
   "cell_type": "code",
   "execution_count": null,
   "metadata": {},
   "outputs": [],
   "source": [
    "# 0.0    635377\n",
    "# 0.2     45707\n",
    "# 0.5    271845\n",
    "# 1.0     47513\n",
    "# 1.5     35744\n",
    "# 1.8     28037\n",
    "print(45707/(45707+635377))\n",
    "print(271845/(271845+635377))\n",
    "print(47513/(47513+635377))\n",
    "print(35744/(35744+635377))\n",
    "print(28037/(28037+635377))"
   ]
  },
  {
   "cell_type": "markdown",
   "metadata": {},
   "source": [
    "## model"
   ]
  },
  {
   "cell_type": "markdown",
   "metadata": {},
   "source": [
    "* train"
   ]
  },
  {
   "cell_type": "code",
   "execution_count": null,
   "metadata": {},
   "outputs": [],
   "source": [
    "df_train_uid_obsDt = utils.load_pickle('data/no_secret_bt/df_sample_label_feature_union_uplift_uid_obsDate_20220206_20220227_train.pickle')\n",
    "df_train_treatment = utils.load_pickle('data/no_secret_bt/df_sample_label_feature_union_uplift_treatment_20220206_20220227_train.pickle')\n",
    "df_train_y = utils.load_pickle('data/no_secret_bt/df_sample_label_feature_union_uplift_y_20220206_20220227_train.pickle')\n",
    "df_train_X = utils.load_pickle('data/no_secret_bt/df_sample_label_feature_union_uplift_X_20220206_20220227_train.pickle')\n",
    "\n",
    "print(df_train_uid_obsDt.shape)\n",
    "print(df_train_treatment.shape)\n",
    "print(df_train_y.shape)\n",
    "print(df_train_X.shape)"
   ]
  },
  {
   "cell_type": "code",
   "execution_count": null,
   "metadata": {},
   "outputs": [],
   "source": [
    "df_train_treatment_map = utils.load_pickle('data/no_secret_bt/df_sample_label_feature_union_uplift_treatment_map_20220206_20220227.pickle')\n",
    "print(df_train_treatment_map.shape)\n",
    "df_train_treatment_map.head()"
   ]
  },
  {
   "cell_type": "code",
   "execution_count": null,
   "metadata": {},
   "outputs": [],
   "source": [
    "dict_p_train = utils.load_pickle('data/no_secret_bt/dict_p_feature_union_uplift_20220206_20220227.pickle')\n",
    "dict_p_train"
   ]
  },
  {
   "cell_type": "code",
   "execution_count": null,
   "metadata": {},
   "outputs": [],
   "source": [
    "%%time\n",
    "# X-learner-lgb\n",
    "learner_x_lgb = BaseXClassifier(control_outcome_learner=lgb.LGBMClassifier(), \n",
    "                                treatment_outcome_learner=lgb.LGBMClassifier(), \n",
    "                                control_effect_learner=lgb.LGBMRegressor(), \n",
    "                                treatment_effect_learner=lgb.LGBMRegressor(), \n",
    "                                control_name='control')\n",
    "pred_x = learner_x_lgb.fit_predict(df_train_X.values, df_train_treatment_map.values, df_train_y.values, p=dict_p_train)\n",
    "joblib.dump(learner_x_lgb, 'data/model/no_secret_bt_20220206_20220227_union_XLearnerLgb.model')"
   ]
  },
  {
   "cell_type": "code",
   "execution_count": null,
   "metadata": {},
   "outputs": [],
   "source": [
    "pred_x"
   ]
  },
  {
   "cell_type": "code",
   "execution_count": null,
   "metadata": {
    "scrolled": true
   },
   "outputs": [],
   "source": [
    "df_auuc_x = pd.DataFrame({'model': ['X-learner-lgb']})\n",
    "for group in learner_x_lgb.t_groups:\n",
    "    print(group)\n",
    "    auuc = plot_all(cate=pred_x, treatment_groups=sorted(list(learner_x_lgb.t_groups)), treatment_test=df_train_treatment_map.values, \n",
    "                    y_test=df_train_y.values, cost_test=df_train_treatment.values, title='X-learner-LGB-p multi-treatment-{g} uplift curve'.format(g=group), \n",
    "                    select_treatment_group=group)\n",
    "    df_auuc_x['auuc_'+group] = [auuc]\n",
    "\n",
    "treatments_group_num = [45707, 271845, 47513, 35744, 28037]\n",
    "df_auuc_x['auuc_mean'] = df_auuc_x[[x for x in df_auuc_x.columns if x != 'model']].\\\n",
    "    agg(func=np.average, axis=1, weights=treatments_group_num)"
   ]
  },
  {
   "cell_type": "code",
   "execution_count": null,
   "metadata": {},
   "outputs": [],
   "source": [
    "df_auuc_x"
   ]
  },
  {
   "cell_type": "markdown",
   "metadata": {},
   "source": [
    "* test"
   ]
  },
  {
   "cell_type": "code",
   "execution_count": null,
   "metadata": {},
   "outputs": [],
   "source": [
    "# data\n",
    "df_test = pd.read_csv('data/no_secret_bt/sample_label_feature_union_uplift_20220206_20220227_test.txt', sep='\\t', encoding='utf-8')\n",
    "\n",
    "print(df_test.shape)\n",
    "df_test.head()"
   ]
  },
  {
   "cell_type": "code",
   "execution_count": null,
   "metadata": {},
   "outputs": [],
   "source": [
    "df_test.info()"
   ]
  },
  {
   "cell_type": "code",
   "execution_count": null,
   "metadata": {
    "scrolled": true
   },
   "outputs": [],
   "source": [
    "df_test.groupby(by=['obs_dt', 'dt'])['uid'].count()"
   ]
  },
  {
   "cell_type": "code",
   "execution_count": null,
   "metadata": {},
   "outputs": [],
   "source": [
    "df_test.groupby(by=['coupon'])['uid'].count()"
   ]
  },
  {
   "cell_type": "code",
   "execution_count": null,
   "metadata": {},
   "outputs": [],
   "source": [
    "df_test['label'].value_counts()"
   ]
  },
  {
   "cell_type": "code",
   "execution_count": null,
   "metadata": {},
   "outputs": [],
   "source": [
    "16184 / 1346014"
   ]
  },
  {
   "cell_type": "code",
   "execution_count": null,
   "metadata": {},
   "outputs": [],
   "source": [
    "df_test['obs_dt'] = pd.to_datetime(df_test['obs_dt'])\n",
    "df_test['dt'] = pd.to_datetime(df_test['dt'])\n",
    "df_test.head()"
   ]
  },
  {
   "cell_type": "code",
   "execution_count": null,
   "metadata": {},
   "outputs": [],
   "source": [
    "df_test_des = utils.df_des(df_test)\n",
    "df_test_des.to_csv('data/no_secret_bt/df_des_sample_label_feature_union_uplift_20220206_20220227_test.csv', encoding='utf-8')\n",
    "df_test_des.head()"
   ]
  },
  {
   "cell_type": "code",
   "execution_count": null,
   "metadata": {},
   "outputs": [],
   "source": [
    "utils.save_pickle(df_test, 'data/no_secret_bt/df_sample_label_feature_union_uplift_20220206_20220227_test.pickle')"
   ]
  },
  {
   "cell_type": "code",
   "execution_count": null,
   "metadata": {},
   "outputs": [],
   "source": [
    "# feature process\n",
    "df_test = utils.load_pickle('data/no_secret_bt/df_sample_label_feature_union_uplift_20220206_20220227_test.pickle')\n",
    "print(df_test.shape)\n",
    "df_test.head()"
   ]
  },
  {
   "cell_type": "code",
   "execution_count": null,
   "metadata": {},
   "outputs": [],
   "source": [
    "df_test[['obs_dt', 'dt']].info()"
   ]
  },
  {
   "cell_type": "code",
   "execution_count": null,
   "metadata": {},
   "outputs": [],
   "source": [
    "# dt转周一～周日\n",
    "# LabelEncoding\n",
    "df_test['dt_weekday'] = df_test['dt'].apply(lambda x: x.weekday())\n",
    "df_test.head()"
   ]
  },
  {
   "cell_type": "code",
   "execution_count": null,
   "metadata": {},
   "outputs": [],
   "source": [
    "df_test_uid_obsDt = df_test[['uid', 'obs_dt', 'dt']]\n",
    "df_test_treatment = df_test['coupon']\n",
    "df_test_y = df_test['label']\n",
    "df_test_X = df_test[['dt_weekday']+[x for x in df_test.columns \n",
    "                                    if x not in ['uid', 'obs_dt', 'dt', 'coupon', 'label', 'dt_weekday']]]\n",
    "\n",
    "print(df_test_uid_obsDt.shape)\n",
    "print(df_test_treatment.shape)\n",
    "print(df_test_y.shape)\n",
    "print(df_test_X.shape)"
   ]
  },
  {
   "cell_type": "code",
   "execution_count": null,
   "metadata": {},
   "outputs": [],
   "source": [
    "df_test_X.head()"
   ]
  },
  {
   "cell_type": "code",
   "execution_count": null,
   "metadata": {},
   "outputs": [],
   "source": [
    "utils.save_pickle(df_test_X, 'data/no_secret_bt/df_sample_label_feature_union_uplift_20220206_20220227_test_X_transfor.pickle')"
   ]
  },
  {
   "cell_type": "code",
   "execution_count": null,
   "metadata": {},
   "outputs": [],
   "source": [
    "df_test_X = utils.load_pickle('data/no_secret_bt/df_sample_label_feature_union_uplift_20220206_20220227_test_X_transfor.pickle')"
   ]
  },
  {
   "cell_type": "code",
   "execution_count": null,
   "metadata": {},
   "outputs": [],
   "source": [
    "df_test_treatment_map = df_test_treatment.map({0.0: 'control', \n",
    "                                               0.2: 'treatment_1', \n",
    "                                               0.5: 'treatment_2', \n",
    "                                               1.0: 'treatment_3', \n",
    "                                               1.5: 'treatment_4', \n",
    "                                               1.8: 'treatment_5'})\n",
    "df_test_treatment_map"
   ]
  },
  {
   "cell_type": "code",
   "execution_count": null,
   "metadata": {},
   "outputs": [],
   "source": [
    "# 初始化倾向性得分（暂使用各treatment组占比（treatment+control））\n",
    "dict_p_test = {}\n",
    "dict_p_test['treatment_1'] = np.array([0.0653]*df_test.shape[0])\n",
    "dict_p_test['treatment_2'] = np.array([0.2908]*df_test.shape[0])\n",
    "dict_p_test['treatment_3'] = np.array([0.0653]*df_test.shape[0])\n",
    "dict_p_test['treatment_4'] = np.array([0.0476]*df_test.shape[0])\n",
    "dict_p_test['treatment_5'] = np.array([0.0367]*df_test.shape[0])\n",
    "dict_p_test"
   ]
  },
  {
   "cell_type": "code",
   "execution_count": null,
   "metadata": {},
   "outputs": [],
   "source": [
    "# 0.0    821864\n",
    "# 0.2     57405\n",
    "# 0.5    337024\n",
    "# 1.0     57371\n",
    "# 1.5     41075\n",
    "# 1.8     31275\n",
    "print(57405/(57405+821864))\n",
    "print(337024/(337024+821864))\n",
    "print(57371/(57371+821864))\n",
    "print(41075/(41075+821864))\n",
    "print(31275/(31275+821864))"
   ]
  },
  {
   "cell_type": "code",
   "execution_count": null,
   "metadata": {},
   "outputs": [],
   "source": [
    "learner_x_lgb = joblib.load('data/model/no_secret_bt_20220206_20220227_union_XLearnerLgb.model')\n",
    "learner_x_lgb"
   ]
  },
  {
   "cell_type": "code",
   "execution_count": null,
   "metadata": {},
   "outputs": [],
   "source": [
    "# 单条数据测试\n",
    "dict_p_test_1 = {}\n",
    "dict_p_test_1['treatment_1'] = np.array([0.0653])\n",
    "dict_p_test_1['treatment_2'] = np.array([0.2908])\n",
    "dict_p_test_1['treatment_3'] = np.array([0.0653])\n",
    "dict_p_test_1['treatment_4'] = np.array([0.0476])\n",
    "dict_p_test_1['treatment_5'] = np.array([0.0367])\n",
    "\n",
    "data_1 = df_test_X.values[0:1,:]"
   ]
  },
  {
   "cell_type": "code",
   "execution_count": null,
   "metadata": {},
   "outputs": [],
   "source": [
    "%%time\n",
    "pred_x_test = learner_x_lgb.predict(data_1, p=dict_p_test_1)\n",
    "# pred_x_test"
   ]
  },
  {
   "cell_type": "code",
   "execution_count": null,
   "metadata": {},
   "outputs": [],
   "source": [
    "pred_x_test = learner_x_lgb.predict(df_test_X.values, p=dict_p_test)\n",
    "pred_x_test"
   ]
  },
  {
   "cell_type": "code",
   "execution_count": null,
   "metadata": {},
   "outputs": [],
   "source": [
    "utils.save_pickle(pred_x_test, 'data/no_secret_bt/df_sample_label_feature_union_uplift_pred_20220206_20220227_test.pickle')"
   ]
  },
  {
   "cell_type": "code",
   "execution_count": null,
   "metadata": {
    "scrolled": true
   },
   "outputs": [],
   "source": [
    "df_auuc_x = pd.DataFrame({'model': ['X-learner-LGB']})\n",
    "for group in sorted(list(learner_x_lgb.t_groups)):\n",
    "    print(group)\n",
    "    auuc = plot_all(cate=pred_x_test, treatment_groups=sorted(list(learner_x_lgb.t_groups)), treatment_test=df_test_treatment_map.values, \n",
    "                    y_test=df_test_y.values, cost_test=df_test_treatment.values, title='X-learner-LGB multi-treatment-{g} uplift curve'.format(g=group), \n",
    "                    select_treatment_group=group)\n",
    "    df_auuc_x['auuc_'+group] = [auuc]\n",
    "    \n",
    "treatments_group_num = [57405, 337024, 57371, 41075, 31275]\n",
    "df_auuc_x['auuc_mean'] = df_auuc_x[[x for x in df_auuc_x.columns if x != 'model']].\\\n",
    "    agg(func=np.average, axis=1, weights=treatments_group_num)"
   ]
  },
  {
   "cell_type": "code",
   "execution_count": null,
   "metadata": {},
   "outputs": [],
   "source": [
    "df_auuc_x"
   ]
  },
  {
   "cell_type": "markdown",
   "metadata": {},
   "source": [
    "## feature importance"
   ]
  },
  {
   "cell_type": "code",
   "execution_count": null,
   "metadata": {},
   "outputs": [],
   "source": [
    "df_X = utils.load_pickle('data/no_secret_bt/df_sample_label_feature_union_uplift_20220206_20220227_test_X_transfor.pickle')\n",
    "pred_x = utils.load_pickle('data/no_secret_bt/df_sample_label_feature_union_uplift_pred_20220206_20220227_test.pickle')\n",
    "\n",
    "print(df_X.shape)\n",
    "print(pred_x.shape)"
   ]
  },
  {
   "cell_type": "code",
   "execution_count": null,
   "metadata": {},
   "outputs": [],
   "source": [
    "learner_x_lgb = joblib.load('data/model/no_secret_bt_20220206_20220227_union_XLearnerLgb.model')\n",
    "learner_x_lgb"
   ]
  },
  {
   "cell_type": "code",
   "execution_count": null,
   "metadata": {
    "scrolled": true
   },
   "outputs": [],
   "source": [
    "%%time\n",
    "dict_feats_imp = learner_x_lgb.get_importance(X=df_X.values, tau=pred_x, method='permutation')\n",
    "utils.save_pickle(dict_feats_imp, 'data/no_secret_bt/feature_importance_union_uplift_20220206_20220227.pickle')\n",
    "dict_feats_imp"
   ]
  },
  {
   "cell_type": "code",
   "execution_count": null,
   "metadata": {},
   "outputs": [],
   "source": [
    "list_feats_x_union = ['dt_weekday'] + utils.load_pickle('data/no_secret_bt/list_feats/list_feats_x_pi_feature_union_20220206_20220227.pickle')\n",
    "print(len(list_feats_x_union))\n",
    "list_feats_x_union[:10]"
   ]
  },
  {
   "cell_type": "code",
   "execution_count": null,
   "metadata": {},
   "outputs": [],
   "source": [
    "df_fi = pd.DataFrame({'feature': list_feats_x_union, \n",
    "                      'feature_index': ['Feature_{i}'.format(i=(str(x) if x>=100 else '0'+str(x) if x>=10 else '00'+str(x))) \n",
    "                                        for x in range(len(list_feats_x_union))]\n",
    "                     })\n",
    "\n",
    "for x in sorted(list(dict_feats_imp.keys())):\n",
    "    df_fi_tg = pd.DataFrame(dict_feats_imp[x], columns=['permutation_importance_{}'.format(x)]).\\\n",
    "        reset_index().sort_values(by=['index'])\n",
    "    df_fi_tg.rename(columns={'index': 'feature_index'}, inplace=True)\n",
    "    df_fi = df_fi.merge(df_fi_tg, on='feature_index', how='left')\n",
    "\n",
    "treatments_group_num = [57405, 337024, 57371, 41075, 31275]\n",
    "df_fi['permutation_importance_mean'] = df_fi[[x for x in df_fi.columns if x not in ['feature', 'feature_index']]].\\\n",
    "    agg(func=np.average, axis=1, weights=treatments_group_num)\n",
    "df_fi.sort_values(by=['permutation_importance_mean'], ascending=[False], inplace=True)\n",
    "df_fi"
   ]
  },
  {
   "cell_type": "code",
   "execution_count": null,
   "metadata": {},
   "outputs": [],
   "source": [
    "df_fi[['permutation_importance_mean']].quantile([x/10 for x in range(11)]).T"
   ]
  },
  {
   "cell_type": "code",
   "execution_count": null,
   "metadata": {},
   "outputs": [],
   "source": [
    "df_fi.to_csv('data/no_secret_bt/feature_importance_union_uplift_20220206_20220227.csv', encoding='utf-8', index=False)"
   ]
  },
  {
   "cell_type": "code",
   "execution_count": null,
   "metadata": {},
   "outputs": [],
   "source": [
    "plt.rcParams['font.sans-serif'] = ['simhei']\n",
    "plt.rcParams['font.serif'] = ['simhei']\n",
    "plt.rcParams['axes.unicode_minus'] = False\n",
    "sns.set(font_scale=1.5)\n",
    "sns.set_style('darkgrid', {'font.sans-serif':['simhei', 'Droid Sans Fallback']})\n",
    "\n",
    "plt.rcParams['figure.figsize'] = (12.0, 8.0)\n",
    "fig, axes = plt.subplots(1, 1)\n",
    "sns.barplot(x='permutation_importance_mean', y='feature', data=df_fi.head(25), ax=axes)\n",
    "axes.set_title('Top-25 importance features')\n",
    "\n",
    "plt.show()"
   ]
  },
  {
   "cell_type": "code",
   "execution_count": null,
   "metadata": {},
   "outputs": [],
   "source": [
    "df_fi[['feature', 'permutation_importance_mean']].head(25)"
   ]
  },
  {
   "cell_type": "code",
   "execution_count": null,
   "metadata": {},
   "outputs": [],
   "source": []
  },
  {
   "cell_type": "code",
   "execution_count": null,
   "metadata": {},
   "outputs": [],
   "source": []
  }
 ],
 "metadata": {
  "kernelspec": {
   "display_name": "Python (deepctr)",
   "language": "python",
   "name": "deepctr"
  },
  "language_info": {
   "codemirror_mode": {
    "name": "ipython",
    "version": 3
   },
   "file_extension": ".py",
   "mimetype": "text/x-python",
   "name": "python",
   "nbconvert_exporter": "python",
   "pygments_lexer": "ipython3",
   "version": "3.7.10"
  }
 },
 "nbformat": 4,
 "nbformat_minor": 4
}
